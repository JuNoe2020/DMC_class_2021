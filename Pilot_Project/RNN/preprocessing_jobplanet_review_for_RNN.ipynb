{
 "cells": [
  {
   "cell_type": "markdown",
   "metadata": {},
   "source": [
    "# 텍스트데이터 전처리"
   ]
  },
  {
   "cell_type": "code",
   "execution_count": 1,
   "metadata": {
    "ExecuteTime": {
     "end_time": "2021-08-15T10:55:00.611666Z",
     "start_time": "2021-08-15T10:55:00.151794Z"
    }
   },
   "outputs": [],
   "source": [
    "import pandas as pd"
   ]
  },
  {
   "cell_type": "code",
   "execution_count": 2,
   "metadata": {
    "ExecuteTime": {
     "end_time": "2021-08-15T10:56:13.115270Z",
     "start_time": "2021-08-15T10:56:13.090362Z"
    }
   },
   "outputs": [
    {
     "data": {
      "text/html": [
       "<div>\n",
       "<style scoped>\n",
       "    .dataframe tbody tr th:only-of-type {\n",
       "        vertical-align: middle;\n",
       "    }\n",
       "\n",
       "    .dataframe tbody tr th {\n",
       "        vertical-align: top;\n",
       "    }\n",
       "\n",
       "    .dataframe thead th {\n",
       "        text-align: right;\n",
       "    }\n",
       "</style>\n",
       "<table border=\"1\" class=\"dataframe\">\n",
       "  <thead>\n",
       "    <tr style=\"text-align: right;\">\n",
       "      <th></th>\n",
       "      <th>Unnamed: 0</th>\n",
       "      <th>Unnamed: 0.1</th>\n",
       "      <th>기업명</th>\n",
       "      <th>work_way_txt</th>\n",
       "      <th>culture_txt</th>\n",
       "    </tr>\n",
       "  </thead>\n",
       "  <tbody>\n",
       "    <tr>\n",
       "      <th>0</th>\n",
       "      <td>0</td>\n",
       "      <td>0</td>\n",
       "      <td>(주)키삭</td>\n",
       "      <td>NaN</td>\n",
       "      <td>NaN</td>\n",
       "    </tr>\n",
       "    <tr>\n",
       "      <th>1</th>\n",
       "      <td>1</td>\n",
       "      <td>1</td>\n",
       "      <td>(주)이씨뱅크</td>\n",
       "      <td>NaN</td>\n",
       "      <td>NaN</td>\n",
       "    </tr>\n",
       "    <tr>\n",
       "      <th>2</th>\n",
       "      <td>2</td>\n",
       "      <td>2</td>\n",
       "      <td>(주)키다리스튜디오</td>\n",
       "      <td>얼렁뚱땅 노답 뭐 프로세스 있는 척... 그냥 아랫사람한테 떠넘겨서 폭탄 처리 시키...</td>\n",
       "      <td>개인적인 분위기가 강하고 자기 일에 문제가없으면 옆에서 무슨일이 일어나도 상관하지않...</td>\n",
       "    </tr>\n",
       "    <tr>\n",
       "      <th>3</th>\n",
       "      <td>3</td>\n",
       "      <td>3</td>\n",
       "      <td>에이앤비테크(주)</td>\n",
       "      <td>NaN</td>\n",
       "      <td>NaN</td>\n",
       "    </tr>\n",
       "    <tr>\n",
       "      <th>4</th>\n",
       "      <td>4</td>\n",
       "      <td>4</td>\n",
       "      <td>(주)서경엔씨에스</td>\n",
       "      <td>NaN</td>\n",
       "      <td>NaN</td>\n",
       "    </tr>\n",
       "    <tr>\n",
       "      <th>...</th>\n",
       "      <td>...</td>\n",
       "      <td>...</td>\n",
       "      <td>...</td>\n",
       "      <td>...</td>\n",
       "      <td>...</td>\n",
       "    </tr>\n",
       "    <tr>\n",
       "      <th>1014</th>\n",
       "      <td>9</td>\n",
       "      <td>9</td>\n",
       "      <td>(주)티지오</td>\n",
       "      <td>일은.전체적으로 지시를 받아 진행이되는데 일을 모르는상태에서 주니 개선이1도안됩니다...</td>\n",
       "      <td>자유롭지않고 억압적으로 일만하라는 분위기고 가족들끼리만 화기애애합니다가족들끼리만 오...</td>\n",
       "    </tr>\n",
       "    <tr>\n",
       "      <th>1015</th>\n",
       "      <td>10</td>\n",
       "      <td>10</td>\n",
       "      <td>(주)원산</td>\n",
       "      <td>조원을 이루고 충분한 수칙및 작업역할을 설명하고 역할분담을 함PJB를 통해 사전에 ...</td>\n",
       "      <td>대체로 자유롭게 편안한 분위기이며오버홀에는 바쁘다보니 사람들이 날카로워져 있기에 분...</td>\n",
       "    </tr>\n",
       "    <tr>\n",
       "      <th>1016</th>\n",
       "      <td>11</td>\n",
       "      <td>11</td>\n",
       "      <td>(주)에이치엘엠씨</td>\n",
       "      <td>각자가 1인 1팀으로 일을 진행. 따라서 업무량이 많고 잔업도 많이 있다.회의와 보...</td>\n",
       "      <td>수직적인 분위기이며 팀과 팀간의 교류가 전혀 없습니다. 각자가 각개전투로 업무 진행...</td>\n",
       "    </tr>\n",
       "    <tr>\n",
       "      <th>1017</th>\n",
       "      <td>12</td>\n",
       "      <td>12</td>\n",
       "      <td>(주)제이티</td>\n",
       "      <td>신문사가 전신인 회사로 신문사 특유의 보수적이며 경직된 분위기가 남아있음 (아이러니...</td>\n",
       "      <td>경직되어있으며 수직적임. 혁신, 진보를 외치나 반대 방향으로 흘러가는듯다들 일할때는...</td>\n",
       "    </tr>\n",
       "    <tr>\n",
       "      <th>1018</th>\n",
       "      <td>13</td>\n",
       "      <td>13</td>\n",
       "      <td>(주)지에스인스텍</td>\n",
       "      <td>NaN</td>\n",
       "      <td>NaN</td>\n",
       "    </tr>\n",
       "  </tbody>\n",
       "</table>\n",
       "<p>1019 rows × 5 columns</p>\n",
       "</div>"
      ],
      "text/plain": [
       "      Unnamed: 0  Unnamed: 0.1         기업명  \\\n",
       "0              0             0       (주)키삭   \n",
       "1              1             1     (주)이씨뱅크   \n",
       "2              2             2  (주)키다리스튜디오   \n",
       "3              3             3   에이앤비테크(주)   \n",
       "4              4             4   (주)서경엔씨에스   \n",
       "...          ...           ...         ...   \n",
       "1014           9             9      (주)티지오   \n",
       "1015          10            10       (주)원산   \n",
       "1016          11            11   (주)에이치엘엠씨   \n",
       "1017          12            12      (주)제이티   \n",
       "1018          13            13   (주)지에스인스텍   \n",
       "\n",
       "                                           work_way_txt  \\\n",
       "0                                                   NaN   \n",
       "1                                                   NaN   \n",
       "2     얼렁뚱땅 노답 뭐 프로세스 있는 척... 그냥 아랫사람한테 떠넘겨서 폭탄 처리 시키...   \n",
       "3                                                   NaN   \n",
       "4                                                   NaN   \n",
       "...                                                 ...   \n",
       "1014  일은.전체적으로 지시를 받아 진행이되는데 일을 모르는상태에서 주니 개선이1도안됩니다...   \n",
       "1015  조원을 이루고 충분한 수칙및 작업역할을 설명하고 역할분담을 함PJB를 통해 사전에 ...   \n",
       "1016  각자가 1인 1팀으로 일을 진행. 따라서 업무량이 많고 잔업도 많이 있다.회의와 보...   \n",
       "1017  신문사가 전신인 회사로 신문사 특유의 보수적이며 경직된 분위기가 남아있음 (아이러니...   \n",
       "1018                                                NaN   \n",
       "\n",
       "                                            culture_txt  \n",
       "0                                                   NaN  \n",
       "1                                                   NaN  \n",
       "2     개인적인 분위기가 강하고 자기 일에 문제가없으면 옆에서 무슨일이 일어나도 상관하지않...  \n",
       "3                                                   NaN  \n",
       "4                                                   NaN  \n",
       "...                                                 ...  \n",
       "1014  자유롭지않고 억압적으로 일만하라는 분위기고 가족들끼리만 화기애애합니다가족들끼리만 오...  \n",
       "1015  대체로 자유롭게 편안한 분위기이며오버홀에는 바쁘다보니 사람들이 날카로워져 있기에 분...  \n",
       "1016  수직적인 분위기이며 팀과 팀간의 교류가 전혀 없습니다. 각자가 각개전투로 업무 진행...  \n",
       "1017  경직되어있으며 수직적임. 혁신, 진보를 외치나 반대 방향으로 흘러가는듯다들 일할때는...  \n",
       "1018                                                NaN  \n",
       "\n",
       "[1019 rows x 5 columns]"
      ]
     },
     "execution_count": 2,
     "metadata": {},
     "output_type": "execute_result"
    }
   ],
   "source": [
    "df = pd.read_csv(\"data/full_jobplanet_premium.csv\")\n",
    "df"
   ]
  },
  {
   "cell_type": "code",
   "execution_count": 5,
   "metadata": {
    "ExecuteTime": {
     "end_time": "2021-08-15T10:56:27.299061Z",
     "start_time": "2021-08-15T10:56:27.283104Z"
    }
   },
   "outputs": [
    {
     "data": {
      "text/plain": [
       "Unnamed: 0        0\n",
       "Unnamed: 0.1      0\n",
       "기업명               0\n",
       "work_way_txt    830\n",
       "culture_txt     841\n",
       "dtype: int64"
      ]
     },
     "execution_count": 5,
     "metadata": {},
     "output_type": "execute_result"
    }
   ],
   "source": [
    "df"
   ]
  },
  {
   "cell_type": "code",
   "execution_count": 6,
   "metadata": {
    "ExecuteTime": {
     "end_time": "2021-08-15T10:58:34.434996Z",
     "start_time": "2021-08-15T10:58:34.414024Z"
    }
   },
   "outputs": [
    {
     "data": {
      "text/html": [
       "<div>\n",
       "<style scoped>\n",
       "    .dataframe tbody tr th:only-of-type {\n",
       "        vertical-align: middle;\n",
       "    }\n",
       "\n",
       "    .dataframe tbody tr th {\n",
       "        vertical-align: top;\n",
       "    }\n",
       "\n",
       "    .dataframe thead th {\n",
       "        text-align: right;\n",
       "    }\n",
       "</style>\n",
       "<table border=\"1\" class=\"dataframe\">\n",
       "  <thead>\n",
       "    <tr style=\"text-align: right;\">\n",
       "      <th></th>\n",
       "      <th>기업명</th>\n",
       "      <th>work_way_txt</th>\n",
       "      <th>culture_txt</th>\n",
       "    </tr>\n",
       "  </thead>\n",
       "  <tbody>\n",
       "    <tr>\n",
       "      <th>0</th>\n",
       "      <td>(주)키삭</td>\n",
       "      <td>NaN</td>\n",
       "      <td>NaN</td>\n",
       "    </tr>\n",
       "    <tr>\n",
       "      <th>1</th>\n",
       "      <td>(주)이씨뱅크</td>\n",
       "      <td>NaN</td>\n",
       "      <td>NaN</td>\n",
       "    </tr>\n",
       "    <tr>\n",
       "      <th>2</th>\n",
       "      <td>(주)키다리스튜디오</td>\n",
       "      <td>얼렁뚱땅 노답 뭐 프로세스 있는 척... 그냥 아랫사람한테 떠넘겨서 폭탄 처리 시키...</td>\n",
       "      <td>개인적인 분위기가 강하고 자기 일에 문제가없으면 옆에서 무슨일이 일어나도 상관하지않...</td>\n",
       "    </tr>\n",
       "    <tr>\n",
       "      <th>3</th>\n",
       "      <td>에이앤비테크(주)</td>\n",
       "      <td>NaN</td>\n",
       "      <td>NaN</td>\n",
       "    </tr>\n",
       "    <tr>\n",
       "      <th>4</th>\n",
       "      <td>(주)서경엔씨에스</td>\n",
       "      <td>NaN</td>\n",
       "      <td>NaN</td>\n",
       "    </tr>\n",
       "  </tbody>\n",
       "</table>\n",
       "</div>"
      ],
      "text/plain": [
       "          기업명                                       work_way_txt  \\\n",
       "0       (주)키삭                                                NaN   \n",
       "1     (주)이씨뱅크                                                NaN   \n",
       "2  (주)키다리스튜디오  얼렁뚱땅 노답 뭐 프로세스 있는 척... 그냥 아랫사람한테 떠넘겨서 폭탄 처리 시키...   \n",
       "3   에이앤비테크(주)                                                NaN   \n",
       "4   (주)서경엔씨에스                                                NaN   \n",
       "\n",
       "                                         culture_txt  \n",
       "0                                                NaN  \n",
       "1                                                NaN  \n",
       "2  개인적인 분위기가 강하고 자기 일에 문제가없으면 옆에서 무슨일이 일어나도 상관하지않...  \n",
       "3                                                NaN  \n",
       "4                                                NaN  "
      ]
     },
     "execution_count": 6,
     "metadata": {},
     "output_type": "execute_result"
    }
   ],
   "source": [
    "del df['Unnamed: 0']\n",
    "del df['Unnamed: 0.1']\n",
    "# data['v1'] = data['v1'].replace(['ham','spam'],[0,1])\n",
    "df[:5]"
   ]
  },
  {
   "cell_type": "code",
   "execution_count": 13,
   "metadata": {
    "ExecuteTime": {
     "end_time": "2021-08-15T11:01:40.984189Z",
     "start_time": "2021-08-15T11:01:40.966180Z"
    }
   },
   "outputs": [],
   "source": [
    "preprocessed_df = pd.DataFrame()"
   ]
  },
  {
   "cell_type": "code",
   "execution_count": 14,
   "metadata": {
    "ExecuteTime": {
     "end_time": "2021-08-15T11:01:42.216981Z",
     "start_time": "2021-08-15T11:01:42.205990Z"
    }
   },
   "outputs": [
    {
     "data": {
      "text/html": [
       "<div>\n",
       "<style scoped>\n",
       "    .dataframe tbody tr th:only-of-type {\n",
       "        vertical-align: middle;\n",
       "    }\n",
       "\n",
       "    .dataframe tbody tr th {\n",
       "        vertical-align: top;\n",
       "    }\n",
       "\n",
       "    .dataframe thead th {\n",
       "        text-align: right;\n",
       "    }\n",
       "</style>\n",
       "<table border=\"1\" class=\"dataframe\">\n",
       "  <thead>\n",
       "    <tr style=\"text-align: right;\">\n",
       "      <th></th>\n",
       "      <th>companyName</th>\n",
       "      <th>review</th>\n",
       "    </tr>\n",
       "  </thead>\n",
       "  <tbody>\n",
       "    <tr>\n",
       "      <th>0</th>\n",
       "      <td>(주)키삭</td>\n",
       "      <td>NaN</td>\n",
       "    </tr>\n",
       "    <tr>\n",
       "      <th>1</th>\n",
       "      <td>(주)이씨뱅크</td>\n",
       "      <td>NaN</td>\n",
       "    </tr>\n",
       "    <tr>\n",
       "      <th>2</th>\n",
       "      <td>(주)키다리스튜디오</td>\n",
       "      <td>얼렁뚱땅 노답 뭐 프로세스 있는 척... 그냥 아랫사람한테 떠넘겨서 폭탄 처리 시키...</td>\n",
       "    </tr>\n",
       "    <tr>\n",
       "      <th>3</th>\n",
       "      <td>에이앤비테크(주)</td>\n",
       "      <td>NaN</td>\n",
       "    </tr>\n",
       "    <tr>\n",
       "      <th>4</th>\n",
       "      <td>(주)서경엔씨에스</td>\n",
       "      <td>NaN</td>\n",
       "    </tr>\n",
       "  </tbody>\n",
       "</table>\n",
       "</div>"
      ],
      "text/plain": [
       "  companyName                                             review\n",
       "0       (주)키삭                                                NaN\n",
       "1     (주)이씨뱅크                                                NaN\n",
       "2  (주)키다리스튜디오  얼렁뚱땅 노답 뭐 프로세스 있는 척... 그냥 아랫사람한테 떠넘겨서 폭탄 처리 시키...\n",
       "3   에이앤비테크(주)                                                NaN\n",
       "4   (주)서경엔씨에스                                                NaN"
      ]
     },
     "execution_count": 14,
     "metadata": {},
     "output_type": "execute_result"
    }
   ],
   "source": [
    "preprocessed_df['companyName'] = df['기업명']\n",
    "preprocessed_df['review'] = df['work_way_txt'] + df['culture_txt']\n",
    "\n",
    "preprocessed_df.head(5)"
   ]
  },
  {
   "cell_type": "code",
   "execution_count": 15,
   "metadata": {
    "ExecuteTime": {
     "end_time": "2021-08-15T11:01:59.716517Z",
     "start_time": "2021-08-15T11:01:59.696573Z"
    }
   },
   "outputs": [
    {
     "data": {
      "text/plain": [
       "companyName      0\n",
       "review         847\n",
       "dtype: int64"
      ]
     },
     "execution_count": 15,
     "metadata": {},
     "output_type": "execute_result"
    }
   ],
   "source": [
    "preprocessed_df.isnull().sum()"
   ]
  },
  {
   "cell_type": "code",
   "execution_count": 19,
   "metadata": {
    "ExecuteTime": {
     "end_time": "2021-08-15T11:02:44.056305Z",
     "start_time": "2021-08-15T11:02:44.037355Z"
    }
   },
   "outputs": [],
   "source": [
    "preprocessed_df.dropna(inplace=True)"
   ]
  },
  {
   "cell_type": "code",
   "execution_count": 21,
   "metadata": {
    "ExecuteTime": {
     "end_time": "2021-08-15T11:03:35.233518Z",
     "start_time": "2021-08-15T11:03:35.216582Z"
    }
   },
   "outputs": [],
   "source": [
    "preprocessed_df.to_csv('data/preprocessed_jobplanet_review_for_RNN.csv', encoding='cp949')"
   ]
  },
  {
   "cell_type": "markdown",
   "metadata": {},
   "source": [
    "# 라벨링 데이터 분할"
   ]
  },
  {
   "cell_type": "code",
   "execution_count": 27,
   "metadata": {
    "ExecuteTime": {
     "end_time": "2021-08-15T12:34:31.297189Z",
     "start_time": "2021-08-15T12:34:31.266299Z"
    }
   },
   "outputs": [
    {
     "data": {
      "text/html": [
       "<div>\n",
       "<style scoped>\n",
       "    .dataframe tbody tr th:only-of-type {\n",
       "        vertical-align: middle;\n",
       "    }\n",
       "\n",
       "    .dataframe tbody tr th {\n",
       "        vertical-align: top;\n",
       "    }\n",
       "\n",
       "    .dataframe thead th {\n",
       "        text-align: right;\n",
       "    }\n",
       "</style>\n",
       "<table border=\"1\" class=\"dataframe\">\n",
       "  <thead>\n",
       "    <tr style=\"text-align: right;\">\n",
       "      <th></th>\n",
       "      <th>Unnamed: 0</th>\n",
       "      <th>companyName</th>\n",
       "      <th>review</th>\n",
       "      <th>structure</th>\n",
       "    </tr>\n",
       "  </thead>\n",
       "  <tbody>\n",
       "    <tr>\n",
       "      <th>0</th>\n",
       "      <td>2</td>\n",
       "      <td>(주)키다리스튜디오</td>\n",
       "      <td>얼렁뚱땅 노답 뭐 프로세스 있는 척... 그냥 아랫사람한테 떠넘겨서 폭탄 처리 시키...</td>\n",
       "      <td>NaN</td>\n",
       "    </tr>\n",
       "    <tr>\n",
       "      <th>1</th>\n",
       "      <td>5</td>\n",
       "      <td>(주)미래아이엔씨</td>\n",
       "      <td>가르쳐주는게 없으니 일단 내 멋대로 해버리고나서 문제 생기면 그때그때 땜빵치는 식으...</td>\n",
       "      <td>NaN</td>\n",
       "    </tr>\n",
       "    <tr>\n",
       "      <th>2</th>\n",
       "      <td>7</td>\n",
       "      <td>(주)케이원정보통신</td>\n",
       "      <td>그냥 무능력 팀장은 일안하고 다 밑에 직원들이 다함 도움이 안됨지시와 이행........</td>\n",
       "      <td>0.0</td>\n",
       "    </tr>\n",
       "    <tr>\n",
       "      <th>3</th>\n",
       "      <td>8</td>\n",
       "      <td>(주)온고테크</td>\n",
       "      <td>탑다운 프로세스로 진행되었던 같습니다만사이트 배분에 있어 직원들 의견도 청취하고 반...</td>\n",
       "      <td>1.0</td>\n",
       "    </tr>\n",
       "    <tr>\n",
       "      <th>4</th>\n",
       "      <td>9</td>\n",
       "      <td>이에스이(주)</td>\n",
       "      <td>공정 분석 밎 요구사항 정리후 설비업체 및 내부 관련 부서들과 조사사항 논의 및 협...</td>\n",
       "      <td>0.0</td>\n",
       "    </tr>\n",
       "    <tr>\n",
       "      <th>...</th>\n",
       "      <td>...</td>\n",
       "      <td>...</td>\n",
       "      <td>...</td>\n",
       "      <td>...</td>\n",
       "    </tr>\n",
       "    <tr>\n",
       "      <th>167</th>\n",
       "      <td>1013</td>\n",
       "      <td>에이엠텔레콤(주)</td>\n",
       "      <td>바이러스 프로그램만 빼고 오피스등 모두 어둠의 경로로 다운받은 프로그램 사용함. 인...</td>\n",
       "      <td>NaN</td>\n",
       "    </tr>\n",
       "    <tr>\n",
       "      <th>168</th>\n",
       "      <td>1014</td>\n",
       "      <td>(주)티지오</td>\n",
       "      <td>일은.전체적으로 지시를 받아 진행이되는데 일을 모르는상태에서 주니 개선이1도안됩니다...</td>\n",
       "      <td>NaN</td>\n",
       "    </tr>\n",
       "    <tr>\n",
       "      <th>169</th>\n",
       "      <td>1015</td>\n",
       "      <td>(주)원산</td>\n",
       "      <td>조원을 이루고 충분한 수칙및 작업역할을 설명하고 역할분담을 함PJB를 통해 사전에 ...</td>\n",
       "      <td>NaN</td>\n",
       "    </tr>\n",
       "    <tr>\n",
       "      <th>170</th>\n",
       "      <td>1016</td>\n",
       "      <td>(주)에이치엘엠씨</td>\n",
       "      <td>각자가 1인 1팀으로 일을 진행. 따라서 업무량이 많고 잔업도 많이 있다.회의와 보...</td>\n",
       "      <td>NaN</td>\n",
       "    </tr>\n",
       "    <tr>\n",
       "      <th>171</th>\n",
       "      <td>1017</td>\n",
       "      <td>(주)제이티</td>\n",
       "      <td>신문사가 전신인 회사로 신문사 특유의 보수적이며 경직된 분위기가 남아있음 (아이러니...</td>\n",
       "      <td>NaN</td>\n",
       "    </tr>\n",
       "  </tbody>\n",
       "</table>\n",
       "<p>172 rows × 4 columns</p>\n",
       "</div>"
      ],
      "text/plain": [
       "     Unnamed: 0 companyName  \\\n",
       "0             2  (주)키다리스튜디오   \n",
       "1             5   (주)미래아이엔씨   \n",
       "2             7  (주)케이원정보통신   \n",
       "3             8     (주)온고테크   \n",
       "4             9     이에스이(주)   \n",
       "..          ...         ...   \n",
       "167        1013   에이엠텔레콤(주)   \n",
       "168        1014      (주)티지오   \n",
       "169        1015       (주)원산   \n",
       "170        1016   (주)에이치엘엠씨   \n",
       "171        1017      (주)제이티   \n",
       "\n",
       "                                                review  structure  \n",
       "0    얼렁뚱땅 노답 뭐 프로세스 있는 척... 그냥 아랫사람한테 떠넘겨서 폭탄 처리 시키...        NaN  \n",
       "1    가르쳐주는게 없으니 일단 내 멋대로 해버리고나서 문제 생기면 그때그때 땜빵치는 식으...        NaN  \n",
       "2    그냥 무능력 팀장은 일안하고 다 밑에 직원들이 다함 도움이 안됨지시와 이행........        0.0  \n",
       "3    탑다운 프로세스로 진행되었던 같습니다만사이트 배분에 있어 직원들 의견도 청취하고 반...        1.0  \n",
       "4    공정 분석 밎 요구사항 정리후 설비업체 및 내부 관련 부서들과 조사사항 논의 및 협...        0.0  \n",
       "..                                                 ...        ...  \n",
       "167  바이러스 프로그램만 빼고 오피스등 모두 어둠의 경로로 다운받은 프로그램 사용함. 인...        NaN  \n",
       "168  일은.전체적으로 지시를 받아 진행이되는데 일을 모르는상태에서 주니 개선이1도안됩니다...        NaN  \n",
       "169  조원을 이루고 충분한 수칙및 작업역할을 설명하고 역할분담을 함PJB를 통해 사전에 ...        NaN  \n",
       "170  각자가 1인 1팀으로 일을 진행. 따라서 업무량이 많고 잔업도 많이 있다.회의와 보...        NaN  \n",
       "171  신문사가 전신인 회사로 신문사 특유의 보수적이며 경직된 분위기가 남아있음 (아이러니...        NaN  \n",
       "\n",
       "[172 rows x 4 columns]"
      ]
     },
     "execution_count": 27,
     "metadata": {},
     "output_type": "execute_result"
    }
   ],
   "source": [
    "# 0: 수직, 1: 수평\n",
    "raw_df = pd.read_csv(\"data/labelled_jobplanet_review_for_RNN.csv\", encoding='cp949')\n",
    "raw_df"
   ]
  },
  {
   "cell_type": "code",
   "execution_count": 28,
   "metadata": {
    "ExecuteTime": {
     "end_time": "2021-08-15T12:34:31.668188Z",
     "start_time": "2021-08-15T12:34:31.652227Z"
    }
   },
   "outputs": [],
   "source": [
    "# 라벨링된 데이터\n",
    "labelled_df = raw_df.dropna()"
   ]
  },
  {
   "cell_type": "code",
   "execution_count": 33,
   "metadata": {
    "ExecuteTime": {
     "end_time": "2021-08-15T12:38:29.969096Z",
     "start_time": "2021-08-15T12:38:29.962114Z"
    }
   },
   "outputs": [],
   "source": [
    "# 라벨링 안된 데이터\n",
    "cond = raw_df['structure'].isnull()\n",
    "unlabelled_df = raw_df[cond]"
   ]
  },
  {
   "cell_type": "code",
   "execution_count": 34,
   "metadata": {
    "ExecuteTime": {
     "end_time": "2021-08-15T12:41:06.158053Z",
     "start_time": "2021-08-15T12:41:06.145115Z"
    }
   },
   "outputs": [],
   "source": [
    "labelled_df.to_csv('data/jobplanet_labelled_review.csv', encoding='cp949')\n",
    "unlabelled_df.to_csv('data/jobplanet_unlabelled_reveiw.csv', encoding='cp949')"
   ]
  }
 ],
 "metadata": {
  "kernelspec": {
   "display_name": "Python 3",
   "language": "python",
   "name": "python3"
  },
  "language_info": {
   "codemirror_mode": {
    "name": "ipython",
    "version": 3
   },
   "file_extension": ".py",
   "mimetype": "text/x-python",
   "name": "python",
   "nbconvert_exporter": "python",
   "pygments_lexer": "ipython3",
   "version": "3.8.5"
  },
  "toc": {
   "base_numbering": 1,
   "nav_menu": {},
   "number_sections": true,
   "sideBar": true,
   "skip_h1_title": false,
   "title_cell": "Table of Contents",
   "title_sidebar": "Contents",
   "toc_cell": false,
   "toc_position": {},
   "toc_section_display": true,
   "toc_window_display": false
  }
 },
 "nbformat": 4,
 "nbformat_minor": 4
}
