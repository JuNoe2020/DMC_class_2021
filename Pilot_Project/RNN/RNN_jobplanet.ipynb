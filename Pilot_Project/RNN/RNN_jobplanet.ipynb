{
 "cells": [
  {
   "cell_type": "markdown",
   "metadata": {},
   "source": [
    "# 신경망 알고리즘"
   ]
  },
  {
   "cell_type": "code",
   "execution_count": 94,
   "metadata": {
    "ExecuteTime": {
     "end_time": "2021-08-15T13:25:07.559442Z",
     "start_time": "2021-08-15T13:25:07.549466Z"
    }
   },
   "outputs": [],
   "source": [
    "# 데이터 처리\n",
    "import pandas as pd\n",
    "import numpy as np\n",
    "# 시각화\n",
    "import seaborn as sns\n",
    "import matplotlib as mpl\n",
    "import matplotlib.pyplot as plt\n",
    "# 시각화 옵션\n",
    "from IPython.display import set_matplotlib_formats\n",
    "# 한글 글꼴 설정\n",
    "mpl.rc('font',family = 'Malgun Gothic')\n",
    "# 음수값 설정\n",
    "mpl.rc('axes',unicode_minus=True)\n",
    "# 그래프 선명하게 출력\n",
    "set_matplotlib_formats('retina')"
   ]
  },
  {
   "cell_type": "code",
   "execution_count": 4,
   "metadata": {
    "ExecuteTime": {
     "end_time": "2021-08-15T12:41:58.758024Z",
     "start_time": "2021-08-15T12:41:58.730124Z"
    }
   },
   "outputs": [
    {
     "name": "stdout",
     "output_type": "stream",
     "text": [
      "(60, 5)\n"
     ]
    },
    {
     "data": {
      "text/html": [
       "<div>\n",
       "<style scoped>\n",
       "    .dataframe tbody tr th:only-of-type {\n",
       "        vertical-align: middle;\n",
       "    }\n",
       "\n",
       "    .dataframe tbody tr th {\n",
       "        vertical-align: top;\n",
       "    }\n",
       "\n",
       "    .dataframe thead th {\n",
       "        text-align: right;\n",
       "    }\n",
       "</style>\n",
       "<table border=\"1\" class=\"dataframe\">\n",
       "  <thead>\n",
       "    <tr style=\"text-align: right;\">\n",
       "      <th></th>\n",
       "      <th>Unnamed: 0</th>\n",
       "      <th>Unnamed: 0.1</th>\n",
       "      <th>companyName</th>\n",
       "      <th>review</th>\n",
       "      <th>structure</th>\n",
       "    </tr>\n",
       "  </thead>\n",
       "  <tbody>\n",
       "    <tr>\n",
       "      <th>0</th>\n",
       "      <td>2</td>\n",
       "      <td>7</td>\n",
       "      <td>(주)케이원정보통신</td>\n",
       "      <td>그냥 무능력 팀장은 일안하고 다 밑에 직원들이 다함 도움이 안됨지시와 이행........</td>\n",
       "      <td>0.0</td>\n",
       "    </tr>\n",
       "    <tr>\n",
       "      <th>1</th>\n",
       "      <td>3</td>\n",
       "      <td>8</td>\n",
       "      <td>(주)온고테크</td>\n",
       "      <td>탑다운 프로세스로 진행되었던 같습니다만사이트 배분에 있어 직원들 의견도 청취하고 반...</td>\n",
       "      <td>1.0</td>\n",
       "    </tr>\n",
       "    <tr>\n",
       "      <th>2</th>\n",
       "      <td>4</td>\n",
       "      <td>9</td>\n",
       "      <td>이에스이(주)</td>\n",
       "      <td>공정 분석 밎 요구사항 정리후 설비업체 및 내부 관련 부서들과 조사사항 논의 및 협...</td>\n",
       "      <td>0.0</td>\n",
       "    </tr>\n",
       "    <tr>\n",
       "      <th>3</th>\n",
       "      <td>5</td>\n",
       "      <td>10</td>\n",
       "      <td>(주)산들네트웍스</td>\n",
       "      <td>팀장의 톱다운 방식 + 어느정도 의견 제시는 가능함. 크게 불만 없음그냥 일반 회사...</td>\n",
       "      <td>1.0</td>\n",
       "    </tr>\n",
       "    <tr>\n",
       "      <th>4</th>\n",
       "      <td>6</td>\n",
       "      <td>47</td>\n",
       "      <td>(주)커머스웨어</td>\n",
       "      <td>부서마다 다르고 팀마다 다르나 운영팀은 애자일하게, 프로젝트팀은 말그대로 TF방식으...</td>\n",
       "      <td>1.0</td>\n",
       "    </tr>\n",
       "  </tbody>\n",
       "</table>\n",
       "</div>"
      ],
      "text/plain": [
       "   Unnamed: 0  Unnamed: 0.1 companyName  \\\n",
       "0           2             7  (주)케이원정보통신   \n",
       "1           3             8     (주)온고테크   \n",
       "2           4             9     이에스이(주)   \n",
       "3           5            10   (주)산들네트웍스   \n",
       "4           6            47    (주)커머스웨어   \n",
       "\n",
       "                                              review  structure  \n",
       "0  그냥 무능력 팀장은 일안하고 다 밑에 직원들이 다함 도움이 안됨지시와 이행........        0.0  \n",
       "1  탑다운 프로세스로 진행되었던 같습니다만사이트 배분에 있어 직원들 의견도 청취하고 반...        1.0  \n",
       "2  공정 분석 밎 요구사항 정리후 설비업체 및 내부 관련 부서들과 조사사항 논의 및 협...        0.0  \n",
       "3  팀장의 톱다운 방식 + 어느정도 의견 제시는 가능함. 크게 불만 없음그냥 일반 회사...        1.0  \n",
       "4  부서마다 다르고 팀마다 다르나 운영팀은 애자일하게, 프로젝트팀은 말그대로 TF방식으...        1.0  "
      ]
     },
     "execution_count": 4,
     "metadata": {},
     "output_type": "execute_result"
    }
   ],
   "source": [
    "df_review = pd.read_csv('data/jobplanet_labelled_review.csv', encoding='cp949')\n",
    "print(df_review.shape)\n",
    "df_review.head()"
   ]
  },
  {
   "cell_type": "code",
   "execution_count": 5,
   "metadata": {
    "ExecuteTime": {
     "end_time": "2021-08-15T12:42:08.307614Z",
     "start_time": "2021-08-15T12:42:08.289689Z"
    },
    "scrolled": true
   },
   "outputs": [
    {
     "data": {
      "text/plain": [
       "1.0    30\n",
       "0.0    30\n",
       "Name: structure, dtype: int64"
      ]
     },
     "execution_count": 5,
     "metadata": {},
     "output_type": "execute_result"
    }
   ],
   "source": [
    "df_review['structure'].value_counts()"
   ]
  },
  {
   "cell_type": "code",
   "execution_count": 9,
   "metadata": {
    "ExecuteTime": {
     "end_time": "2021-08-15T12:45:18.020966Z",
     "start_time": "2021-08-15T12:45:18.010993Z"
    }
   },
   "outputs": [],
   "source": [
    "# Encoding (범주형 데이터를 숫자로 변환)\n",
    "df_review['Target'] = df_review['structure']"
   ]
  },
  {
   "cell_type": "code",
   "execution_count": 11,
   "metadata": {
    "ExecuteTime": {
     "end_time": "2021-08-15T12:45:37.871924Z",
     "start_time": "2021-08-15T12:45:37.860954Z"
    }
   },
   "outputs": [],
   "source": [
    "X_train = df_review['review']\n",
    "Y_train = df_review['Target']"
   ]
  },
  {
   "cell_type": "code",
   "execution_count": 12,
   "metadata": {
    "ExecuteTime": {
     "end_time": "2021-08-15T12:45:42.316231Z",
     "start_time": "2021-08-15T12:45:42.299300Z"
    },
    "collapsed": true
   },
   "outputs": [
    {
     "data": {
      "text/plain": [
       "0     그냥 무능력 팀장은 일안하고 다 밑에 직원들이 다함 도움이 안됨지시와 이행........\n",
       "1     탑다운 프로세스로 진행되었던 같습니다만사이트 배분에 있어 직원들 의견도 청취하고 반...\n",
       "2     공정 분석 밎 요구사항 정리후 설비업체 및 내부 관련 부서들과 조사사항 논의 및 협...\n",
       "3     팀장의 톱다운 방식 + 어느정도 의견 제시는 가능함. 크게 불만 없음그냥 일반 회사...\n",
       "4     부서마다 다르고 팀마다 다르나 운영팀은 애자일하게, 프로젝트팀은 말그대로 TF방식으...\n",
       "5     라떼와 꼰대 마인드 부터 없어져야 함예전과 지금의 세대가 많이 달라졌음을 위에서 알...\n",
       "6     물어보는것에 대해 화를내거나 찾아서 알아봐라라는 비중을 좀 줄여야한다고 생각한다. ...\n",
       "7     들어오는일에 대해 크게 관여치 않으며 회의를 통해 업무를 분배너무 잦은 회의는 오히...\n",
       "8     직원을 위한 투자를 하지 않으며 소모품으로 생각하는 흔한 경영진팀바이팀으로 내용 공...\n",
       "9     솔직히 이건 별 의미 없는 질문인듯. 부서고 팀이고 뭐고 인원자체가 적은데 뭘? 게...\n",
       "10    자유롭게 일하고 주말 작업후 휴식을 제공합니다워라벨 보장체계가 없고 그 때, 그 때...\n",
       "11    필요한것을 요구하면 그게 꼭 필요하냐고 되묻는다결국 직원들이 마련하는 경우도 생김팀...\n",
       "12    상사가 업무를 지시하여 해당 업무를 지원하는 엔지니어 부서연봉 동결할 생각하지말고 ...\n",
       "13    회의때 업무를 나열하고 직급 상관없이 주서브 담당자를 정해 업무 실행자유로운 의견교...\n",
       "14    그냥 노가다 하고있어요 힘듭니다 뭐든지 눈치보고 힘든 회사에요개선이 몇년동안 안되고...\n",
       "15    직무 단계별로 업무를 진행................상사의 꼰대? 마인드가 개선되...\n",
       "16    부서별로 차이가 있긴 한데.. 대체로 임원이 결정하고 팀장이 전달하는 탑다운 방식이...\n",
       "17    규모가 작아 개인이 맡고있는 업무를 개별적으로 처리, 수행했다.업무에 대한 집중, ...\n",
       "18    노답입니다.상급자가 기존 프로세스를 알려고 하지 않고 보고만 딱딱 받으려고 함팀은 ...\n",
       "19    도구를 뭘 제공 받았더라 기억이 없네 교육자료도 받은게 없어서 CS쪽은 각자 하는 ...\n",
       "20    각 팀별 역할에 맞게 진행하고 있습니다.(다들 아시는 관리팀 등)협업툴 도입으로 부...\n",
       "21    프로젝트 잡힐때마다 다르니 다들 알아서 열심히해야죠,  이제 막 개발배우시고 학원 ...\n",
       "22    업무 인지도가 거의 없으며모두 그 밑에 직원에게만 기대어 업무를 봄각팀으로 나뉘어서...\n",
       "23    애자일 방법론이라고 말은 하는데 사실 모르겠음. 그냥 몸통박치기수석급을 더 뽑고 사...\n",
       "24    영업이 사업을 따낸다 -> 팀장이 엔지니어를 배정 -> 할당받은 엔지니어가 고객사에...\n",
       "25    원치 않는 직무 이동과 위에 상사 마음대로 빈자리 채워넣는 분위기이다. 업무 능력보...\n",
       "26    리더십의 부재, 절대적으로 부재실무자 의견을 듣지 않음말끊지말고 듣기 의견을 다 듣...\n",
       "27    각자 메인으로 담당한 게임을 맡아 테스트 계획 및 업무를 진행함회사에서 팀에 대한 ...\n",
       "28    기본적으로 회의에 일부인원(윗사람)만 참여하여 회의를 진행한 뒤 아랫 사람들에게 일...\n",
       "29    수평적인 듯 수평적이지 않은 방식일처리를 함에 있어서 매끄럽지 못한 점이있지만 어느...\n",
       "30    전무함. 심지어 노트북 거치대도 직접 구매해서 사용해야 함.그래도 이정도면 괜찮다고...\n",
       "31    팀원들의 개인적 애로사항을 충분히 고려하고 이해해서 고충을 줄여주고자 함각자 본인의...\n",
       "32    각개전투.화합 잘되는듯하나 실상은그러하지않음탑다운프로세스?소통이필요하다.아래직원들의...\n",
       "33    각 팀별로 유기적인 관계없이 객자의 이슈는 각자가 해결해야함운영진의 관리방식의 개선...\n",
       "34    프로잭트단위로 개발자를모아서 진행합니다. 파견식으로 프로잭트가 끝날때까지 일하고 계...\n",
       "35    워터폴방식, 탑다운 방식상명하복이 강하며 일정이 촉박하며 맞추기 힘듬최신장비지원, ...\n",
       "36    직급이 낮을수록 지원이 전혀없음직급이 높을수록 언제든지 지원 많음Agile 방식은 ...\n",
       "37    제공 받은거라고는 완전 오래된 다이어리 밖에 없음. 그마저도 사용할일이 없음상사가 ...\n",
       "38    기본적인 것도 없음. 볼펜, 포스트잇, 휴지 이런거 기대하지말라구... 그런건 개인...\n",
       "39    프로젝트 극 초반을 제외하고는 각개전투로 업무를 진행함 정해진 일정에 맞춰 각개전투...\n",
       "40    쉽게 토론을 하며 아랫사람들의 이야기를 들으려고 노력하는중연봉을 실력에 따른 차등 ...\n",
       "41    일이 약간 닥쳤을때 부랴부랴 하는 경향이 있지만 대부분 한 사람에게 많이 편중되는 ...\n",
       "42    각자의 아이디어 회의 및 토론 등을 합니다. 하지만 경영진의 의견이 많이 반영 되는...\n",
       "43    대체로 탑다운 방식. 물론 부서별 케바케. 사안에 따라 브레인스토밍 활용하지만 어디...\n",
       "44    업무 진행방식이라고 할 부분이 없이 주먹구구로 일을 진행함팀바팀이지만 서로 의견을 ...\n",
       "45    개인적으로 각자 알아서 하는편 . 자기밥그릇 챙기기에만 급급파트장이 오더를 내리면,...\n",
       "46    야근이 많지 않고 가족같은분위기라서 좋아요 젊은 사람이 많이 근무하는 젊은회사그냥 ...\n",
       "47    경영진이 이렇게 하자 그러면 그렇게 따라야하는 정도 밖에 되지 않는다.지금 그대로 ...\n",
       "48    각자 담당 프로젝트가 있어서 각 프로젝트에 대한 책임이 있음많은 연봉을주면 모든 걱...\n",
       "49    개인이 맡은 업무는 개인이 알아서 처리하는 방식으로 진행회의를 통한 업무 공유를 하...\n",
       "50    매주 월요일 회의를 통해 일정을 짜고 업무를 진행하였습니다음 전체적인 부분을 개선 ...\n",
       "51    팀장 위주로 잘 해준다.좋아요..서로 바빠서 잘 못보기는 합니다.업무 협업툴을 통한...\n",
       "52    신규사업부라서 그런지 편안한 분위기와기준을 만들어가는 방식다른 기업과 크게 다르지 ...\n",
       "53    모든 부서가 자기 업무 만 신경 쓰면 일을 진행 하며때떄로 불편한 업무 를 모두 외...\n",
       "54    주로 본인 담당은 본인이 다 책임짐. 휴가 중에도 대타 없이 일이 그대로 남아 있음...\n",
       "55    개인의 업무 능력과 특성에 맞게 업무 분담이 이루어짐 대체로 만족하나, 시니어 --...\n",
       "56    부바부 팀바팀이지만, 현장의 경우 밤낮없이 힘든 것으로 알고 있음. 힘들지만 대체적...\n",
       "57    직무 단계별로 업무가 어느정도 구분이 되어있음. 회사의 규모 상 체계적으로 구분이 ...\n",
       "58    주간 업무 내용을 정한 후 일마다 처리함. 애자일 소프트웨어 개발을 주로 행함.지금...\n",
       "59    회의를 하고 업무분담을 합니다비즈캘린더를 이용해 자신의 업무를 캘린더의 등록하면서 ...\n",
       "Name: review, dtype: object"
      ]
     },
     "execution_count": 12,
     "metadata": {},
     "output_type": "execute_result"
    }
   ],
   "source": [
    "X_train"
   ]
  },
  {
   "cell_type": "code",
   "execution_count": 13,
   "metadata": {
    "ExecuteTime": {
     "end_time": "2021-08-15T12:45:58.608240Z",
     "start_time": "2021-08-15T12:45:58.601269Z"
    },
    "collapsed": true
   },
   "outputs": [
    {
     "data": {
      "text/plain": [
       "0     0.0\n",
       "1     1.0\n",
       "2     0.0\n",
       "3     1.0\n",
       "4     1.0\n",
       "5     0.0\n",
       "6     1.0\n",
       "7     1.0\n",
       "8     0.0\n",
       "9     0.0\n",
       "10    1.0\n",
       "11    0.0\n",
       "12    0.0\n",
       "13    0.0\n",
       "14    0.0\n",
       "15    0.0\n",
       "16    0.0\n",
       "17    1.0\n",
       "18    0.0\n",
       "19    1.0\n",
       "20    1.0\n",
       "21    1.0\n",
       "22    0.0\n",
       "23    0.0\n",
       "24    0.0\n",
       "25    0.0\n",
       "26    0.0\n",
       "27    1.0\n",
       "28    1.0\n",
       "29    1.0\n",
       "30    0.0\n",
       "31    0.0\n",
       "32    0.0\n",
       "33    1.0\n",
       "34    0.0\n",
       "35    0.0\n",
       "36    0.0\n",
       "37    0.0\n",
       "38    0.0\n",
       "39    1.0\n",
       "40    0.0\n",
       "41    0.0\n",
       "42    1.0\n",
       "43    0.0\n",
       "44    1.0\n",
       "45    0.0\n",
       "46    0.0\n",
       "47    1.0\n",
       "48    1.0\n",
       "49    1.0\n",
       "50    1.0\n",
       "51    1.0\n",
       "52    1.0\n",
       "53    1.0\n",
       "54    1.0\n",
       "55    1.0\n",
       "56    1.0\n",
       "57    1.0\n",
       "58    1.0\n",
       "59    1.0\n",
       "Name: Target, dtype: float64"
      ]
     },
     "execution_count": 13,
     "metadata": {},
     "output_type": "execute_result"
    }
   ],
   "source": [
    "Y_train"
   ]
  },
  {
   "cell_type": "markdown",
   "metadata": {},
   "source": [
    "# 불용어 및 특수문자 처리"
   ]
  },
  {
   "cell_type": "code",
   "execution_count": 14,
   "metadata": {
    "ExecuteTime": {
     "end_time": "2021-08-15T12:46:08.463821Z",
     "start_time": "2021-08-15T12:46:08.285269Z"
    }
   },
   "outputs": [],
   "source": [
    "from konlpy.tag import Okt\n",
    "import re"
   ]
  },
  {
   "cell_type": "code",
   "execution_count": 15,
   "metadata": {
    "ExecuteTime": {
     "end_time": "2021-08-15T12:46:39.654967Z",
     "start_time": "2021-08-15T12:46:39.646989Z"
    }
   },
   "outputs": [],
   "source": [
    "df_stopword = pd.read_csv('stopword.txt', header=None, names=['불용어'])\n",
    "stopword_set = set(df_stopword['불용어'].values.tolist())"
   ]
  },
  {
   "cell_type": "code",
   "execution_count": 16,
   "metadata": {
    "ExecuteTime": {
     "end_time": "2021-08-15T12:46:42.424703Z",
     "start_time": "2021-08-15T12:46:42.413761Z"
    }
   },
   "outputs": [],
   "source": [
    "# 불용어 및 특수 기호 처리함수 구성 \n",
    "def stopword_function(X):\n",
    "    clean_train_review = []\n",
    "    okt = Okt()\n",
    "    # 모든 X 값에 대해 불용어 및 특수기호 처리 \n",
    "    for i in X:\n",
    "\n",
    "        # 문자데이터에 대한 불용어 처리 \n",
    "        if type(i) == str:\n",
    "            # 특수 문자 처리 \n",
    "            review_text = re.sub(\"[!1(+.),.@@\\/n2345']?\",\"\",i) \n",
    "            # Tokenizing & Stemming \n",
    "            word_text = okt.morphs(review_text,stem=True)\n",
    "            # StopWord \n",
    "            word_text = [token for token in word_text if not token in stopword_set]  \n",
    "\n",
    "            clean_train_review.append(word_text)\n",
    "\n",
    "        # 숫자데이터가 오는 경우, 공백을 append     \n",
    "        else:\n",
    "            clean_train_review.append([])\n",
    "            \n",
    "    return clean_train_review"
   ]
  },
  {
   "cell_type": "code",
   "execution_count": 17,
   "metadata": {
    "ExecuteTime": {
     "end_time": "2021-08-15T12:46:53.001631Z",
     "start_time": "2021-08-15T12:46:46.415282Z"
    }
   },
   "outputs": [],
   "source": [
    "X_train_clean = stopword_function(X_train)"
   ]
  },
  {
   "cell_type": "markdown",
   "metadata": {},
   "source": [
    " # Text to Sequence / Padding"
   ]
  },
  {
   "cell_type": "code",
   "execution_count": 18,
   "metadata": {
    "ExecuteTime": {
     "end_time": "2021-08-15T12:46:55.077355Z",
     "start_time": "2021-08-15T12:46:55.065388Z"
    }
   },
   "outputs": [
    {
     "data": {
      "text/plain": [
       "count      60.000000\n",
       "mean      470.516667\n",
       "std       252.005010\n",
       "min       139.000000\n",
       "25%       209.500000\n",
       "50%       455.500000\n",
       "75%       681.500000\n",
       "max      1231.000000\n",
       "Name: review, dtype: float64"
      ]
     },
     "execution_count": 18,
     "metadata": {},
     "output_type": "execute_result"
    }
   ],
   "source": [
    "# row별 단어 수 파악\n",
    "X_length = X_train.apply(len)\n",
    "X_length.describe()"
   ]
  },
  {
   "cell_type": "code",
   "execution_count": 19,
   "metadata": {
    "ExecuteTime": {
     "end_time": "2021-08-15T12:47:07.940468Z",
     "start_time": "2021-08-15T12:47:07.922517Z"
    }
   },
   "outputs": [],
   "source": [
    "from tensorflow.keras.preprocessing.text import Tokenizer\n",
    "from tensorflow.keras.preprocessing.sequence import pad_sequences"
   ]
  },
  {
   "cell_type": "code",
   "execution_count": 20,
   "metadata": {
    "ExecuteTime": {
     "end_time": "2021-08-15T12:47:09.620633Z",
     "start_time": "2021-08-15T12:47:09.602682Z"
    }
   },
   "outputs": [],
   "source": [
    "model_token = Tokenizer()\n",
    "model_token.fit_on_texts(X_train_clean)"
   ]
  },
  {
   "cell_type": "code",
   "execution_count": 21,
   "metadata": {
    "ExecuteTime": {
     "end_time": "2021-08-15T12:47:12.454781Z",
     "start_time": "2021-08-15T12:47:12.437855Z"
    }
   },
   "outputs": [
    {
     "data": {
      "text/plain": [
       "2040"
      ]
     },
     "execution_count": 21,
     "metadata": {},
     "output_type": "execute_result"
    }
   ],
   "source": [
    "# Embedding Layer 구성 작업, Input Unit()\n",
    "len(model_token.word_index)"
   ]
  },
  {
   "cell_type": "code",
   "execution_count": 101,
   "metadata": {
    "ExecuteTime": {
     "end_time": "2021-08-15T13:27:34.877523Z",
     "start_time": "2021-08-15T13:27:34.869458Z"
    }
   },
   "outputs": [],
   "source": [
    "X_sequence = model_token.texts_to_sequences(X_train_clean)\n",
    "max_length = 800\n",
    "X_input = pad_sequences(X_sequence, maxlen=max_length, padding='post')"
   ]
  },
  {
   "cell_type": "code",
   "execution_count": 43,
   "metadata": {
    "ExecuteTime": {
     "end_time": "2021-08-15T12:56:38.553534Z",
     "start_time": "2021-08-15T12:56:38.546553Z"
    }
   },
   "outputs": [],
   "source": [
    "import tensorflow\n",
    "from tensorflow.keras import layers\n",
    "from tensorflow.keras.models import Sequential\n",
    "from tensorflow.keras.layers import Dense, LSTM, Embedding\n",
    "from tensorflow.keras.layers import Input, Dropout, Activation\n",
    "from tensorflow.keras.optimizers import RMSprop, SGD\n",
    "from tensorflow.keras.utils import to_categorical\n",
    "from tensorflow.keras.callbacks import EarlyStopping, ModelCheckpoint"
   ]
  },
  {
   "cell_type": "code",
   "execution_count": 24,
   "metadata": {
    "ExecuteTime": {
     "end_time": "2021-08-15T12:48:02.275085Z",
     "start_time": "2021-08-15T12:48:02.270099Z"
    }
   },
   "outputs": [],
   "source": [
    "# Random Seed\n",
    "tensorflow.random.set_seed(1000)"
   ]
  },
  {
   "cell_type": "code",
   "execution_count": 25,
   "metadata": {
    "ExecuteTime": {
     "end_time": "2021-08-15T12:48:03.597906Z",
     "start_time": "2021-08-15T12:48:03.590926Z"
    },
    "collapsed": true
   },
   "outputs": [
    {
     "data": {
      "text/plain": [
       "0     0.0\n",
       "1     1.0\n",
       "2     0.0\n",
       "3     1.0\n",
       "4     1.0\n",
       "5     0.0\n",
       "6     1.0\n",
       "7     1.0\n",
       "8     0.0\n",
       "9     0.0\n",
       "10    1.0\n",
       "11    0.0\n",
       "12    0.0\n",
       "13    0.0\n",
       "14    0.0\n",
       "15    0.0\n",
       "16    0.0\n",
       "17    1.0\n",
       "18    0.0\n",
       "19    1.0\n",
       "20    1.0\n",
       "21    1.0\n",
       "22    0.0\n",
       "23    0.0\n",
       "24    0.0\n",
       "25    0.0\n",
       "26    0.0\n",
       "27    1.0\n",
       "28    1.0\n",
       "29    1.0\n",
       "30    0.0\n",
       "31    0.0\n",
       "32    0.0\n",
       "33    1.0\n",
       "34    0.0\n",
       "35    0.0\n",
       "36    0.0\n",
       "37    0.0\n",
       "38    0.0\n",
       "39    1.0\n",
       "40    0.0\n",
       "41    0.0\n",
       "42    1.0\n",
       "43    0.0\n",
       "44    1.0\n",
       "45    0.0\n",
       "46    0.0\n",
       "47    1.0\n",
       "48    1.0\n",
       "49    1.0\n",
       "50    1.0\n",
       "51    1.0\n",
       "52    1.0\n",
       "53    1.0\n",
       "54    1.0\n",
       "55    1.0\n",
       "56    1.0\n",
       "57    1.0\n",
       "58    1.0\n",
       "59    1.0\n",
       "Name: Target, dtype: float64"
      ]
     },
     "execution_count": 25,
     "metadata": {},
     "output_type": "execute_result"
    }
   ],
   "source": [
    "Y_train"
   ]
  },
  {
   "cell_type": "code",
   "execution_count": 26,
   "metadata": {
    "ExecuteTime": {
     "end_time": "2021-08-15T12:48:15.152794Z",
     "start_time": "2021-08-15T12:48:15.142844Z"
    },
    "collapsed": true
   },
   "outputs": [
    {
     "data": {
      "text/plain": [
       "array([[1., 0.],\n",
       "       [0., 1.],\n",
       "       [1., 0.],\n",
       "       [0., 1.],\n",
       "       [0., 1.],\n",
       "       [1., 0.],\n",
       "       [0., 1.],\n",
       "       [0., 1.],\n",
       "       [1., 0.],\n",
       "       [1., 0.],\n",
       "       [0., 1.],\n",
       "       [1., 0.],\n",
       "       [1., 0.],\n",
       "       [1., 0.],\n",
       "       [1., 0.],\n",
       "       [1., 0.],\n",
       "       [1., 0.],\n",
       "       [0., 1.],\n",
       "       [1., 0.],\n",
       "       [0., 1.],\n",
       "       [0., 1.],\n",
       "       [0., 1.],\n",
       "       [1., 0.],\n",
       "       [1., 0.],\n",
       "       [1., 0.],\n",
       "       [1., 0.],\n",
       "       [1., 0.],\n",
       "       [0., 1.],\n",
       "       [0., 1.],\n",
       "       [0., 1.],\n",
       "       [1., 0.],\n",
       "       [1., 0.],\n",
       "       [1., 0.],\n",
       "       [0., 1.],\n",
       "       [1., 0.],\n",
       "       [1., 0.],\n",
       "       [1., 0.],\n",
       "       [1., 0.],\n",
       "       [1., 0.],\n",
       "       [0., 1.],\n",
       "       [1., 0.],\n",
       "       [1., 0.],\n",
       "       [0., 1.],\n",
       "       [1., 0.],\n",
       "       [0., 1.],\n",
       "       [1., 0.],\n",
       "       [1., 0.],\n",
       "       [0., 1.],\n",
       "       [0., 1.],\n",
       "       [0., 1.],\n",
       "       [0., 1.],\n",
       "       [0., 1.],\n",
       "       [0., 1.],\n",
       "       [0., 1.],\n",
       "       [0., 1.],\n",
       "       [0., 1.],\n",
       "       [0., 1.],\n",
       "       [0., 1.],\n",
       "       [0., 1.],\n",
       "       [0., 1.]], dtype=float32)"
      ]
     },
     "execution_count": 26,
     "metadata": {},
     "output_type": "execute_result"
    }
   ],
   "source": [
    "# Y 값을 Matrix 형태로 변환\n",
    "Y_matrix = to_categorical(Y_train.astype(int))\n",
    "Y_matrix"
   ]
  },
  {
   "cell_type": "markdown",
   "metadata": {},
   "source": [
    "# LSTM"
   ]
  },
  {
   "cell_type": "code",
   "execution_count": 27,
   "metadata": {
    "ExecuteTime": {
     "end_time": "2021-08-15T12:48:27.329040Z",
     "start_time": "2021-08-15T12:48:27.324054Z"
    }
   },
   "outputs": [],
   "source": [
    "# callbacks\n",
    "es = EarlyStopping(monitor='val_loss', mode='min', verbose=1, patience=4)\n",
    "mc = ModelCheckpoint('best_model.h5', monitor='val_acc', mode='max', verbose=1, save_best_only=True)"
   ]
  },
  {
   "cell_type": "code",
   "execution_count": 102,
   "metadata": {
    "ExecuteTime": {
     "end_time": "2021-08-15T13:27:39.310267Z",
     "start_time": "2021-08-15T13:27:39.137152Z"
    }
   },
   "outputs": [
    {
     "name": "stdout",
     "output_type": "stream",
     "text": [
      "Model: \"sequential_18\"\n",
      "_________________________________________________________________\n",
      "Layer (type)                 Output Shape              Param #   \n",
      "=================================================================\n",
      "embedding_16 (Embedding)     (None, 800, 64)           130624    \n",
      "_________________________________________________________________\n",
      "lstm_13 (LSTM)               (None, 32)                12416     \n",
      "_________________________________________________________________\n",
      "dense_13 (Dense)             (None, 2)                 66        \n",
      "=================================================================\n",
      "Total params: 143,106\n",
      "Trainable params: 143,106\n",
      "Non-trainable params: 0\n",
      "_________________________________________________________________\n"
     ]
    }
   ],
   "source": [
    "model_lstm = Sequential()\n",
    "model_lstm.add(layers.Embedding(2041, 64, input_length=max_length))\n",
    "# model_lstm.add(Dropout(0.2))\n",
    "model_lstm.add(layers.LSTM(32))\n",
    "# model_lstm.add(Dropout(0.2))\n",
    "# model_lstm.add(Activation('relu'))\n",
    "model_lstm.add(layers.Dense(2, activation='sigmoid'))\n",
    "\n",
    "model_lstm.compile(optimizer=RMSprop(), loss='binary_crossentropy', metrics=['acc'])\n",
    "model_lstm.summary()"
   ]
  },
  {
   "cell_type": "code",
   "execution_count": 87,
   "metadata": {
    "ExecuteTime": {
     "end_time": "2021-08-15T13:18:44.297902Z",
     "start_time": "2021-08-15T13:18:44.287930Z"
    }
   },
   "outputs": [
    {
     "data": {
      "text/plain": [
       "array([[ 44, 942,   7, ...,   0,   0,   0],\n",
       "       [265, 218, 129, ...,   0,   0,   0],\n",
       "       [976, 977, 978, ...,   0,   0,   0],\n",
       "       ...,\n",
       "       [315, 710,   2, ...,   0,   0,   0],\n",
       "       [858,   2, 658, ...,   0,   0,   0],\n",
       "       [ 62,   2, 421, ...,   0,   0,   0]])"
      ]
     },
     "execution_count": 87,
     "metadata": {},
     "output_type": "execute_result"
    }
   ],
   "source": [
    "X_input"
   ]
  },
  {
   "cell_type": "code",
   "execution_count": 88,
   "metadata": {
    "ExecuteTime": {
     "end_time": "2021-08-15T13:18:44.656796Z",
     "start_time": "2021-08-15T13:18:44.645826Z"
    },
    "collapsed": true
   },
   "outputs": [
    {
     "data": {
      "text/plain": [
       "array([[1., 0.],\n",
       "       [0., 1.],\n",
       "       [1., 0.],\n",
       "       [0., 1.],\n",
       "       [0., 1.],\n",
       "       [1., 0.],\n",
       "       [0., 1.],\n",
       "       [0., 1.],\n",
       "       [1., 0.],\n",
       "       [1., 0.],\n",
       "       [0., 1.],\n",
       "       [1., 0.],\n",
       "       [1., 0.],\n",
       "       [1., 0.],\n",
       "       [1., 0.],\n",
       "       [1., 0.],\n",
       "       [1., 0.],\n",
       "       [0., 1.],\n",
       "       [1., 0.],\n",
       "       [0., 1.],\n",
       "       [0., 1.],\n",
       "       [0., 1.],\n",
       "       [1., 0.],\n",
       "       [1., 0.],\n",
       "       [1., 0.],\n",
       "       [1., 0.],\n",
       "       [1., 0.],\n",
       "       [0., 1.],\n",
       "       [0., 1.],\n",
       "       [0., 1.],\n",
       "       [1., 0.],\n",
       "       [1., 0.],\n",
       "       [1., 0.],\n",
       "       [0., 1.],\n",
       "       [1., 0.],\n",
       "       [1., 0.],\n",
       "       [1., 0.],\n",
       "       [1., 0.],\n",
       "       [1., 0.],\n",
       "       [0., 1.],\n",
       "       [1., 0.],\n",
       "       [1., 0.],\n",
       "       [0., 1.],\n",
       "       [1., 0.],\n",
       "       [0., 1.],\n",
       "       [1., 0.],\n",
       "       [1., 0.],\n",
       "       [0., 1.],\n",
       "       [0., 1.],\n",
       "       [0., 1.],\n",
       "       [0., 1.],\n",
       "       [0., 1.],\n",
       "       [0., 1.],\n",
       "       [0., 1.],\n",
       "       [0., 1.],\n",
       "       [0., 1.],\n",
       "       [0., 1.],\n",
       "       [0., 1.],\n",
       "       [0., 1.],\n",
       "       [0., 1.]], dtype=float32)"
      ]
     },
     "execution_count": 88,
     "metadata": {},
     "output_type": "execute_result"
    }
   ],
   "source": [
    "Y_matrix"
   ]
  },
  {
   "cell_type": "code",
   "execution_count": 103,
   "metadata": {
    "ExecuteTime": {
     "end_time": "2021-08-15T13:27:51.501042Z",
     "start_time": "2021-08-15T13:27:44.176752Z"
    }
   },
   "outputs": [
    {
     "name": "stdout",
     "output_type": "stream",
     "text": [
      "Epoch 1/50\n",
      "6/6 [==============================] - 1s 77ms/step - loss: 0.6896 - acc: 0.6250 - val_loss: 0.7729 - val_acc: 0.0000e+00\n",
      "Epoch 2/50\n",
      "6/6 [==============================] - 0s 24ms/step - loss: 0.6768 - acc: 0.6250 - val_loss: 0.8230 - val_acc: 0.0000e+00\n",
      "Epoch 3/50\n",
      "6/6 [==============================] - 0s 24ms/step - loss: 0.6794 - acc: 0.6250 - val_loss: 0.8462 - val_acc: 0.0000e+00\n",
      "Epoch 4/50\n",
      "6/6 [==============================] - 0s 24ms/step - loss: 0.6730 - acc: 0.6250 - val_loss: 0.8768 - val_acc: 0.0000e+00\n",
      "Epoch 5/50\n",
      "6/6 [==============================] - 0s 23ms/step - loss: 0.6695 - acc: 0.6250 - val_loss: 0.8900 - val_acc: 0.0000e+00\n",
      "Epoch 6/50\n",
      "6/6 [==============================] - 0s 21ms/step - loss: 0.6677 - acc: 0.6250 - val_loss: 0.9022 - val_acc: 0.0000e+00\n",
      "Epoch 7/50\n",
      "6/6 [==============================] - 0s 21ms/step - loss: 0.6677 - acc: 0.6250 - val_loss: 0.9149 - val_acc: 0.0000e+00\n",
      "Epoch 8/50\n",
      "6/6 [==============================] - 0s 21ms/step - loss: 0.6648 - acc: 0.6250 - val_loss: 0.9543 - val_acc: 0.0000e+00\n",
      "Epoch 9/50\n",
      "6/6 [==============================] - 0s 22ms/step - loss: 0.6671 - acc: 0.6250 - val_loss: 0.9713 - val_acc: 0.0000e+00\n",
      "Epoch 10/50\n",
      "6/6 [==============================] - 0s 22ms/step - loss: 0.6677 - acc: 0.6250 - val_loss: 0.9598 - val_acc: 0.0000e+00\n",
      "Epoch 11/50\n",
      "6/6 [==============================] - 0s 22ms/step - loss: 0.6677 - acc: 0.6250 - val_loss: 0.9601 - val_acc: 0.0000e+00\n",
      "Epoch 12/50\n",
      "6/6 [==============================] - 0s 21ms/step - loss: 0.6640 - acc: 0.6250 - val_loss: 0.9630 - val_acc: 0.0000e+00\n",
      "Epoch 13/50\n",
      "6/6 [==============================] - 0s 21ms/step - loss: 0.6662 - acc: 0.6250 - val_loss: 0.9655 - val_acc: 0.0000e+00\n",
      "Epoch 14/50\n",
      "6/6 [==============================] - 0s 22ms/step - loss: 0.6640 - acc: 0.6250 - val_loss: 0.9515 - val_acc: 0.0000e+00\n",
      "Epoch 15/50\n",
      "6/6 [==============================] - 0s 21ms/step - loss: 0.6652 - acc: 0.6250 - val_loss: 0.9456 - val_acc: 0.0000e+00\n",
      "Epoch 16/50\n",
      "6/6 [==============================] - 0s 21ms/step - loss: 0.6680 - acc: 0.6250 - val_loss: 0.9559 - val_acc: 0.0000e+00\n",
      "Epoch 17/50\n",
      "6/6 [==============================] - 0s 21ms/step - loss: 0.6658 - acc: 0.6250 - val_loss: 0.9541 - val_acc: 0.0000e+00\n",
      "Epoch 18/50\n",
      "6/6 [==============================] - 0s 21ms/step - loss: 0.6692 - acc: 0.6250 - val_loss: 0.9606 - val_acc: 0.0000e+00\n",
      "Epoch 19/50\n",
      "6/6 [==============================] - 0s 20ms/step - loss: 0.6661 - acc: 0.6250 - val_loss: 0.9600 - val_acc: 0.0000e+00\n",
      "Epoch 20/50\n",
      "6/6 [==============================] - 0s 20ms/step - loss: 0.6646 - acc: 0.6250 - val_loss: 0.9619 - val_acc: 0.0000e+00\n",
      "Epoch 21/50\n",
      "6/6 [==============================] - 0s 21ms/step - loss: 0.6653 - acc: 0.6250 - val_loss: 0.9650 - val_acc: 0.0000e+00\n",
      "Epoch 22/50\n",
      "6/6 [==============================] - 0s 20ms/step - loss: 0.6672 - acc: 0.6250 - val_loss: 0.9745 - val_acc: 0.0000e+00\n",
      "Epoch 23/50\n",
      "6/6 [==============================] - 0s 19ms/step - loss: 0.6647 - acc: 0.6250 - val_loss: 0.9615 - val_acc: 0.0000e+00\n",
      "Epoch 24/50\n",
      "6/6 [==============================] - 0s 20ms/step - loss: 0.6631 - acc: 0.6250 - val_loss: 0.9730 - val_acc: 0.0000e+00\n",
      "Epoch 25/50\n",
      "6/6 [==============================] - 0s 21ms/step - loss: 0.6648 - acc: 0.6250 - val_loss: 0.9594 - val_acc: 0.0000e+00\n",
      "Epoch 26/50\n",
      "6/6 [==============================] - 0s 20ms/step - loss: 0.6641 - acc: 0.6250 - val_loss: 0.9756 - val_acc: 0.0000e+00\n",
      "Epoch 27/50\n",
      "6/6 [==============================] - 0s 20ms/step - loss: 0.6674 - acc: 0.6250 - val_loss: 0.9865 - val_acc: 0.0000e+00\n",
      "Epoch 28/50\n",
      "6/6 [==============================] - 0s 21ms/step - loss: 0.6653 - acc: 0.6250 - val_loss: 0.9854 - val_acc: 0.0000e+00\n",
      "Epoch 29/50\n",
      "6/6 [==============================] - 0s 21ms/step - loss: 0.6660 - acc: 0.6250 - val_loss: 0.9784 - val_acc: 0.0000e+00\n",
      "Epoch 30/50\n",
      "6/6 [==============================] - 0s 20ms/step - loss: 0.6671 - acc: 0.6250 - val_loss: 0.9793 - val_acc: 0.0000e+00\n",
      "Epoch 31/50\n",
      "6/6 [==============================] - 0s 20ms/step - loss: 0.6654 - acc: 0.6250 - val_loss: 0.9792 - val_acc: 0.0000e+00\n",
      "Epoch 32/50\n",
      "6/6 [==============================] - 0s 20ms/step - loss: 0.6667 - acc: 0.6250 - val_loss: 0.9839 - val_acc: 0.0000e+00\n",
      "Epoch 33/50\n",
      "6/6 [==============================] - 0s 20ms/step - loss: 0.6665 - acc: 0.6250 - val_loss: 0.9890 - val_acc: 0.0000e+00\n",
      "Epoch 34/50\n",
      "6/6 [==============================] - 0s 20ms/step - loss: 0.6628 - acc: 0.6250 - val_loss: 0.9902 - val_acc: 0.0000e+00\n",
      "Epoch 35/50\n",
      "6/6 [==============================] - 0s 20ms/step - loss: 0.6628 - acc: 0.6250 - val_loss: 0.9965 - val_acc: 0.0000e+00\n",
      "Epoch 36/50\n",
      "6/6 [==============================] - 0s 20ms/step - loss: 0.6648 - acc: 0.6250 - val_loss: 0.9815 - val_acc: 0.0000e+00\n",
      "Epoch 37/50\n",
      "6/6 [==============================] - 0s 20ms/step - loss: 0.6650 - acc: 0.6250 - val_loss: 0.9826 - val_acc: 0.0000e+00\n",
      "Epoch 38/50\n",
      "6/6 [==============================] - 0s 21ms/step - loss: 0.6674 - acc: 0.6250 - val_loss: 0.9811 - val_acc: 0.0000e+00\n",
      "Epoch 39/50\n",
      "6/6 [==============================] - 0s 20ms/step - loss: 0.6676 - acc: 0.6250 - val_loss: 0.9815 - val_acc: 0.0000e+00\n",
      "Epoch 40/50\n",
      "6/6 [==============================] - 0s 20ms/step - loss: 0.6625 - acc: 0.6250 - val_loss: 0.9860 - val_acc: 0.0000e+00\n",
      "Epoch 41/50\n",
      "6/6 [==============================] - 0s 20ms/step - loss: 0.6655 - acc: 0.6250 - val_loss: 0.9864 - val_acc: 0.0000e+00\n",
      "Epoch 42/50\n",
      "6/6 [==============================] - 0s 20ms/step - loss: 0.6661 - acc: 0.6250 - val_loss: 0.9844 - val_acc: 0.0000e+00\n",
      "Epoch 43/50\n",
      "6/6 [==============================] - 0s 20ms/step - loss: 0.6635 - acc: 0.6250 - val_loss: 0.9727 - val_acc: 0.0000e+00\n",
      "Epoch 44/50\n",
      "6/6 [==============================] - 0s 20ms/step - loss: 0.6641 - acc: 0.6250 - val_loss: 0.9755 - val_acc: 0.0000e+00\n",
      "Epoch 45/50\n",
      "6/6 [==============================] - 0s 20ms/step - loss: 0.6660 - acc: 0.6250 - val_loss: 0.9739 - val_acc: 0.0000e+00\n",
      "Epoch 46/50\n",
      "6/6 [==============================] - 0s 20ms/step - loss: 0.6636 - acc: 0.6250 - val_loss: 0.9735 - val_acc: 0.0000e+00\n",
      "Epoch 47/50\n",
      "6/6 [==============================] - 0s 21ms/step - loss: 0.6630 - acc: 0.6250 - val_loss: 0.9800 - val_acc: 0.0000e+00\n",
      "Epoch 48/50\n",
      "6/6 [==============================] - 0s 21ms/step - loss: 0.6644 - acc: 0.6250 - val_loss: 0.9745 - val_acc: 0.0000e+00\n",
      "Epoch 49/50\n",
      "6/6 [==============================] - 0s 21ms/step - loss: 0.6621 - acc: 0.6250 - val_loss: 0.9828 - val_acc: 0.0000e+00\n",
      "Epoch 50/50\n",
      "6/6 [==============================] - 0s 21ms/step - loss: 0.6653 - acc: 0.6250 - val_loss: 0.9778 - val_acc: 0.0000e+00\n"
     ]
    }
   ],
   "source": [
    "history = model_lstm.fit(X_input, Y_matrix, epochs=50, \n",
    "                         batch_size=8, validation_split=0.2)"
   ]
  },
  {
   "cell_type": "code",
   "execution_count": 104,
   "metadata": {
    "ExecuteTime": {
     "end_time": "2021-08-15T13:27:52.873047Z",
     "start_time": "2021-08-15T13:27:52.856092Z"
    }
   },
   "outputs": [],
   "source": [
    "def metrics_plot(history): \n",
    "    acc = history.history['acc']\n",
    "    val_acc = history.history['val_acc']\n",
    "    loss = history.history['loss']\n",
    "    val_loss = history.history['val_loss']\n",
    "\n",
    "    epochs = range(1, len(acc)+1)\n",
    "\n",
    "    plt.plot(epochs, acc, label='Train_Acc')\n",
    "    plt.plot(epochs, val_acc, label='Validation Acc')\n",
    "    plt.title('Accuracy Score')\n",
    "    plt.legend()\n",
    "\n",
    "    plt.figure()\n",
    "    plt.plot(epochs, loss, label='Train Loss')\n",
    "    plt.plot(epochs, val_loss, label='Validation Loss')\n",
    "    plt.title('Loss Score')\n",
    "    plt.legend()\n",
    "    \n",
    "    return plt.show()"
   ]
  },
  {
   "cell_type": "code",
   "execution_count": 105,
   "metadata": {
    "ExecuteTime": {
     "end_time": "2021-08-15T13:27:57.106164Z",
     "start_time": "2021-08-15T13:27:56.781489Z"
    }
   },
   "outputs": [
    {
     "data": {
      "image/png": "[encoded data removed]",
      "text/plain": [
       "<Figure size 432x288 with 1 Axes>"
      ]
     },
     "metadata": {
      "image/png": {
       "height": 264,
       "width": 369
      },
      "needs_background": "light"
     },
     "output_type": "display_data"
    },
    {
     "data": {
      "image/png": "[encoded data removed]",
      "text/plain": [
       "<Figure size 432x288 with 1 Axes>"
      ]
     },
     "metadata": {
      "image/png": {
       "height": 264,
       "width": 374
      },
      "needs_background": "light"
     },
     "output_type": "display_data"
    }
   ],
   "source": [
    "metrics_plot(history)"
   ]
  },
  {
   "cell_type": "markdown",
   "metadata": {},
   "source": [
    "# 모델로 데이터 라벨링"
   ]
  },
  {
   "cell_type": "code",
   "execution_count": null,
   "metadata": {},
   "outputs": [],
   "source": [
    "# df_raw_review = pd.read_csv()\n"
   ]
  },
  {
   "cell_type": "code",
   "execution_count": null,
   "metadata": {},
   "outputs": [],
   "source": [
    "# y_ = model_lstm.predict(df_raw_review['review'])\n",
    "# labelled_review = np.argmax(y_, axis=1)"
   ]
  },
  {
   "cell_type": "code",
   "execution_count": null,
   "metadata": {},
   "outputs": [],
   "source": [
    "# df_raw_review['structure'] = labelled_review"
   ]
  },
  {
   "cell_type": "code",
   "execution_count": null,
   "metadata": {},
   "outputs": [],
   "source": []
  }
 ],
 "metadata": {
  "kernelspec": {
   "display_name": "Python 3",
   "language": "python",
   "name": "python3"
  },
  "language_info": {
   "codemirror_mode": {
    "name": "ipython",
    "version": 3
   },
   "file_extension": ".py",
   "mimetype": "text/x-python",
   "name": "python",
   "nbconvert_exporter": "python",
   "pygments_lexer": "ipython3",
   "version": "3.8.5"
  },
  "toc": {
   "base_numbering": 1,
   "nav_menu": {},
   "number_sections": true,
   "sideBar": true,
   "skip_h1_title": false,
   "title_cell": "Table of Contents",
   "title_sidebar": "Contents",
   "toc_cell": false,
   "toc_position": {},
   "toc_section_display": true,
   "toc_window_display": true
  }
 },
 "nbformat": 4,
 "nbformat_minor": 4
}
