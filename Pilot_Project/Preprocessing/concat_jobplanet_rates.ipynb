{
 "cells": [
  {
   "cell_type": "code",
   "execution_count": 1,
   "metadata": {
    "ExecuteTime": {
     "end_time": "2021-08-14T08:58:27.805029Z",
     "start_time": "2021-08-14T08:58:27.354235Z"
    }
   },
   "outputs": [],
   "source": [
    "import pandas as pd"
   ]
  },
  {
   "cell_type": "markdown",
   "metadata": {},
   "source": [
    "# jobplanet_rates_02 concat"
   ]
  },
  {
   "cell_type": "code",
   "execution_count": 17,
   "metadata": {
    "ExecuteTime": {
     "end_time": "2021-08-14T09:10:32.679541Z",
     "start_time": "2021-08-14T09:10:32.648620Z"
    }
   },
   "outputs": [],
   "source": [
    "df02_01 = pd.read_csv(\"data/jobplanet_rates_data/jobplanet_rates_02/jobplanet_rates_02_01.csv\", encoding='cp949')\n",
    "df02_02 = pd.read_csv(\"data/jobplanet_rates_data/jobplanet_rates_02/jobplanet_rates_02_02.csv\", encoding='cp949')\n",
    "df02_03 = pd.read_csv(\"data/jobplanet_rates_data/jobplanet_rates_02/jobplanet_rates_02_03.csv\", encoding='cp949')\n",
    "df02_04 = pd.read_csv(\"data/jobplanet_rates_data/jobplanet_rates_02/jobplanet_rates_02_04.csv\", encoding='cp949')\n",
    "df02_05 = pd.read_csv(\"data/jobplanet_rates_data/jobplanet_rates_02/jobplanet_rates_02_05.csv\", encoding='cp949')\n",
    "df02_06 = pd.read_csv(\"data/jobplanet_rates_data/jobplanet_rates_02/jobplanet_rates_02_06.csv\", encoding='cp949')\n",
    "df02_07 = pd.read_csv(\"data/jobplanet_rates_data/jobplanet_rates_02/jobplanet_rates_02_07.csv\", encoding='cp949')\n",
    "df02_08 = pd.read_csv(\"data/jobplanet_rates_data/jobplanet_rates_02/jobplanet_rates_02_08.csv\", encoding='cp949')\n",
    "df02_09 = pd.read_csv(\"data/jobplanet_rates_data/jobplanet_rates_02/jobplanet_rates_02_09.csv\", encoding='cp949')\n",
    "df02_10 = pd.read_csv(\"data/jobplanet_rates_data/jobplanet_rates_02/jobplanet_rates_02_10.csv\", encoding='cp949')\n"
   ]
  },
  {
   "cell_type": "code",
   "execution_count": 18,
   "metadata": {
    "ExecuteTime": {
     "end_time": "2021-08-14T09:10:33.038801Z",
     "start_time": "2021-08-14T09:10:33.027830Z"
    }
   },
   "outputs": [],
   "source": [
    "df_02 = pd.concat([df02_01, df02_02, df02_03, df02_04, df02_05, df02_06, df02_07, \n",
    "              df02_08,df02_09, df02_10] )"
   ]
  },
  {
   "cell_type": "markdown",
   "metadata": {},
   "source": [
    "# jobplanet_rates_06 concat"
   ]
  },
  {
   "cell_type": "code",
   "execution_count": 19,
   "metadata": {
    "ExecuteTime": {
     "end_time": "2021-08-14T09:10:33.248241Z",
     "start_time": "2021-08-14T09:10:33.224305Z"
    }
   },
   "outputs": [],
   "source": [
    "df06_01 = pd.read_csv(\"data/jobplanet_rates_data/jobplanet_rates_06/jobplanet_rates_06_01.csv\", encoding='cp949')\n",
    "df06_02 = pd.read_csv(\"data/jobplanet_rates_data/jobplanet_rates_06/jobplanet_rates_06_02.csv\", encoding='cp949')\n",
    "df06_03 = pd.read_csv(\"data/jobplanet_rates_data/jobplanet_rates_06/jobplanet_rates_06_03.csv\", encoding='cp949')\n",
    "df06_04 = pd.read_csv(\"data/jobplanet_rates_data/jobplanet_rates_06/jobplanet_rates_06_04.csv\", encoding='cp949')\n",
    "df06_05 = pd.read_csv(\"data/jobplanet_rates_data/jobplanet_rates_06/jobplanet_rates_06_05.csv\", encoding='cp949')\n",
    "df06_06 = pd.read_csv(\"data/jobplanet_rates_data/jobplanet_rates_06/jobplanet_rates_06_06.csv\", encoding='cp949')\n",
    "df06_07 = pd.read_csv(\"data/jobplanet_rates_data/jobplanet_rates_06/jobplanet_rates_06_07.csv\", encoding='cp949')\n",
    "df06_08 = pd.read_csv(\"data/jobplanet_rates_data/jobplanet_rates_06/jobplanet_rates_06_08.csv\", encoding='cp949')\n",
    "df06_09 = pd.read_csv(\"data/jobplanet_rates_data/jobplanet_rates_06/jobplanet_rates_06_09.csv\", encoding='cp949')\n",
    "df06_10 = pd.read_csv(\"data/jobplanet_rates_data/jobplanet_rates_06/jobplanet_rates_06_10.csv\", encoding='cp949')\n"
   ]
  },
  {
   "cell_type": "code",
   "execution_count": 20,
   "metadata": {
    "ExecuteTime": {
     "end_time": "2021-08-14T09:10:33.432911Z",
     "start_time": "2021-08-14T09:10:33.413934Z"
    }
   },
   "outputs": [],
   "source": [
    "df_06 = pd.concat([df06_01, df06_02, df06_03, df06_04, df06_05, df06_06, df06_07, \n",
    "                  df06_08, df06_09, df06_10] )"
   ]
  },
  {
   "cell_type": "markdown",
   "metadata": {},
   "source": [
    "#  jobplanet_rates_07 concat"
   ]
  },
  {
   "cell_type": "code",
   "execution_count": 21,
   "metadata": {
    "ExecuteTime": {
     "end_time": "2021-08-14T09:10:33.618424Z",
     "start_time": "2021-08-14T09:10:33.584511Z"
    },
    "scrolled": true
   },
   "outputs": [],
   "source": [
    "df07_01 = pd.read_csv(\"data/jobplanet_rates_data/jobplanet_rates_07/jobplanet_rates_07_01.csv\", encoding='cp949')\n",
    "df07_02 = pd.read_csv(\"data/jobplanet_rates_data/jobplanet_rates_07/jobplanet_rates_07_02.csv\", encoding='cp949')\n",
    "df07_03 = pd.read_csv(\"data/jobplanet_rates_data/jobplanet_rates_07/jobplanet_rates_07_03.csv\", encoding='cp949')\n",
    "df07_04 = pd.read_csv(\"data/jobplanet_rates_data/jobplanet_rates_07/jobplanet_rates_07_04.csv\", encoding='cp949')\n",
    "df07_05 = pd.read_csv(\"data/jobplanet_rates_data/jobplanet_rates_07/jobplanet_rates_07_05.csv\", encoding='cp949')\n",
    "df07_06 = pd.read_csv(\"data/jobplanet_rates_data/jobplanet_rates_07/jobplanet_rates_07_06.csv\", encoding='cp949')\n",
    "df07_07 = pd.read_csv(\"data/jobplanet_rates_data/jobplanet_rates_07/jobplanet_rates_07_07.csv\", encoding='cp949')\n",
    "df07_08 = pd.read_csv(\"data/jobplanet_rates_data/jobplanet_rates_07/jobplanet_rates_07_08.csv\", encoding='cp949')\n",
    "df07_09 = pd.read_csv(\"data/jobplanet_rates_data/jobplanet_rates_07/jobplanet_rates_07_09.csv\", encoding='cp949')\n",
    "df07_10 = pd.read_csv(\"data/jobplanet_rates_data/jobplanet_rates_07/jobplanet_rates_07_10.csv\", encoding='cp949')\n"
   ]
  },
  {
   "cell_type": "code",
   "execution_count": 22,
   "metadata": {
    "ExecuteTime": {
     "end_time": "2021-08-14T09:10:33.714164Z",
     "start_time": "2021-08-14T09:10:33.697209Z"
    }
   },
   "outputs": [],
   "source": [
    "df_07 = pd.concat([df07_01, df07_02, df07_03, df07_04, df07_05, df07_06, df07_07, \n",
    "                  df07_08, df07_09, df07_10] )"
   ]
  },
  {
   "cell_type": "code",
   "execution_count": 23,
   "metadata": {
    "ExecuteTime": {
     "end_time": "2021-08-14T09:10:34.228956Z",
     "start_time": "2021-08-14T09:10:34.202028Z"
    },
    "scrolled": true
   },
   "outputs": [
    {
     "data": {
      "text/html": [
       "<div>\n",
       "<style scoped>\n",
       "    .dataframe tbody tr th:only-of-type {\n",
       "        vertical-align: middle;\n",
       "    }\n",
       "\n",
       "    .dataframe tbody tr th {\n",
       "        vertical-align: top;\n",
       "    }\n",
       "\n",
       "    .dataframe thead th {\n",
       "        text-align: right;\n",
       "    }\n",
       "</style>\n",
       "<table border=\"1\" class=\"dataframe\">\n",
       "  <thead>\n",
       "    <tr style=\"text-align: right;\">\n",
       "      <th></th>\n",
       "      <th>Unnamed: 0</th>\n",
       "      <th>기업명</th>\n",
       "      <th>TotalAvg</th>\n",
       "      <th>Welfare</th>\n",
       "      <th>Balance</th>\n",
       "      <th>Culture</th>\n",
       "      <th>Promotion</th>\n",
       "      <th>Executive</th>\n",
       "      <th>Recommend</th>\n",
       "      <th>Support</th>\n",
       "      <th>Growth</th>\n",
       "    </tr>\n",
       "  </thead>\n",
       "  <tbody>\n",
       "    <tr>\n",
       "      <th>0</th>\n",
       "      <td>0</td>\n",
       "      <td>(주)한일전자시스템</td>\n",
       "      <td>0.0</td>\n",
       "      <td>0.0</td>\n",
       "      <td>0.0</td>\n",
       "      <td>0.0</td>\n",
       "      <td>0.0</td>\n",
       "      <td>0.0</td>\n",
       "      <td>--%</td>\n",
       "      <td>--%</td>\n",
       "      <td>--%</td>\n",
       "    </tr>\n",
       "    <tr>\n",
       "      <th>1</th>\n",
       "      <td>1</td>\n",
       "      <td>(주)엔텔스</td>\n",
       "      <td>2.9</td>\n",
       "      <td>2.7</td>\n",
       "      <td>2.9</td>\n",
       "      <td>2.6</td>\n",
       "      <td>2.9</td>\n",
       "      <td>2.6</td>\n",
       "      <td>44%</td>\n",
       "      <td>65%</td>\n",
       "      <td>24%</td>\n",
       "    </tr>\n",
       "    <tr>\n",
       "      <th>2</th>\n",
       "      <td>2</td>\n",
       "      <td>(주)피엔알</td>\n",
       "      <td>2.3</td>\n",
       "      <td>2.1</td>\n",
       "      <td>3.3</td>\n",
       "      <td>2.9</td>\n",
       "      <td>2.8</td>\n",
       "      <td>1.6</td>\n",
       "      <td>13%</td>\n",
       "      <td>25%</td>\n",
       "      <td>--%</td>\n",
       "    </tr>\n",
       "    <tr>\n",
       "      <th>3</th>\n",
       "      <td>3</td>\n",
       "      <td>(주)비노기술</td>\n",
       "      <td>0.0</td>\n",
       "      <td>0.0</td>\n",
       "      <td>0.0</td>\n",
       "      <td>0.0</td>\n",
       "      <td>0.0</td>\n",
       "      <td>0.0</td>\n",
       "      <td>--%</td>\n",
       "      <td>--%</td>\n",
       "      <td>--%</td>\n",
       "    </tr>\n",
       "    <tr>\n",
       "      <th>4</th>\n",
       "      <td>4</td>\n",
       "      <td>(주)피씨엔</td>\n",
       "      <td>2.4</td>\n",
       "      <td>2.2</td>\n",
       "      <td>2.5</td>\n",
       "      <td>2.6</td>\n",
       "      <td>2.3</td>\n",
       "      <td>2.1</td>\n",
       "      <td>26%</td>\n",
       "      <td>43%</td>\n",
       "      <td>11%</td>\n",
       "    </tr>\n",
       "    <tr>\n",
       "      <th>...</th>\n",
       "      <td>...</td>\n",
       "      <td>...</td>\n",
       "      <td>...</td>\n",
       "      <td>...</td>\n",
       "      <td>...</td>\n",
       "      <td>...</td>\n",
       "      <td>...</td>\n",
       "      <td>...</td>\n",
       "      <td>...</td>\n",
       "      <td>...</td>\n",
       "      <td>...</td>\n",
       "    </tr>\n",
       "    <tr>\n",
       "      <th>11</th>\n",
       "      <td>11</td>\n",
       "      <td>(주)백선통신</td>\n",
       "      <td>0.0</td>\n",
       "      <td>0.0</td>\n",
       "      <td>0.0</td>\n",
       "      <td>0.0</td>\n",
       "      <td>0.0</td>\n",
       "      <td>0.0</td>\n",
       "      <td>--%</td>\n",
       "      <td>--%</td>\n",
       "      <td>--%</td>\n",
       "    </tr>\n",
       "    <tr>\n",
       "      <th>12</th>\n",
       "      <td>12</td>\n",
       "      <td>(주)엘케이시스템</td>\n",
       "      <td>1.0</td>\n",
       "      <td>1.0</td>\n",
       "      <td>3.0</td>\n",
       "      <td>2.5</td>\n",
       "      <td>3.0</td>\n",
       "      <td>2.0</td>\n",
       "      <td>--%</td>\n",
       "      <td>--%</td>\n",
       "      <td>--%</td>\n",
       "    </tr>\n",
       "    <tr>\n",
       "      <th>13</th>\n",
       "      <td>13</td>\n",
       "      <td>(주)사라다</td>\n",
       "      <td>2.0</td>\n",
       "      <td>1.5</td>\n",
       "      <td>1.5</td>\n",
       "      <td>1.5</td>\n",
       "      <td>3.0</td>\n",
       "      <td>1.0</td>\n",
       "      <td>--%</td>\n",
       "      <td>--%</td>\n",
       "      <td>--%</td>\n",
       "    </tr>\n",
       "    <tr>\n",
       "      <th>14</th>\n",
       "      <td>14</td>\n",
       "      <td>드림네트웍스(주)</td>\n",
       "      <td>3.5</td>\n",
       "      <td>3.0</td>\n",
       "      <td>3.0</td>\n",
       "      <td>3.5</td>\n",
       "      <td>3.0</td>\n",
       "      <td>3.0</td>\n",
       "      <td>64%</td>\n",
       "      <td>89%</td>\n",
       "      <td>27%</td>\n",
       "    </tr>\n",
       "    <tr>\n",
       "      <th>15</th>\n",
       "      <td>15</td>\n",
       "      <td>(주)다솜이엔씨</td>\n",
       "      <td>3.0</td>\n",
       "      <td>2.0</td>\n",
       "      <td>3.0</td>\n",
       "      <td>2.0</td>\n",
       "      <td>3.0</td>\n",
       "      <td>2.0</td>\n",
       "      <td>--%</td>\n",
       "      <td>--%</td>\n",
       "      <td>--%</td>\n",
       "    </tr>\n",
       "  </tbody>\n",
       "</table>\n",
       "<p>111 rows × 11 columns</p>\n",
       "</div>"
      ],
      "text/plain": [
       "    Unnamed: 0         기업명  TotalAvg  Welfare  Balance  Culture  Promotion  \\\n",
       "0            0  (주)한일전자시스템       0.0      0.0      0.0      0.0        0.0   \n",
       "1            1      (주)엔텔스       2.9      2.7      2.9      2.6        2.9   \n",
       "2            2      (주)피엔알       2.3      2.1      3.3      2.9        2.8   \n",
       "3            3     (주)비노기술       0.0      0.0      0.0      0.0        0.0   \n",
       "4            4      (주)피씨엔       2.4      2.2      2.5      2.6        2.3   \n",
       "..         ...         ...       ...      ...      ...      ...        ...   \n",
       "11          11     (주)백선통신       0.0      0.0      0.0      0.0        0.0   \n",
       "12          12   (주)엘케이시스템       1.0      1.0      3.0      2.5        3.0   \n",
       "13          13      (주)사라다       2.0      1.5      1.5      1.5        3.0   \n",
       "14          14   드림네트웍스(주)       3.5      3.0      3.0      3.5        3.0   \n",
       "15          15    (주)다솜이엔씨       3.0      2.0      3.0      2.0        3.0   \n",
       "\n",
       "    Executive Recommend Support Growth  \n",
       "0         0.0       --%     --%    --%  \n",
       "1         2.6       44%     65%    24%  \n",
       "2         1.6       13%     25%    --%  \n",
       "3         0.0       --%     --%    --%  \n",
       "4         2.1       26%     43%    11%  \n",
       "..        ...       ...     ...    ...  \n",
       "11        0.0       --%     --%    --%  \n",
       "12        2.0       --%     --%    --%  \n",
       "13        1.0       --%     --%    --%  \n",
       "14        3.0       64%     89%    27%  \n",
       "15        2.0       --%     --%    --%  \n",
       "\n",
       "[111 rows x 11 columns]"
      ]
     },
     "execution_count": 23,
     "metadata": {},
     "output_type": "execute_result"
    }
   ],
   "source": [
    "df_07"
   ]
  },
  {
   "cell_type": "markdown",
   "metadata": {},
   "source": [
    "# jobplanet_rates_01 ~ 10 concat"
   ]
  },
  {
   "cell_type": "code",
   "execution_count": 27,
   "metadata": {
    "ExecuteTime": {
     "end_time": "2021-08-14T09:13:59.346785Z",
     "start_time": "2021-08-14T09:13:59.318861Z"
    }
   },
   "outputs": [],
   "source": [
    "df_01 = pd.read_csv(\"data/jobplanet_rates_data/jobplanet_rates_01.csv\", encoding='cp949')\n",
    "df_03 = pd.read_csv(\"data/jobplanet_rates_data/jobplanet_rates_03.csv\", encoding='cp949')\n",
    "df_04 = pd.read_csv(\"data/jobplanet_rates_data/jobplanet_rates_04.csv\", encoding='cp949')\n",
    "df_05 = pd.read_csv(\"data/jobplanet_rates_data/jobplanet_rates_05.csv\", encoding='cp949')\n",
    "df_08 = pd.read_csv(\"data/jobplanet_rates_data/jobplanet_rates_08.csv\", encoding='cp949')\n",
    "df_09 = pd.read_csv(\"data/jobplanet_rates_data/jobplanet_rates_09.csv\", encoding='cp949')\n",
    "df_10 = pd.read_csv(\"data/jobplanet_rates_data/jobplanet_rates_10.csv\", encoding='cp949')"
   ]
  },
  {
   "cell_type": "code",
   "execution_count": 28,
   "metadata": {
    "ExecuteTime": {
     "end_time": "2021-08-14T09:13:59.742727Z",
     "start_time": "2021-08-14T09:13:59.719789Z"
    }
   },
   "outputs": [
    {
     "data": {
      "text/html": [
       "<div>\n",
       "<style scoped>\n",
       "    .dataframe tbody tr th:only-of-type {\n",
       "        vertical-align: middle;\n",
       "    }\n",
       "\n",
       "    .dataframe tbody tr th {\n",
       "        vertical-align: top;\n",
       "    }\n",
       "\n",
       "    .dataframe thead th {\n",
       "        text-align: right;\n",
       "    }\n",
       "</style>\n",
       "<table border=\"1\" class=\"dataframe\">\n",
       "  <thead>\n",
       "    <tr style=\"text-align: right;\">\n",
       "      <th></th>\n",
       "      <th>Unnamed: 0</th>\n",
       "      <th>기업명</th>\n",
       "      <th>TotalAvg</th>\n",
       "      <th>Welfare</th>\n",
       "      <th>Balance</th>\n",
       "      <th>Culture</th>\n",
       "      <th>Promotion</th>\n",
       "      <th>Executive</th>\n",
       "      <th>Recommend</th>\n",
       "      <th>Support</th>\n",
       "      <th>Growth</th>\n",
       "    </tr>\n",
       "  </thead>\n",
       "  <tbody>\n",
       "    <tr>\n",
       "      <th>0</th>\n",
       "      <td>0</td>\n",
       "      <td>(주)소프트넷</td>\n",
       "      <td>2.1</td>\n",
       "      <td>2.1</td>\n",
       "      <td>2.1</td>\n",
       "      <td>2.1</td>\n",
       "      <td>2.4</td>\n",
       "      <td>1.9</td>\n",
       "      <td>22%</td>\n",
       "      <td>23%</td>\n",
       "      <td>12%</td>\n",
       "    </tr>\n",
       "    <tr>\n",
       "      <th>1</th>\n",
       "      <td>1</td>\n",
       "      <td>(주)키삭</td>\n",
       "      <td>2.6</td>\n",
       "      <td>1.8</td>\n",
       "      <td>4.0</td>\n",
       "      <td>2.6</td>\n",
       "      <td>1.4</td>\n",
       "      <td>1.6</td>\n",
       "      <td>40%</td>\n",
       "      <td>25%</td>\n",
       "      <td>20%</td>\n",
       "    </tr>\n",
       "    <tr>\n",
       "      <th>2</th>\n",
       "      <td>2</td>\n",
       "      <td>지누스(주)</td>\n",
       "      <td>3.7</td>\n",
       "      <td>3.9</td>\n",
       "      <td>3.7</td>\n",
       "      <td>3.3</td>\n",
       "      <td>3.4</td>\n",
       "      <td>3.5</td>\n",
       "      <td>73%</td>\n",
       "      <td>81%</td>\n",
       "      <td>68%</td>\n",
       "    </tr>\n",
       "    <tr>\n",
       "      <th>3</th>\n",
       "      <td>3</td>\n",
       "      <td>(주)이씨뱅크</td>\n",
       "      <td>2.9</td>\n",
       "      <td>3.2</td>\n",
       "      <td>2.8</td>\n",
       "      <td>2.6</td>\n",
       "      <td>2.5</td>\n",
       "      <td>1.9</td>\n",
       "      <td>64%</td>\n",
       "      <td>22%</td>\n",
       "      <td>--%</td>\n",
       "    </tr>\n",
       "    <tr>\n",
       "      <th>4</th>\n",
       "      <td>4</td>\n",
       "      <td>(주)키다리스튜디오</td>\n",
       "      <td>3.0</td>\n",
       "      <td>3.1</td>\n",
       "      <td>3.3</td>\n",
       "      <td>3.0</td>\n",
       "      <td>2.7</td>\n",
       "      <td>2.7</td>\n",
       "      <td>49%</td>\n",
       "      <td>49%</td>\n",
       "      <td>40%</td>\n",
       "    </tr>\n",
       "    <tr>\n",
       "      <th>...</th>\n",
       "      <td>...</td>\n",
       "      <td>...</td>\n",
       "      <td>...</td>\n",
       "      <td>...</td>\n",
       "      <td>...</td>\n",
       "      <td>...</td>\n",
       "      <td>...</td>\n",
       "      <td>...</td>\n",
       "      <td>...</td>\n",
       "      <td>...</td>\n",
       "      <td>...</td>\n",
       "    </tr>\n",
       "    <tr>\n",
       "      <th>100</th>\n",
       "      <td>100</td>\n",
       "      <td>(주)하이컨시</td>\n",
       "      <td>2.7</td>\n",
       "      <td>2.7</td>\n",
       "      <td>2.6</td>\n",
       "      <td>2.7</td>\n",
       "      <td>2.5</td>\n",
       "      <td>2.3</td>\n",
       "      <td>38%</td>\n",
       "      <td>47%</td>\n",
       "      <td>47%</td>\n",
       "    </tr>\n",
       "    <tr>\n",
       "      <th>101</th>\n",
       "      <td>101</td>\n",
       "      <td>(주)정도기술</td>\n",
       "      <td>0.0</td>\n",
       "      <td>0.0</td>\n",
       "      <td>0.0</td>\n",
       "      <td>0.0</td>\n",
       "      <td>0.0</td>\n",
       "      <td>0.0</td>\n",
       "      <td>--%</td>\n",
       "      <td>--%</td>\n",
       "      <td>--%</td>\n",
       "    </tr>\n",
       "    <tr>\n",
       "      <th>102</th>\n",
       "      <td>102</td>\n",
       "      <td>(주)엑스와이씨비</td>\n",
       "      <td>5.0</td>\n",
       "      <td>3.7</td>\n",
       "      <td>3.0</td>\n",
       "      <td>5.0</td>\n",
       "      <td>5.0</td>\n",
       "      <td>4.7</td>\n",
       "      <td>100%</td>\n",
       "      <td>100%</td>\n",
       "      <td>100%</td>\n",
       "    </tr>\n",
       "    <tr>\n",
       "      <th>103</th>\n",
       "      <td>103</td>\n",
       "      <td>(주)베이콘</td>\n",
       "      <td>3.0</td>\n",
       "      <td>3.0</td>\n",
       "      <td>3.0</td>\n",
       "      <td>3.0</td>\n",
       "      <td>3.0</td>\n",
       "      <td>3.0</td>\n",
       "      <td>--%</td>\n",
       "      <td>100%</td>\n",
       "      <td>100%</td>\n",
       "    </tr>\n",
       "    <tr>\n",
       "      <th>104</th>\n",
       "      <td>104</td>\n",
       "      <td>(주)아이티아이</td>\n",
       "      <td>2.7</td>\n",
       "      <td>2.8</td>\n",
       "      <td>2.3</td>\n",
       "      <td>2.1</td>\n",
       "      <td>3.2</td>\n",
       "      <td>2.1</td>\n",
       "      <td>30%</td>\n",
       "      <td>58%</td>\n",
       "      <td>50%</td>\n",
       "    </tr>\n",
       "  </tbody>\n",
       "</table>\n",
       "<p>1022 rows × 11 columns</p>\n",
       "</div>"
      ],
      "text/plain": [
       "     Unnamed: 0         기업명  TotalAvg  Welfare  Balance  Culture  Promotion  \\\n",
       "0             0     (주)소프트넷       2.1      2.1      2.1      2.1        2.4   \n",
       "1             1       (주)키삭       2.6      1.8      4.0      2.6        1.4   \n",
       "2             2      지누스(주)       3.7      3.9      3.7      3.3        3.4   \n",
       "3             3     (주)이씨뱅크       2.9      3.2      2.8      2.6        2.5   \n",
       "4             4  (주)키다리스튜디오       3.0      3.1      3.3      3.0        2.7   \n",
       "..          ...         ...       ...      ...      ...      ...        ...   \n",
       "100         100     (주)하이컨시       2.7      2.7      2.6      2.7        2.5   \n",
       "101         101     (주)정도기술       0.0      0.0      0.0      0.0        0.0   \n",
       "102         102   (주)엑스와이씨비       5.0      3.7      3.0      5.0        5.0   \n",
       "103         103      (주)베이콘       3.0      3.0      3.0      3.0        3.0   \n",
       "104         104    (주)아이티아이       2.7      2.8      2.3      2.1        3.2   \n",
       "\n",
       "     Executive Recommend Support Growth  \n",
       "0          1.9       22%     23%    12%  \n",
       "1          1.6       40%     25%    20%  \n",
       "2          3.5       73%     81%    68%  \n",
       "3          1.9       64%     22%    --%  \n",
       "4          2.7       49%     49%    40%  \n",
       "..         ...       ...     ...    ...  \n",
       "100        2.3       38%     47%    47%  \n",
       "101        0.0       --%     --%    --%  \n",
       "102        4.7      100%    100%   100%  \n",
       "103        3.0       --%    100%   100%  \n",
       "104        2.1       30%     58%    50%  \n",
       "\n",
       "[1022 rows x 11 columns]"
      ]
     },
     "execution_count": 28,
     "metadata": {},
     "output_type": "execute_result"
    }
   ],
   "source": [
    "df_jobplanet_rates = pd.concat([df_01, df_02, df_03, df_04, df_05, df_06, df_07, \n",
    "                                df_08, df_09, df_10])\n",
    "df_jobplanet_rates"
   ]
  },
  {
   "cell_type": "markdown",
   "metadata": {},
   "source": [
    "# 내보내기"
   ]
  },
  {
   "cell_type": "code",
   "execution_count": 29,
   "metadata": {
    "ExecuteTime": {
     "end_time": "2021-08-14T09:14:40.734663Z",
     "start_time": "2021-08-14T09:14:40.710756Z"
    }
   },
   "outputs": [],
   "source": [
    "df_jobplanet_rates.to_csv(\"data/jobplanet_rates_data.csv\", encoding='cp949')"
   ]
  },
  {
   "cell_type": "code",
   "execution_count": null,
   "metadata": {},
   "outputs": [],
   "source": []
  },
  {
   "cell_type": "code",
   "execution_count": null,
   "metadata": {},
   "outputs": [],
   "source": []
  },
  {
   "cell_type": "code",
   "execution_count": null,
   "metadata": {},
   "outputs": [],
   "source": []
  },
  {
   "cell_type": "code",
   "execution_count": null,
   "metadata": {},
   "outputs": [],
   "source": []
  },
  {
   "cell_type": "code",
   "execution_count": null,
   "metadata": {},
   "outputs": [],
   "source": []
  },
  {
   "cell_type": "code",
   "execution_count": null,
   "metadata": {},
   "outputs": [],
   "source": []
  },
  {
   "cell_type": "code",
   "execution_count": null,
   "metadata": {},
   "outputs": [],
   "source": []
  },
  {
   "cell_type": "code",
   "execution_count": null,
   "metadata": {},
   "outputs": [],
   "source": []
  }
 ],
 "metadata": {
  "kernelspec": {
   "display_name": "Python 3",
   "language": "python",
   "name": "python3"
  },
  "language_info": {
   "codemirror_mode": {
    "name": "ipython",
    "version": 3
   },
   "file_extension": ".py",
   "mimetype": "text/x-python",
   "name": "python",
   "nbconvert_exporter": "python",
   "pygments_lexer": "ipython3",
   "version": "3.8.5"
  },
  "toc": {
   "base_numbering": 1,
   "nav_menu": {},
   "number_sections": true,
   "sideBar": true,
   "skip_h1_title": false,
   "title_cell": "Table of Contents",
   "title_sidebar": "Contents",
   "toc_cell": false,
   "toc_position": {
    "height": "calc(100% - 180px)",
    "left": "10px",
    "top": "150px",
    "width": "384px"
   },
   "toc_section_display": true,
   "toc_window_display": true
  }
 },
 "nbformat": 4,
 "nbformat_minor": 4
}
