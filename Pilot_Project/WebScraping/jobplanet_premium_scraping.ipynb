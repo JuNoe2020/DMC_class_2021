{
 "cells": [
  {
   "cell_type": "markdown",
   "metadata": {},
   "source": [
    "# 라이브러리 로딩"
   ]
  },
  {
   "cell_type": "code",
   "execution_count": 1,
   "metadata": {
    "ExecuteTime": {
     "end_time": "2021-08-15T00:08:30.007078Z",
     "start_time": "2021-08-15T00:08:29.235285Z"
    }
   },
   "outputs": [],
   "source": [
    "from os import error\n",
    "import requests\n",
    "from bs4 import BeautifulSoup\n",
    "import time\n",
    "from selenium import webdriver\n",
    "from selenium.webdriver.common.keys import Keys\n",
    "# from selenium.common.exceptions import NoSuchElementException, ElementNotInteractableException\n",
    "\n",
    "import pandas as pd\n",
    "import numpy as np\n"
   ]
  },
  {
   "cell_type": "code",
   "execution_count": 2,
   "metadata": {
    "ExecuteTime": {
     "end_time": "2021-08-15T00:08:32.571248Z",
     "start_time": "2021-08-15T00:08:32.543979Z"
    }
   },
   "outputs": [],
   "source": [
    "# 검색할 기업명단 가져오기\n",
    "df = pd.read_csv(\"data/jobplanet_rates_data.csv\", encoding='cp949')\n",
    "names = df['기업명']\n"
   ]
  },
  {
   "cell_type": "markdown",
   "metadata": {},
   "source": [
    "# 1차"
   ]
  },
  {
   "cell_type": "markdown",
   "metadata": {
    "ExecuteTime": {
     "end_time": "2021-08-14T14:03:22.899061Z",
     "start_time": "2021-08-14T14:03:22.892079Z"
    }
   },
   "source": [
    "## 사이트 로그인"
   ]
  },
  {
   "cell_type": "code",
   "execution_count": 15,
   "metadata": {
    "ExecuteTime": {
     "end_time": "2021-08-15T01:21:48.213190Z",
     "start_time": "2021-08-15T01:21:39.584474Z"
    }
   },
   "outputs": [],
   "source": [
    "\n",
    "url = \"https://www.jobplanet.co.kr/users/sign_in?_nav=gb\"\n",
    "browser = webdriver.Chrome()\n",
    "browser.maximize_window\n",
    "\n",
    "account = \"hacoro16@gmail.com\"\n",
    "password = \"Kan8357365*\"\n",
    "full_cols = []\n",
    "\n",
    "browser.get(url)\n",
    "\n",
    "# 아이디 입력\n",
    "elem = browser.find_element_by_id(\"user_email\")\n",
    "elem.click()\n",
    "elem.send_keys(account)\n",
    "\n",
    "# 패스워드 입력\n",
    "elem = browser.find_element_by_id(\"user_password\")\n",
    "elem.click()\n",
    "time.sleep(2)\n",
    "elem.send_keys(password)\n",
    "elem.send_keys(Keys.ENTER)\n",
    "browser.maximize_window()\n",
    "time.sleep(3)\n",
    "\n",
    "elem = browser.find_element_by_xpath('/html/body/div[1]/div[1]/header/a') \n",
    "elem.click()"
   ]
  },
  {
   "cell_type": "markdown",
   "metadata": {},
   "source": [
    "## 웹스크래핑"
   ]
  },
  {
   "cell_type": "code",
   "execution_count": 16,
   "metadata": {
    "ExecuteTime": {
     "end_time": "2021-08-15T09:48:55.258941Z",
     "start_time": "2021-08-15T01:21:56.925608Z"
    },
    "scrolled": true
   },
   "outputs": [
    {
     "name": "stdout",
     "output_type": "stream",
     "text": [
      "(주)소프트넷 기업 스크래핑 재필요\n",
      "지누스(주) 기업 스크래핑 재필요\n",
      "(주)씨앤엠소프트 기업 스크래핑 재필요\n",
      "(주)디비아이엔씨 기업 스크래핑 재필요\n",
      "월드버텍(주) 기업 스크래핑 재필요\n",
      "(주)파인웰시스템 기업 스크래핑 재필요\n",
      "(주)에프에스 기업 스크래핑 재필요\n",
      "이앤에스글로벌(주) 기업 스크래핑 재필요\n",
      "이디에스(주) 기업 스크래핑 재필요\n",
      "(주)모비데이즈 기업 스크래핑 재필요\n",
      "(주)퍼브 기업 스크래핑 재필요\n",
      "(주)시큐리티허브 기업 스크래핑 재필요\n",
      "(주)엑스바엑스 기업 스크래핑 재필요\n",
      "(주)플럭시티 기업 스크래핑 재필요\n",
      "(주)캐롯아이 기업 스크래핑 재필요\n",
      "(주)지란지교소프트 기업 스크래핑 재필요\n",
      "(주)큐픽스 기업 스크래핑 재필요\n",
      "조앤소프트(주) 기업 스크래핑 재필요\n",
      "(주)아이콘루프 기업 스크래핑 재필요\n",
      "(주)홍익과학기술 기업 스크래핑 재필요\n",
      "(주)데이터마케팅코리아 기업 스크래핑 재필요\n",
      "(주)리앙에이지 기업 스크래핑 재필요\n",
      "(주)코드리치 기업 스크래핑 재필요\n",
      "(주)플로우 기업 스크래핑 재필요\n",
      "(주)어니언스 기업 스크래핑 재필요\n",
      "에스지에이비엘씨(주) 기업 스크래핑 재필요\n",
      "(주)에이아이더 기업 스크래핑 재필요\n",
      "(주)클루커스 기업 스크래핑 재필요\n",
      "(주)브리즈 기업 스크래핑 재필요\n",
      "(주)부림 기업 스크래핑 재필요\n",
      "우일정보기술(주) 기업 스크래핑 재필요\n",
      "(주)부뜰정보시스템 기업 스크래핑 재필요\n",
      "성창(주) 기업 스크래핑 재필요\n",
      "(주)케이디지 기업 스크래핑 재필요\n",
      "(주)엔코아 기업 스크래핑 재필요\n",
      "홈앤서비스(주) 기업 스크래핑 재필요\n",
      "에이엠텔레콤(주) 기업 스크래핑 재필요\n",
      "(주)티지오 기업 스크래핑 재필요\n",
      "(주)시스메이트 기업 스크래핑 재필요\n",
      "(주)뉴시스 기업 스크래핑 재필요\n",
      "대신네트웍스(주) 기업 스크래핑 재필요\n",
      "(주)피피아이 기업 스크래핑 재필요\n",
      "대동전자(주) 기업 스크래핑 재필요\n",
      "지에스네트웍스(주) 기업 스크래핑 재필요\n",
      "(주)케이티엠앤에스 기업 스크래핑 재필요\n",
      "(주)원산 기업 스크래핑 재필요\n",
      "(주)에이치엘엠씨 기업 스크래핑 재필요\n",
      "(주)제이티 기업 스크래핑 재필요\n",
      "후루노코리아(주) 기업 스크래핑 재필요\n",
      "(주)코빗 기업 스크래핑 재필요\n",
      "(주)네오비젼 기업 스크래핑 재필요\n",
      "제이에스엔(주) 기업 스크래핑 재필요\n",
      "(주)클로버 기업 스크래핑 재필요\n",
      "(주)그루 기업 스크래핑 재필요\n",
      "(주)지에스인스텍 기업 스크래핑 재필요\n"
     ]
    }
   ],
   "source": [
    "company_list = []\n",
    "\n",
    "for name in names:\n",
    "    url = \"https://www.jobplanet.co.kr/welcome/index\"\n",
    "    browser.get(url)\n",
    "    try:\n",
    "        tmp = []\n",
    "        tmp.append(name)\n",
    "\n",
    "\n",
    "        # 메인페이지에서 기업 검색\n",
    "        elem = browser.find_element_by_xpath('//*[@id=\"search_bar_search_query\"]') \n",
    "        elem.click()\n",
    "        elem.send_keys(name)\n",
    "        elem.send_keys(Keys.ENTER)\n",
    "        time.sleep(1)\n",
    "\n",
    "\n",
    "\n",
    "        # # 회사 클릭 \n",
    "        try:\n",
    "            elem = browser.find_element_by_xpath('//*[@id=\"mainContents\"]/div[1]/div/div[2]/div[1]/div[1]/a') \n",
    "            elem.click()\n",
    "            time.sleep(1)\n",
    "        except:\n",
    "            elem = browser.find_element_by_xpath('//*[@id=\"job_search_app\"]/div/div[2]/div[2]/div/div/div[2]/div/div/div[1]/div/div/div/span[1]/a')\n",
    "            elem.click()\n",
    "            time.sleep(1)\n",
    "            pass\n",
    "\n",
    "        # 팝업창 닫기\n",
    "        try:\n",
    "            elem = browser.find_element_by_xpath(\"//*[@id='premiumReviewChart']/div/div[3]/div[2]/div/div[1]/button\")\n",
    "            elem.click()\n",
    "            time.sleep(2)\n",
    "        except:\n",
    "            time.sleep(2)\n",
    "            pass\n",
    "\n",
    "        # 프리미엄차트 클릭\n",
    "        elem = browser.find_element_by_xpath('//*[@id=\"viewCompaniesMenu\"]/ul/li[2]/a')\n",
    "        elem.click()\n",
    "        time.sleep(4)\n",
    "\n",
    "        # 업무방식 클릭\n",
    "        elem = browser.find_element_by_xpath('//*[@id=\"premium_detail_box\"]/div[1]/div[1]/ul/li[2]/button')\n",
    "        elem.click()\n",
    "#         time.sleep(4)\n",
    "\n",
    "\n",
    "        # 스크롤을 아래로 내림\n",
    "        browser.execute_script(\"window.scrollTo(0, 3000)\")\n",
    "        time.sleep(0.5)\n",
    "        browser.execute_script(\"window.scrollTo(0, 3300)\")\n",
    "        time.sleep(0.5)\n",
    "        browser.execute_script(\"window.scrollTo(0, 3600)\")\n",
    "        time.sleep(0.5)\n",
    "        browser.execute_script(\"window.scrollTo(0, 3900)\")\n",
    "        time.sleep(0.5)\n",
    "        browser.execute_script(\"window.scrollTo(0, 4200)\")\n",
    "        time.sleep(0.5)\n",
    "        browser.execute_script(\"window.scrollTo(0, 4400)\")\n",
    "        time.sleep(4)\n",
    "\n",
    "        # # 답변 더 보기 클릭\n",
    "        # elem = browser.find_element_by_xpath('//*[@id=\"premium_detail_box\"]/div[1]/div[2]/div/div[10]/div/div[3]/div/div/div[4]/button')\n",
    "        # elem.click()\n",
    "\n",
    "        work_method_text = []\n",
    "        # # 업무방식 텍스트데이터\n",
    "        soup = BeautifulSoup(browser.page_source, \"lxml\")\n",
    "        reviews = soup.find_all(\"div\", attrs={\"class\":\"answer_text\"})\n",
    "        work_method_text.append(reviews)\n",
    "\n",
    "        no_txt = ''\n",
    "        for txt in work_method_text[0]:\n",
    "            no_txt += txt.get_text()\n",
    "        tmp.append(no_txt)\n",
    "\n",
    "        # 스크롤 올리기\n",
    "        browser.execute_script(\"window.scrollTo(0, 900)\")\n",
    "        time.sleep(0.5)\n",
    "        browser.execute_script(\"window.scrollTo(0, 600)\")\n",
    "        time.sleep(0.5)\n",
    "        browser.execute_script(\"window.scrollTo(0, 300)\")\n",
    "        time.sleep(4)\n",
    "\n",
    "\n",
    "        # 기업문화 클릭\n",
    "        elem = browser.find_element_by_xpath(\"//*[@id='premium_detail_box']/div[1]/div[1]/ul/li[3]/button\")\n",
    "        elem.click()\n",
    "\n",
    "        # 스크롤을 아래로 내림\n",
    "        browser.execute_script(\"window.scrollTo(0, 3000)\")\n",
    "        time.sleep(0.5)\n",
    "        browser.execute_script(\"window.scrollTo(0, 3300)\")\n",
    "        time.sleep(0.5)\n",
    "        browser.execute_script(\"window.scrollTo(0, 3600)\")\n",
    "        time.sleep(0.5)\n",
    "        browser.execute_script(\"window.scrollTo(0, 3900)\")\n",
    "        time.sleep(0.5)\n",
    "        browser.execute_script(\"window.scrollTo(0, 4200)\")\n",
    "        time.sleep(0.5)\n",
    "        browser.execute_script(\"window.scrollTo(0, 4400)\")\n",
    "        time.sleep(4)\n",
    "        # # 답변 더 보기 클릭\n",
    "        # elem = browser.find_element_by_xpath('//*[@id=\"premium_detail_box\"]/div[1]/div[2]/div/div[10]/div/div[3]/div/div/div[4]/button')\n",
    "        # elem.click()\n",
    "\n",
    "        culture_text = []\n",
    "        # 사내분위기 텍스트데이터\n",
    "        soup = BeautifulSoup(browser.page_source, \"lxml\")\n",
    "        reviews = soup.find_all(\"div\", attrs={\"class\":\"answer_text\"})\n",
    "        culture_text.append(reviews)\n",
    "\n",
    "        no_txt = ''\n",
    "        for txt in culture_text[0]:\n",
    "            no_txt += txt.get_text()\n",
    "        tmp.append(no_txt)\n",
    "        full_cols.append(tmp)\n",
    "\n",
    "        # 스크롤 올리기\n",
    "#         browser.execute_script(\"window.scrollTo(0, 900)\")\n",
    "#         time.sleep(0.5)\n",
    "#         browser.execute_script(\"window.scrollTo(0, 600)\")\n",
    "#         time.sleep(0.5)\n",
    "#         browser.execute_script(\"window.scrollTo(0, 300)\")\n",
    "#         time.sleep(8)\n",
    "        # 메인페이지 돌아가기\n",
    "#         elem = browser.find_element_by_xpath('/html/body/div[1]/div[1]/header/a') \n",
    "#         elem.click()\n",
    "#         time.sleep(2)\n",
    "    except:\n",
    "        company_list.append(name)\n",
    "        print(\"{} 기업 스크래핑 재필요\".format(name))\n",
    "        continue\n",
    "\n",
    "browser.quit()\n",
    "\n",
    "\n",
    "df = pd.DataFrame(np.array(full_cols),\n",
    "                 columns=[\"기업명\", \"work_way_txt\", \"culture_txt\"])\n",
    "\n",
    "\n",
    "df.to_csv('data/new_jobplanet_premium_05.csv', encoding='cp949')\n"
   ]
  },
  {
   "cell_type": "code",
   "execution_count": 8,
   "metadata": {
    "ExecuteTime": {
     "end_time": "2021-08-15T01:14:42.051589Z",
     "start_time": "2021-08-15T01:14:42.029675Z"
    },
    "scrolled": true
   },
   "outputs": [
    {
     "data": {
      "text/plain": [
       "26"
      ]
     },
     "execution_count": 8,
     "metadata": {},
     "output_type": "execute_result"
    }
   ],
   "source": [
    "# 스크래핑 실패한 기업 숫자 체크\n",
    "len(full_cols)"
   ]
  },
  {
   "cell_type": "code",
   "execution_count": 17,
   "metadata": {
    "ExecuteTime": {
     "end_time": "2021-08-15T09:52:05.786463Z",
     "start_time": "2021-08-15T09:52:05.774495Z"
    },
    "collapsed": true
   },
   "outputs": [
    {
     "data": {
      "text/plain": [
       "['(주)소프트넷',\n",
       " '지누스(주)',\n",
       " '(주)씨앤엠소프트',\n",
       " '(주)디비아이엔씨',\n",
       " '월드버텍(주)',\n",
       " '(주)파인웰시스템',\n",
       " '(주)에프에스',\n",
       " '이앤에스글로벌(주)',\n",
       " '이디에스(주)',\n",
       " '(주)모비데이즈',\n",
       " '(주)퍼브',\n",
       " '(주)시큐리티허브',\n",
       " '(주)엑스바엑스',\n",
       " '(주)플럭시티',\n",
       " '(주)캐롯아이',\n",
       " '(주)지란지교소프트',\n",
       " '(주)큐픽스',\n",
       " '조앤소프트(주)',\n",
       " '(주)아이콘루프',\n",
       " '(주)홍익과학기술',\n",
       " '(주)데이터마케팅코리아',\n",
       " '(주)리앙에이지',\n",
       " '(주)코드리치',\n",
       " '(주)플로우',\n",
       " '(주)어니언스',\n",
       " '에스지에이비엘씨(주)',\n",
       " '(주)에이아이더',\n",
       " '(주)클루커스',\n",
       " '(주)브리즈',\n",
       " '(주)부림',\n",
       " '우일정보기술(주)',\n",
       " '(주)부뜰정보시스템',\n",
       " '성창(주)',\n",
       " '(주)케이디지',\n",
       " '(주)엔코아',\n",
       " '홈앤서비스(주)',\n",
       " '에이엠텔레콤(주)',\n",
       " '(주)티지오',\n",
       " '(주)시스메이트',\n",
       " '(주)뉴시스',\n",
       " '대신네트웍스(주)',\n",
       " '(주)피피아이',\n",
       " '대동전자(주)',\n",
       " '지에스네트웍스(주)',\n",
       " '(주)케이티엠앤에스',\n",
       " '(주)원산',\n",
       " '(주)에이치엘엠씨',\n",
       " '(주)제이티',\n",
       " '후루노코리아(주)',\n",
       " '(주)코빗',\n",
       " '(주)네오비젼',\n",
       " '제이에스엔(주)',\n",
       " '(주)클로버',\n",
       " '(주)그루',\n",
       " '(주)지에스인스텍']"
      ]
     },
     "execution_count": 17,
     "metadata": {},
     "output_type": "execute_result"
    }
   ],
   "source": [
    "# 다시 가져올 기업 명단 확인\n",
    "company_list"
   ]
  },
  {
   "cell_type": "markdown",
   "metadata": {},
   "source": [
    "# 2차"
   ]
  },
  {
   "cell_type": "code",
   "execution_count": 28,
   "metadata": {
    "ExecuteTime": {
     "end_time": "2021-08-15T10:41:51.905622Z",
     "start_time": "2021-08-15T10:41:51.896646Z"
    }
   },
   "outputs": [],
   "source": [
    "# names에 기업명단 담기\n",
    "names = company_list"
   ]
  },
  {
   "cell_type": "markdown",
   "metadata": {},
   "source": [
    "## 사이트 로그인"
   ]
  },
  {
   "cell_type": "code",
   "execution_count": 19,
   "metadata": {
    "ExecuteTime": {
     "end_time": "2021-08-15T09:55:20.585643Z",
     "start_time": "2021-08-15T09:55:12.080950Z"
    }
   },
   "outputs": [],
   "source": [
    "url = \"https://www.jobplanet.co.kr/users/sign_in?_nav=gb\"\n",
    "browser = webdriver.Chrome()\n",
    "browser.maximize_window\n",
    "\n",
    "account = \"hacoro16@gmail.com\"\n",
    "password = \"Kan8357365*\"\n",
    "full_cols = []\n",
    "\n",
    "browser.get(url)\n",
    "\n",
    "# 아이디 입력\n",
    "elem = browser.find_element_by_id(\"user_email\")\n",
    "elem.click()\n",
    "elem.send_keys(account)\n",
    "\n",
    "# 패스워드 입력\n",
    "elem = browser.find_element_by_id(\"user_password\")\n",
    "elem.click()\n",
    "time.sleep(2)\n",
    "elem.send_keys(password)\n",
    "elem.send_keys(Keys.ENTER)\n",
    "browser.maximize_window()\n",
    "time.sleep(3)\n",
    "\n",
    "elem = browser.find_element_by_xpath('/html/body/div[1]/div[1]/header/a') \n",
    "elem.click()"
   ]
  },
  {
   "cell_type": "markdown",
   "metadata": {},
   "source": [
    "## 웹스크래핑"
   ]
  },
  {
   "cell_type": "code",
   "execution_count": 21,
   "metadata": {
    "ExecuteTime": {
     "end_time": "2021-08-15T10:21:43.012926Z",
     "start_time": "2021-08-15T09:56:14.827448Z"
    },
    "scrolled": true
   },
   "outputs": [
    {
     "name": "stdout",
     "output_type": "stream",
     "text": [
      "(주)소프트넷 기업 스크래핑 재필요\n",
      "지누스(주) 기업 스크래핑 재필요\n",
      "(주)디비아이엔씨 기업 스크래핑 재필요\n",
      "(주)모비데이즈 기업 스크래핑 재필요\n",
      "(주)퍼브 기업 스크래핑 재필요\n",
      "(주)지란지교소프트 기업 스크래핑 재필요\n",
      "(주)아이콘루프 기업 스크래핑 재필요\n",
      "(주)브리즈 기업 스크래핑 재필요\n",
      "(주)부림 기업 스크래핑 재필요\n",
      "성창(주) 기업 스크래핑 재필요\n",
      "(주)엔코아 기업 스크래핑 재필요\n",
      "에이엠텔레콤(주) 기업 스크래핑 재필요\n",
      "(주)티지오 기업 스크래핑 재필요\n",
      "(주)원산 기업 스크래핑 재필요\n",
      "(주)에이치엘엠씨 기업 스크래핑 재필요\n",
      "(주)제이티 기업 스크래핑 재필요\n",
      "(주)지에스인스텍 기업 스크래핑 재필요\n"
     ]
    }
   ],
   "source": [
    "company_list = []\n",
    "\n",
    "for name in names:\n",
    "    url = \"https://www.jobplanet.co.kr/welcome/index\"\n",
    "    browser.get(url)\n",
    "    try:\n",
    "        tmp = []\n",
    "        tmp.append(name)\n",
    "\n",
    "\n",
    "        # 메인페이지에서 기업 검색\n",
    "        elem = browser.find_element_by_xpath('//*[@id=\"search_bar_search_query\"]') \n",
    "        elem.click()\n",
    "        elem.send_keys(name)\n",
    "        elem.send_keys(Keys.ENTER)\n",
    "        time.sleep(1)\n",
    "\n",
    "\n",
    "\n",
    "        # # 회사 클릭 \n",
    "        try:\n",
    "            elem = browser.find_element_by_xpath('//*[@id=\"mainContents\"]/div[1]/div/div[2]/div[1]/div[1]/a') \n",
    "            elem.click()\n",
    "            time.sleep(1)\n",
    "        except:\n",
    "            elem = browser.find_element_by_xpath('//*[@id=\"job_search_app\"]/div/div[2]/div[2]/div/div/div[2]/div/div/div[1]/div/div/div/span[1]/a')\n",
    "            elem.click()\n",
    "            time.sleep(1)\n",
    "            pass\n",
    "\n",
    "        # 팝업창 닫기\n",
    "        try:\n",
    "            elem = browser.find_element_by_xpath(\"//*[@id='premiumReviewChart']/div/div[3]/div[2]/div/div[1]/button\")\n",
    "            elem.click()\n",
    "            time.sleep(2)\n",
    "        except:\n",
    "            time.sleep(2)\n",
    "            pass\n",
    "\n",
    "        # 프리미엄차트 클릭\n",
    "        elem = browser.find_element_by_xpath('//*[@id=\"viewCompaniesMenu\"]/ul/li[2]/a')\n",
    "        elem.click()\n",
    "        time.sleep(4)\n",
    "\n",
    "        # 업무방식 클릭\n",
    "        elem = browser.find_element_by_xpath('//*[@id=\"premium_detail_box\"]/div[1]/div[1]/ul/li[2]/button')\n",
    "        elem.click()\n",
    "#         time.sleep(4)\n",
    "\n",
    "\n",
    "        # 스크롤을 아래로 내림\n",
    "        browser.execute_script(\"window.scrollTo(0, 3000)\")\n",
    "        time.sleep(0.5)\n",
    "        browser.execute_script(\"window.scrollTo(0, 3300)\")\n",
    "        time.sleep(0.5)\n",
    "        browser.execute_script(\"window.scrollTo(0, 3600)\")\n",
    "        time.sleep(0.5)\n",
    "        browser.execute_script(\"window.scrollTo(0, 3900)\")\n",
    "        time.sleep(0.5)\n",
    "        browser.execute_script(\"window.scrollTo(0, 4200)\")\n",
    "        time.sleep(0.5)\n",
    "        browser.execute_script(\"window.scrollTo(0, 4400)\")\n",
    "        time.sleep(4)\n",
    "\n",
    "        # # 답변 더 보기 클릭\n",
    "        # elem = browser.find_element_by_xpath('//*[@id=\"premium_detail_box\"]/div[1]/div[2]/div/div[10]/div/div[3]/div/div/div[4]/button')\n",
    "        # elem.click()\n",
    "\n",
    "        work_method_text = []\n",
    "        # # 업무방식 텍스트데이터\n",
    "        soup = BeautifulSoup(browser.page_source, \"lxml\")\n",
    "        reviews = soup.find_all(\"div\", attrs={\"class\":\"answer_text\"})\n",
    "        work_method_text.append(reviews)\n",
    "\n",
    "        no_txt = ''\n",
    "        for txt in work_method_text[0]:\n",
    "            no_txt += txt.get_text()\n",
    "        tmp.append(no_txt)\n",
    "\n",
    "        # 스크롤 올리기\n",
    "        browser.execute_script(\"window.scrollTo(0, 900)\")\n",
    "        time.sleep(0.5)\n",
    "        browser.execute_script(\"window.scrollTo(0, 600)\")\n",
    "        time.sleep(0.5)\n",
    "        browser.execute_script(\"window.scrollTo(0, 300)\")\n",
    "        time.sleep(4)\n",
    "\n",
    "\n",
    "        # 기업문화 클릭\n",
    "        elem = browser.find_element_by_xpath(\"//*[@id='premium_detail_box']/div[1]/div[1]/ul/li[3]/button\")\n",
    "        elem.click()\n",
    "\n",
    "        # 스크롤을 아래로 내림\n",
    "        browser.execute_script(\"window.scrollTo(0, 3000)\")\n",
    "        time.sleep(0.5)\n",
    "        browser.execute_script(\"window.scrollTo(0, 3300)\")\n",
    "        time.sleep(0.5)\n",
    "        browser.execute_script(\"window.scrollTo(0, 3600)\")\n",
    "        time.sleep(0.5)\n",
    "        browser.execute_script(\"window.scrollTo(0, 3900)\")\n",
    "        time.sleep(0.5)\n",
    "        browser.execute_script(\"window.scrollTo(0, 4200)\")\n",
    "        time.sleep(0.5)\n",
    "        browser.execute_script(\"window.scrollTo(0, 4400)\")\n",
    "        time.sleep(4)\n",
    "        # # 답변 더 보기 클릭\n",
    "        # elem = browser.find_element_by_xpath('//*[@id=\"premium_detail_box\"]/div[1]/div[2]/div/div[10]/div/div[3]/div/div/div[4]/button')\n",
    "        # elem.click()\n",
    "\n",
    "        culture_text = []\n",
    "        # 사내분위기 텍스트데이터\n",
    "        soup = BeautifulSoup(browser.page_source, \"lxml\")\n",
    "        reviews = soup.find_all(\"div\", attrs={\"class\":\"answer_text\"})\n",
    "        culture_text.append(reviews)\n",
    "\n",
    "        no_txt = ''\n",
    "        for txt in culture_text[0]:\n",
    "            no_txt += txt.get_text()\n",
    "        tmp.append(no_txt)\n",
    "        full_cols.append(tmp)\n",
    "\n",
    "        # 스크롤 올리기\n",
    "#         browser.execute_script(\"window.scrollTo(0, 900)\")\n",
    "#         time.sleep(0.5)\n",
    "#         browser.execute_script(\"window.scrollTo(0, 600)\")\n",
    "#         time.sleep(0.5)\n",
    "#         browser.execute_script(\"window.scrollTo(0, 300)\")\n",
    "#         time.sleep(8)\n",
    "        # 메인페이지 돌아가기\n",
    "#         elem = browser.find_element_by_xpath('/html/body/div[1]/div[1]/header/a') \n",
    "#         elem.click()\n",
    "#         time.sleep(2)\n",
    "    except:\n",
    "        company_list.append(name)\n",
    "        print(\"{} 기업 스크래핑 재필요\".format(name))\n",
    "        continue\n",
    "\n",
    "browser.quit()\n",
    "\n",
    "\n",
    "df = pd.DataFrame(np.array(full_cols),\n",
    "                 columns=[\"기업명\", \"work_way_txt\", \"culture_txt\"])\n",
    "\n",
    "\n",
    "df.to_csv('data/new_jobplanet_premium_02.csv', encoding='cp949')\n"
   ]
  },
  {
   "cell_type": "code",
   "execution_count": 22,
   "metadata": {
    "ExecuteTime": {
     "end_time": "2021-08-15T10:24:06.080145Z",
     "start_time": "2021-08-15T10:24:06.076155Z"
    }
   },
   "outputs": [
    {
     "data": {
      "text/plain": [
       "17"
      ]
     },
     "execution_count": 22,
     "metadata": {},
     "output_type": "execute_result"
    }
   ],
   "source": [
    "# 다시 가져올 기업 숫자 체크\n",
    "len(company_list)"
   ]
  },
  {
   "cell_type": "code",
   "execution_count": 24,
   "metadata": {
    "ExecuteTime": {
     "end_time": "2021-08-15T10:25:54.298709Z",
     "start_time": "2021-08-15T10:25:54.282726Z"
    }
   },
   "outputs": [
    {
     "data": {
      "text/plain": [
       "['(주)소프트넷',\n",
       " '지누스(주)',\n",
       " '(주)디비아이엔씨',\n",
       " '(주)모비데이즈',\n",
       " '(주)퍼브',\n",
       " '(주)지란지교소프트',\n",
       " '(주)아이콘루프',\n",
       " '(주)브리즈',\n",
       " '(주)부림',\n",
       " '성창(주)',\n",
       " '(주)엔코아',\n",
       " '에이엠텔레콤(주)',\n",
       " '(주)티지오',\n",
       " '(주)원산',\n",
       " '(주)에이치엘엠씨',\n",
       " '(주)제이티',\n",
       " '(주)지에스인스텍']"
      ]
     },
     "execution_count": 24,
     "metadata": {},
     "output_type": "execute_result"
    }
   ],
   "source": [
    "# 기업명단 확인\n",
    "names"
   ]
  },
  {
   "cell_type": "markdown",
   "metadata": {},
   "source": [
    "# 3차"
   ]
  },
  {
   "cell_type": "code",
   "execution_count": 23,
   "metadata": {
    "ExecuteTime": {
     "end_time": "2021-08-15T10:25:50.868505Z",
     "start_time": "2021-08-15T10:25:50.861525Z"
    }
   },
   "outputs": [],
   "source": [
    "# names에 기업명단 담기\n",
    "names = company_list"
   ]
  },
  {
   "cell_type": "markdown",
   "metadata": {},
   "source": [
    "## 사이트 로그인"
   ]
  },
  {
   "cell_type": "code",
   "execution_count": 29,
   "metadata": {
    "ExecuteTime": {
     "end_time": "2021-08-15T10:42:12.939300Z",
     "start_time": "2021-08-15T10:42:04.378066Z"
    }
   },
   "outputs": [],
   "source": [
    "url = \"https://www.jobplanet.co.kr/users/sign_in?_nav=gb\"\n",
    "browser = webdriver.Chrome()\n",
    "browser.maximize_window\n",
    "\n",
    "account = \"hacoro16@gmail.com\"\n",
    "password = \"Kan8357365*\"\n",
    "full_cols = []\n",
    "\n",
    "browser.get(url)\n",
    "\n",
    "# 아이디 입력\n",
    "elem = browser.find_element_by_id(\"user_email\")\n",
    "elem.click()\n",
    "elem.send_keys(account)\n",
    "\n",
    "# 패스워드 입력\n",
    "elem = browser.find_element_by_id(\"user_password\")\n",
    "elem.click()\n",
    "time.sleep(2)\n",
    "elem.send_keys(password)\n",
    "elem.send_keys(Keys.ENTER)\n",
    "browser.maximize_window()\n",
    "time.sleep(3)\n",
    "\n",
    "elem = browser.find_element_by_xpath('/html/body/div[1]/div[1]/header/a') \n",
    "elem.click()"
   ]
  },
  {
   "cell_type": "markdown",
   "metadata": {},
   "source": [
    "## 웹스크래핑"
   ]
  },
  {
   "cell_type": "code",
   "execution_count": 30,
   "metadata": {
    "ExecuteTime": {
     "end_time": "2021-08-15T10:45:12.970257Z",
     "start_time": "2021-08-15T10:42:16.606181Z"
    },
    "scrolled": false
   },
   "outputs": [
    {
     "name": "stdout",
     "output_type": "stream",
     "text": [
      "소프트넷 기업 스크래핑 재필요\n",
      "월드버텍 기업 스크래핑 재필요\n",
      "파인웰시스템 기업 스크래핑 재필요\n"
     ]
    },
    {
     "ename": "WebDriverException",
     "evalue": "Message: chrome not reachable\n  (Session info: chrome=92.0.4515.131)\n",
     "output_type": "error",
     "traceback": [
      "\u001b[1;31m---------------------------------------------------------------------------\u001b[0m",
      "\u001b[1;31mWebDriverException\u001b[0m                        Traceback (most recent call last)",
      "\u001b[1;32m<ipython-input-30-1fa083076da1>\u001b[0m in \u001b[0;36m<module>\u001b[1;34m\u001b[0m\n\u001b[0;32m      3\u001b[0m \u001b[1;32mfor\u001b[0m \u001b[0mname\u001b[0m \u001b[1;32min\u001b[0m \u001b[0mnames\u001b[0m\u001b[1;33m:\u001b[0m\u001b[1;33m\u001b[0m\u001b[1;33m\u001b[0m\u001b[0m\n\u001b[0;32m      4\u001b[0m     \u001b[0murl\u001b[0m \u001b[1;33m=\u001b[0m \u001b[1;34m\"https://www.jobplanet.co.kr/welcome/index\"\u001b[0m\u001b[1;33m\u001b[0m\u001b[1;33m\u001b[0m\u001b[0m\n\u001b[1;32m----> 5\u001b[1;33m     \u001b[0mbrowser\u001b[0m\u001b[1;33m.\u001b[0m\u001b[0mget\u001b[0m\u001b[1;33m(\u001b[0m\u001b[0murl\u001b[0m\u001b[1;33m)\u001b[0m\u001b[1;33m\u001b[0m\u001b[1;33m\u001b[0m\u001b[0m\n\u001b[0m\u001b[0;32m      6\u001b[0m     \u001b[1;32mtry\u001b[0m\u001b[1;33m:\u001b[0m\u001b[1;33m\u001b[0m\u001b[1;33m\u001b[0m\u001b[0m\n\u001b[0;32m      7\u001b[0m         \u001b[0mtmp\u001b[0m \u001b[1;33m=\u001b[0m \u001b[1;33m[\u001b[0m\u001b[1;33m]\u001b[0m\u001b[1;33m\u001b[0m\u001b[1;33m\u001b[0m\u001b[0m\n",
      "\u001b[1;32m~\\anaconda3\\lib\\site-packages\\selenium\\webdriver\\remote\\webdriver.py\u001b[0m in \u001b[0;36mget\u001b[1;34m(self, url)\u001b[0m\n\u001b[0;32m    331\u001b[0m         \u001b[0mLoads\u001b[0m \u001b[0ma\u001b[0m \u001b[0mweb\u001b[0m \u001b[0mpage\u001b[0m \u001b[1;32min\u001b[0m \u001b[0mthe\u001b[0m \u001b[0mcurrent\u001b[0m \u001b[0mbrowser\u001b[0m \u001b[0msession\u001b[0m\u001b[1;33m.\u001b[0m\u001b[1;33m\u001b[0m\u001b[1;33m\u001b[0m\u001b[0m\n\u001b[0;32m    332\u001b[0m         \"\"\"\n\u001b[1;32m--> 333\u001b[1;33m         \u001b[0mself\u001b[0m\u001b[1;33m.\u001b[0m\u001b[0mexecute\u001b[0m\u001b[1;33m(\u001b[0m\u001b[0mCommand\u001b[0m\u001b[1;33m.\u001b[0m\u001b[0mGET\u001b[0m\u001b[1;33m,\u001b[0m \u001b[1;33m{\u001b[0m\u001b[1;34m'url'\u001b[0m\u001b[1;33m:\u001b[0m \u001b[0murl\u001b[0m\u001b[1;33m}\u001b[0m\u001b[1;33m)\u001b[0m\u001b[1;33m\u001b[0m\u001b[1;33m\u001b[0m\u001b[0m\n\u001b[0m\u001b[0;32m    334\u001b[0m \u001b[1;33m\u001b[0m\u001b[0m\n\u001b[0;32m    335\u001b[0m     \u001b[1;33m@\u001b[0m\u001b[0mproperty\u001b[0m\u001b[1;33m\u001b[0m\u001b[1;33m\u001b[0m\u001b[0m\n",
      "\u001b[1;32m~\\anaconda3\\lib\\site-packages\\selenium\\webdriver\\remote\\webdriver.py\u001b[0m in \u001b[0;36mexecute\u001b[1;34m(self, driver_command, params)\u001b[0m\n\u001b[0;32m    319\u001b[0m         \u001b[0mresponse\u001b[0m \u001b[1;33m=\u001b[0m \u001b[0mself\u001b[0m\u001b[1;33m.\u001b[0m\u001b[0mcommand_executor\u001b[0m\u001b[1;33m.\u001b[0m\u001b[0mexecute\u001b[0m\u001b[1;33m(\u001b[0m\u001b[0mdriver_command\u001b[0m\u001b[1;33m,\u001b[0m \u001b[0mparams\u001b[0m\u001b[1;33m)\u001b[0m\u001b[1;33m\u001b[0m\u001b[1;33m\u001b[0m\u001b[0m\n\u001b[0;32m    320\u001b[0m         \u001b[1;32mif\u001b[0m \u001b[0mresponse\u001b[0m\u001b[1;33m:\u001b[0m\u001b[1;33m\u001b[0m\u001b[1;33m\u001b[0m\u001b[0m\n\u001b[1;32m--> 321\u001b[1;33m             \u001b[0mself\u001b[0m\u001b[1;33m.\u001b[0m\u001b[0merror_handler\u001b[0m\u001b[1;33m.\u001b[0m\u001b[0mcheck_response\u001b[0m\u001b[1;33m(\u001b[0m\u001b[0mresponse\u001b[0m\u001b[1;33m)\u001b[0m\u001b[1;33m\u001b[0m\u001b[1;33m\u001b[0m\u001b[0m\n\u001b[0m\u001b[0;32m    322\u001b[0m             response['value'] = self._unwrap_value(\n\u001b[0;32m    323\u001b[0m                 response.get('value', None))\n",
      "\u001b[1;32m~\\anaconda3\\lib\\site-packages\\selenium\\webdriver\\remote\\errorhandler.py\u001b[0m in \u001b[0;36mcheck_response\u001b[1;34m(self, response)\u001b[0m\n\u001b[0;32m    240\u001b[0m                 \u001b[0malert_text\u001b[0m \u001b[1;33m=\u001b[0m \u001b[0mvalue\u001b[0m\u001b[1;33m[\u001b[0m\u001b[1;34m'alert'\u001b[0m\u001b[1;33m]\u001b[0m\u001b[1;33m.\u001b[0m\u001b[0mget\u001b[0m\u001b[1;33m(\u001b[0m\u001b[1;34m'text'\u001b[0m\u001b[1;33m)\u001b[0m\u001b[1;33m\u001b[0m\u001b[1;33m\u001b[0m\u001b[0m\n\u001b[0;32m    241\u001b[0m             \u001b[1;32mraise\u001b[0m \u001b[0mexception_class\u001b[0m\u001b[1;33m(\u001b[0m\u001b[0mmessage\u001b[0m\u001b[1;33m,\u001b[0m \u001b[0mscreen\u001b[0m\u001b[1;33m,\u001b[0m \u001b[0mstacktrace\u001b[0m\u001b[1;33m,\u001b[0m \u001b[0malert_text\u001b[0m\u001b[1;33m)\u001b[0m\u001b[1;33m\u001b[0m\u001b[1;33m\u001b[0m\u001b[0m\n\u001b[1;32m--> 242\u001b[1;33m         \u001b[1;32mraise\u001b[0m \u001b[0mexception_class\u001b[0m\u001b[1;33m(\u001b[0m\u001b[0mmessage\u001b[0m\u001b[1;33m,\u001b[0m \u001b[0mscreen\u001b[0m\u001b[1;33m,\u001b[0m \u001b[0mstacktrace\u001b[0m\u001b[1;33m)\u001b[0m\u001b[1;33m\u001b[0m\u001b[1;33m\u001b[0m\u001b[0m\n\u001b[0m\u001b[0;32m    243\u001b[0m \u001b[1;33m\u001b[0m\u001b[0m\n\u001b[0;32m    244\u001b[0m     \u001b[1;32mdef\u001b[0m \u001b[0m_value_or_default\u001b[0m\u001b[1;33m(\u001b[0m\u001b[0mself\u001b[0m\u001b[1;33m,\u001b[0m \u001b[0mobj\u001b[0m\u001b[1;33m,\u001b[0m \u001b[0mkey\u001b[0m\u001b[1;33m,\u001b[0m \u001b[0mdefault\u001b[0m\u001b[1;33m)\u001b[0m\u001b[1;33m:\u001b[0m\u001b[1;33m\u001b[0m\u001b[1;33m\u001b[0m\u001b[0m\n",
      "\u001b[1;31mWebDriverException\u001b[0m: Message: chrome not reachable\n  (Session info: chrome=92.0.4515.131)\n"
     ]
    }
   ],
   "source": [
    "company_list = []\n",
    "\n",
    "for name in names:\n",
    "    url = \"https://www.jobplanet.co.kr/welcome/index\"\n",
    "    browser.get(url)\n",
    "    try:\n",
    "        tmp = []\n",
    "        tmp.append(name)\n",
    "\n",
    "\n",
    "        # 메인페이지에서 기업 검색\n",
    "        elem = browser.find_element_by_xpath('//*[@id=\"search_bar_search_query\"]') \n",
    "        elem.click()\n",
    "        elem.send_keys(name)\n",
    "        elem.send_keys(Keys.ENTER)\n",
    "        time.sleep(1)\n",
    "\n",
    "\n",
    "\n",
    "        # # 회사 클릭 \n",
    "        try:\n",
    "            elem = browser.find_element_by_xpath('//*[@id=\"mainContents\"]/div[1]/div/div[2]/div[1]/div[1]/a') \n",
    "            elem.click()\n",
    "            time.sleep(1)\n",
    "        except:\n",
    "            elem = browser.find_element_by_xpath('//*[@id=\"job_search_app\"]/div/div[2]/div[2]/div/div/div[2]/div/div/div[1]/div/div/div/span[1]/a')\n",
    "            elem.click()\n",
    "            time.sleep(1)\n",
    "            pass\n",
    "\n",
    "        # 팝업창 닫기\n",
    "        try:\n",
    "            elem = browser.find_element_by_xpath(\"//*[@id='premiumReviewChart']/div/div[3]/div[2]/div/div[1]/button\")\n",
    "            elem.click()\n",
    "            time.sleep(4)\n",
    "        except:\n",
    "            time.sleep(4)\n",
    "            pass\n",
    "\n",
    "        # 프리미엄차트 클릭\n",
    "        elem = browser.find_element_by_xpath('//*[@id=\"viewCompaniesMenu\"]/ul/li[2]/a')\n",
    "        elem.click()\n",
    "        time.sleep(6)\n",
    "\n",
    "        # 업무방식 클릭\n",
    "        elem = browser.find_element_by_xpath('//*[@id=\"premium_detail_box\"]/div[1]/div[1]/ul/li[2]/button')\n",
    "        elem.click()\n",
    "#         time.sleep(4)\n",
    "\n",
    "\n",
    "        # 스크롤을 아래로 내림\n",
    "        browser.execute_script(\"window.scrollTo(0, 3000)\")\n",
    "        time.sleep(0.5)\n",
    "        browser.execute_script(\"window.scrollTo(0, 3300)\")\n",
    "        time.sleep(0.5)\n",
    "        browser.execute_script(\"window.scrollTo(0, 3600)\")\n",
    "        time.sleep(0.5)\n",
    "        browser.execute_script(\"window.scrollTo(0, 3900)\")\n",
    "        time.sleep(0.5)\n",
    "        browser.execute_script(\"window.scrollTo(0, 4200)\")\n",
    "        time.sleep(0.5)\n",
    "        browser.execute_script(\"window.scrollTo(0, 4400)\")\n",
    "        time.sleep(4)\n",
    "\n",
    "        # # 답변 더 보기 클릭\n",
    "        # elem = browser.find_element_by_xpath('//*[@id=\"premium_detail_box\"]/div[1]/div[2]/div/div[10]/div/div[3]/div/div/div[4]/button')\n",
    "        # elem.click()\n",
    "\n",
    "        work_method_text = []\n",
    "        # # 업무방식 텍스트데이터\n",
    "        soup = BeautifulSoup(browser.page_source, \"lxml\")\n",
    "        reviews = soup.find_all(\"div\", attrs={\"class\":\"answer_text\"})\n",
    "        work_method_text.append(reviews)\n",
    "\n",
    "        no_txt = ''\n",
    "        for txt in work_method_text[0]:\n",
    "            no_txt += txt.get_text()\n",
    "        tmp.append(no_txt)\n",
    "\n",
    "        # 스크롤 올리기\n",
    "        browser.execute_script(\"window.scrollTo(0, 900)\")\n",
    "        time.sleep(0.5)\n",
    "        browser.execute_script(\"window.scrollTo(0, 600)\")\n",
    "        time.sleep(0.5)\n",
    "        browser.execute_script(\"window.scrollTo(0, 300)\")\n",
    "        time.sleep(6)\n",
    "\n",
    "\n",
    "        # 기업문화 클릭\n",
    "        elem = browser.find_element_by_xpath(\"//*[@id='premium_detail_box']/div[1]/div[1]/ul/li[3]/button\")\n",
    "        elem.click()\n",
    "\n",
    "        # 스크롤을 아래로 내림\n",
    "        browser.execute_script(\"window.scrollTo(0, 3000)\")\n",
    "        time.sleep(0.5)\n",
    "        browser.execute_script(\"window.scrollTo(0, 3300)\")\n",
    "        time.sleep(0.5)\n",
    "        browser.execute_script(\"window.scrollTo(0, 3600)\")\n",
    "        time.sleep(0.5)\n",
    "        browser.execute_script(\"window.scrollTo(0, 3900)\")\n",
    "        time.sleep(0.5)\n",
    "        browser.execute_script(\"window.scrollTo(0, 4200)\")\n",
    "        time.sleep(0.5)\n",
    "        browser.execute_script(\"window.scrollTo(0, 4400)\")\n",
    "        time.sleep(4)\n",
    "        # # 답변 더 보기 클릭\n",
    "        # elem = browser.find_element_by_xpath('//*[@id=\"premium_detail_box\"]/div[1]/div[2]/div/div[10]/div/div[3]/div/div/div[4]/button')\n",
    "        # elem.click()\n",
    "\n",
    "        culture_text = []\n",
    "        # 사내분위기 텍스트데이터\n",
    "        soup = BeautifulSoup(browser.page_source, \"lxml\")\n",
    "        reviews = soup.find_all(\"div\", attrs={\"class\":\"answer_text\"})\n",
    "        culture_text.append(reviews)\n",
    "\n",
    "        no_txt = ''\n",
    "        for txt in culture_text[0]:\n",
    "            no_txt += txt.get_text()\n",
    "        tmp.append(no_txt)\n",
    "        full_cols.append(tmp)\n",
    "\n",
    "        # 스크롤 올리기\n",
    "#         browser.execute_script(\"window.scrollTo(0, 900)\")\n",
    "#         time.sleep(0.5)\n",
    "#         browser.execute_script(\"window.scrollTo(0, 600)\")\n",
    "#         time.sleep(0.5)\n",
    "#         browser.execute_script(\"window.scrollTo(0, 300)\")\n",
    "#         time.sleep(8)\n",
    "        # 메인페이지 돌아가기\n",
    "#         elem = browser.find_element_by_xpath('/html/body/div[1]/div[1]/header/a') \n",
    "#         elem.click()\n",
    "#         time.sleep(2)\n",
    "    except:\n",
    "        company_list.append(name)\n",
    "        print(\"{} 기업 스크래핑 재필요\".format(name))\n",
    "        continue\n",
    "\n",
    "browser.quit()\n",
    "\n",
    "\n",
    "df = pd.DataFrame(np.array(full_cols),\n",
    "                 columns=[\"기업명\", \"work_way_txt\", \"culture_txt\"])\n",
    "\n",
    "\n",
    "df.to_csv('data/new_jobplanet_premium_02.csv', encoding='cp949')\n"
   ]
  },
  {
   "cell_type": "markdown",
   "metadata": {},
   "source": [
    "# 데이터 합치기"
   ]
  },
  {
   "cell_type": "code",
   "execution_count": 31,
   "metadata": {
    "ExecuteTime": {
     "end_time": "2021-08-15T10:47:20.607943Z",
     "start_time": "2021-08-15T10:47:20.584980Z"
    }
   },
   "outputs": [],
   "source": [
    "df01 = pd.read_csv('data/new_jobplanet_premium_01.csv', encoding='cp949')\n",
    "df02 = pd.read_csv('data/new_jobplanet_premium_02.csv', encoding='cp949')\n",
    "df03 = pd.read_csv('data/new_jobplanet_premium_03.csv', encoding='cp949')"
   ]
  },
  {
   "cell_type": "code",
   "execution_count": 34,
   "metadata": {
    "ExecuteTime": {
     "end_time": "2021-08-15T10:50:40.071784Z",
     "start_time": "2021-08-15T10:50:40.059845Z"
    }
   },
   "outputs": [],
   "source": [
    "full_df = pd.concat([df01, df02, df03])"
   ]
  },
  {
   "cell_type": "code",
   "execution_count": 36,
   "metadata": {
    "ExecuteTime": {
     "end_time": "2021-08-15T10:51:24.216957Z",
     "start_time": "2021-08-15T10:51:24.204989Z"
    }
   },
   "outputs": [],
   "source": [
    "full_df.to_csv('full_jobplanet_premium.csv')"
   ]
  },
  {
   "cell_type": "code",
   "execution_count": null,
   "metadata": {},
   "outputs": [],
   "source": []
  }
 ],
 "metadata": {
  "kernelspec": {
   "display_name": "Python 3",
   "language": "python",
   "name": "python3"
  },
  "language_info": {
   "codemirror_mode": {
    "name": "ipython",
    "version": 3
   },
   "file_extension": ".py",
   "mimetype": "text/x-python",
   "name": "python",
   "nbconvert_exporter": "python",
   "pygments_lexer": "ipython3",
   "version": "3.8.5"
  },
  "toc": {
   "base_numbering": 1,
   "nav_menu": {},
   "number_sections": true,
   "sideBar": true,
   "skip_h1_title": false,
   "title_cell": "Table of Contents",
   "title_sidebar": "Contents",
   "toc_cell": false,
   "toc_position": {},
   "toc_section_display": true,
   "toc_window_display": true
  }
 },
 "nbformat": 4,
 "nbformat_minor": 4
}
