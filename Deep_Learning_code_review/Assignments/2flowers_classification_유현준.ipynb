{
  "nbformat": 4,
  "nbformat_minor": 0,
  "metadata": {
    "kernelspec": {
      "display_name": "Python 3",
      "language": "python",
      "name": "python3"
    },
    "language_info": {
      "codemirror_mode": {
        "name": "ipython",
        "version": 3
      },
      "file_extension": ".py",
      "mimetype": "text/x-python",
      "name": "python",
      "nbconvert_exporter": "python",
      "pygments_lexer": "ipython3",
      "version": "3.8.5"
    },
    "toc": {
      "base_numbering": 1,
      "nav_menu": {},
      "number_sections": true,
      "sideBar": true,
      "skip_h1_title": false,
      "title_cell": "Table of Contents",
      "title_sidebar": "Contents",
      "toc_cell": false,
      "toc_position": {
        "height": "calc(100% - 180px)",
        "left": "10px",
        "top": "150px",
        "width": "329.812px"
      },
      "toc_section_display": true,
      "toc_window_display": true
    },
    "colab": {
      "name": " 2flowers_classification_유현준.ipynb",
      "provenance": [],
      "include_colab_link": true
    }
  },
  "cells": [
    {
      "cell_type": "markdown",
      "metadata": {
        "id": "view-in-github",
        "colab_type": "text"
      },
      "source": [
        "<a href=\"https://colab.research.google.com/github/JuNoe2020/DMC_class_2021/blob/main/Deep_Learning_code_review/%202flowers_classification_%EC%9C%A0%ED%98%84%EC%A4%80.ipynb\" target=\"_parent\"><img src=\"https://colab.research.google.com/assets/colab-badge.svg\" alt=\"Open In Colab\"/></a>"
      ]
    },
    {
      "cell_type": "markdown",
      "metadata": {
        "id": "CjgS0JVFAULU"
      },
      "source": [
        "## 결론"
      ]
    },
    {
      "cell_type": "code",
      "metadata": {
        "id": "m_hbVhFJAULU"
      },
      "source": [
        ""
      ],
      "execution_count": null,
      "outputs": []
    },
    {
      "cell_type": "markdown",
      "metadata": {
        "id": "2HvXx-_MAULV"
      },
      "source": [
        "- 파라미터 갯수를 1000만 미만으로 줄이려면 Imagenet이나 mobilenet이 적합하다.\n",
        "---\n",
        "- 데이터증강을 통해 데이터를 무한대로 늘리고 성능을 높일 수 있을거라 생각했지만, 결과는 달랐다 일반적으로 데이터증강없이 원본데이터만으로 반복학습한 모델이 loss를 더 하락시킬 수 있었다.\n",
        "---\n",
        "- 정확한 모델 평가를 위해 test data를 카테고리별로 적어도 100개씩은 필요하지만 train data를 그만큼 줄이면 학습이 잘 안되는 경향이 있다.\n",
        "---\n",
        "- 더 정확한 validation loss 추이와 evaluation을 위해 근본적으로 더 많은 데이터만이 해답"
      ]
    },
    {
      "cell_type": "markdown",
      "metadata": {
        "id": "qyy2ArRrAULV"
      },
      "source": [
        "## 라이브러리 불러오기"
      ]
    },
    {
      "cell_type": "code",
      "metadata": {
        "ExecuteTime": {
          "end_time": "2021-08-01T07:59:38.630550Z",
          "start_time": "2021-08-01T07:59:36.277517Z"
        },
        "id": "pvCX_kvzAULV"
      },
      "source": [
        "import os\n",
        "\n",
        "import matplotlib.pyplot as plt\n",
        "import numpy as np\n",
        "\n",
        "from tensorflow import keras\n",
        "from tensorflow.keras import optimizers\n",
        "from tensorflow.keras import models\n",
        "from tensorflow.keras import layers\n",
        "from tensorflow.keras import optimizers\n",
        "from tensorflow.keras.models import Sequential\n",
        "from tensorflow.keras.layers import Dropout, Flatten, Dense\n",
        "from tensorflow.keras.layers import Conv2D, MaxPooling2D, Input, Reshape\n",
        "from tensorflow.keras.models import Model\n",
        "\n",
        "from tensorflow.keras.preprocessing.image import ImageDataGenerator\n",
        "from tensorflow.keras.preprocessing.image import load_img\n",
        "from tensorflow.keras.preprocessing.image import img_to_array\n",
        "\n",
        "from tensorflow.keras.applications import MobileNetV2\n",
        "from tensorflow.keras.applications import mobilenet_v2\n",
        "from tensorflow.keras.applications import EfficientNetB2\n",
        "from tensorflow.keras.applications import efficientnet\n",
        "\n",
        "from tensorflow.keras.regularizers import l1, l2\n",
        "from tensorflow.keras.layers import BatchNormalization\n"
      ],
      "execution_count": null,
      "outputs": []
    },
    {
      "cell_type": "markdown",
      "metadata": {
        "id": "trTsxnRjAULW"
      },
      "source": [
        "## 실시간 로스 체크 함수"
      ]
    },
    {
      "cell_type": "code",
      "metadata": {
        "ExecuteTime": {
          "end_time": "2021-08-01T07:59:38.646493Z",
          "start_time": "2021-08-01T07:59:38.632531Z"
        },
        "id": "GfrAoc5BAULW"
      },
      "source": [
        "# copy from https://gist.github.com/stared/dfb4dfaf6d9a8501cd1cc8b8cb806d2e\n",
        "from tensorflow.keras.callbacks import Callback\n",
        "from IPython.display import clear_output\n",
        "\n",
        "class PlotLosses(Callback):\n",
        "\n",
        "  def on_train_begin(self, logs={}):\n",
        "\n",
        "    self.i = 0\n",
        "    self.x = []\n",
        "    self.losses = []\n",
        "    self.val_losses = []\n",
        "    self.acc = []\n",
        "    self.val_acc = []\n",
        "\n",
        "    self.fig = plt.figure()\n",
        "\n",
        "    self.logs = []\n",
        "\n",
        "\n",
        "  def on_epoch_end(self, epoch, logs={}):\n",
        "\n",
        "    self.logs.append(logs)\n",
        "    self.x.append(self.i)\n",
        "    self.losses.append(logs.get('loss'))\n",
        "    self.val_losses.append(logs.get('val_loss'))\n",
        "    self.acc.append(logs.get('acc'))\n",
        "    self.val_acc.append(logs.get('val_acc'))\n",
        "    self.i += 1\n",
        "\n",
        "    clear_output(wait=True)\n",
        "    plt.plot(self.x, self.losses, label=\"loss\")\n",
        "    plt.plot(self.x, self.val_losses, label=\"val_loss\")\n",
        "    plt.plot(self.x, self.acc, label=\"acc\")\n",
        "    plt.plot(self.x, self.val_acc, label=\"val_acc\")\n",
        "    plt.legend()\n",
        "    plt.show();\n",
        "    print(\"loss = \", self.losses[-1], \", val_loss = \", self.val_losses[-1])\n",
        "    print(\"acc = \", self.acc[-1], \", val_acc = \", self.val_acc[-1])"
      ],
      "execution_count": null,
      "outputs": []
    },
    {
      "cell_type": "markdown",
      "metadata": {
        "id": "STxxdeliAULX"
      },
      "source": [
        "## 데이터 로딩함수"
      ]
    },
    {
      "cell_type": "code",
      "metadata": {
        "ExecuteTime": {
          "end_time": "2021-08-01T07:59:38.662450Z",
          "start_time": "2021-08-01T07:59:38.647490Z"
        },
        "id": "4bt-mdU3AULX"
      },
      "source": [
        "import os\n",
        "import random\n",
        "import numpy as np\n",
        "import matplotlib.pyplot as plt\n",
        "from tensorflow.keras.preprocessing.image import load_img\n",
        "from tensorflow.keras.preprocessing.image import img_to_array"
      ],
      "execution_count": null,
      "outputs": []
    },
    {
      "cell_type": "code",
      "metadata": {
        "ExecuteTime": {
          "end_time": "2021-08-01T07:59:38.678435Z",
          "start_time": "2021-08-01T07:59:38.663448Z"
        },
        "id": "msJgN-obAULX"
      },
      "source": [
        "def load_file_names_and_category_names(path):\n",
        "  \n",
        "  file_names = []\n",
        "  category_names = []\n",
        "\n",
        "  dir_names = os.listdir(path)\n",
        "      \n",
        "  for dir_name in dir_names:\n",
        "    file_names_in_a_dir = os.listdir(path+\"/\"+dir_name)\n",
        "\n",
        "    for a_file_name in file_names_in_a_dir:\n",
        "      full_file_name = path+\"/\"+dir_name+\"/\"+a_file_name\n",
        "      file_names.append(full_file_name)\n",
        "      category_names.append(dir_name)\n",
        "\n",
        "  combined = list(zip(file_names, category_names))\n",
        "  random.shuffle(combined)\n",
        "  file_names, category_names = zip(*combined)\n",
        "\n",
        "  return file_names, category_names\n",
        "\n",
        "\n",
        "def load_image_files_into_numpy_array(file_names):\n",
        "  file_count = len(file_names)    \n",
        "  data = np.ndarray(shape=(file_count,224,224,3), dtype=np.float64)    \n",
        "  for i in range(len(file_names)):\n",
        "    image = load_img(file_names[i], target_size=(224, 224))\n",
        "    image = img_to_array(image)\n",
        "    data[i] = image\n",
        "  return data\n",
        "\n",
        "\n",
        "def load_custom_data(path, train_ratio=0.8):\n",
        "  \n",
        "  file_names, category_names = load_file_names_and_category_names(path)\n",
        "  x = load_image_files_into_numpy_array(file_names)\n",
        "  \n",
        "  labels, y = np.unique(category_names, return_inverse=True)  \n",
        "\n",
        "  s = int(x.shape[0]*train_ratio)\n",
        "  train_x, test_x = x[:s], x[s:]\n",
        "  train_y, test_y = y[:s], y[s:]\n",
        "  \n",
        "  return (train_x, train_y), (test_x, test_y), labels"
      ],
      "execution_count": null,
      "outputs": []
    },
    {
      "cell_type": "markdown",
      "metadata": {
        "id": "oZXjtKnFAULY"
      },
      "source": [
        "# ##########전이학습##########"
      ]
    },
    {
      "cell_type": "markdown",
      "metadata": {
        "id": "L6pIe7pKAULY"
      },
      "source": [
        "## train/validation/test 셋으로 따로 분류하여 학습"
      ]
    },
    {
      "cell_type": "code",
      "metadata": {
        "ExecuteTime": {
          "end_time": "2021-08-01T07:59:38.693368Z",
          "start_time": "2021-08-01T07:59:38.679404Z"
        },
        "id": "yXlsgSxbAULY"
      },
      "source": [
        "#Callbacks 설정\n",
        "from tensorflow.keras.callbacks import ModelCheckpoint, EarlyStopping, ReduceLROnPlateau\n",
        "\n",
        "model_check_point = ModelCheckpoint('best_model.h5', monitor='val_loss', mode='min', save_best_only=True)\n",
        "plot_losses = PlotLosses()\n",
        "early_stopping = EarlyStopping(monitor='val_loss', mode='min', verbose=1, patience=30)\n",
        "reduce_lr = ReduceLROnPlateau(monitor='val_loss', factor=0.2, patience=10, min_lr=0.00001)\n",
        "\n",
        "callbacks = [model_check_point, plot_losses, early_stopping, reduce_lr]"
      ],
      "execution_count": null,
      "outputs": []
    },
    {
      "cell_type": "markdown",
      "metadata": {
        "id": "D2DnT569AULY"
      },
      "source": [
        "### 데이터 불러오기"
      ]
    },
    {
      "cell_type": "code",
      "metadata": {
        "ExecuteTime": {
          "end_time": "2021-08-01T07:59:40.527416Z",
          "start_time": "2021-08-01T07:59:38.694366Z"
        },
        "scrolled": false,
        "id": "Sh_RCovTAULZ",
        "outputId": "ee5c96ad-6088-457b-b25d-37859c4f6536"
      },
      "source": [
        "# 8:2 비로 train/test data 분류\n",
        "(train_x, train_y), (test_x, test_y), custom_labels = load_custom_data(\"data/2flowers_\")\n",
        "\n",
        "# efficientnet 전처리\n",
        "train_x = efficientnet.preprocess_input(train_x)\n",
        "test_x = efficientnet.preprocess_input(test_x)\n",
        "\n",
        "print(train_x.shape)\n",
        "print(train_y.shape)\n",
        "print(test_x.shape)\n",
        "print(test_y.shape)\n",
        "print(custom_labels)  "
      ],
      "execution_count": null,
      "outputs": [
        {
          "output_type": "stream",
          "text": [
            "(451, 224, 224, 3)\n",
            "(451,)\n",
            "(113, 224, 224, 3)\n",
            "(113,)\n",
            "['daisy' 'dandelion']\n"
          ],
          "name": "stdout"
        }
      ]
    },
    {
      "cell_type": "markdown",
      "metadata": {
        "id": "yg8-Lv67AULZ"
      },
      "source": [
        "### 모델"
      ]
    },
    {
      "cell_type": "code",
      "metadata": {
        "ExecuteTime": {
          "end_time": "2021-08-01T07:59:43.414738Z",
          "start_time": "2021-08-01T07:59:40.529419Z"
        },
        "scrolled": true,
        "id": "W8qRNZg7AULZ",
        "outputId": "f281f1e9-0d72-4b29-b4a4-c3b44d1f1e71"
      },
      "source": [
        "# EfficientNetB2 설정\n",
        "conv_layers = EfficientNetB2(weights='imagenet', include_top=False, input_shape=(224, 224, 3))\n",
        "conv_layers.trainable = False\n",
        "\n",
        "# sequential모델 호출\n",
        "model = models.Sequential()\n",
        "\n",
        "# EfficientNetB2 전이학습\n",
        "model.add(conv_layers)\n",
        "model.add(layers.Flatten())\n",
        "\n",
        "# DNN\n",
        "model.add(layers.Dense(30, activation='relu', kernel_regularizer=l2(0.001)))\n",
        "model.add(BatchNormalization())\n",
        "model.add(layers.Dropout(0.2))\n",
        "model.add(layers.Dense(30, activation='relu', kernel_regularizer=l2(0.001)))\n",
        "model.add(BatchNormalization())\n",
        "model.add(layers.Dropout(0.2))\n",
        "model.add(layers.Dense(2, activation='softmax'))\n",
        "\n",
        "# 모델학습 환경설정\n",
        "model.compile(loss='sparse_categorical_crossentropy', optimizer='adam', metrics=['acc'])\n",
        "\n",
        "# 모델 요약\n",
        "model.summary()"
      ],
      "execution_count": null,
      "outputs": [
        {
          "output_type": "stream",
          "text": [
            "Model: \"sequential\"\n",
            "_________________________________________________________________\n",
            "Layer (type)                 Output Shape              Param #   \n",
            "=================================================================\n",
            "efficientnetb2 (Functional)  (None, 7, 7, 1408)        7768569   \n",
            "_________________________________________________________________\n",
            "flatten (Flatten)            (None, 68992)             0         \n",
            "_________________________________________________________________\n",
            "dense (Dense)                (None, 30)                2069790   \n",
            "_________________________________________________________________\n",
            "batch_normalization (BatchNo (None, 30)                120       \n",
            "_________________________________________________________________\n",
            "dropout (Dropout)            (None, 30)                0         \n",
            "_________________________________________________________________\n",
            "dense_1 (Dense)              (None, 30)                930       \n",
            "_________________________________________________________________\n",
            "batch_normalization_1 (Batch (None, 30)                120       \n",
            "_________________________________________________________________\n",
            "dropout_1 (Dropout)          (None, 30)                0         \n",
            "_________________________________________________________________\n",
            "dense_2 (Dense)              (None, 2)                 62        \n",
            "=================================================================\n",
            "Total params: 9,839,591\n",
            "Trainable params: 2,070,902\n",
            "Non-trainable params: 7,768,689\n",
            "_________________________________________________________________\n"
          ],
          "name": "stdout"
        }
      ]
    },
    {
      "cell_type": "markdown",
      "metadata": {
        "id": "hz28BacEAULa"
      },
      "source": [
        "- 파라미터 갯수 9,839,591"
      ]
    },
    {
      "cell_type": "code",
      "metadata": {
        "ExecuteTime": {
          "end_time": "2021-08-01T07:59:43.430670Z",
          "start_time": "2021-08-01T07:59:43.415707Z"
        },
        "id": "6HXXjIh_AULa",
        "outputId": "f102e054-fafb-4b6c-c2ca-fd66f1c4c954"
      },
      "source": [
        "# 카테리고별 갯수 추출\n",
        "unique, counts = np.unique(train_y, return_counts = True)\n",
        "uniq_cnt_dict = dict(zip(unique, counts))\n",
        "uniq_cnt_dict"
      ],
      "execution_count": null,
      "outputs": [
        {
          "output_type": "execute_result",
          "data": {
            "text/plain": [
              "{0: 207, 1: 244}"
            ]
          },
          "metadata": {
            "tags": []
          },
          "execution_count": 8
        }
      ]
    },
    {
      "cell_type": "code",
      "metadata": {
        "ExecuteTime": {
          "end_time": "2021-08-01T07:59:43.446626Z",
          "start_time": "2021-08-01T07:59:43.431666Z"
        },
        "id": "clR-uC8xAULa",
        "outputId": "224429e5-59d8-4cbe-d15c-79bc90130166"
      },
      "source": [
        "# class_weight 설정\n",
        "class_weight ={0 : 1/uniq_cnt_dict[0], 1 : 1/uniq_cnt_dict[1] }\n",
        "class_weight"
      ],
      "execution_count": null,
      "outputs": [
        {
          "output_type": "execute_result",
          "data": {
            "text/plain": [
              "{0: 0.004830917874396135, 1: 0.004098360655737705}"
            ]
          },
          "metadata": {
            "tags": []
          },
          "execution_count": 9
        }
      ]
    },
    {
      "cell_type": "markdown",
      "metadata": {
        "id": "rZ-NOPiYAULa"
      },
      "source": [
        "### 훈련 & 평가"
      ]
    },
    {
      "cell_type": "code",
      "metadata": {
        "ExecuteTime": {
          "end_time": "2021-08-01T08:05:21.869114Z",
          "start_time": "2021-08-01T07:59:43.447622Z"
        },
        "id": "N6dx2sUMAULb",
        "outputId": "fbdef812-dc2c-4612-b29b-f448e730b124"
      },
      "source": [
        "# 훈련\n",
        "hist = model.fit(\n",
        "      train_x,\n",
        "      train_y,\n",
        "      validation_split=0.1, # 9:1 비로 train/validation data 분류\n",
        "      shuffle=True, \n",
        "      batch_size=32,\n",
        "      epochs=200,\n",
        "      callbacks = callbacks,\n",
        "      verbose = 1,\n",
        "      class_weight = class_weight\n",
        ")\n",
        "\n",
        "# 평가\n",
        "loss, acc = model.evaluate(\n",
        "      test_x,\n",
        "      test_y\n",
        ")\n",
        "\n",
        "# 번째 epochs 부터 그림그리기\n",
        "plt.plot(hist.history['loss'][10:])\n",
        "plt.plot(hist.history['val_loss'][10:])\n",
        "plt.show()\n",
        "\n",
        "# 평가 accuracy 출력\n",
        "print(\"loss=\", loss)\n",
        "print(\"acc=\", acc)"
      ],
      "execution_count": null,
      "outputs": [
        {
          "output_type": "display_data",
          "data": {
            "image/png": "[encoded data removed]",
            "text/plain": [
              "<Figure size 432x288 with 1 Axes>"
            ]
          },
          "metadata": {
            "tags": [],
            "needs_background": "light"
          }
        },
        {
          "output_type": "stream",
          "text": [
            "loss =  0.0029821719508618116 , val_loss =  0.028479887172579765\n",
            "acc =  1.0 , val_acc =  0.97826087474823\n",
            "Epoch 00137: early stopping\n",
            "4/4 [==============================] - 1s 303ms/step - loss: 0.2029 - acc: 0.9469\n"
          ],
          "name": "stdout"
        },
        {
          "output_type": "display_data",
          "data": {
            "image/png": "[encoded data removed]",
            "text/plain": [
              "<Figure size 432x288 with 1 Axes>"
            ]
          },
          "metadata": {
            "tags": [],
            "needs_background": "light"
          }
        },
        {
          "output_type": "stream",
          "text": [
            "loss= 0.20291300117969513\n",
            "acc= 0.9469026327133179\n"
          ],
          "name": "stdout"
        }
      ]
    },
    {
      "cell_type": "markdown",
      "metadata": {
        "id": "oKsbMyd3AULb"
      },
      "source": [
        "## 모델평가없이 학습"
      ]
    },
    {
      "cell_type": "markdown",
      "metadata": {
        "id": "pqxm7dcjAULb"
      },
      "source": [
        "### 데이터 불러오기"
      ]
    },
    {
      "cell_type": "code",
      "metadata": {
        "ExecuteTime": {
          "end_time": "2021-08-01T08:33:40.542890Z",
          "start_time": "2021-08-01T08:33:38.599031Z"
        },
        "id": "wefUl69uAULb",
        "outputId": "9c54dd03-6aa1-4e1f-8416-6adb163570db"
      },
      "source": [
        "# 8 : 2 비로 train/ validation data 분할\n",
        "(train_x, train_y), (validation_x, validation_y), custom_labels = load_custom_data(\"data/2flowers_\")\n",
        "\n",
        "# efficientnet 전처리\n",
        "train_x = efficientnet.preprocess_input(train_x)\n",
        "test_x = efficientnet.preprocess_input(test_x)\n",
        "\n",
        "print(train_x.shape)\n",
        "print(train_y.shape)\n",
        "print(test_x.shape)\n",
        "print(test_y.shape)\n",
        "print(custom_labels)  "
      ],
      "execution_count": null,
      "outputs": [
        {
          "output_type": "stream",
          "text": [
            "(451, 224, 224, 3)\n",
            "(451,)\n",
            "(113, 224, 224, 3)\n",
            "(113,)\n",
            "['daisy' 'dandelion']\n"
          ],
          "name": "stdout"
        }
      ]
    },
    {
      "cell_type": "markdown",
      "metadata": {
        "id": "l6nnNhkjAULb"
      },
      "source": [
        "### 모델"
      ]
    },
    {
      "cell_type": "code",
      "metadata": {
        "ExecuteTime": {
          "end_time": "2021-08-01T08:33:44.992636Z",
          "start_time": "2021-08-01T08:33:42.706711Z"
        },
        "scrolled": false,
        "id": "viJYeshMAULc",
        "outputId": "c12b4c57-5d78-40e6-c780-08b5087af024"
      },
      "source": [
        "# EfficientNetB2 설정\n",
        "conv_layers = EfficientNetB2(weights='imagenet', include_top=False, input_shape=(224, 224, 3))\n",
        "conv_layers.trainable = False\n",
        "\n",
        "# sequential 모델 호출\n",
        "model = models.Sequential()\n",
        "\n",
        "# EfficientNetB2 전이학습\n",
        "model.add(conv_layers)\n",
        "model.add(layers.Flatten())\n",
        "\n",
        "# DNN\n",
        "model.add(layers.Dense(30, activation='relu', kernel_regularizer=l2(0.001)))\n",
        "model.add(BatchNormalization())\n",
        "model.add(layers.Dropout(0.2))\n",
        "model.add(layers.Dense(30, activation='relu', kernel_regularizer=l2(0.001)))\n",
        "model.add(BatchNormalization())\n",
        "model.add(layers.Dropout(0.2))\n",
        "model.add(layers.Dense(2, activation='softmax'))\n",
        "\n",
        "# 학습방식 환경설정\n",
        "model.compile(loss='sparse_categorical_crossentropy', optimizer='adamax', metrics=['acc'])\n",
        "\n",
        "# 모델 요약\n",
        "model.summary()"
      ],
      "execution_count": null,
      "outputs": [
        {
          "output_type": "stream",
          "text": [
            "Model: \"sequential_6\"\n",
            "_________________________________________________________________\n",
            "Layer (type)                 Output Shape              Param #   \n",
            "=================================================================\n",
            "efficientnetb2 (Functional)  (None, 7, 7, 1408)        7768569   \n",
            "_________________________________________________________________\n",
            "flatten_6 (Flatten)          (None, 68992)             0         \n",
            "_________________________________________________________________\n",
            "dense_18 (Dense)             (None, 30)                2069790   \n",
            "_________________________________________________________________\n",
            "batch_normalization_12 (Batc (None, 30)                120       \n",
            "_________________________________________________________________\n",
            "dropout_12 (Dropout)         (None, 30)                0         \n",
            "_________________________________________________________________\n",
            "dense_19 (Dense)             (None, 30)                930       \n",
            "_________________________________________________________________\n",
            "batch_normalization_13 (Batc (None, 30)                120       \n",
            "_________________________________________________________________\n",
            "dropout_13 (Dropout)         (None, 30)                0         \n",
            "_________________________________________________________________\n",
            "dense_20 (Dense)             (None, 2)                 62        \n",
            "=================================================================\n",
            "Total params: 9,839,591\n",
            "Trainable params: 2,070,902\n",
            "Non-trainable params: 7,768,689\n",
            "_________________________________________________________________\n"
          ],
          "name": "stdout"
        }
      ]
    },
    {
      "cell_type": "markdown",
      "metadata": {
        "id": "aLqZTcz5AULc"
      },
      "source": [
        "- 파마미터 갯수 : 9,839,591"
      ]
    },
    {
      "cell_type": "code",
      "metadata": {
        "ExecuteTime": {
          "end_time": "2021-08-01T08:34:06.523142Z",
          "start_time": "2021-08-01T08:34:06.506188Z"
        },
        "id": "RMy2LosrAULc",
        "outputId": "4c73be92-c1b5-4fb3-9d79-401a66c1c0b5"
      },
      "source": [
        "# 카테리고별 갯수 추출\n",
        "unique, counts = np.unique(train_y, return_counts = True)\n",
        "uniq_cnt_dict = dict(zip(unique, counts))\n",
        "uniq_cnt_dict"
      ],
      "execution_count": null,
      "outputs": [
        {
          "output_type": "execute_result",
          "data": {
            "text/plain": [
              "{0: 212, 1: 239}"
            ]
          },
          "metadata": {
            "tags": []
          },
          "execution_count": 38
        }
      ]
    },
    {
      "cell_type": "code",
      "metadata": {
        "ExecuteTime": {
          "end_time": "2021-08-01T08:34:08.621371Z",
          "start_time": "2021-08-01T08:34:08.603392Z"
        },
        "id": "pAvtUelmAULc",
        "outputId": "5887c2b4-ed6a-4aeb-a02e-7e6facd027de"
      },
      "source": [
        "# class_weight 설정\n",
        "class_weight ={0 : 1/uniq_cnt_dict[0], 1 : 1/uniq_cnt_dict[1] }\n",
        "class_weight"
      ],
      "execution_count": null,
      "outputs": [
        {
          "output_type": "execute_result",
          "data": {
            "text/plain": [
              "{0: 0.0047169811320754715, 1: 0.0041841004184100415}"
            ]
          },
          "metadata": {
            "tags": []
          },
          "execution_count": 39
        }
      ]
    },
    {
      "cell_type": "markdown",
      "metadata": {
        "id": "WZvho8o1AULc"
      },
      "source": [
        "### 훈련"
      ]
    },
    {
      "cell_type": "code",
      "metadata": {
        "ExecuteTime": {
          "end_time": "2021-08-01T08:43:51.717807Z",
          "start_time": "2021-08-01T08:34:10.393419Z"
        },
        "id": "2i3XBNFhAULd",
        "outputId": "10e3785a-8f63-4ba6-fbb0-2afaaca84d92"
      },
      "source": [
        "# 훈련\n",
        "hist = model.fit(\n",
        "      train_x,\n",
        "      train_y,\n",
        "      validation_data=(validation_x, validation_y),\n",
        "      shuffle=True, \n",
        "      batch_size=32,\n",
        "      epochs=200,\n",
        "      callbacks = callbacks,\n",
        "      class_weight = class_weight\n",
        ")\n",
        "\n",
        "# validation data 평가지표로 사용\n",
        "loss, acc = model.evaluate( \n",
        "      validation_x,\n",
        "      validation_y\n",
        ")\n",
        "\n",
        "# 10번째 epochs부터 그림그리기\n",
        "plt.plot(hist.history['loss'][10:])\n",
        "plt.plot(hist.history['val_loss'][10:])\n",
        "plt.show()\n",
        "\n",
        "# 마지막 validation accuracy 호출 \n",
        "print(\"loss=\", loss)\n",
        "print(\"acc=\", acc)"
      ],
      "execution_count": null,
      "outputs": [
        {
          "output_type": "display_data",
          "data": {
            "image/png": "[encoded data removed]",
            "text/plain": [
              "<Figure size 432x288 with 1 Axes>"
            ]
          },
          "metadata": {
            "tags": [],
            "needs_background": "light"
          }
        },
        {
          "output_type": "stream",
          "text": [
            "loss =  0.0052880491130054 , val_loss =  0.08715357631444931\n",
            "acc =  1.0 , val_acc =  0.9646017551422119\n",
            "4/4 [==============================] - 1s 121ms/step - loss: 0.0872 - acc: 0.9646\n"
          ],
          "name": "stdout"
        },
        {
          "output_type": "display_data",
          "data": {
            "image/png": "[encoded data removed]",
            "text/plain": [
              "<Figure size 432x288 with 1 Axes>"
            ]
          },
          "metadata": {
            "tags": [],
            "needs_background": "light"
          }
        },
        {
          "output_type": "stream",
          "text": [
            "loss= 0.08715357631444931\n",
            "acc= 0.9646017551422119\n"
          ],
          "name": "stdout"
        }
      ]
    },
    {
      "cell_type": "markdown",
      "metadata": {
        "id": "XDKcsbN6AULd"
      },
      "source": [
        "## 데이터증강을 통한 학습"
      ]
    },
    {
      "cell_type": "markdown",
      "metadata": {
        "id": "fCfmmFN1AULd"
      },
      "source": [
        "### 데이터 증강"
      ]
    },
    {
      "cell_type": "code",
      "metadata": {
        "ExecuteTime": {
          "end_time": "2021-08-01T08:08:49.903834Z",
          "start_time": "2021-08-01T08:08:49.856960Z"
        },
        "id": "9Tx366VGAULd",
        "outputId": "487404e1-9c3e-4c68-98f3-92e4250bafa9"
      },
      "source": [
        "# train 데이터 증강\n",
        "train_data_generator = ImageDataGenerator(\n",
        "      rotation_range=10,\n",
        "      width_shift_range=0.1,\n",
        "      height_shift_range=0.1,\n",
        "      horizontal_flip=True,\n",
        "      vertical_flip=False,\n",
        "      preprocessing_function=mobilenet_v2.preprocess_input\n",
        ").flow_from_directory(\n",
        "      \"data/2flowers/train\",  # 8 : 2 비로 train, test data 폴더에 분류\n",
        "      target_size=(224,224),  # 212 : 252 = daisy : dandelion\n",
        "      batch_size=32,\n",
        "      class_mode='sparse'\n",
        ")\n",
        "\n",
        "validation_data_generator = ImageDataGenerator(\n",
        "      preprocessing_function=mobilenet_v2.preprocess_input\n",
        ").flow_from_directory(\n",
        "      \"data/2flowers/test\",   # 50 : 50 = daisy : dandelion\n",
        "      target_size=(224,224),\n",
        "      batch_size=32,\n",
        "      class_mode='sparse')"
      ],
      "execution_count": null,
      "outputs": [
        {
          "output_type": "stream",
          "text": [
            "Found 464 images belonging to 2 classes.\n",
            "Found 100 images belonging to 2 classes.\n"
          ],
          "name": "stdout"
        }
      ]
    },
    {
      "cell_type": "markdown",
      "metadata": {
        "id": "iPsWmHYkAULd"
      },
      "source": [
        "### 모델"
      ]
    },
    {
      "cell_type": "code",
      "metadata": {
        "ExecuteTime": {
          "end_time": "2021-08-01T08:08:50.924147Z",
          "start_time": "2021-08-01T08:08:49.904831Z"
        },
        "scrolled": false,
        "id": "jIbzWYMnAULe",
        "outputId": "76ae56a2-ad06-4f5c-b5fb-d6d1fce977e5"
      },
      "source": [
        "# MobileNetV2 설정\n",
        "conv_layers = MobileNetV2(weights='imagenet', include_top=False, input_shape=(224, 224, 3))\n",
        "conv_layers.trainable = False\n",
        "\n",
        "# sequential 모델 호출\n",
        "model = models.Sequential()\n",
        "\n",
        "# MobileNetV2 전이학습\n",
        "model.add(conv_layers)\n",
        "model.add(layers.Flatten())\n",
        "\n",
        "# DNN\n",
        "model.add(layers.Dense(100, activation='relu', kernel_regularizer=l2(0.001)))\n",
        "model.add(BatchNormalization())\n",
        "model.add(layers.Dropout(0.5))\n",
        "model.add(layers.Dense(100, activation='relu', kernel_regularizer=l2(0.001)))\n",
        "model.add(BatchNormalization())\n",
        "model.add(layers.Dropout(0.5))\n",
        "model.add(layers.Dense(2, activation='softmax'))\n",
        "\n",
        "# 학습방식 환경설정\n",
        "model.compile(loss='sparse_categorical_crossentropy', optimizer='adamax', metrics=['acc'])\n",
        "\n",
        "# 모델 요약\n",
        "model.summary()"
      ],
      "execution_count": null,
      "outputs": [
        {
          "output_type": "stream",
          "text": [
            "Model: \"sequential_2\"\n",
            "_________________________________________________________________\n",
            "Layer (type)                 Output Shape              Param #   \n",
            "=================================================================\n",
            "mobilenetv2_1.00_224 (Functi (None, 7, 7, 1280)        2257984   \n",
            "_________________________________________________________________\n",
            "flatten_2 (Flatten)          (None, 62720)             0         \n",
            "_________________________________________________________________\n",
            "dense_6 (Dense)              (None, 100)               6272100   \n",
            "_________________________________________________________________\n",
            "batch_normalization_4 (Batch (None, 100)               400       \n",
            "_________________________________________________________________\n",
            "dropout_4 (Dropout)          (None, 100)               0         \n",
            "_________________________________________________________________\n",
            "dense_7 (Dense)              (None, 100)               10100     \n",
            "_________________________________________________________________\n",
            "batch_normalization_5 (Batch (None, 100)               400       \n",
            "_________________________________________________________________\n",
            "dropout_5 (Dropout)          (None, 100)               0         \n",
            "_________________________________________________________________\n",
            "dense_8 (Dense)              (None, 2)                 202       \n",
            "=================================================================\n",
            "Total params: 8,541,186\n",
            "Trainable params: 6,282,802\n",
            "Non-trainable params: 2,258,384\n",
            "_________________________________________________________________\n"
          ],
          "name": "stdout"
        }
      ]
    },
    {
      "cell_type": "markdown",
      "metadata": {
        "id": "Zn6i48jpAULe"
      },
      "source": [
        "- 파라미터 갯수 8,541,186"
      ]
    },
    {
      "cell_type": "code",
      "metadata": {
        "ExecuteTime": {
          "end_time": "2021-08-01T08:08:50.939107Z",
          "start_time": "2021-08-01T08:08:50.925144Z"
        },
        "id": "OXTc6fVlAULe",
        "outputId": "5e807ffc-e331-4914-f9d9-83d2cba2fcec"
      },
      "source": [
        "# class_weight 설정\n",
        "# 212 : 252 = daisy : dandelion\n",
        "class_weight ={0 : 1/212, 1 : 1/252 }\n",
        "class_weight"
      ],
      "execution_count": null,
      "outputs": [
        {
          "output_type": "execute_result",
          "data": {
            "text/plain": [
              "{0: 0.0047169811320754715, 1: 0.003968253968253968}"
            ]
          },
          "metadata": {
            "tags": []
          },
          "execution_count": 18
        }
      ]
    },
    {
      "cell_type": "markdown",
      "metadata": {
        "id": "Uap27BwKAULe"
      },
      "source": [
        "### 훈련"
      ]
    },
    {
      "cell_type": "code",
      "metadata": {
        "ExecuteTime": {
          "end_time": "2021-08-01T08:13:25.895042Z",
          "start_time": "2021-08-01T08:08:50.940105Z"
        },
        "id": "RYJraZDSAULe",
        "outputId": "aea9604d-ca04-45b2-b3c1-611d781c4652"
      },
      "source": [
        "# 훈련\n",
        "hist = model.fit(\n",
        "      train_data_generator,\n",
        "      validation_data=validation_data_generator,\n",
        "      steps_per_epoch=train_data_generator.samples/32,  \n",
        "      shuffle=True, \n",
        "      epochs=200,\n",
        "      callbacks = callbacks,\n",
        "      class_weight=class_weight\n",
        ")\n",
        "\n",
        "# validation data 평가지표로 사용\n",
        "loss, acc = model.evaluate(       # validation_data의 마지막 결과값 전달\n",
        "      validation_data_generator,\n",
        "      steps=validation_data_generator.samples/32\n",
        ")\n",
        "\n",
        "# 10번째 epochs부터 그림그리기\n",
        "print(\"loss=\", loss)\n",
        "print(\"acc=\", acc)\n",
        "\n",
        "# 마지막 validation accuracy 호출 \n",
        "plt.plot(hist.history['loss'][10:])\n",
        "plt.plot(hist.history['val_loss'][10:])\n",
        "plt.show()"
      ],
      "execution_count": null,
      "outputs": [
        {
          "output_type": "display_data",
          "data": {
            "image/png": "[encoded data removed]",
            "text/plain": [
              "<Figure size 432x288 with 1 Axes>"
            ]
          },
          "metadata": {
            "tags": [],
            "needs_background": "light"
          }
        },
        {
          "output_type": "stream",
          "text": [
            "loss =  0.0030836323276162148 , val_loss =  0.311338871717453\n",
            "acc =  0.9956896305084229 , val_acc =  0.8799999952316284\n",
            "Epoch 00047: early stopping\n",
            "3/3 [==============================] - 0s 114ms/step - loss: 0.3113 - acc: 0.8800\n",
            "loss= 0.311338871717453\n",
            "acc= 0.8799999952316284\n"
          ],
          "name": "stdout"
        },
        {
          "output_type": "display_data",
          "data": {
            "image/png": "[encoded data removed]",
            "text/plain": [
              "<Figure size 432x288 with 1 Axes>"
            ]
          },
          "metadata": {
            "tags": [],
            "needs_background": "light"
          }
        }
      ]
    },
    {
      "cell_type": "markdown",
      "metadata": {
        "id": "2uwzzu9oAULf"
      },
      "source": [
        "# #########Vanila CNN#########"
      ]
    },
    {
      "cell_type": "markdown",
      "metadata": {
        "id": "bYwXRZpgAULf"
      },
      "source": [
        "## train/validation/test 셋으로 따로 분류하여 학습"
      ]
    },
    {
      "cell_type": "markdown",
      "metadata": {
        "id": "moexj1TkAULf"
      },
      "source": [
        "### 데이터 로딩"
      ]
    },
    {
      "cell_type": "code",
      "metadata": {
        "ExecuteTime": {
          "end_time": "2021-08-01T08:13:25.910002Z",
          "start_time": "2021-08-01T08:13:25.896039Z"
        },
        "id": "0PyIcjQNAULf"
      },
      "source": [
        "# cullbacks 설정\n",
        "from tensorflow.keras.callbacks import ModelCheckpoint, EarlyStopping, ReduceLROnPlateau\n",
        "\n",
        "# callbacks\n",
        "model_check_point = ModelCheckpoint('best_model.h5', monitor='val_loss', mode='min', save_best_only=True)\n",
        "plot_losses = PlotLosses()\n",
        "early_stopping = EarlyStopping(monitor='val_loss', mode='min', verbose=1, patience=50)\n",
        "reduce_lr = ReduceLROnPlateau(monitor='val_loss', factor=0.2, patience=10, min_lr=0.00001)\n",
        "\n",
        "callbacks = [model_check_point, plot_losses, early_stopping, reduce_lr]"
      ],
      "execution_count": null,
      "outputs": []
    },
    {
      "cell_type": "code",
      "metadata": {
        "ExecuteTime": {
          "end_time": "2021-08-01T08:13:27.879158Z",
          "start_time": "2021-08-01T08:13:25.910999Z"
        },
        "id": "4EG0vboGAULf",
        "outputId": "f083cc64-8402-4aff-91bc-f7db00170560"
      },
      "source": [
        "# 8:2 비로 train/test data 분류\n",
        "(train_x, train_y), (test_x, test_y), custom_labels = load_custom_data(\"data/2flowers_\")\n",
        "\n",
        "print(train_x.shape)\n",
        "print(train_y.shape)\n",
        "print(test_x.shape)\n",
        "print(test_y.shape)\n",
        "print(custom_labels)  "
      ],
      "execution_count": null,
      "outputs": [
        {
          "output_type": "stream",
          "text": [
            "(451, 224, 224, 3)\n",
            "(451,)\n",
            "(113, 224, 224, 3)\n",
            "(113,)\n",
            "['daisy' 'dandelion']\n"
          ],
          "name": "stdout"
        }
      ]
    },
    {
      "cell_type": "markdown",
      "metadata": {
        "id": "oVuxTfZZAULf"
      },
      "source": [
        "### 모델"
      ]
    },
    {
      "cell_type": "code",
      "metadata": {
        "ExecuteTime": {
          "end_time": "2021-08-01T08:13:27.989862Z",
          "start_time": "2021-08-01T08:13:27.882150Z"
        },
        "id": "K-76-t9-AULg",
        "outputId": "036e20ab-57f0-445b-df87-048fdea01238"
      },
      "source": [
        "# sequential 모델 호출\n",
        "model = keras.Sequential()\n",
        "\n",
        "# Vanila CNN\n",
        "model.add(Input((224,224,3)))\n",
        "model.add(Conv2D(32, (3, 3), strides = (1, 1), padding='same'))    # 224 x 224 x 32\n",
        "model.add(MaxPooling2D((2, 2)))   \n",
        "model.add(Conv2D(64, (3, 3), strides = (1, 1), padding='same'))    # 112 x 112 x 64\n",
        "model.add(MaxPooling2D((2, 2)))\n",
        "model.add(Conv2D(128, (3, 3), strides = (1, 1), padding='same'))   #  56 x 56 x 128\n",
        "model.add(MaxPooling2D((2, 2)))\n",
        "model.add(Conv2D(256, (3, 3), strides = (1, 1), padding='same'))   #  28 x 28 x 256\n",
        "model.add(MaxPooling2D((2, 2)))\n",
        "model.add(Conv2D(512, (3, 3), strides = (1, 1), padding='same'))   #  14 x 14 x 512\n",
        "model.add(MaxPooling2D((2, 2)))\n",
        "model.add(Conv2D(1024, (3, 3), strides = (1, 1), padding='same'))  #   7 x 7 x 1024\n",
        "model.add(MaxPooling2D((2, 2)))\n",
        "\n",
        "model.add(Flatten())            \n",
        "\n",
        "# DNN\n",
        "model.add(Dense(100, activation='relu', kernel_regularizer=l2(0.001)))\n",
        "model.add(BatchNormalization())\n",
        "model.add(layers.Dropout(0.5))\n",
        "model.add(Dense(100, activation='relu', kernel_regularizer=l2(0.001)))\n",
        "model.add(BatchNormalization())\n",
        "model.add(layers.Dropout(0.5))\n",
        "model.add(Dense(2, activation='softmax'))\n",
        "\n",
        "# 학습방식 환경설정\n",
        "model.compile(optimizer=\"adam\", loss=\"sparse_categorical_crossentropy\", metrics=[\"accuracy\"])\n",
        "\n",
        "# 모델 요약\n",
        "model.summary()"
      ],
      "execution_count": null,
      "outputs": [
        {
          "output_type": "stream",
          "text": [
            "WARNING:tensorflow:Please add `keras.layers.InputLayer` instead of `keras.Input` to Sequential model. `keras.Input` is intended to be used by Functional model.\n",
            "Model: \"sequential_3\"\n",
            "_________________________________________________________________\n",
            "Layer (type)                 Output Shape              Param #   \n",
            "=================================================================\n",
            "conv2d (Conv2D)              (None, 224, 224, 32)      896       \n",
            "_________________________________________________________________\n",
            "max_pooling2d (MaxPooling2D) (None, 112, 112, 32)      0         \n",
            "_________________________________________________________________\n",
            "conv2d_1 (Conv2D)            (None, 112, 112, 64)      18496     \n",
            "_________________________________________________________________\n",
            "max_pooling2d_1 (MaxPooling2 (None, 56, 56, 64)        0         \n",
            "_________________________________________________________________\n",
            "conv2d_2 (Conv2D)            (None, 56, 56, 128)       73856     \n",
            "_________________________________________________________________\n",
            "max_pooling2d_2 (MaxPooling2 (None, 28, 28, 128)       0         \n",
            "_________________________________________________________________\n",
            "conv2d_3 (Conv2D)            (None, 28, 28, 256)       295168    \n",
            "_________________________________________________________________\n",
            "max_pooling2d_3 (MaxPooling2 (None, 14, 14, 256)       0         \n",
            "_________________________________________________________________\n",
            "conv2d_4 (Conv2D)            (None, 14, 14, 512)       1180160   \n",
            "_________________________________________________________________\n",
            "max_pooling2d_4 (MaxPooling2 (None, 7, 7, 512)         0         \n",
            "_________________________________________________________________\n",
            "conv2d_5 (Conv2D)            (None, 7, 7, 1024)        4719616   \n",
            "_________________________________________________________________\n",
            "max_pooling2d_5 (MaxPooling2 (None, 3, 3, 1024)        0         \n",
            "_________________________________________________________________\n",
            "flatten_3 (Flatten)          (None, 9216)              0         \n",
            "_________________________________________________________________\n",
            "dense_9 (Dense)              (None, 100)               921700    \n",
            "_________________________________________________________________\n",
            "batch_normalization_6 (Batch (None, 100)               400       \n",
            "_________________________________________________________________\n",
            "dropout_6 (Dropout)          (None, 100)               0         \n",
            "_________________________________________________________________\n",
            "dense_10 (Dense)             (None, 100)               10100     \n",
            "_________________________________________________________________\n",
            "batch_normalization_7 (Batch (None, 100)               400       \n",
            "_________________________________________________________________\n",
            "dropout_7 (Dropout)          (None, 100)               0         \n",
            "_________________________________________________________________\n",
            "dense_11 (Dense)             (None, 2)                 202       \n",
            "=================================================================\n",
            "Total params: 7,220,994\n",
            "Trainable params: 7,220,594\n",
            "Non-trainable params: 400\n",
            "_________________________________________________________________\n"
          ],
          "name": "stdout"
        }
      ]
    },
    {
      "cell_type": "markdown",
      "metadata": {
        "id": "rOOMsFziAULg"
      },
      "source": [
        "- 파라미터 갯수 : 7,220,994"
      ]
    },
    {
      "cell_type": "code",
      "metadata": {
        "ExecuteTime": {
          "end_time": "2021-08-01T08:13:28.005819Z",
          "start_time": "2021-08-01T08:13:27.990859Z"
        },
        "id": "kvIrU2LxAULg",
        "outputId": "ec488646-366d-40a0-cc09-db061b0473f8"
      },
      "source": [
        "# 카테리고별 갯수 추출\n",
        "unique, counts = np.unique(train_y, return_counts = True)\n",
        "uniq_cnt_dict = dict(zip(unique, counts))\n",
        "uniq_cnt_dict"
      ],
      "execution_count": null,
      "outputs": [
        {
          "output_type": "execute_result",
          "data": {
            "text/plain": [
              "{0: 214, 1: 237}"
            ]
          },
          "metadata": {
            "tags": []
          },
          "execution_count": 23
        }
      ]
    },
    {
      "cell_type": "code",
      "metadata": {
        "ExecuteTime": {
          "end_time": "2021-08-01T08:13:28.020779Z",
          "start_time": "2021-08-01T08:13:28.006817Z"
        },
        "id": "mjiXpNCHAULg",
        "outputId": "8679d874-f0dc-4c23-e6e4-6a83d209c6ad"
      },
      "source": [
        "# class_weight 설정\n",
        "class_weight ={0 : 1/uniq_cnt_dict[0], 1 : 1/uniq_cnt_dict[1] }\n",
        "class_weight"
      ],
      "execution_count": null,
      "outputs": [
        {
          "output_type": "execute_result",
          "data": {
            "text/plain": [
              "{0: 0.004672897196261682, 1: 0.004219409282700422}"
            ]
          },
          "metadata": {
            "tags": []
          },
          "execution_count": 24
        }
      ]
    },
    {
      "cell_type": "markdown",
      "metadata": {
        "id": "c9p0Lc7uAULh"
      },
      "source": [
        "### 훈련 & 평가"
      ]
    },
    {
      "cell_type": "code",
      "metadata": {
        "ExecuteTime": {
          "end_time": "2021-08-01T08:18:26.660238Z",
          "start_time": "2021-08-01T08:13:28.021777Z"
        },
        "id": "fdMu2kx2AULh",
        "outputId": "7d1498b9-4557-4c68-9b1a-efc0fd3b75c9"
      },
      "source": [
        "# 훈련\n",
        "hist = model.fit(\n",
        "      train_x,\n",
        "      train_y,\n",
        "      validation_split=0.1, # 9:1 비로 train/validation data 분류\n",
        "      shuffle=True, \n",
        "      batch_size=32,\n",
        "      epochs=200,\n",
        "      callbacks = callbacks,\n",
        "      verbose = 1,\n",
        "      class_weight = class_weight\n",
        ")\n",
        "\n",
        "# 평가\n",
        "loss, acc = model.evaluate(\n",
        "      test_x,\n",
        "      test_y\n",
        ")\n",
        "\n",
        "# 10번째 epochs부터 그림그리기\n",
        "plt.plot(hist.history['loss'][10:])\n",
        "plt.plot(hist.history['val_loss'][10:])\n",
        "plt.show()\n",
        "\n",
        "# 평가 accuracy 출력\n",
        "print(\"loss=\", loss)\n",
        "print(\"acc=\", acc)"
      ],
      "execution_count": null,
      "outputs": [
        {
          "output_type": "display_data",
          "data": {
            "image/png": "[encoded data removed]",
            "text/plain": [
              "<Figure size 432x288 with 1 Axes>"
            ]
          },
          "metadata": {
            "tags": [],
            "needs_background": "light"
          }
        },
        {
          "output_type": "stream",
          "text": [
            "loss =  0.0036591680254787207 , val_loss =  0.5367333889007568\n",
            "acc =  None , val_acc =  None\n",
            "4/4 [==============================] - 0s 114ms/step - loss: 0.4337 - accuracy: 0.7876\n"
          ],
          "name": "stdout"
        },
        {
          "output_type": "display_data",
          "data": {
            "image/png": "[encoded data removed]",
            "text/plain": [
              "<Figure size 432x288 with 1 Axes>"
            ]
          },
          "metadata": {
            "tags": [],
            "needs_background": "light"
          }
        },
        {
          "output_type": "stream",
          "text": [
            "loss= 0.4337170422077179\n",
            "acc= 0.7876105904579163\n"
          ],
          "name": "stdout"
        }
      ]
    },
    {
      "cell_type": "markdown",
      "metadata": {
        "id": "-lG8qe4hAULh"
      },
      "source": [
        "## 모델평가없이 학습"
      ]
    },
    {
      "cell_type": "markdown",
      "metadata": {
        "id": "BP7lX2WnAULh"
      },
      "source": [
        "### 데이터 로딩"
      ]
    },
    {
      "cell_type": "code",
      "metadata": {
        "ExecuteTime": {
          "end_time": "2021-08-01T08:18:28.657347Z",
          "start_time": "2021-08-01T08:18:26.661236Z"
        },
        "id": "HRSH0aNbAULh",
        "outputId": "9eb98ddb-058b-47af-a839-7a0819228cad"
      },
      "source": [
        "# train/validation data 8:2 분할\n",
        "(train_x, train_y), (validation_x, validation_y), custom_labels = load_custom_data(\"data/2flowers_\")\n",
        "\n",
        "print(train_x.shape)\n",
        "print(train_y.shape)\n",
        "print(validation_x.shape)\n",
        "print(validation_y.shape)\n",
        "print(custom_labels)  "
      ],
      "execution_count": null,
      "outputs": [
        {
          "output_type": "stream",
          "text": [
            "(451, 224, 224, 3)\n",
            "(451,)\n",
            "(113, 224, 224, 3)\n",
            "(113,)\n",
            "['daisy' 'dandelion']\n"
          ],
          "name": "stdout"
        }
      ]
    },
    {
      "cell_type": "markdown",
      "metadata": {
        "id": "yFdVNnx5AULi"
      },
      "source": [
        "### 모델"
      ]
    },
    {
      "cell_type": "code",
      "metadata": {
        "ExecuteTime": {
          "end_time": "2021-08-01T08:18:28.766916Z",
          "start_time": "2021-08-01T08:18:28.658309Z"
        },
        "scrolled": false,
        "id": "FJTPigR3AULi",
        "outputId": "0a15c846-7dc0-4b51-ab36-f2b776ebcce2"
      },
      "source": [
        "# sequential 모델 호출\n",
        "model = keras.Sequential()\n",
        "\n",
        "# Vanila CNN\n",
        "model.add(Input((224,224,3)))\n",
        "model.add(Conv2D(32, (3, 3), strides = (1, 1), padding='same'))    # 224 x 224 x 32\n",
        "model.add(MaxPooling2D((2, 2)))   \n",
        "model.add(Conv2D(64, (3, 3), strides = (1, 1), padding='same'))    # 112 x 112 x 64\n",
        "model.add(MaxPooling2D((2, 2)))\n",
        "model.add(Conv2D(128, (3, 3), strides = (1, 1), padding='same'))   #  56 x 56 x 128\n",
        "model.add(MaxPooling2D((2, 2)))\n",
        "model.add(Conv2D(256, (3, 3), strides = (1, 1), padding='same'))   #  28 x 28 x 256\n",
        "model.add(MaxPooling2D((2, 2)))\n",
        "model.add(Conv2D(512, (3, 3), strides = (1, 1), padding='same'))   #  14 x 14 x 512\n",
        "model.add(MaxPooling2D((2, 2)))\n",
        "model.add(Conv2D(1024, (3, 3), strides = (1, 1), padding='same'))  #   7 x 7 x 1024\n",
        "model.add(MaxPooling2D((2, 2)))\n",
        "\n",
        "model.add(Flatten())            \n",
        "\n",
        "# DNN\n",
        "model.add(Dense(100, activation='relu', kernel_regularizer=l2(0.001)))\n",
        "model.add(BatchNormalization())\n",
        "model.add(layers.Dropout(0.5))\n",
        "model.add(Dense(100, activation='relu', kernel_regularizer=l2(0.001)))\n",
        "model.add(BatchNormalization())\n",
        "model.add(layers.Dropout(0.5))\n",
        "model.add(Dense(2, activation='softmax'))\n",
        "\n",
        "# 학습방식 환경설정\n",
        "model.compile(optimizer=\"adam\", loss=\"sparse_categorical_crossentropy\", metrics=[\"accuracy\"])\n",
        "\n",
        "# 모델 요약\n",
        "model.summary()"
      ],
      "execution_count": null,
      "outputs": [
        {
          "output_type": "stream",
          "text": [
            "WARNING:tensorflow:Please add `keras.layers.InputLayer` instead of `keras.Input` to Sequential model. `keras.Input` is intended to be used by Functional model.\n",
            "Model: \"sequential_4\"\n",
            "_________________________________________________________________\n",
            "Layer (type)                 Output Shape              Param #   \n",
            "=================================================================\n",
            "conv2d_6 (Conv2D)            (None, 224, 224, 32)      896       \n",
            "_________________________________________________________________\n",
            "max_pooling2d_6 (MaxPooling2 (None, 112, 112, 32)      0         \n",
            "_________________________________________________________________\n",
            "conv2d_7 (Conv2D)            (None, 112, 112, 64)      18496     \n",
            "_________________________________________________________________\n",
            "max_pooling2d_7 (MaxPooling2 (None, 56, 56, 64)        0         \n",
            "_________________________________________________________________\n",
            "conv2d_8 (Conv2D)            (None, 56, 56, 128)       73856     \n",
            "_________________________________________________________________\n",
            "max_pooling2d_8 (MaxPooling2 (None, 28, 28, 128)       0         \n",
            "_________________________________________________________________\n",
            "conv2d_9 (Conv2D)            (None, 28, 28, 256)       295168    \n",
            "_________________________________________________________________\n",
            "max_pooling2d_9 (MaxPooling2 (None, 14, 14, 256)       0         \n",
            "_________________________________________________________________\n",
            "conv2d_10 (Conv2D)           (None, 14, 14, 512)       1180160   \n",
            "_________________________________________________________________\n",
            "max_pooling2d_10 (MaxPooling (None, 7, 7, 512)         0         \n",
            "_________________________________________________________________\n",
            "conv2d_11 (Conv2D)           (None, 7, 7, 1024)        4719616   \n",
            "_________________________________________________________________\n",
            "max_pooling2d_11 (MaxPooling (None, 3, 3, 1024)        0         \n",
            "_________________________________________________________________\n",
            "flatten_4 (Flatten)          (None, 9216)              0         \n",
            "_________________________________________________________________\n",
            "dense_12 (Dense)             (None, 100)               921700    \n",
            "_________________________________________________________________\n",
            "batch_normalization_8 (Batch (None, 100)               400       \n",
            "_________________________________________________________________\n",
            "dropout_8 (Dropout)          (None, 100)               0         \n",
            "_________________________________________________________________\n",
            "dense_13 (Dense)             (None, 100)               10100     \n",
            "_________________________________________________________________\n",
            "batch_normalization_9 (Batch (None, 100)               400       \n",
            "_________________________________________________________________\n",
            "dropout_9 (Dropout)          (None, 100)               0         \n",
            "_________________________________________________________________\n",
            "dense_14 (Dense)             (None, 2)                 202       \n",
            "=================================================================\n",
            "Total params: 7,220,994\n",
            "Trainable params: 7,220,594\n",
            "Non-trainable params: 400\n",
            "_________________________________________________________________\n"
          ],
          "name": "stdout"
        }
      ]
    },
    {
      "cell_type": "code",
      "metadata": {
        "ExecuteTime": {
          "end_time": "2021-08-01T08:18:28.781876Z",
          "start_time": "2021-08-01T08:18:28.767914Z"
        },
        "id": "mOG13p3CAULi",
        "outputId": "adaa7eab-f0de-4c14-bbfe-fb22be9fb8fd"
      },
      "source": [
        "# 카테리고별 갯수 추출\n",
        "unique, counts = np.unique(train_y, return_counts = True)\n",
        "uniq_cnt_dict = dict(zip(unique, counts))\n",
        "uniq_cnt_dict"
      ],
      "execution_count": null,
      "outputs": [
        {
          "output_type": "execute_result",
          "data": {
            "text/plain": [
              "{0: 206, 1: 245}"
            ]
          },
          "metadata": {
            "tags": []
          },
          "execution_count": 28
        }
      ]
    },
    {
      "cell_type": "code",
      "metadata": {
        "ExecuteTime": {
          "end_time": "2021-08-01T08:18:28.796864Z",
          "start_time": "2021-08-01T08:18:28.782873Z"
        },
        "id": "mcqTZ3t0AULi",
        "outputId": "a0ab9b55-8981-43a3-a703-0f821d4d1651"
      },
      "source": [
        "# class_weight 설정\n",
        "class_weight ={0 : 1/uniq_cnt_dict[0], 1 : 1/uniq_cnt_dict[1] }\n",
        "class_weight"
      ],
      "execution_count": null,
      "outputs": [
        {
          "output_type": "execute_result",
          "data": {
            "text/plain": [
              "{0: 0.0048543689320388345, 1: 0.004081632653061225}"
            ]
          },
          "metadata": {
            "tags": []
          },
          "execution_count": 29
        }
      ]
    },
    {
      "cell_type": "markdown",
      "metadata": {
        "id": "8tibVNMpAULi"
      },
      "source": [
        "### 훈련"
      ]
    },
    {
      "cell_type": "code",
      "metadata": {
        "ExecuteTime": {
          "end_time": "2021-08-01T08:24:10.970178Z",
          "start_time": "2021-08-01T08:18:28.797834Z"
        },
        "id": "33IqbAuBAULj",
        "outputId": "0412d464-ed5f-444e-e3aa-c4366936292d"
      },
      "source": [
        "# 훈련\n",
        "hist = model.fit(\n",
        "      train_x,\n",
        "      train_y,\n",
        "      validation_data=(validation_x, validation_y), \n",
        "      shuffle=True, \n",
        "      batch_size=32,\n",
        "      epochs=200,\n",
        "      callbacks = callbacks,\n",
        "      class_weight = class_weight\n",
        ")\n",
        "\n",
        "# validation data 평가지표로 사용\n",
        "loss, acc = model.evaluate(  \n",
        "      validation_x,\n",
        "      validation_y\n",
        ")\n",
        "\n",
        "# 10번째 epochs부터 그림그리기\n",
        "plt.plot(hist.history['loss'][10:])\n",
        "plt.plot(hist.history['val_loss'][10:])\n",
        "plt.show()\n",
        "\n",
        "# 마지막 validation accuracy 호출 \n",
        "print(\"loss=\", loss)\n",
        "print(\"acc=\", acc)"
      ],
      "execution_count": null,
      "outputs": [
        {
          "output_type": "display_data",
          "data": {
            "image/png": "[encoded data removed]",
            "text/plain": [
              "<Figure size 432x288 with 1 Axes>"
            ]
          },
          "metadata": {
            "tags": [],
            "needs_background": "light"
          }
        },
        {
          "output_type": "stream",
          "text": [
            "loss =  0.003019991097971797 , val_loss =  0.5394092798233032\n",
            "acc =  None , val_acc =  None\n",
            "4/4 [==============================] - 0s 34ms/step - loss: 0.5394 - accuracy: 0.7876\n"
          ],
          "name": "stdout"
        },
        {
          "output_type": "display_data",
          "data": {
            "image/png": "[encoded data removed]",
            "text/plain": [
              "<Figure size 432x288 with 1 Axes>"
            ]
          },
          "metadata": {
            "tags": [],
            "needs_background": "light"
          }
        },
        {
          "output_type": "stream",
          "text": [
            "loss= 0.5394092798233032\n",
            "acc= 0.7876105904579163\n"
          ],
          "name": "stdout"
        }
      ]
    },
    {
      "cell_type": "markdown",
      "metadata": {
        "id": "wARVCd3MAULj"
      },
      "source": [
        "## 데이터 증강을 통한 학습"
      ]
    },
    {
      "cell_type": "markdown",
      "metadata": {
        "id": "LIFJw-PcAULj"
      },
      "source": [
        "### 데이터 증강"
      ]
    },
    {
      "cell_type": "code",
      "metadata": {
        "ExecuteTime": {
          "end_time": "2021-08-01T08:24:11.016604Z",
          "start_time": "2021-08-01T08:24:10.971175Z"
        },
        "scrolled": true,
        "id": "zK8WtXp9AULj",
        "outputId": "a921fe20-722b-48cf-81d9-c1c52092ffd1"
      },
      "source": [
        "# train data 로딩 & 증강\n",
        "train_data_generator = ImageDataGenerator(\n",
        "      rotation_range=10,\n",
        "      width_shift_range=0.1,\n",
        "      height_shift_range=0.1,\n",
        "      horizontal_flip=True,\n",
        "      vertical_flip=False,\n",
        ").flow_from_directory(\n",
        "      \"data/2flowers/train\",  # 8 : 2 비로 train, test data 폴더에 분류\n",
        "      target_size=(224,224),  # 212 : 252 = daisy : dandelion\n",
        "      batch_size=32,\n",
        "      class_mode='sparse'\n",
        ")\n",
        "\n",
        "# validation data 로딩\n",
        "validation_data_generator = ImageDataGenerator(\n",
        ").flow_from_directory(\n",
        "      \"data/2flowers/test\",   # 50 : 50 = daisy : dandelion\n",
        "      target_size=(224,224),\n",
        "      batch_size=32,\n",
        "      class_mode='sparse'\n",
        ")"
      ],
      "execution_count": null,
      "outputs": [
        {
          "output_type": "stream",
          "text": [
            "Found 464 images belonging to 2 classes.\n",
            "Found 100 images belonging to 2 classes.\n"
          ],
          "name": "stdout"
        }
      ]
    },
    {
      "cell_type": "markdown",
      "metadata": {
        "id": "Ogkxi45jAULj"
      },
      "source": [
        "### 모델"
      ]
    },
    {
      "cell_type": "code",
      "metadata": {
        "ExecuteTime": {
          "end_time": "2021-08-01T08:24:11.123772Z",
          "start_time": "2021-08-01T08:24:11.017602Z"
        },
        "id": "1uEOCdfcAULj",
        "outputId": "7236824f-cb81-48e1-a06d-d84680aba6b4"
      },
      "source": [
        "# seuqntial 모델 호출\n",
        "model = keras.Sequential()\n",
        "\n",
        "# Vanila CNN\n",
        "model.add(Input((224,224,3)))\n",
        "model.add(Conv2D(32, (3, 3), strides = (1, 1), padding='same'))    # 224 x 224 x 32\n",
        "model.add(MaxPooling2D((2, 2)))   \n",
        "model.add(Conv2D(64, (3, 3), strides = (1, 1), padding='same'))    # 112 x 112 x 64\n",
        "model.add(MaxPooling2D((2, 2)))\n",
        "model.add(Conv2D(128, (3, 3), strides = (1, 1), padding='same'))   #  56 x 56 x 128\n",
        "model.add(MaxPooling2D((2, 2)))\n",
        "model.add(Conv2D(256, (3, 3), strides = (1, 1), padding='same'))   #  28 x 28 x 256\n",
        "model.add(MaxPooling2D((2, 2)))\n",
        "model.add(Conv2D(512, (3, 3), strides = (1, 1), padding='same'))   #  14 x 14 x 512\n",
        "model.add(MaxPooling2D((2, 2)))\n",
        "model.add(Conv2D(1024, (3, 3), strides = (1, 1), padding='same'))  #   7 x 7 x 1024\n",
        "model.add(MaxPooling2D((2, 2)))\n",
        "\n",
        "model.add(Flatten())            \n",
        "\n",
        "# DNN\n",
        "model.add(Dense(200, activation='relu', kernel_regularizer=l2(0.001)))\n",
        "model.add(BatchNormalization())\n",
        "model.add(layers.Dropout(0.5))\n",
        "model.add(Dense(100, activation='relu', kernel_regularizer=l2(0.001)))\n",
        "model.add(BatchNormalization())\n",
        "model.add(layers.Dropout(0.5))\n",
        "model.add(Dense(2, activation='softmax'))\n",
        "\n",
        "# 학습방식 환경설정\n",
        "model.compile(optimizer=\"adam\", loss=\"sparse_categorical_crossentropy\", metrics=[\"accuracy\"])\n",
        "\n",
        "# 모델 요약\n",
        "model.summary()"
      ],
      "execution_count": null,
      "outputs": [
        {
          "output_type": "stream",
          "text": [
            "WARNING:tensorflow:Please add `keras.layers.InputLayer` instead of `keras.Input` to Sequential model. `keras.Input` is intended to be used by Functional model.\n",
            "Model: \"sequential_5\"\n",
            "_________________________________________________________________\n",
            "Layer (type)                 Output Shape              Param #   \n",
            "=================================================================\n",
            "conv2d_12 (Conv2D)           (None, 224, 224, 32)      896       \n",
            "_________________________________________________________________\n",
            "max_pooling2d_12 (MaxPooling (None, 112, 112, 32)      0         \n",
            "_________________________________________________________________\n",
            "conv2d_13 (Conv2D)           (None, 112, 112, 64)      18496     \n",
            "_________________________________________________________________\n",
            "max_pooling2d_13 (MaxPooling (None, 56, 56, 64)        0         \n",
            "_________________________________________________________________\n",
            "conv2d_14 (Conv2D)           (None, 56, 56, 128)       73856     \n",
            "_________________________________________________________________\n",
            "max_pooling2d_14 (MaxPooling (None, 28, 28, 128)       0         \n",
            "_________________________________________________________________\n",
            "conv2d_15 (Conv2D)           (None, 28, 28, 256)       295168    \n",
            "_________________________________________________________________\n",
            "max_pooling2d_15 (MaxPooling (None, 14, 14, 256)       0         \n",
            "_________________________________________________________________\n",
            "conv2d_16 (Conv2D)           (None, 14, 14, 512)       1180160   \n",
            "_________________________________________________________________\n",
            "max_pooling2d_16 (MaxPooling (None, 7, 7, 512)         0         \n",
            "_________________________________________________________________\n",
            "conv2d_17 (Conv2D)           (None, 7, 7, 1024)        4719616   \n",
            "_________________________________________________________________\n",
            "max_pooling2d_17 (MaxPooling (None, 3, 3, 1024)        0         \n",
            "_________________________________________________________________\n",
            "flatten_5 (Flatten)          (None, 9216)              0         \n",
            "_________________________________________________________________\n",
            "dense_15 (Dense)             (None, 200)               1843400   \n",
            "_________________________________________________________________\n",
            "batch_normalization_10 (Batc (None, 200)               800       \n",
            "_________________________________________________________________\n",
            "dropout_10 (Dropout)         (None, 200)               0         \n",
            "_________________________________________________________________\n",
            "dense_16 (Dense)             (None, 100)               20100     \n",
            "_________________________________________________________________\n",
            "batch_normalization_11 (Batc (None, 100)               400       \n",
            "_________________________________________________________________\n",
            "dropout_11 (Dropout)         (None, 100)               0         \n",
            "_________________________________________________________________\n",
            "dense_17 (Dense)             (None, 2)                 202       \n",
            "=================================================================\n",
            "Total params: 8,153,094\n",
            "Trainable params: 8,152,494\n",
            "Non-trainable params: 600\n",
            "_________________________________________________________________\n"
          ],
          "name": "stdout"
        }
      ]
    },
    {
      "cell_type": "code",
      "metadata": {
        "ExecuteTime": {
          "end_time": "2021-08-01T08:24:11.138732Z",
          "start_time": "2021-08-01T08:24:11.124770Z"
        },
        "id": "-DFaWogWAULk",
        "outputId": "d7c6f95b-d30d-4968-ace1-424831d13b43"
      },
      "source": [
        "# class_weight 설정\n",
        "# 212 : 252 = daisy : dandelion\n",
        "class_weight ={0 : 1/212, 1 : 1/252 }\n",
        "class_weight"
      ],
      "execution_count": null,
      "outputs": [
        {
          "output_type": "execute_result",
          "data": {
            "text/plain": [
              "{0: 0.0047169811320754715, 1: 0.003968253968253968}"
            ]
          },
          "metadata": {
            "tags": []
          },
          "execution_count": 33
        }
      ]
    },
    {
      "cell_type": "markdown",
      "metadata": {
        "id": "RIY2-YV4AULk"
      },
      "source": [
        "### 훈련 "
      ]
    },
    {
      "cell_type": "code",
      "metadata": {
        "ExecuteTime": {
          "end_time": "2021-08-01T08:33:18.251200Z",
          "start_time": "2021-08-01T08:24:11.139731Z"
        },
        "id": "YnjPFjh5AULk",
        "outputId": "29f27f25-3553-4334-d2e1-042ce5e6bf26"
      },
      "source": [
        "# 학습\n",
        "hist = model.fit(\n",
        "      train_data_generator,\n",
        "      validation_data=validation_data_generator,\n",
        "      steps_per_epoch=train_data_generator.samples/32,  \n",
        "      shuffle=True, \n",
        "      epochs=200,\n",
        "      callbacks = callbacks,\n",
        "      class_weight=class_weight\n",
        ")\n",
        "\n",
        "# validation data 평가지표로 사용\n",
        "loss, acc = model.evaluate(      \n",
        "      validation_data_generator,\n",
        "      steps=validation_data_generator.samples/32\n",
        ")\n",
        "\n",
        "# 10번째 epochs부터 그림그리기\n",
        "plt.plot(hist.history['loss'][10:])\n",
        "plt.plot(hist.history['val_loss'][10:])\n",
        "plt.show()\n",
        "\n",
        "# 마지막 validation accuracy 호출 \n",
        "print(\"loss=\", loss)\n",
        "print(\"acc=\", acc)"
      ],
      "execution_count": null,
      "outputs": [
        {
          "output_type": "display_data",
          "data": {
            "image/png": "[encoded data removed]",
            "text/plain": [
              "<Figure size 432x288 with 1 Axes>"
            ]
          },
          "metadata": {
            "tags": [],
            "needs_background": "light"
          }
        },
        {
          "output_type": "stream",
          "text": [
            "loss =  0.009775498881936073 , val_loss =  0.635054349899292\n",
            "acc =  None , val_acc =  None\n",
            "Epoch 00094: early stopping\n",
            "3/3 [==============================] - 0s 113ms/step - loss: 0.6351 - accuracy: 0.7300\n"
          ],
          "name": "stdout"
        },
        {
          "output_type": "display_data",
          "data": {
            "image/png": "[encoded data removed]",
            "text/plain": [
              "<Figure size 432x288 with 1 Axes>"
            ]
          },
          "metadata": {
            "tags": [],
            "needs_background": "light"
          }
        },
        {
          "output_type": "stream",
          "text": [
            "loss= 0.635054349899292\n",
            "acc= 0.7300000190734863\n"
          ],
          "name": "stdout"
        }
      ]
    }
  ]
}
