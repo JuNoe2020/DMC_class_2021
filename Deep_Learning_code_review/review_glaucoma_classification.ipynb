{
 "cells": [
  {
   "cell_type": "markdown",
   "metadata": {},
   "source": [
    "# VGG16 이미지 생성기로 모델학습"
   ]
  },
  {
   "cell_type": "code",
   "execution_count": 2,
   "metadata": {
    "collapsed": true
   },
   "outputs": [
    {
     "name": "stdout",
     "output_type": "stream",
     "text": [
      "Collecting tensorflow\n",
      "  Downloading tensorflow-2.5.0-cp38-cp38-win_amd64.whl (422.6 MB)\n",
      "Collecting absl-py~=0.10\n",
      "  Downloading absl_py-0.13.0-py3-none-any.whl (132 kB)\n",
      "Collecting keras-preprocessing~=1.1.2\n",
      "  Downloading Keras_Preprocessing-1.1.2-py2.py3-none-any.whl (42 kB)\n",
      "Collecting termcolor~=1.1.0\n",
      "  Downloading termcolor-1.1.0.tar.gz (3.9 kB)\n",
      "Collecting google-pasta~=0.2\n",
      "  Downloading google_pasta-0.2.0-py3-none-any.whl (57 kB)\n",
      "Collecting flatbuffers~=1.12.0\n",
      "  Downloading flatbuffers-1.12-py2.py3-none-any.whl (15 kB)\n",
      "Requirement already satisfied: typing-extensions~=3.7.4 in c:\\users\\junoe\\anaconda3\\lib\\site-packages (from tensorflow) (3.7.4.3)\n",
      "Requirement already satisfied: wheel~=0.35 in c:\\users\\junoe\\anaconda3\\lib\\site-packages (from tensorflow) (0.36.2)\n",
      "Collecting opt-einsum~=3.3.0\n",
      "  Downloading opt_einsum-3.3.0-py3-none-any.whl (65 kB)\n",
      "Collecting tensorboard~=2.5\n",
      "  Downloading tensorboard-2.5.0-py3-none-any.whl (6.0 MB)\n",
      "Collecting grpcio~=1.34.0\n",
      "  Downloading grpcio-1.34.1-cp38-cp38-win_amd64.whl (2.9 MB)\n",
      "Collecting protobuf>=3.9.2\n",
      "  Using cached protobuf-3.17.3-cp38-cp38-win_amd64.whl (909 kB)\n",
      "Collecting wrapt~=1.12.1\n",
      "  Downloading wrapt-1.12.1.tar.gz (27 kB)\n",
      "Collecting h5py~=3.1.0\n",
      "  Downloading h5py-3.1.0-cp38-cp38-win_amd64.whl (2.7 MB)\n",
      "Collecting tensorflow-estimator<2.6.0,>=2.5.0rc0\n",
      "  Downloading tensorflow_estimator-2.5.0-py2.py3-none-any.whl (462 kB)\n",
      "Collecting keras-nightly~=2.5.0.dev\n",
      "  Downloading keras_nightly-2.5.0.dev2021032900-py2.py3-none-any.whl (1.2 MB)\n",
      "Requirement already satisfied: numpy~=1.19.2 in c:\\users\\junoe\\anaconda3\\lib\\site-packages (from tensorflow) (1.19.2)\n",
      "Collecting gast==0.4.0\n",
      "  Downloading gast-0.4.0-py3-none-any.whl (9.8 kB)\n",
      "Requirement already satisfied: six~=1.15.0 in c:\\users\\junoe\\anaconda3\\lib\\site-packages (from tensorflow) (1.15.0)\n",
      "Collecting astunparse~=1.6.3\n",
      "  Downloading astunparse-1.6.3-py2.py3-none-any.whl (12 kB)\n",
      "Requirement already satisfied: setuptools>=41.0.0 in c:\\users\\junoe\\anaconda3\\lib\\site-packages (from tensorboard~=2.5->tensorflow) (57.1.0)\n",
      "Collecting google-auth<2,>=1.6.3\n",
      "  Downloading google_auth-1.33.0-py2.py3-none-any.whl (151 kB)\n",
      "Collecting tensorboard-data-server<0.7.0,>=0.6.0\n",
      "  Downloading tensorboard_data_server-0.6.1-py3-none-any.whl (2.4 kB)\n",
      "Requirement already satisfied: werkzeug>=0.11.15 in c:\\users\\junoe\\anaconda3\\lib\\site-packages (from tensorboard~=2.5->tensorflow) (1.0.1)\n",
      "Collecting markdown>=2.6.8\n",
      "  Downloading Markdown-3.3.4-py3-none-any.whl (97 kB)\n",
      "Collecting tensorboard-plugin-wit>=1.6.0\n",
      "  Downloading tensorboard_plugin_wit-1.8.0-py3-none-any.whl (781 kB)\n",
      "Collecting requests<3,>=2.21.0\n",
      "  Downloading requests-2.26.0-py2.py3-none-any.whl (62 kB)\n",
      "Collecting google-auth-oauthlib<0.5,>=0.4.1\n",
      "  Downloading google_auth_oauthlib-0.4.4-py2.py3-none-any.whl (18 kB)\n",
      "Collecting pyasn1-modules>=0.2.1\n",
      "  Downloading pyasn1_modules-0.2.8-py2.py3-none-any.whl (155 kB)\n",
      "Collecting rsa<5,>=3.1.4\n",
      "  Downloading rsa-4.7.2-py3-none-any.whl (34 kB)\n",
      "Collecting cachetools<5.0,>=2.0.0\n",
      "  Downloading cachetools-4.2.2-py3-none-any.whl (11 kB)\n",
      "Collecting requests-oauthlib>=0.7.0\n",
      "  Downloading requests_oauthlib-1.3.0-py2.py3-none-any.whl (23 kB)\n",
      "Collecting pyasn1<0.5.0,>=0.4.6\n",
      "  Downloading pyasn1-0.4.8-py2.py3-none-any.whl (77 kB)\n",
      "Collecting charset-normalizer~=2.0.0\n",
      "  Downloading charset_normalizer-2.0.3-py3-none-any.whl (35 kB)\n",
      "Requirement already satisfied: certifi>=2017.4.17 in c:\\users\\junoe\\anaconda3\\lib\\site-packages (from requests<3,>=2.21.0->tensorboard~=2.5->tensorflow) (2020.6.20)\n",
      "Requirement already satisfied: urllib3<1.27,>=1.21.1 in c:\\users\\junoe\\anaconda3\\lib\\site-packages (from requests<3,>=2.21.0->tensorboard~=2.5->tensorflow) (1.22)\n",
      "Requirement already satisfied: idna<4,>=2.5 in c:\\users\\junoe\\anaconda3\\lib\\site-packages (from requests<3,>=2.21.0->tensorboard~=2.5->tensorflow) (2.6)\n",
      "Collecting oauthlib>=3.0.0\n",
      "  Downloading oauthlib-3.1.1-py2.py3-none-any.whl (146 kB)\n",
      "Building wheels for collected packages: termcolor, wrapt\n",
      "  Building wheel for termcolor (setup.py): started\n",
      "  Building wheel for termcolor (setup.py): finished with status 'done'\n",
      "  Created wheel for termcolor: filename=termcolor-1.1.0-py3-none-any.whl size=4847 sha256=e1c364788dfcdbd5c3f52696f74dd2c511b46c47b7805da3425b44240fdfa5b5\n",
      "  Stored in directory: c:\\users\\junoe\\appdata\\local\\pip\\cache\\wheels\\a0\\16\\9c\\5473df82468f958445479c59e784896fa24f4a5fc024b0f501\n",
      "  Building wheel for wrapt (setup.py): started\n",
      "  Building wheel for wrapt (setup.py): finished with status 'done'\n",
      "  Created wheel for wrapt: filename=wrapt-1.12.1-py3-none-any.whl size=19571 sha256=f69f9277bd9645509569841667d057e0bf21e6913c6592ed23e713dca150cf61\n",
      "  Stored in directory: c:\\users\\junoe\\appdata\\local\\pip\\cache\\wheels\\5f\\fd\\9e\\b6cf5890494cb8ef0b5eaff72e5d55a70fb56316007d6dfe73\n",
      "Successfully built termcolor wrapt\n",
      "Installing collected packages: pyasn1, charset-normalizer, rsa, requests, pyasn1-modules, oauthlib, cachetools, requests-oauthlib, google-auth, tensorboard-plugin-wit, tensorboard-data-server, protobuf, markdown, grpcio, google-auth-oauthlib, absl-py, wrapt, termcolor, tensorflow-estimator, tensorboard, opt-einsum, keras-preprocessing, keras-nightly, h5py, google-pasta, gast, flatbuffers, astunparse, tensorflow\n",
      "  Attempting uninstall: requests\n",
      "    Found existing installation: requests 2.18.4\n",
      "    Uninstalling requests-2.18.4:\n",
      "      Successfully uninstalled requests-2.18.4\n",
      "  Attempting uninstall: wrapt\n",
      "    Found existing installation: wrapt 1.11.2\n",
      "    Uninstalling wrapt-1.11.2:\n",
      "      Successfully uninstalled wrapt-1.11.2\n",
      "  Attempting uninstall: h5py\n",
      "    Found existing installation: h5py 2.10.0\n",
      "    Uninstalling h5py-2.10.0:\n",
      "      Successfully uninstalled h5py-2.10.0\n",
      "Successfully installed absl-py-0.13.0 astunparse-1.6.3 cachetools-4.2.2 charset-normalizer-2.0.3 flatbuffers-1.12 gast-0.4.0 google-auth-1.33.0 google-auth-oauthlib-0.4.4 google-pasta-0.2.0 grpcio-1.34.1 h5py-3.1.0 keras-nightly-2.5.0.dev2021032900 keras-preprocessing-1.1.2 markdown-3.3.4 oauthlib-3.1.1 opt-einsum-3.3.0 protobuf-3.17.3 pyasn1-0.4.8 pyasn1-modules-0.2.8 requests-2.26.0 requests-oauthlib-1.3.0 rsa-4.7.2 tensorboard-2.5.0 tensorboard-data-server-0.6.1 tensorboard-plugin-wit-1.8.0 tensorflow-2.5.0 tensorflow-estimator-2.5.0 termcolor-1.1.0 wrapt-1.12.1\n"
     ]
    },
    {
     "name": "stderr",
     "output_type": "stream",
     "text": [
      "ERROR: pip's dependency resolver does not currently take into account all the packages that are installed. This behaviour is the source of the following dependency conflicts.\n",
      "conda 4.10.3 requires ruamel_yaml_conda>=0.11.14, which is not installed.\n",
      "conda-repo-cli 1.0.4 requires pathlib, which is not installed.\n"
     ]
    }
   ],
   "source": [
    "# !pip install tensorflow"
   ]
  },
  {
   "cell_type": "code",
   "execution_count": 1,
   "metadata": {
    "ExecuteTime": {
     "end_time": "2021-07-30T00:59:43.123712Z",
     "start_time": "2021-07-30T00:59:39.516177Z"
    }
   },
   "outputs": [
    {
     "name": "stdout",
     "output_type": "stream",
     "text": [
      "2.5.0\n"
     ]
    }
   ],
   "source": [
    "import tensorflow as tf\n",
    "print(tf.__version__)"
   ]
  },
  {
   "cell_type": "code",
   "execution_count": null,
   "metadata": {},
   "outputs": [],
   "source": [
    "# !pip uninstall -y h5py\n",
    "# !pip install -U h5py==2.10.0"
   ]
  },
  {
   "cell_type": "code",
   "execution_count": 2,
   "metadata": {
    "ExecuteTime": {
     "end_time": "2021-07-30T01:00:39.963179Z",
     "start_time": "2021-07-30T01:00:39.949743Z"
    }
   },
   "outputs": [],
   "source": [
    "# copy from https://gist.github.com/stared/dfb4dfaf6d9a8501cd1cc8b8cb806d2e\n",
    "from tensorflow.keras.callbacks import Callback\n",
    "from IPython.display import clear_output\n",
    "\n",
    "class PlotLosses(Callback):\n",
    "\n",
    "  def on_train_begin(self, logs={}):\n",
    "\n",
    "    self.i = 0\n",
    "    self.x = []\n",
    "    self.losses = []\n",
    "    self.val_losses = []\n",
    "\n",
    "    self.fig = plt.figure()\n",
    "\n",
    "    self.logs = []\n",
    "\n",
    "\n",
    "  def on_epoch_end(self, epoch, logs={}):\n",
    "\n",
    "    self.logs.append(logs)\n",
    "    self.x.append(self.i)\n",
    "    self.losses.append(logs.get('loss'))\n",
    "    self.val_losses.append(logs.get('val_loss'))\n",
    "    self.i += 1\n",
    "\n",
    "    clear_output(wait=True)\n",
    "    plt.plot(self.x, self.losses, label=\"loss\")\n",
    "    plt.plot(self.x, self.val_losses, label=\"val_loss\")\n",
    "    plt.legend()\n",
    "    plt.show();\n",
    "    print(\"loss = \", self.losses[-1], \", val_loss = \", self.val_losses[-1])\n",
    "\n"
   ]
  },
  {
   "cell_type": "markdown",
   "metadata": {},
   "source": [
    "### train/test 데이터 분리 방법\n",
    "---\n",
    " - 데이터의 카테고리 비율 normal은 394개, early 144개, advanced 233개\n",
    " - 카테고리 비율 차이가 2배 정도는 학습됨, 하지만 그 이상은 어렵다\n",
    " - 고양이:강아지 = 99:1 이라면 고양이가 강아지보다 99배 더 많이 학습됨\n",
    " - class_weights를 줘서 비율이 적은 카테고리의 학습률을 강하게 할 수 있음\n",
    " - train data 은 upsampling 하여 문제를 해결하기도 함\n",
    " ---\n",
    " - test data 는 한 카테고리당 최소 데이터 갯수는 100 개 이상\n",
    " - test data 는 downsampling으로 카테고리별로 데이터 갯수 맞추는 것 중요"
   ]
  },
  {
   "cell_type": "code",
   "execution_count": 3,
   "metadata": {
    "scrolled": true
   },
   "outputs": [
    {
     "data": {
      "image/png": "[encoded data removed]",
      "text/plain": [
       "<Figure size 432x288 with 1 Axes>"
      ]
     },
     "metadata": {
      "needs_background": "light"
     },
     "output_type": "display_data"
    },
    {
     "name": "stdout",
     "output_type": "stream",
     "text": [
      "loss =  1.058803677558899 , val_loss =  0.7919926643371582\n"
     ]
    },
    {
     "data": {
      "image/png": "[encoded data removed]",
      "text/plain": [
       "<Figure size 432x288 with 1 Axes>"
      ]
     },
     "metadata": {
      "needs_background": "light"
     },
     "output_type": "display_data"
    },
    {
     "name": "stderr",
     "output_type": "stream",
     "text": [
      "C:\\Users\\JuNoe\\anaconda3\\lib\\site-packages\\tensorflow\\python\\keras\\engine\\training.py:1973: UserWarning: `Model.evaluate_generator` is deprecated and will be removed in a future version. Please use `Model.evaluate`, which supports generators.\n",
      "  warnings.warn('`Model.evaluate_generator` is deprecated and '\n"
     ]
    },
    {
     "name": "stdout",
     "output_type": "stream",
     "text": [
      "loss= 0.7919926047325134\n",
      "acc= 0.7141008973121643\n"
     ]
    },
    {
     "name": "stderr",
     "output_type": "stream",
     "text": [
      "C:\\Users\\JuNoe\\anaconda3\\lib\\site-packages\\tensorflow\\python\\keras\\engine\\training.py:2001: UserWarning: `Model.predict_generator` is deprecated and will be removed in a future version. Please use `Model.predict`, which supports generators.\n",
      "  warnings.warn('`Model.predict_generator` is deprecated and '\n"
     ]
    },
    {
     "name": "stdout",
     "output_type": "stream",
     "text": [
      "predicted category index = 2\n",
      "predicted category name = normal\n"
     ]
    }
   ],
   "source": [
    "import os\n",
    "\n",
    "import matplotlib.pyplot as plt\n",
    "from matplotlib import pyplot\n",
    "import numpy as np\n",
    "\n",
    "from tensorflow.keras import optimizers\n",
    "from tensorflow.keras import models\n",
    "from tensorflow.keras import layers\n",
    "from tensorflow.keras import optimizers\n",
    "from tensorflow.keras.models import Sequential\n",
    "from tensorflow.keras.layers import Dropout, Flatten, Dense\n",
    "from tensorflow.keras.models import Model\n",
    "from tensorflow.keras.preprocessing.image import ImageDataGenerator\n",
    "from tensorflow.keras.preprocessing.image import load_img\n",
    "from tensorflow.keras.preprocessing.image import img_to_array\n",
    "\n",
    "from tensorflow.keras.applications import vgg16\n",
    "from tensorflow.keras.applications import VGG16\n",
    "\n",
    "from tensorflow.keras.callbacks import ModelCheckpoint, EarlyStopping, ReduceLROnPlateau\n",
    "\n",
    "# callbacks\n",
    "model_check_point = ModelCheckpoint('best_model.h5', monitor='val_loss', mode='min', save_best_only=True)\n",
    "plot_losses = PlotLosses()\n",
    "early_stopping = EarlyStopping(monitor='val_loss', mode='min', verbose=1, patience=20)\n",
    "reduce_lr = ReduceLROnPlateau(monitor='val_loss', factor=0.2, patience=5, min_lr=0.001)\n",
    "\n",
    "callbacks = [model_check_point, plot_losses, early_stopping, reduce_lr]\n",
    "\n",
    "\n",
    "\n",
    "conv_layers = VGG16(weights='imagenet', include_top=False, input_shape=(224, 224, 3))\n",
    "conv_layers.trainable = False\n",
    "\n",
    "model = models.Sequential()\n",
    "\n",
    "model.add(conv_layers)\n",
    "model.add(layers.Flatten())\n",
    "model.add(layers.Dense(1024, activation='relu'))\n",
    "model.add(layers.Dropout(0.5))\n",
    "# model.add(layers.Dense(10, activation='softmax'))\n",
    "model.add(layers.Dense(3, activation='softmax'))\n",
    "\n",
    "model.compile(loss='sparse_categorical_crossentropy', optimizer=\"RMSprop\", metrics=['acc'])\n",
    "\n",
    "\n",
    "train_data_generator = ImageDataGenerator(\n",
    "      rotation_range=10,\n",
    "      width_shift_range=0.1,\n",
    "      height_shift_range=0.1,\n",
    "      horizontal_flip=True,\n",
    "      vertical_flip=False,\n",
    "      preprocessing_function=vgg16.preprocess_input  # vgg16 전용 데이터전처리\n",
    "    # https://www.tensorflow.org/api_docs/python/tf/keras/applications/vgg16/preprocess_input\n",
    ").flow_from_directory(   # https://keras.io/api/preprocessing/image/\n",
    "    \n",
    "#       \"dogs_prepared/train\",\n",
    "      \"data/train\", # 디렉토리에는 서브디렉토리들이 있고 각 서브디렉토리에 카테고리 클래스들이\n",
    "                    # 분류되어 들어가 있어야한다.\n",
    "                    # 그러면 자동으로 y값인 라벨이 붙여진다.\n",
    "    \n",
    "      target_size=(224,224), # (height, width)\n",
    "                             # default = (256, 256)\n",
    "                             # 2차원 데이터의 사이즈를 조정함\n",
    "    \n",
    "      batch_size=64,    # 데이터를 GPU코어에 몇 개씩 호출할 것인지 결정\n",
    "    \n",
    "      class_mode='sparse'  # 'sparse'는 1D integer labels\n",
    "                           # 'binary'는 1D binary labels\n",
    "                           # 'categorical'는 2D one-hot encoded labels\n",
    "                           # 'input'는 input 이미지와 같은 값(=autoencoder)\n",
    "                           # 입력하지 않으면 어떤 라벨도 붙지 않고 batch size 만큼의\n",
    "                           # 이미지 데이터를 생성한다. model.predict()에 유용\n",
    ")\n",
    "\n",
    "test_data_generator = ImageDataGenerator(\n",
    "      preprocessing_function=vgg16.preprocess_input\n",
    ").flow_from_directory(\n",
    "#       \"dogs_prepared/test\",\n",
    "      \"data/test\",  \n",
    "      target_size=(224,224),\n",
    "      batch_size=64,\n",
    "      class_mode='sparse'\n",
    ")\n",
    "\n",
    "\n",
    "history = model.fit_generator(  # https://keras.io/ko/models/sequential/\n",
    "      train_data_generator,\n",
    "      validation_data=test_data_generator,\n",
    "      steps_per_epoch=train_data_generator.samples/64,  # 모든 클래스의 총 데이터 갯수/배치사이즈\n",
    "      validation_steps=test_data_generator.samples/64,      \n",
    "      epochs=10,\n",
    "      verbose=1,\n",
    "      callbacks=callbacks\n",
    ")\n",
    "\n",
    "pyplot.plot(history.history['loss'], label='train_loss')\n",
    "pyplot.plot(history.history['val_loss'], label='test_loss')\n",
    "pyplot.legend()\n",
    "pyplot.show()\n",
    "\n",
    "loss, acc = model.evaluate_generator(  \n",
    "      test_data_generator,   # 이미지생성기로 데이터를 만들어내기 때문에 validation_data와 같은 \n",
    "                             # 방식으로 이용해도 된다. 하지만 정말로 다른 데이터를 만드는지 의문(?)\n",
    "      steps=test_data_generator.samples/64 # steps: 평가가 한 회 완료되었음을 선언하기까지\n",
    "                                           # 단계(샘플 배치)의 총 개수,\n",
    "                                           # 디폴트 값인 None의 경우 고려되지 않는다.\n",
    ")\n",
    "print(\"loss=\", loss)\n",
    "print(\"acc=\", acc)\n",
    "\n",
    "y_ = model.predict_generator(\n",
    "      test_data_generator,\n",
    "      steps=test_data_generator.samples/64\n",
    ")\n",
    "\n",
    "custom_labels = list(test_data_generator.class_indices.keys()) \n",
    "# flow_from_directory의 class_indices 속성은 클래스 이름과 클래스 색인 간 매핑을 담은\n",
    "# 딕셔너리를 얻을 수 있다.\n",
    "# {'advanced': 0, 'early': 1, 'normal': 2}\n",
    "                                                               \n",
    "predicted = np.argmax(y_, axis=1)\n",
    "print(\"predicted category index =\", predicted[0])\n",
    "print(\"predicted category name =\", custom_labels[predicted[0]])\n"
   ]
  },
  {
   "cell_type": "markdown",
   "metadata": {
    "ExecuteTime": {
     "end_time": "2021-07-30T06:32:56.475443Z",
     "start_time": "2021-07-30T06:32:56.463571Z"
    }
   },
   "source": [
    "### y_ 값\n",
    "```\n",
    "y_\n",
    "\n",
    "array([[9.85726595e-01, 1.41775580e-02, 9.58487071e-05],\n",
    "       [4.16354858e-04, 6.96324976e-04, 9.98887360e-01],\n",
    "       [1.31447456e-16, 3.58788079e-14, 1.00000000e+00],\n",
    "       [6.68997109e-01, 2.94169903e-01, 3.68329771e-02],\n",
    "       [1.17545040e-23, 6.31817475e-21, 1.00000000e+00],\n",
    "       [7.31577575e-02, 8.58776927e-01, 6.80653527e-02],\n",
    "       [6.30605013e-10, 5.45418433e-10, 1.00000000e+00],\n",
    "```"
   ]
  },
  {
   "cell_type": "markdown",
   "metadata": {},
   "source": [
    "## bach_size를 16으로 변경"
   ]
  },
  {
   "cell_type": "code",
   "execution_count": 9,
   "metadata": {
    "scrolled": false
   },
   "outputs": [
    {
     "data": {
      "image/png": "[encoded data removed]",
      "text/plain": [
       "<Figure size 432x288 with 1 Axes>"
      ]
     },
     "metadata": {
      "needs_background": "light"
     },
     "output_type": "display_data"
    },
    {
     "name": "stdout",
     "output_type": "stream",
     "text": [
      "loss =  1.0176430940628052 , val_loss =  3.182697057723999\n",
      "Epoch 00040: early stopping\n"
     ]
    },
    {
     "data": {
      "image/png": "[encoded data removed]",
      "text/plain": [
       "<Figure size 432x288 with 1 Axes>"
      ]
     },
     "metadata": {
      "needs_background": "light"
     },
     "output_type": "display_data"
    },
    {
     "name": "stdout",
     "output_type": "stream",
     "text": [
      "loss= 2.7079951763153076\n",
      "acc= 0.6057692170143127\n",
      "predicted category index = 2\n",
      "predicted category name = normal\n"
     ]
    }
   ],
   "source": [
    "import os\n",
    "\n",
    "import matplotlib.pyplot as plt\n",
    "from matplotlib import pyplot\n",
    "import numpy as np\n",
    "\n",
    "from tensorflow.keras import optimizers\n",
    "from tensorflow.keras import models\n",
    "from tensorflow.keras import layers\n",
    "from tensorflow.keras import optimizers\n",
    "from tensorflow.keras.models import Sequential\n",
    "from tensorflow.keras.layers import Dropout, Flatten, Dense\n",
    "from tensorflow.keras.models import Model\n",
    "from tensorflow.keras.preprocessing.image import ImageDataGenerator\n",
    "from tensorflow.keras.preprocessing.image import load_img\n",
    "from tensorflow.keras.preprocessing.image import img_to_array\n",
    "\n",
    "from tensorflow.keras.applications import vgg16\n",
    "from tensorflow.keras.applications import VGG16\n",
    "\n",
    "from tensorflow.keras.callbacks import ModelCheckpoint, EarlyStopping, ReduceLROnPlateau\n",
    "\n",
    "# callbacks\n",
    "model_check_point = ModelCheckpoint('best_model.h5', monitor='val_loss', mode='min', save_best_only=True)\n",
    "plot_losses = PlotLosses()\n",
    "early_stopping = EarlyStopping(monitor='val_loss', mode='min', verbose=1, patience=10)\n",
    "reduce_lr = ReduceLROnPlateau(monitor='val_loss', factor=0.2, patience=5, min_lr=0.001)\n",
    "\n",
    "callbacks = [model_check_point, plot_losses, early_stopping, reduce_lr]\n",
    "\n",
    "\n",
    "\n",
    "conv_layers = VGG16(weights='imagenet', include_top=False, input_shape=(224, 224, 3))\n",
    "conv_layers.trainable = False\n",
    "\n",
    "model = models.Sequential()\n",
    "\n",
    "model.add(conv_layers)\n",
    "model.add(layers.Flatten())\n",
    "model.add(layers.Dense(1024, activation='relu'))\n",
    "model.add(layers.Dropout(0.5))\n",
    "# model.add(layers.Dense(10, activation='softmax'))\n",
    "model.add(layers.Dense(3, activation='softmax'))\n",
    "\n",
    "model.compile(loss='sparse_categorical_crossentropy', optimizer=\"RMSprop\", metrics=['acc'])\n",
    "\n",
    "\n",
    "train_data_generator = ImageDataGenerator(\n",
    "      rotation_range=10,\n",
    "      width_shift_range=0.1,\n",
    "      height_shift_range=0.1,\n",
    "      horizontal_flip=True,\n",
    "      vertical_flip=False,\n",
    "      preprocessing_function=vgg16.preprocess_input\n",
    ").flow_from_directory(\n",
    "#       \"dogs_prepared/train\",\n",
    "      \"data/train\",\n",
    "      target_size=(224,224),\n",
    "      batch_size=16,\n",
    "      class_mode='sparse'\n",
    ")\n",
    "\n",
    "test_data_generator = ImageDataGenerator(\n",
    "      preprocessing_function=vgg16.preprocess_input\n",
    ").flow_from_directory(\n",
    "#       \"dogs_prepared/test\",\n",
    "      \"data/test\",\n",
    "      target_size=(224,224),\n",
    "      batch_size=16,\n",
    "      class_mode='sparse'\n",
    ")\n",
    "\n",
    "\n",
    "history = model.fit_generator(\n",
    "      train_data_generator,\n",
    "      validation_data=test_data_generator,\n",
    "      steps_per_epoch=train_data_generator.samples/64,  \n",
    "      validation_steps=test_data_generator.samples/64,      \n",
    "      epochs=200,\n",
    "      verbose=1,\n",
    "      callbacks=callbacks\n",
    ")\n",
    "\n",
    "pyplot.plot(history.history['loss'], label='train_loss')\n",
    "pyplot.plot(history.history['val_loss'], label='test_loss')\n",
    "pyplot.legend()\n",
    "pyplot.show()\n",
    "\n",
    "loss, acc = model.evaluate_generator(\n",
    "      test_data_generator,\n",
    "      steps=test_data_generator.samples/64\n",
    ")\n",
    "print(\"loss=\", loss)\n",
    "print(\"acc=\", acc)\n",
    "\n",
    "y_ = model.predict_generator(\n",
    "      test_data_generator,\n",
    "      steps=test_data_generator.samples/64\n",
    ")\n",
    "\n",
    "custom_labels = list(test_data_generator.class_indices.keys()) # ADDED\n",
    "predicted = np.argmax(y_, axis=1)\n",
    "print(\"predicted category index =\", predicted[0])\n",
    "print(\"predicted category name =\", custom_labels[predicted[0]])\n"
   ]
  },
  {
   "cell_type": "code",
   "execution_count": 10,
   "metadata": {
    "scrolled": true
   },
   "outputs": [
    {
     "name": "stdout",
     "output_type": "stream",
     "text": [
      "[name: \"/device:CPU:0\"\n",
      "device_type: \"CPU\"\n",
      "memory_limit: 268435456\n",
      "locality {\n",
      "}\n",
      "incarnation: 1338070820966703560\n",
      ", name: \"/device:GPU:0\"\n",
      "device_type: \"GPU\"\n",
      "memory_limit: 4848943104\n",
      "locality {\n",
      "  bus_id: 1\n",
      "  links {\n",
      "  }\n",
      "}\n",
      "incarnation: 13773781042848717418\n",
      "physical_device_desc: \"device: 0, name: NVIDIA GeForce GTX 1060 6GB, pci bus id: 0000:01:00.0, compute capability: 6.1\"\n",
      "]\n"
     ]
    }
   ],
   "source": [
    "# GPU 확인 코드\n",
    "from tensorflow.python.client import device_lib\n",
    "print(device_lib.list_local_devices())"
   ]
  },
  {
   "cell_type": "markdown",
   "metadata": {},
   "source": [
    "# DenseNet 이미지 생성기로 모델학습"
   ]
  },
  {
   "cell_type": "code",
   "execution_count": 3,
   "metadata": {
    "ExecuteTime": {
     "end_time": "2021-07-30T04:08:11.526167Z",
     "start_time": "2021-07-30T04:05:24.480503Z"
    }
   },
   "outputs": [
    {
     "data": {
      "image/png": "[encoded data removed]",
      "text/plain": [
       "<Figure size 432x288 with 1 Axes>"
      ]
     },
     "metadata": {
      "needs_background": "light"
     },
     "output_type": "display_data"
    },
    {
     "name": "stdout",
     "output_type": "stream",
     "text": [
      "loss =  0.744613528251648 , val_loss =  1.3833425045013428\n",
      "Epoch 00037: early stopping\n"
     ]
    },
    {
     "data": {
      "image/png": "[encoded data removed]",
      "text/plain": [
       "<Figure size 432x288 with 1 Axes>"
      ]
     },
     "metadata": {
      "needs_background": "light"
     },
     "output_type": "display_data"
    },
    {
     "name": "stderr",
     "output_type": "stream",
     "text": [
      "C:\\Users\\JuNoe\\anaconda3\\lib\\site-packages\\tensorflow\\python\\keras\\engine\\training.py:1973: UserWarning: `Model.evaluate_generator` is deprecated and will be removed in a future version. Please use `Model.evaluate`, which supports generators.\n",
      "  warnings.warn('`Model.evaluate_generator` is deprecated and '\n"
     ]
    },
    {
     "name": "stdout",
     "output_type": "stream",
     "text": [
      "loss= 1.2806625366210938\n",
      "acc= 0.5817307829856873\n"
     ]
    },
    {
     "name": "stderr",
     "output_type": "stream",
     "text": [
      "C:\\Users\\JuNoe\\anaconda3\\lib\\site-packages\\tensorflow\\python\\keras\\engine\\training.py:2001: UserWarning: `Model.predict_generator` is deprecated and will be removed in a future version. Please use `Model.predict`, which supports generators.\n",
      "  warnings.warn('`Model.predict_generator` is deprecated and '\n"
     ]
    },
    {
     "name": "stdout",
     "output_type": "stream",
     "text": [
      "predicted category index = 0\n",
      "predicted category name = advanced\n"
     ]
    }
   ],
   "source": [
    "import os\n",
    "\n",
    "import matplotlib.pyplot as plt\n",
    "from matplotlib import pyplot\n",
    "import numpy as np\n",
    "\n",
    "from tensorflow.keras import optimizers\n",
    "from tensorflow.keras import models\n",
    "from tensorflow.keras import layers\n",
    "from tensorflow.keras import optimizers\n",
    "from tensorflow.keras.models import Sequential\n",
    "from tensorflow.keras.layers import Dropout, Flatten, Dense\n",
    "from tensorflow.keras.models import Model\n",
    "from tensorflow.keras.preprocessing.image import ImageDataGenerator\n",
    "from tensorflow.keras.preprocessing.image import load_img\n",
    "from tensorflow.keras.preprocessing.image import img_to_array\n",
    "\n",
    "# from tensorflow.keras.applications import vgg16\n",
    "# from tensorflow.keras.applications import VGG16\n",
    "from tensorflow.keras.applications import densenet   # Densenet library\n",
    "from tensorflow.keras.applications.densenet import DenseNet121\n",
    "\n",
    "from tensorflow.keras.callbacks import ModelCheckpoint, EarlyStopping, ReduceLROnPlateau\n",
    "\n",
    "# callbacks\n",
    "model_check_point = ModelCheckpoint('best_model.h5', monitor='val_loss', mode='min', save_best_only=True)\n",
    "plot_losses = PlotLosses()\n",
    "early_stopping = EarlyStopping(monitor='val_loss', mode='min', verbose=1, patience=10)\n",
    "reduce_lr = ReduceLROnPlateau(monitor='val_loss', factor=0.2, patience=5, min_lr=0.001)\n",
    "\n",
    "callbacks = [model_check_point, plot_losses, early_stopping, reduce_lr]\n",
    "\n",
    "\n",
    "\n",
    "conv_layers = DenseNet121(weights='imagenet', include_top=False, input_shape=(224, 224, 3))\n",
    "conv_layers.trainable = False\n",
    "\n",
    "model = models.Sequential()\n",
    "\n",
    "model.add(conv_layers)\n",
    "model.add(layers.Flatten())\n",
    "model.add(layers.Dense(1024, activation='relu'))\n",
    "model.add(layers.Dropout(0.5))\n",
    "model.add(layers.Dense(3, activation='softmax'))\n",
    "\n",
    "model.compile(loss='sparse_categorical_crossentropy', optimizer=\"RMSprop\", metrics=['acc'])\n",
    "\n",
    "\n",
    "train_data_generator = ImageDataGenerator(\n",
    "      rotation_range=10,\n",
    "      width_shift_range=0.1,\n",
    "      height_shift_range=0.1,\n",
    "      horizontal_flip=True,\n",
    "      vertical_flip=False,\n",
    "      preprocessing_function=densenet.preprocess_input # densenet 전용 데이터 전처리\n",
    ").flow_from_directory(\n",
    "      \"data/train\",\n",
    "      target_size=(224,224),\n",
    "      batch_size=16,\n",
    "      class_mode='sparse'\n",
    ")\n",
    "\n",
    "test_data_generator = ImageDataGenerator(\n",
    "      preprocessing_function=densenet.preprocess_input # densenet 전용 데이터 전처리\n",
    ").flow_from_directory(\n",
    "      \"data/test\",\n",
    "      target_size=(224,224),\n",
    "      batch_size=16,\n",
    "      class_mode='sparse'\n",
    ")\n",
    "\n",
    "history = model.fit_generator(\n",
    "      train_data_generator,\n",
    "      validation_data=test_data_generator,\n",
    "      steps_per_epoch=train_data_generator.samples/64,  \n",
    "      validation_steps=test_data_generator.samples/64,      \n",
    "      epochs=200,\n",
    "      verbose=1,\n",
    "      callbacks=callbacks\n",
    ")\n",
    "\n",
    "pyplot.plot(history.history['loss'], label='train_loss')\n",
    "pyplot.plot(history.history['val_loss'], label='test_loss')\n",
    "pyplot.legend()\n",
    "pyplot.show()\n",
    "\n",
    "loss, acc = model.evaluate_generator(\n",
    "      test_data_generator,\n",
    "      steps=test_data_generator.samples/64\n",
    ")\n",
    "print(\"loss=\", loss)\n",
    "print(\"acc=\", acc)\n",
    "\n",
    "y_ = model.predict_generator(\n",
    "      test_data_generator,\n",
    "      steps=test_data_generator.samples/64\n",
    ")\n",
    "\n",
    "custom_labels = list(test_data_generator.class_indices.keys()) # ADDED\n",
    "predicted = np.argmax(y_, axis=1)\n",
    "print(\"predicted category index =\", predicted[0])\n",
    "print(\"predicted category name =\", custom_labels[predicted[0]])\n"
   ]
  },
  {
   "cell_type": "code",
   "execution_count": null,
   "metadata": {},
   "outputs": [],
   "source": []
  }
 ],
 "metadata": {
  "kernelspec": {
   "display_name": "Python 3",
   "language": "python",
   "name": "python3"
  },
  "language_info": {
   "codemirror_mode": {
    "name": "ipython",
    "version": 3
   },
   "file_extension": ".py",
   "mimetype": "text/x-python",
   "name": "python",
   "nbconvert_exporter": "python",
   "pygments_lexer": "ipython3",
   "version": "3.8.5"
  },
  "toc": {
   "base_numbering": 1,
   "nav_menu": {},
   "number_sections": true,
   "sideBar": true,
   "skip_h1_title": false,
   "title_cell": "Table of Contents",
   "title_sidebar": "Contents",
   "toc_cell": false,
   "toc_position": {},
   "toc_section_display": true,
   "toc_window_display": true
  }
 },
 "nbformat": 4,
 "nbformat_minor": 4
}
