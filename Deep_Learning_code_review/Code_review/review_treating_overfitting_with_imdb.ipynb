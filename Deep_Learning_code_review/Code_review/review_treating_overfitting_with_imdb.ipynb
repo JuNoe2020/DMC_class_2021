{
 "cells": [
  {
   "cell_type": "code",
   "execution_count": null,
   "metadata": {
    "colab": {
     "base_uri": "https://localhost:8080/"
    },
    "id": "QvT6QNqoKOXG",
    "outputId": "061647a6-057c-43f8-a665-35d4b2b42b63"
   },
   "outputs": [
    {
     "name": "stdout",
     "output_type": "stream",
     "text": [
      "TensorFlow 1.x selected.\n"
     ]
    }
   ],
   "source": [
    "%tensorflow_version 1.x"
   ]
  },
  {
   "cell_type": "markdown",
   "metadata": {
    "id": "C9HmC2T4ld5B"
   },
   "source": [
    "# 오버피팅 처리. IMDB 데이터\n",
    "\n",
    "copy from https://www.tensorflow.org/tutorials/keras/overfit_and_underfit?hl=ko\n"
   ]
  },
  {
   "cell_type": "code",
   "execution_count": 1,
   "metadata": {
    "id": "5pZ8A2liqvgk"
   },
   "outputs": [],
   "source": [
    "import tensorflow as tf\n",
    "from tensorflow import keras\n",
    "\n",
    "import numpy as np\n",
    "import matplotlib.pyplot as plt"
   ]
  },
  {
   "cell_type": "markdown",
   "metadata": {
    "id": "-d3335KZKWke"
   },
   "source": [
    "# 데이터 준비"
   ]
  },
  {
   "cell_type": "code",
   "execution_count": 2,
   "metadata": {
    "id": "aRl8BwQhKVSy"
   },
   "outputs": [],
   "source": [
    "NUM_WORDS = 1000"
   ]
  },
  {
   "cell_type": "code",
   "execution_count": 3,
   "metadata": {
    "colab": {
     "base_uri": "https://localhost:8080/"
    },
    "id": "PkZfm42fKyx5",
    "outputId": "aeca07d2-769d-4b1d-9238-c0836edfec32",
    "scrolled": true
   },
   "outputs": [
    {
     "name": "stderr",
     "output_type": "stream",
     "text": [
      "<__array_function__ internals>:5: VisibleDeprecationWarning: Creating an ndarray from ragged nested sequences (which is a list-or-tuple of lists-or-tuples-or ndarrays with different lengths or shapes) is deprecated. If you meant to do this, you must specify 'dtype=object' when creating the ndarray\n",
      "C:\\Users\\JuNoe\\anaconda3\\lib\\site-packages\\tensorflow\\python\\keras\\datasets\\imdb.py:155: VisibleDeprecationWarning: Creating an ndarray from ragged nested sequences (which is a list-or-tuple of lists-or-tuples-or ndarrays with different lengths or shapes) is deprecated. If you meant to do this, you must specify 'dtype=object' when creating the ndarray\n",
      "  x_train, y_train = np.array(xs[:idx]), np.array(labels[:idx])\n"
     ]
    },
    {
     "name": "stdout",
     "output_type": "stream",
     "text": [
      "(25000,)\n",
      "(25000,)\n",
      "(25000,)\n",
      "(25000,)\n"
     ]
    },
    {
     "name": "stderr",
     "output_type": "stream",
     "text": [
      "C:\\Users\\JuNoe\\anaconda3\\lib\\site-packages\\tensorflow\\python\\keras\\datasets\\imdb.py:156: VisibleDeprecationWarning: Creating an ndarray from ragged nested sequences (which is a list-or-tuple of lists-or-tuples-or ndarrays with different lengths or shapes) is deprecated. If you meant to do this, you must specify 'dtype=object' when creating the ndarray\n",
      "  x_test, y_test = np.array(xs[idx:]), np.array(labels[idx:])\n"
     ]
    }
   ],
   "source": [
    "(raw_train_x, raw_train_y), (raw_test_x, raw_test_y) = tf.keras.datasets.imdb.load_data(num_words=NUM_WORDS)\n",
    "\n",
    "print(raw_train_x.shape)\n",
    "print(raw_train_y.shape)\n",
    "print(raw_test_x.shape)\n",
    "print(raw_test_y.shape)"
   ]
  },
  {
   "cell_type": "code",
   "execution_count": 6,
   "metadata": {
    "colab": {
     "base_uri": "https://localhost:8080/"
    },
    "id": "CO1KFBtwK84Z",
    "outputId": "d0d36970-d900-4db9-89f2-ca171b95a241"
   },
   "outputs": [
    {
     "name": "stdout",
     "output_type": "stream",
     "text": [
      "[list([1, 14, 22, 16, 43, 530, 973, 2, 2, 65, 458, 2, 66, 2, 4, 173, 36, 256, 5, 25, 100, 43, 838, 112, 50, 670, 2, 9, 35, 480, 284, 5, 150, 4, 172, 112, 167, 2, 336, 385, 39, 4, 172, 2, 2, 17, 546, 38, 13, 447, 4, 192, 50, 16, 6, 147, 2, 19, 14, 22, 4, 2, 2, 469, 4, 22, 71, 87, 12, 16, 43, 530, 38, 76, 15, 13, 2, 4, 22, 17, 515, 17, 12, 16, 626, 18, 2, 5, 62, 386, 12, 8, 316, 8, 106, 5, 4, 2, 2, 16, 480, 66, 2, 33, 4, 130, 12, 16, 38, 619, 5, 25, 124, 51, 36, 135, 48, 25, 2, 33, 6, 22, 12, 215, 28, 77, 52, 5, 14, 407, 16, 82, 2, 8, 4, 107, 117, 2, 15, 256, 4, 2, 7, 2, 5, 723, 36, 71, 43, 530, 476, 26, 400, 317, 46, 7, 4, 2, 2, 13, 104, 88, 4, 381, 15, 297, 98, 32, 2, 56, 26, 141, 6, 194, 2, 18, 4, 226, 22, 21, 134, 476, 26, 480, 5, 144, 30, 2, 18, 51, 36, 28, 224, 92, 25, 104, 4, 226, 65, 16, 38, 2, 88, 12, 16, 283, 5, 16, 2, 113, 103, 32, 15, 16, 2, 19, 178, 32])\n",
      " list([1, 194, 2, 194, 2, 78, 228, 5, 6, 2, 2, 2, 134, 26, 4, 715, 8, 118, 2, 14, 394, 20, 13, 119, 954, 189, 102, 5, 207, 110, 2, 21, 14, 69, 188, 8, 30, 23, 7, 4, 249, 126, 93, 4, 114, 9, 2, 2, 5, 647, 4, 116, 9, 35, 2, 4, 229, 9, 340, 2, 4, 118, 9, 4, 130, 2, 19, 4, 2, 5, 89, 29, 952, 46, 37, 4, 455, 9, 45, 43, 38, 2, 2, 398, 4, 2, 26, 2, 5, 163, 11, 2, 2, 4, 2, 9, 194, 775, 7, 2, 2, 349, 2, 148, 605, 2, 2, 15, 123, 125, 68, 2, 2, 15, 349, 165, 2, 98, 5, 4, 228, 9, 43, 2, 2, 15, 299, 120, 5, 120, 174, 11, 220, 175, 136, 50, 9, 2, 228, 2, 5, 2, 656, 245, 2, 5, 4, 2, 131, 152, 491, 18, 2, 32, 2, 2, 14, 9, 6, 371, 78, 22, 625, 64, 2, 9, 8, 168, 145, 23, 4, 2, 15, 16, 4, 2, 5, 28, 6, 52, 154, 462, 33, 89, 78, 285, 16, 145, 95])\n",
      " list([1, 14, 47, 8, 30, 31, 7, 4, 249, 108, 7, 4, 2, 54, 61, 369, 13, 71, 149, 14, 22, 112, 4, 2, 311, 12, 16, 2, 33, 75, 43, 2, 296, 4, 86, 320, 35, 534, 19, 263, 2, 2, 4, 2, 33, 89, 78, 12, 66, 16, 4, 360, 7, 4, 58, 316, 334, 11, 4, 2, 43, 645, 662, 8, 257, 85, 2, 42, 2, 2, 83, 68, 2, 15, 36, 165, 2, 278, 36, 69, 2, 780, 8, 106, 14, 2, 2, 18, 6, 22, 12, 215, 28, 610, 40, 6, 87, 326, 23, 2, 21, 23, 22, 12, 272, 40, 57, 31, 11, 4, 22, 47, 6, 2, 51, 9, 170, 23, 595, 116, 595, 2, 13, 191, 79, 638, 89, 2, 14, 9, 8, 106, 607, 624, 35, 534, 6, 227, 7, 129, 113])\n",
      " list([1, 4, 2, 2, 33, 2, 4, 2, 432, 111, 153, 103, 4, 2, 13, 70, 131, 67, 11, 61, 2, 744, 35, 2, 761, 61, 2, 452, 2, 4, 985, 7, 2, 59, 166, 4, 105, 216, 2, 41, 2, 9, 15, 7, 35, 744, 2, 31, 8, 4, 687, 23, 4, 2, 2, 6, 2, 42, 38, 39, 121, 59, 456, 10, 10, 7, 265, 12, 575, 111, 153, 159, 59, 16, 2, 21, 25, 586, 482, 39, 4, 96, 59, 716, 12, 4, 172, 65, 9, 579, 11, 2, 4, 2, 5, 2, 7, 2, 17, 13, 2, 12, 19, 6, 464, 31, 314, 11, 2, 6, 719, 605, 11, 8, 202, 27, 310, 4, 2, 2, 8, 2, 58, 10, 10, 537, 2, 180, 40, 14, 413, 173, 7, 263, 112, 37, 152, 377, 4, 537, 263, 846, 579, 178, 54, 75, 71, 476, 36, 413, 263, 2, 182, 5, 17, 75, 2, 922, 36, 279, 131, 2, 17, 2, 42, 17, 35, 921, 2, 192, 5, 2, 2, 19, 2, 217, 2, 2, 537, 2, 2, 5, 736, 10, 10, 61, 403, 9, 2, 40, 61, 2, 5, 27, 2, 159, 90, 263, 2, 2, 309, 8, 178, 5, 82, 2, 4, 65, 15, 2, 145, 143, 2, 12, 2, 537, 746, 537, 537, 15, 2, 4, 2, 594, 7, 2, 94, 2, 2, 2, 11, 2, 4, 538, 7, 2, 246, 2, 9, 2, 11, 635, 14, 9, 51, 408, 12, 94, 318, 2, 12, 47, 6, 2, 936, 5, 2, 2, 19, 49, 7, 4, 2, 2, 2, 25, 80, 126, 842, 10, 10, 2, 2, 2, 27, 2, 11, 2, 2, 159, 27, 341, 29, 2, 19, 2, 173, 7, 90, 2, 8, 30, 11, 4, 2, 86, 2, 8, 2, 46, 11, 2, 21, 29, 9, 2, 23, 4, 2, 2, 793, 6, 2, 2, 2, 10, 10, 246, 50, 9, 6, 2, 2, 746, 90, 29, 2, 8, 124, 4, 882, 4, 882, 496, 27, 2, 2, 537, 121, 127, 2, 130, 5, 29, 494, 8, 124, 4, 882, 496, 4, 341, 7, 27, 846, 10, 10, 29, 9, 2, 8, 97, 6, 236, 2, 2, 8, 4, 2, 7, 31, 7, 2, 91, 2, 2, 70, 4, 882, 30, 579, 42, 9, 12, 32, 11, 537, 10, 10, 11, 14, 65, 44, 537, 75, 2, 2, 2, 2, 2, 4, 2, 7, 154, 5, 4, 518, 53, 2, 2, 7, 2, 882, 11, 399, 38, 75, 257, 2, 19, 2, 17, 29, 456, 4, 65, 7, 27, 205, 113, 10, 10, 2, 4, 2, 2, 9, 242, 4, 91, 2, 2, 5, 2, 307, 22, 7, 2, 126, 93, 40, 2, 13, 188, 2, 2, 19, 4, 2, 7, 2, 537, 23, 53, 537, 21, 82, 40, 2, 13, 2, 14, 280, 13, 219, 4, 2, 431, 758, 859, 4, 953, 2, 2, 7, 2, 5, 94, 40, 25, 238, 60, 2, 4, 2, 804, 2, 7, 4, 2, 132, 8, 67, 6, 22, 15, 9, 283, 8, 2, 14, 31, 9, 242, 955, 48, 25, 279, 2, 23, 12, 2, 195, 25, 238, 60, 796, 2, 4, 671, 7, 2, 5, 4, 559, 154, 888, 7, 726, 50, 26, 49, 2, 15, 566, 30, 579, 21, 64, 2])\n",
      " list([1, 249, 2, 7, 61, 113, 10, 10, 13, 2, 14, 20, 56, 33, 2, 18, 457, 88, 13, 2, 2, 45, 2, 13, 70, 79, 49, 706, 919, 13, 16, 355, 340, 355, 2, 96, 143, 4, 22, 32, 289, 7, 61, 369, 71, 2, 5, 13, 16, 131, 2, 249, 114, 249, 229, 249, 20, 13, 28, 126, 110, 13, 473, 8, 569, 61, 419, 56, 429, 6, 2, 18, 35, 534, 95, 474, 570, 5, 25, 124, 138, 88, 12, 421, 2, 52, 725, 2, 61, 419, 11, 13, 2, 15, 2, 20, 11, 4, 2, 5, 296, 12, 2, 5, 15, 421, 128, 74, 233, 334, 207, 126, 224, 12, 562, 298, 2, 2, 7, 2, 5, 516, 988, 43, 8, 79, 120, 15, 595, 13, 784, 25, 2, 18, 165, 170, 143, 19, 14, 5, 2, 6, 226, 251, 7, 61, 113])]\n",
      "[1 0 0 1 0]\n"
     ]
    }
   ],
   "source": [
    "print(raw_train_x[:5])\n",
    "print(raw_train_y[:5])"
   ]
  },
  {
   "cell_type": "markdown",
   "metadata": {
    "id": "4KQaN7dHLjbE"
   },
   "source": [
    "## 멀티-핫 인코딩\n",
    "\n",
    "[1 3 5] 와 같은 데이터의 경우 1, 3, 5 인덱스만 1이고 나머지는 0으로 인코딩합니다.\n",
    "\n",
    "```\n",
    "[1 3 5] -> [0 1 0 1 0 1 0 0 0 0]   # WORD 길이가 10\n",
    "```\n",
    "\n",
    "본 예의 경우 NUM_WORDS가 1000이다.\n",
    "\n",
    "1개의 데이터는 길이 1000의 벡터이며, 포함된 word 인덱스만 1인 값으로 인코딩 된다."
   ]
  },
  {
   "cell_type": "code",
   "execution_count": 35,
   "metadata": {
    "id": "QpzE4iqZtJly"
   },
   "outputs": [],
   "source": [
    "def multi_hot_sequences(sequences, dimension):\n",
    "    # 0으로 채워진 (25000, 1000) 크기의 행렬. 25000은 데이터 갯수, 1000은 NUM_WORDS\n",
    "    results = np.zeros((len(sequences), dimension))\n",
    "    for i, word_indices in enumerate(sequences):\n",
    "        results[i, word_indices] = 1.0  # results[i]의 특정 인덱스만 1로 설정합니다\n",
    "                                        # numpy 인덱싱 보충자료 참조\n",
    "    return results\n",
    "\n",
    "\n",
    "train_x = multi_hot_sequences(raw_train_x, dimension=NUM_WORDS)\n",
    "test_x = multi_hot_sequences(raw_test_x, dimension=NUM_WORDS)\n",
    "train_y = raw_train_y\n",
    "test_y = raw_test_y"
   ]
  },
  {
   "cell_type": "code",
   "execution_count": 36,
   "metadata": {
    "colab": {
     "base_uri": "https://localhost:8080/",
     "height": 146
    },
    "id": "pLsndPYqM8db",
    "outputId": "4797ab79-3d06-428b-be32-8801bd8bf3b4"
   },
   "outputs": [
    {
     "name": "stdout",
     "output_type": "stream",
     "text": [
      "(25000,)\n",
      "[1, 14, 22, 16, 43, 530, 973, 2, 2, 65, 458, 2, 66, 2, 4, 173, 36, 256, 5, 25, 100, 43, 838, 112, 50, 670, 2, 9, 35, 480, 284, 5, 150, 4, 172, 112, 167, 2, 336, 385, 39, 4, 172, 2, 2, 17, 546, 38, 13, 447, 4, 192, 50, 16, 6, 147, 2, 19, 14, 22, 4, 2, 2, 469, 4, 22, 71, 87, 12, 16, 43, 530, 38, 76, 15, 13, 2, 4, 22, 17, 515, 17, 12, 16, 626, 18, 2, 5, 62, 386, 12, 8, 316, 8, 106, 5, 4, 2, 2, 16, 480, 66, 2, 33, 4, 130, 12, 16, 38, 619, 5, 25, 124, 51, 36, 135, 48, 25, 2, 33, 6, 22, 12, 215, 28, 77, 52, 5, 14, 407, 16, 82, 2, 8, 4, 107, 117, 2, 15, 256, 4, 2, 7, 2, 5, 723, 36, 71, 43, 530, 476, 26, 400, 317, 46, 7, 4, 2, 2, 13, 104, 88, 4, 381, 15, 297, 98, 32, 2, 56, 26, 141, 6, 194, 2, 18, 4, 226, 22, 21, 134, 476, 26, 480, 5, 144, 30, 2, 18, 51, 36, 28, 224, 92, 25, 104, 4, 226, 65, 16, 38, 2, 88, 12, 16, 283, 5, 16, 2, 113, 103, 32, 15, 16, 2, 19, 178, 32]\n",
      "(25000, 1000)\n",
      "[0. 1. 1. 0. 1. 1. 1. 1. 1. 1.]\n",
      "[0. 0. 1. 1. 1. 1. 1. 1. 1. 1.]\n",
      "[0. 1. 1. 0. 0. 1. 1. 0. 1. 0.]\n"
     ]
    }
   ],
   "source": [
    "print(raw_train_x.shape)\n",
    "print(raw_train_x[0])\n",
    "print(train_x.shape)\n",
    "print(train_x[0][:10])\n",
    "print(train_x[0][10:20])\n",
    "print(train_x[0][20:30])\n"
   ]
  },
  {
   "cell_type": "markdown",
   "metadata": {
    "id": "qmppWbxbPj2-"
   },
   "source": [
    "모델이 너무 크면 패턴의 '학습'이 아닌 개별 데이터를 '기억'한다.\n",
    "\n",
    "\n"
   ]
  },
  {
   "cell_type": "markdown",
   "metadata": {
    "id": "3b4k2sqUWvMo"
   },
   "source": [
    "# 모델 크기별 과적합"
   ]
  },
  {
   "cell_type": "markdown",
   "metadata": {
    "id": "L-DGRBbGxI6G"
   },
   "source": [
    "### 작은 모델"
   ]
  },
  {
   "cell_type": "code",
   "execution_count": 7,
   "metadata": {
    "colab": {
     "base_uri": "https://localhost:8080/"
    },
    "id": "jksi-XtaxDAh",
    "outputId": "7b09d358-f6d6-4efb-b4bd-f536002b5319"
   },
   "outputs": [
    {
     "name": "stdout",
     "output_type": "stream",
     "text": [
      "Model: \"sequential\"\n",
      "_________________________________________________________________\n",
      "Layer (type)                 Output Shape              Param #   \n",
      "=================================================================\n",
      "dense (Dense)                (None, 4)                 4004      \n",
      "_________________________________________________________________\n",
      "dense_1 (Dense)              (None, 4)                 20        \n",
      "_________________________________________________________________\n",
      "dense_2 (Dense)              (None, 1)                 5         \n",
      "=================================================================\n",
      "Total params: 4,029\n",
      "Trainable params: 4,029\n",
      "Non-trainable params: 0\n",
      "_________________________________________________________________\n"
     ]
    }
   ],
   "source": [
    "smaller_model = keras.Sequential([\n",
    "    keras.layers.Dense(4, activation='relu', input_shape=(NUM_WORDS,)),\n",
    "    keras.layers.Dense(4, activation='relu'),\n",
    "    keras.layers.Dense(1, activation='sigmoid')\n",
    "])\n",
    "\n",
    "smaller_model.compile(optimizer='adam', loss='binary_crossentropy')\n",
    "\n",
    "smaller_model.summary()"
   ]
  },
  {
   "cell_type": "code",
   "execution_count": 8,
   "metadata": {
    "colab": {
     "base_uri": "https://localhost:8080/",
     "height": 763
    },
    "id": "Ofn1AwDhx-Fe",
    "outputId": "cea46780-1f40-4f42-bedf-1bf556e6212f"
   },
   "outputs": [
    {
     "name": "stdout",
     "output_type": "stream",
     "text": [
      "Epoch 1/20\n",
      "44/44 - 1s - loss: 0.6805 - val_loss: 0.6501\n",
      "Epoch 2/20\n",
      "44/44 - 0s - loss: 0.6056 - val_loss: 0.5587\n",
      "Epoch 3/20\n",
      "44/44 - 0s - loss: 0.5331 - val_loss: 0.5118\n",
      "Epoch 4/20\n",
      "44/44 - 0s - loss: 0.4946 - val_loss: 0.4865\n",
      "Epoch 5/20\n",
      "44/44 - 0s - loss: 0.4709 - val_loss: 0.4704\n",
      "Epoch 6/20\n",
      "44/44 - 0s - loss: 0.4537 - val_loss: 0.4584\n",
      "Epoch 7/20\n",
      "44/44 - 0s - loss: 0.4398 - val_loss: 0.4490\n",
      "Epoch 8/20\n",
      "44/44 - 0s - loss: 0.4285 - val_loss: 0.4417\n",
      "Epoch 9/20\n",
      "44/44 - 0s - loss: 0.4192 - val_loss: 0.4362\n",
      "Epoch 10/20\n",
      "44/44 - 0s - loss: 0.4104 - val_loss: 0.4323\n",
      "Epoch 11/20\n",
      "44/44 - 0s - loss: 0.4029 - val_loss: 0.4261\n",
      "Epoch 12/20\n",
      "44/44 - 0s - loss: 0.3965 - val_loss: 0.4230\n",
      "Epoch 13/20\n",
      "44/44 - 0s - loss: 0.3908 - val_loss: 0.4191\n",
      "Epoch 14/20\n",
      "44/44 - 0s - loss: 0.3839 - val_loss: 0.4166\n",
      "Epoch 15/20\n",
      "44/44 - 0s - loss: 0.3788 - val_loss: 0.4136\n",
      "Epoch 16/20\n",
      "44/44 - 0s - loss: 0.3737 - val_loss: 0.4113\n",
      "Epoch 17/20\n",
      "44/44 - 0s - loss: 0.3693 - val_loss: 0.4087\n",
      "Epoch 18/20\n",
      "44/44 - 0s - loss: 0.3651 - val_loss: 0.4100\n",
      "Epoch 19/20\n",
      "44/44 - 0s - loss: 0.3607 - val_loss: 0.4054\n",
      "Epoch 20/20\n",
      "44/44 - 0s - loss: 0.3567 - val_loss: 0.4035\n"
     ]
    }
   ],
   "source": [
    "smaller_history = smaller_model.fit(train_x,\n",
    "                                    train_y,\n",
    "                                    epochs=20,\n",
    "                                    batch_size=512,\n",
    "                                    validation_split=0.1,\n",
    "                                    verbose=2)"
   ]
  },
  {
   "cell_type": "markdown",
   "metadata": {
    "id": "_ReKHdC2EgVu"
   },
   "source": [
    "### 기준 모델"
   ]
  },
  {
   "cell_type": "code",
   "execution_count": 9,
   "metadata": {
    "colab": {
     "base_uri": "https://localhost:8080/"
    },
    "id": "QKgdXPx9usBa",
    "outputId": "32603b74-dcc0-46a1-fca7-eeeb16ef0a02"
   },
   "outputs": [
    {
     "name": "stdout",
     "output_type": "stream",
     "text": [
      "Model: \"sequential_1\"\n",
      "_________________________________________________________________\n",
      "Layer (type)                 Output Shape              Param #   \n",
      "=================================================================\n",
      "dense_3 (Dense)              (None, 16)                16016     \n",
      "_________________________________________________________________\n",
      "dense_4 (Dense)              (None, 16)                272       \n",
      "_________________________________________________________________\n",
      "dense_5 (Dense)              (None, 1)                 17        \n",
      "=================================================================\n",
      "Total params: 16,305\n",
      "Trainable params: 16,305\n",
      "Non-trainable params: 0\n",
      "_________________________________________________________________\n"
     ]
    }
   ],
   "source": [
    "baseline_model = keras.Sequential([\n",
    "    keras.layers.Dense(16, activation='relu', input_shape=(NUM_WORDS,)),\n",
    "    keras.layers.Dense(16, activation='relu'),\n",
    "    keras.layers.Dense(1, activation='sigmoid')\n",
    "])\n",
    "\n",
    "baseline_model.compile(optimizer='adam', loss='binary_crossentropy')\n",
    "\n",
    "baseline_model.summary()"
   ]
  },
  {
   "cell_type": "code",
   "execution_count": 10,
   "metadata": {
    "colab": {
     "base_uri": "https://localhost:8080/"
    },
    "id": "LqG3MXF5xSjR",
    "outputId": "63d25f72-56ae-4f1d-e923-0d48533a59b8"
   },
   "outputs": [
    {
     "name": "stdout",
     "output_type": "stream",
     "text": [
      "Epoch 1/20\n",
      "44/44 - 0s - loss: 0.5626 - val_loss: 0.4355\n",
      "Epoch 2/20\n",
      "44/44 - 0s - loss: 0.3667 - val_loss: 0.3540\n",
      "Epoch 3/20\n",
      "44/44 - 0s - loss: 0.3214 - val_loss: 0.3403\n",
      "Epoch 4/20\n",
      "44/44 - 0s - loss: 0.3062 - val_loss: 0.3414\n",
      "Epoch 5/20\n",
      "44/44 - 0s - loss: 0.2989 - val_loss: 0.3480\n",
      "Epoch 6/20\n",
      "44/44 - 0s - loss: 0.2954 - val_loss: 0.3408\n",
      "Epoch 7/20\n",
      "44/44 - 0s - loss: 0.2920 - val_loss: 0.3429\n",
      "Epoch 8/20\n",
      "44/44 - 0s - loss: 0.2888 - val_loss: 0.3449\n",
      "Epoch 9/20\n",
      "44/44 - 0s - loss: 0.2841 - val_loss: 0.3472\n",
      "Epoch 10/20\n",
      "44/44 - 0s - loss: 0.2805 - val_loss: 0.3465\n",
      "Epoch 11/20\n",
      "44/44 - 0s - loss: 0.2790 - val_loss: 0.3481\n",
      "Epoch 12/20\n",
      "44/44 - 0s - loss: 0.2719 - val_loss: 0.3472\n",
      "Epoch 13/20\n",
      "44/44 - 0s - loss: 0.2675 - val_loss: 0.3474\n",
      "Epoch 14/20\n",
      "44/44 - 0s - loss: 0.2632 - val_loss: 0.3538\n",
      "Epoch 15/20\n",
      "44/44 - 0s - loss: 0.2581 - val_loss: 0.3533\n",
      "Epoch 16/20\n",
      "44/44 - 0s - loss: 0.2532 - val_loss: 0.3604\n",
      "Epoch 17/20\n",
      "44/44 - 0s - loss: 0.2481 - val_loss: 0.3575\n",
      "Epoch 18/20\n",
      "44/44 - 0s - loss: 0.2427 - val_loss: 0.3587\n",
      "Epoch 19/20\n",
      "44/44 - 0s - loss: 0.2380 - val_loss: 0.3663\n",
      "Epoch 20/20\n",
      "44/44 - 0s - loss: 0.2328 - val_loss: 0.3706\n"
     ]
    }
   ],
   "source": [
    "baseline_history = baseline_model.fit(train_x,\n",
    "                                      train_y,\n",
    "                                      epochs=20,\n",
    "                                      batch_size=512,\n",
    "                                      validation_split=0.1,\n",
    "                                      verbose=2)"
   ]
  },
  {
   "cell_type": "markdown",
   "metadata": {
    "id": "vIPuf23FFaVn"
   },
   "source": [
    "### 큰 모델"
   ]
  },
  {
   "cell_type": "code",
   "execution_count": 11,
   "metadata": {
    "colab": {
     "base_uri": "https://localhost:8080/"
    },
    "id": "ghQwwqwqvQM9",
    "outputId": "01e74c9b-a8e2-4ba3-e8fc-6a5fe37c24c3"
   },
   "outputs": [
    {
     "name": "stdout",
     "output_type": "stream",
     "text": [
      "Model: \"sequential_2\"\n",
      "_________________________________________________________________\n",
      "Layer (type)                 Output Shape              Param #   \n",
      "=================================================================\n",
      "dense_6 (Dense)              (None, 512)               512512    \n",
      "_________________________________________________________________\n",
      "dense_7 (Dense)              (None, 512)               262656    \n",
      "_________________________________________________________________\n",
      "dense_8 (Dense)              (None, 1)                 513       \n",
      "=================================================================\n",
      "Total params: 775,681\n",
      "Trainable params: 775,681\n",
      "Non-trainable params: 0\n",
      "_________________________________________________________________\n"
     ]
    }
   ],
   "source": [
    "bigger_model = keras.models.Sequential([\n",
    "    keras.layers.Dense(512, activation='relu', input_shape=(NUM_WORDS,)),\n",
    "    keras.layers.Dense(512, activation='relu'),\n",
    "    keras.layers.Dense(1, activation='sigmoid')\n",
    "])\n",
    "\n",
    "bigger_model.compile(optimizer='adam', loss='binary_crossentropy')\n",
    "\n",
    "bigger_model.summary()"
   ]
  },
  {
   "cell_type": "markdown",
   "metadata": {
    "id": "D-d-i5DaYmr7"
   },
   "source": [
    "역시 같은 데이터를 사용해 모델을 훈련합니다:"
   ]
  },
  {
   "cell_type": "code",
   "execution_count": 12,
   "metadata": {
    "colab": {
     "base_uri": "https://localhost:8080/"
    },
    "id": "U1A99dhqvepf",
    "outputId": "97c5be63-eb5a-4678-aa25-94ca7eff0cb0"
   },
   "outputs": [
    {
     "name": "stdout",
     "output_type": "stream",
     "text": [
      "Epoch 1/20\n",
      "44/44 - 0s - loss: 0.4119 - val_loss: 0.3448\n",
      "Epoch 2/20\n",
      "44/44 - 0s - loss: 0.2902 - val_loss: 0.3336\n",
      "Epoch 3/20\n",
      "44/44 - 0s - loss: 0.2226 - val_loss: 0.3567\n",
      "Epoch 4/20\n",
      "44/44 - 0s - loss: 0.1045 - val_loss: 0.4565\n",
      "Epoch 5/20\n",
      "44/44 - 0s - loss: 0.0267 - val_loss: 0.5958\n",
      "Epoch 6/20\n",
      "44/44 - 0s - loss: 0.0059 - val_loss: 0.6815\n",
      "Epoch 7/20\n",
      "44/44 - 0s - loss: 0.0015 - val_loss: 0.7304\n",
      "Epoch 8/20\n",
      "44/44 - 0s - loss: 7.5600e-04 - val_loss: 0.7622\n",
      "Epoch 9/20\n",
      "44/44 - 0s - loss: 5.0960e-04 - val_loss: 0.7936\n",
      "Epoch 10/20\n",
      "44/44 - 0s - loss: 3.7026e-04 - val_loss: 0.8195\n",
      "Epoch 11/20\n",
      "44/44 - 0s - loss: 2.7637e-04 - val_loss: 0.8441\n",
      "Epoch 12/20\n",
      "44/44 - 0s - loss: 2.1213e-04 - val_loss: 0.8708\n",
      "Epoch 13/20\n",
      "44/44 - 0s - loss: 1.6572e-04 - val_loss: 0.8909\n",
      "Epoch 14/20\n",
      "44/44 - 0s - loss: 1.3168e-04 - val_loss: 0.9107\n",
      "Epoch 15/20\n",
      "44/44 - 0s - loss: 1.0680e-04 - val_loss: 0.9308\n",
      "Epoch 16/20\n",
      "44/44 - 0s - loss: 8.7366e-05 - val_loss: 0.9484\n",
      "Epoch 17/20\n",
      "44/44 - 0s - loss: 7.2585e-05 - val_loss: 0.9656\n",
      "Epoch 18/20\n",
      "44/44 - 0s - loss: 6.1078e-05 - val_loss: 0.9806\n",
      "Epoch 19/20\n",
      "44/44 - 0s - loss: 5.2048e-05 - val_loss: 0.9951\n",
      "Epoch 20/20\n",
      "44/44 - 0s - loss: 4.4500e-05 - val_loss: 1.0100\n"
     ]
    }
   ],
   "source": [
    "bigger_history = bigger_model.fit(train_x,\n",
    "                                  train_y,\n",
    "                                  epochs=20,\n",
    "                                  batch_size=512,\n",
    "                                  validation_split=0.1,\n",
    "                                  verbose=2)"
   ]
  },
  {
   "cell_type": "markdown",
   "metadata": {
    "id": "Fy3CMUZpzH3d"
   },
   "source": [
    "## 로스 그래프"
   ]
  },
  {
   "cell_type": "code",
   "execution_count": 13,
   "metadata": {
    "colab": {
     "base_uri": "https://localhost:8080/",
     "height": 825
    },
    "id": "X7uu67SxRp4V",
    "outputId": "4d8a86a7-9d47-46b2-a5f7-57e9fb218dfd"
   },
   "outputs": [
    {
     "name": "stdout",
     "output_type": "stream",
     "text": [
      "smaller\n"
     ]
    },
    {
     "data": {
      "image/png": "[encoded data removed]",
      "text/plain": [
       "<Figure size 432x288 with 1 Axes>"
      ]
     },
     "metadata": {
      "needs_background": "light"
     },
     "output_type": "display_data"
    },
    {
     "name": "stdout",
     "output_type": "stream",
     "text": [
      "base\n"
     ]
    },
    {
     "data": {
      "image/png": "[encoded data removed]",
      "text/plain": [
       "<Figure size 432x288 with 1 Axes>"
      ]
     },
     "metadata": {
      "needs_background": "light"
     },
     "output_type": "display_data"
    },
    {
     "name": "stdout",
     "output_type": "stream",
     "text": [
      "bigger\n"
     ]
    },
    {
     "data": {
      "image/png": "[encoded data removed]",
      "text/plain": [
       "<Figure size 432x288 with 1 Axes>"
      ]
     },
     "metadata": {
      "needs_background": "light"
     },
     "output_type": "display_data"
    }
   ],
   "source": [
    "print(\"smaller\")\n",
    "plt.plot(smaller_history.history['loss'])\n",
    "plt.plot(smaller_history.history['val_loss'])\n",
    "plt.ylim((-0.1, 1.))\n",
    "plt.show()\n",
    "\n",
    "print(\"base\")\n",
    "plt.plot(baseline_history.history['loss'])\n",
    "plt.plot(baseline_history.history['val_loss'])\n",
    "plt.ylim((0., 1.))\n",
    "plt.show()\n",
    "\n",
    "print(\"bigger\")\n",
    "plt.plot(bigger_history.history['loss'])\n",
    "plt.plot(bigger_history.history['val_loss'])\n",
    "plt.ylim((0., 1.))\n",
    "plt.show()\n"
   ]
  },
  {
   "cell_type": "markdown",
   "metadata": {
    "ExecuteTime": {
     "end_time": "2021-08-02T01:09:01.801636Z",
     "start_time": "2021-08-02T01:09:01.794656Z"
    }
   },
   "source": [
    "- 모델이 데이터양에 비해 클수록 오버피팅 발생이 일찍 온다\n",
    "---\n",
    "해결방법 \n",
    "1. 모델을 줄인다. (너무 줄이면 학습 자체가 안됨)\n",
    "2. 데이터 수를 늘린다.\n",
    "3. 오버피팅 방지법을 사용한다."
   ]
  },
  {
   "cell_type": "markdown",
   "metadata": {
    "id": "ASdv7nsgEFhx"
   },
   "source": [
    "# 과적합 처리"
   ]
  },
  {
   "cell_type": "markdown",
   "metadata": {
    "id": "4rHoVWcswFLa"
   },
   "source": [
    "## weight Regularization"
   ]
  },
  {
   "cell_type": "code",
   "execution_count": 14,
   "metadata": {
    "colab": {
     "base_uri": "https://localhost:8080/"
    },
    "id": "HFGmcwduwVyQ",
    "outputId": "1a22513d-4f3a-41e3-c052-cb14cd964288"
   },
   "outputs": [
    {
     "name": "stdout",
     "output_type": "stream",
     "text": [
      "Model: \"sequential_3\"\n",
      "_________________________________________________________________\n",
      "Layer (type)                 Output Shape              Param #   \n",
      "=================================================================\n",
      "dense_9 (Dense)              (None, 16)                16016     \n",
      "_________________________________________________________________\n",
      "dense_10 (Dense)             (None, 16)                272       \n",
      "_________________________________________________________________\n",
      "dense_11 (Dense)             (None, 1)                 17        \n",
      "=================================================================\n",
      "Total params: 16,305\n",
      "Trainable params: 16,305\n",
      "Non-trainable params: 0\n",
      "_________________________________________________________________\n",
      "Epoch 1/20\n",
      "44/44 - 0s - loss: 0.6223 - val_loss: 0.4827\n",
      "Epoch 2/20\n",
      "44/44 - 0s - loss: 0.4162 - val_loss: 0.3986\n",
      "Epoch 3/20\n",
      "44/44 - 0s - loss: 0.3664 - val_loss: 0.3822\n",
      "Epoch 4/20\n",
      "44/44 - 0s - loss: 0.3510 - val_loss: 0.3820\n",
      "Epoch 5/20\n",
      "44/44 - 0s - loss: 0.3430 - val_loss: 0.3835\n",
      "Epoch 6/20\n",
      "44/44 - 0s - loss: 0.3418 - val_loss: 0.3765\n",
      "Epoch 7/20\n",
      "44/44 - 0s - loss: 0.3351 - val_loss: 0.3795\n",
      "Epoch 8/20\n",
      "44/44 - 0s - loss: 0.3310 - val_loss: 0.3744\n",
      "Epoch 9/20\n",
      "44/44 - 0s - loss: 0.3284 - val_loss: 0.3775\n",
      "Epoch 10/20\n",
      "44/44 - 0s - loss: 0.3266 - val_loss: 0.3727\n",
      "Epoch 11/20\n",
      "44/44 - 0s - loss: 0.3212 - val_loss: 0.3711\n",
      "Epoch 12/20\n",
      "44/44 - 0s - loss: 0.3187 - val_loss: 0.3766\n",
      "Epoch 13/20\n",
      "44/44 - 0s - loss: 0.3161 - val_loss: 0.3706\n",
      "Epoch 14/20\n",
      "44/44 - 0s - loss: 0.3139 - val_loss: 0.3688\n",
      "Epoch 15/20\n",
      "44/44 - 0s - loss: 0.3095 - val_loss: 0.3709\n",
      "Epoch 16/20\n",
      "44/44 - 0s - loss: 0.3058 - val_loss: 0.3723\n",
      "Epoch 17/20\n",
      "44/44 - 0s - loss: 0.3033 - val_loss: 0.3704\n",
      "Epoch 18/20\n",
      "44/44 - 0s - loss: 0.3002 - val_loss: 0.3726\n",
      "Epoch 19/20\n",
      "44/44 - 0s - loss: 0.2955 - val_loss: 0.3725\n",
      "Epoch 20/20\n",
      "44/44 - 0s - loss: 0.2924 - val_loss: 0.3738\n"
     ]
    }
   ],
   "source": [
    "ㅣ2_baseline_model = keras.Sequential([\n",
    "    # keras.layers.Dense(16, activation='relu', input_shape=(NUM_WORDS,)),\n",
    "    keras.layers.Dense(16, activation='relu', input_shape=(NUM_WORDS,), kernel_regularizer=keras.regularizers.l2(0.001)),\n",
    "    # keras.layers.Dense(16, activation='relu'),\n",
    "    keras.layers.Dense(16, activation='relu', kernel_regularizer=keras.regularizers.l2(0.001)),\n",
    "    keras.layers.Dense(1, activation='sigmoid')\n",
    "])\n",
    "\n",
    "ㅣ2_baseline_model.compile(optimizer='adam', loss='binary_crossentropy')\n",
    "\n",
    "ㅣ2_baseline_model.summary()\n",
    "\n",
    "l2_baseline_history = ㅣ2_baseline_model.fit(train_x,\n",
    "                                    train_y,\n",
    "                                    epochs=20,\n",
    "                                    batch_size=512,\n",
    "                                    validation_split=0.1,\n",
    "                                    verbose=2)"
   ]
  },
  {
   "cell_type": "code",
   "execution_count": 15,
   "metadata": {
    "colab": {
     "base_uri": "https://localhost:8080/"
    },
    "id": "utsh4INTDGR4",
    "outputId": "66d8da66-8f1e-4e11-853b-a9b16afb76b8"
   },
   "outputs": [
    {
     "name": "stdout",
     "output_type": "stream",
     "text": [
      "Model: \"sequential_4\"\n",
      "_________________________________________________________________\n",
      "Layer (type)                 Output Shape              Param #   \n",
      "=================================================================\n",
      "dense_12 (Dense)             (None, 512)               512512    \n",
      "_________________________________________________________________\n",
      "dense_13 (Dense)             (None, 512)               262656    \n",
      "_________________________________________________________________\n",
      "dense_14 (Dense)             (None, 1)                 513       \n",
      "=================================================================\n",
      "Total params: 775,681\n",
      "Trainable params: 775,681\n",
      "Non-trainable params: 0\n",
      "_________________________________________________________________\n",
      "Epoch 1/20\n",
      "44/44 - 1s - loss: 1.2766 - val_loss: 0.8914\n",
      "Epoch 2/20\n",
      "44/44 - 0s - loss: 0.7287 - val_loss: 0.6537\n",
      "Epoch 3/20\n",
      "44/44 - 0s - loss: 0.5496 - val_loss: 0.5624\n",
      "Epoch 4/20\n",
      "44/44 - 0s - loss: 0.4547 - val_loss: 0.5244\n",
      "Epoch 5/20\n",
      "44/44 - 0s - loss: 0.3805 - val_loss: 0.5203\n",
      "Epoch 6/20\n",
      "44/44 - 0s - loss: 0.3143 - val_loss: 0.5467\n",
      "Epoch 7/20\n",
      "44/44 - 0s - loss: 0.2457 - val_loss: 0.5715\n",
      "Epoch 8/20\n",
      "44/44 - 0s - loss: 0.1995 - val_loss: 0.5684\n",
      "Epoch 9/20\n",
      "44/44 - 0s - loss: 0.1708 - val_loss: 0.5614\n",
      "Epoch 10/20\n",
      "44/44 - 0s - loss: 0.1535 - val_loss: 0.5612\n",
      "Epoch 11/20\n",
      "44/44 - 0s - loss: 0.1437 - val_loss: 0.5569\n",
      "Epoch 12/20\n",
      "44/44 - 0s - loss: 0.1337 - val_loss: 0.5843\n",
      "Epoch 13/20\n",
      "44/44 - 0s - loss: 0.1289 - val_loss: 0.5621\n",
      "Epoch 14/20\n",
      "44/44 - 0s - loss: 0.1202 - val_loss: 0.5541\n",
      "Epoch 15/20\n",
      "44/44 - 0s - loss: 0.1179 - val_loss: 0.5791\n",
      "Epoch 16/20\n",
      "44/44 - 0s - loss: 0.1288 - val_loss: 0.5777\n",
      "Epoch 17/20\n",
      "44/44 - 0s - loss: 0.1256 - val_loss: 0.5718\n",
      "Epoch 18/20\n",
      "44/44 - 0s - loss: 0.1153 - val_loss: 0.5765\n",
      "Epoch 19/20\n",
      "44/44 - 0s - loss: 0.1023 - val_loss: 0.5665\n",
      "Epoch 20/20\n",
      "44/44 - 0s - loss: 0.0924 - val_loss: 0.5608\n"
     ]
    }
   ],
   "source": [
    "ㅣ2_bigger_model = keras.Sequential([\n",
    "    # keras.layers.Dense(512, activation='relu', input_shape=(NUM_WORDS,)),\n",
    "    keras.layers.Dense(512, activation='relu', input_shape=(NUM_WORDS,), kernel_regularizer=keras.regularizers.l2(0.001)),\n",
    "    # keras.layers.Dense(512, activation='relu'),\n",
    "    keras.layers.Dense(512, activation='relu', kernel_regularizer=keras.regularizers.l2(0.001)),\n",
    "    keras.layers.Dense(1, activation='sigmoid')\n",
    "])\n",
    "\n",
    "ㅣ2_bigger_model.compile(optimizer='adam', loss='binary_crossentropy')\n",
    "\n",
    "ㅣ2_bigger_model.summary()\n",
    "\n",
    "l2_bigger_history = ㅣ2_bigger_model.fit(train_x,\n",
    "                                    train_y,\n",
    "                                    epochs=20,\n",
    "                                    batch_size=512,\n",
    "                                    validation_split=0.1,\n",
    "                                    verbose=2)"
   ]
  },
  {
   "cell_type": "code",
   "execution_count": 16,
   "metadata": {
    "colab": {
     "base_uri": "https://localhost:8080/",
     "height": 1000
    },
    "id": "cQAECSenUBC4",
    "outputId": "ed07c202-4fb8-4b13-8a76-45012405f717"
   },
   "outputs": [
    {
     "name": "stdout",
     "output_type": "stream",
     "text": [
      "baseline\n"
     ]
    },
    {
     "data": {
      "image/png": "[encoded data removed]",
      "text/plain": [
       "<Figure size 432x288 with 1 Axes>"
      ]
     },
     "metadata": {
      "needs_background": "light"
     },
     "output_type": "display_data"
    },
    {
     "name": "stdout",
     "output_type": "stream",
     "text": [
      "l2_baseline\n"
     ]
    },
    {
     "data": {
      "image/png": "[encoded data removed]",
      "text/plain": [
       "<Figure size 432x288 with 1 Axes>"
      ]
     },
     "metadata": {
      "needs_background": "light"
     },
     "output_type": "display_data"
    },
    {
     "name": "stdout",
     "output_type": "stream",
     "text": [
      "bigger\n"
     ]
    },
    {
     "data": {
      "image/png": "[encoded data removed]",
      "text/plain": [
       "<Figure size 432x288 with 1 Axes>"
      ]
     },
     "metadata": {
      "needs_background": "light"
     },
     "output_type": "display_data"
    },
    {
     "name": "stdout",
     "output_type": "stream",
     "text": [
      "l2_bigger\n"
     ]
    },
    {
     "data": {
      "image/png": "[encoded data removed]",
      "text/plain": [
       "<Figure size 432x288 with 1 Axes>"
      ]
     },
     "metadata": {
      "needs_background": "light"
     },
     "output_type": "display_data"
    }
   ],
   "source": [
    "print(\"baseline\")\n",
    "plt.plot(baseline_history.history['loss'])\n",
    "plt.plot(baseline_history.history['val_loss'])\n",
    "plt.ylim((0., 1.))\n",
    "plt.show()\n",
    "\n",
    "print(\"l2_baseline\")\n",
    "plt.plot(l2_baseline_history.history['loss'])\n",
    "plt.plot(l2_baseline_history.history['val_loss'])\n",
    "plt.ylim((0., 1.))\n",
    "plt.show()\n",
    "\n",
    "print(\"bigger\")\n",
    "plt.plot(bigger_history.history['loss'])\n",
    "plt.plot(bigger_history.history['val_loss'])\n",
    "plt.ylim((0., 1.))\n",
    "plt.show()\n",
    "\n",
    "print(\"l2_bigger\")\n",
    "plt.plot(l2_bigger_history.history['loss'])\n",
    "plt.plot(l2_bigger_history.history['val_loss'])\n",
    "plt.ylim((0., 1.))\n",
    "plt.show()"
   ]
  },
  {
   "cell_type": "markdown",
   "metadata": {
    "id": "BV-hZXvBX-VL"
   },
   "source": [
    "발생하던 오버피팅이 완화되었다."
   ]
  },
  {
   "cell_type": "markdown",
   "metadata": {
    "id": "k3V7W79YV4KH"
   },
   "source": [
    "## Drop Out"
   ]
  },
  {
   "cell_type": "code",
   "execution_count": 17,
   "metadata": {
    "colab": {
     "base_uri": "https://localhost:8080/"
    },
    "id": "II8XxgNhV9N8",
    "outputId": "f6ac22d7-0f93-4e80-a938-cccbd2747ddb"
   },
   "outputs": [
    {
     "name": "stdout",
     "output_type": "stream",
     "text": [
      "Epoch 1/20\n",
      "44/44 - 1s - loss: 0.6930 - accuracy: 0.5303 - binary_crossentropy: 0.6930 - val_loss: 0.6614 - val_accuracy: 0.7036 - val_binary_crossentropy: 0.6614\n",
      "Epoch 2/20\n",
      "44/44 - 0s - loss: 0.6333 - accuracy: 0.6341 - binary_crossentropy: 0.6333 - val_loss: 0.5419 - val_accuracy: 0.8000 - val_binary_crossentropy: 0.5419\n",
      "Epoch 3/20\n",
      "44/44 - 0s - loss: 0.5452 - accuracy: 0.7285 - binary_crossentropy: 0.5452 - val_loss: 0.4487 - val_accuracy: 0.8260 - val_binary_crossentropy: 0.4487\n",
      "Epoch 4/20\n",
      "44/44 - 0s - loss: 0.4819 - accuracy: 0.7784 - binary_crossentropy: 0.4819 - val_loss: 0.3929 - val_accuracy: 0.8400 - val_binary_crossentropy: 0.3929\n",
      "Epoch 5/20\n",
      "44/44 - 0s - loss: 0.4366 - accuracy: 0.8076 - binary_crossentropy: 0.4366 - val_loss: 0.3618 - val_accuracy: 0.8544 - val_binary_crossentropy: 0.3618\n",
      "Epoch 6/20\n",
      "44/44 - 0s - loss: 0.4119 - accuracy: 0.8238 - binary_crossentropy: 0.4119 - val_loss: 0.3466 - val_accuracy: 0.8576 - val_binary_crossentropy: 0.3466\n",
      "Epoch 7/20\n",
      "44/44 - 0s - loss: 0.3970 - accuracy: 0.8331 - binary_crossentropy: 0.3970 - val_loss: 0.3390 - val_accuracy: 0.8512 - val_binary_crossentropy: 0.3390\n",
      "Epoch 8/20\n",
      "44/44 - 0s - loss: 0.3806 - accuracy: 0.8436 - binary_crossentropy: 0.3806 - val_loss: 0.3358 - val_accuracy: 0.8588 - val_binary_crossentropy: 0.3358\n",
      "Epoch 9/20\n",
      "44/44 - 0s - loss: 0.3694 - accuracy: 0.8476 - binary_crossentropy: 0.3694 - val_loss: 0.3345 - val_accuracy: 0.8600 - val_binary_crossentropy: 0.3345\n",
      "Epoch 10/20\n",
      "44/44 - 0s - loss: 0.3599 - accuracy: 0.8536 - binary_crossentropy: 0.3599 - val_loss: 0.3389 - val_accuracy: 0.8520 - val_binary_crossentropy: 0.3389\n",
      "Epoch 11/20\n",
      "44/44 - 0s - loss: 0.3527 - accuracy: 0.8579 - binary_crossentropy: 0.3527 - val_loss: 0.3383 - val_accuracy: 0.8604 - val_binary_crossentropy: 0.3383\n",
      "Epoch 12/20\n",
      "44/44 - 0s - loss: 0.3440 - accuracy: 0.8644 - binary_crossentropy: 0.3440 - val_loss: 0.3376 - val_accuracy: 0.8560 - val_binary_crossentropy: 0.3376\n",
      "Epoch 13/20\n",
      "44/44 - 0s - loss: 0.3410 - accuracy: 0.8621 - binary_crossentropy: 0.3410 - val_loss: 0.3387 - val_accuracy: 0.8572 - val_binary_crossentropy: 0.3387\n",
      "Epoch 14/20\n",
      "44/44 - 0s - loss: 0.3316 - accuracy: 0.8709 - binary_crossentropy: 0.3316 - val_loss: 0.3427 - val_accuracy: 0.8548 - val_binary_crossentropy: 0.3427\n",
      "Epoch 15/20\n",
      "44/44 - 0s - loss: 0.3250 - accuracy: 0.8732 - binary_crossentropy: 0.3250 - val_loss: 0.3457 - val_accuracy: 0.8564 - val_binary_crossentropy: 0.3457\n",
      "Epoch 16/20\n",
      "44/44 - 0s - loss: 0.3249 - accuracy: 0.8717 - binary_crossentropy: 0.3249 - val_loss: 0.3431 - val_accuracy: 0.8560 - val_binary_crossentropy: 0.3431\n",
      "Epoch 17/20\n",
      "44/44 - 0s - loss: 0.3165 - accuracy: 0.8761 - binary_crossentropy: 0.3165 - val_loss: 0.3509 - val_accuracy: 0.8576 - val_binary_crossentropy: 0.3509\n",
      "Epoch 18/20\n",
      "44/44 - 0s - loss: 0.3157 - accuracy: 0.8764 - binary_crossentropy: 0.3157 - val_loss: 0.3499 - val_accuracy: 0.8536 - val_binary_crossentropy: 0.3499\n",
      "Epoch 19/20\n",
      "44/44 - 0s - loss: 0.3100 - accuracy: 0.8793 - binary_crossentropy: 0.3100 - val_loss: 0.3519 - val_accuracy: 0.8572 - val_binary_crossentropy: 0.3519\n",
      "Epoch 20/20\n",
      "44/44 - 0s - loss: 0.3019 - accuracy: 0.8856 - binary_crossentropy: 0.3019 - val_loss: 0.3562 - val_accuracy: 0.8544 - val_binary_crossentropy: 0.3562\n"
     ]
    }
   ],
   "source": [
    "dropout_baseline_model = keras.Sequential([\n",
    "    keras.layers.Dense(16, activation='relu', input_shape=(NUM_WORDS,)),\n",
    "    keras.layers.Dropout(0.5),    # ADD\n",
    "    keras.layers.Dense(16, activation='relu'),\n",
    "    keras.layers.Dropout(0.5),    # ADDD\n",
    "    keras.layers.Dense(1, activation='sigmoid')\n",
    "])\n",
    "\n",
    "\n",
    "dropout_baseline_model.compile(optimizer='adam',\n",
    "                 loss='binary_crossentropy',\n",
    "                 metrics=['accuracy', 'binary_crossentropy'])\n",
    "\n",
    "dropout_baseline_history = dropout_baseline_model.fit(train_x,\n",
    "                                    train_y,\n",
    "                                    epochs=20,\n",
    "                                    batch_size=512,\n",
    "                                    validation_split=0.1,\n",
    "                                    verbose=2)"
   ]
  },
  {
   "cell_type": "code",
   "execution_count": 18,
   "metadata": {
    "colab": {
     "base_uri": "https://localhost:8080/"
    },
    "id": "0dYQBs5yDpXF",
    "outputId": "88dd4292-b335-4334-adfb-7f902c6ba2ba"
   },
   "outputs": [
    {
     "name": "stdout",
     "output_type": "stream",
     "text": [
      "Epoch 1/20\n",
      "44/44 - 1s - loss: 0.4927 - accuracy: 0.7528 - binary_crossentropy: 0.4927 - val_loss: 0.3448 - val_accuracy: 0.8588 - val_binary_crossentropy: 0.3448\n",
      "Epoch 2/20\n",
      "44/44 - 0s - loss: 0.3346 - accuracy: 0.8567 - binary_crossentropy: 0.3346 - val_loss: 0.3287 - val_accuracy: 0.8612 - val_binary_crossentropy: 0.3287\n",
      "Epoch 3/20\n",
      "44/44 - 0s - loss: 0.2903 - accuracy: 0.8785 - binary_crossentropy: 0.2903 - val_loss: 0.3322 - val_accuracy: 0.8616 - val_binary_crossentropy: 0.3322\n",
      "Epoch 4/20\n",
      "44/44 - 0s - loss: 0.2549 - accuracy: 0.8963 - binary_crossentropy: 0.2549 - val_loss: 0.3413 - val_accuracy: 0.8612 - val_binary_crossentropy: 0.3413\n",
      "Epoch 5/20\n",
      "44/44 - 0s - loss: 0.2127 - accuracy: 0.9138 - binary_crossentropy: 0.2127 - val_loss: 0.3724 - val_accuracy: 0.8604 - val_binary_crossentropy: 0.3724\n",
      "Epoch 6/20\n",
      "44/44 - 0s - loss: 0.1634 - accuracy: 0.9365 - binary_crossentropy: 0.1634 - val_loss: 0.3923 - val_accuracy: 0.8580 - val_binary_crossentropy: 0.3923\n",
      "Epoch 7/20\n",
      "44/44 - 0s - loss: 0.1116 - accuracy: 0.9590 - binary_crossentropy: 0.1116 - val_loss: 0.4527 - val_accuracy: 0.8548 - val_binary_crossentropy: 0.4527\n",
      "Epoch 8/20\n",
      "44/44 - 0s - loss: 0.0803 - accuracy: 0.9709 - binary_crossentropy: 0.0803 - val_loss: 0.5149 - val_accuracy: 0.8572 - val_binary_crossentropy: 0.5149\n",
      "Epoch 9/20\n",
      "44/44 - 0s - loss: 0.0600 - accuracy: 0.9786 - binary_crossentropy: 0.0600 - val_loss: 0.5521 - val_accuracy: 0.8556 - val_binary_crossentropy: 0.5521\n",
      "Epoch 10/20\n",
      "44/44 - 0s - loss: 0.0466 - accuracy: 0.9835 - binary_crossentropy: 0.0466 - val_loss: 0.5830 - val_accuracy: 0.8512 - val_binary_crossentropy: 0.5830\n",
      "Epoch 11/20\n",
      "44/44 - 0s - loss: 0.0416 - accuracy: 0.9854 - binary_crossentropy: 0.0416 - val_loss: 0.5854 - val_accuracy: 0.8524 - val_binary_crossentropy: 0.5854\n",
      "Epoch 12/20\n",
      "44/44 - 0s - loss: 0.0336 - accuracy: 0.9885 - binary_crossentropy: 0.0336 - val_loss: 0.6609 - val_accuracy: 0.8524 - val_binary_crossentropy: 0.6609\n",
      "Epoch 13/20\n",
      "44/44 - 0s - loss: 0.0297 - accuracy: 0.9895 - binary_crossentropy: 0.0297 - val_loss: 0.6765 - val_accuracy: 0.8536 - val_binary_crossentropy: 0.6765\n",
      "Epoch 14/20\n",
      "44/44 - 0s - loss: 0.0285 - accuracy: 0.9896 - binary_crossentropy: 0.0285 - val_loss: 0.6935 - val_accuracy: 0.8568 - val_binary_crossentropy: 0.6935\n",
      "Epoch 15/20\n",
      "44/44 - 0s - loss: 0.0254 - accuracy: 0.9913 - binary_crossentropy: 0.0254 - val_loss: 0.7370 - val_accuracy: 0.8580 - val_binary_crossentropy: 0.7370\n",
      "Epoch 16/20\n",
      "44/44 - 0s - loss: 0.0235 - accuracy: 0.9915 - binary_crossentropy: 0.0235 - val_loss: 0.7518 - val_accuracy: 0.8524 - val_binary_crossentropy: 0.7518\n",
      "Epoch 17/20\n",
      "44/44 - 0s - loss: 0.0192 - accuracy: 0.9931 - binary_crossentropy: 0.0192 - val_loss: 0.7943 - val_accuracy: 0.8560 - val_binary_crossentropy: 0.7943\n",
      "Epoch 18/20\n",
      "44/44 - 0s - loss: 0.0193 - accuracy: 0.9932 - binary_crossentropy: 0.0193 - val_loss: 0.8049 - val_accuracy: 0.8500 - val_binary_crossentropy: 0.8049\n",
      "Epoch 19/20\n",
      "44/44 - 0s - loss: 0.0187 - accuracy: 0.9932 - binary_crossentropy: 0.0187 - val_loss: 0.8067 - val_accuracy: 0.8484 - val_binary_crossentropy: 0.8067\n",
      "Epoch 20/20\n",
      "44/44 - 0s - loss: 0.0157 - accuracy: 0.9944 - binary_crossentropy: 0.0157 - val_loss: 0.7842 - val_accuracy: 0.8528 - val_binary_crossentropy: 0.7842\n"
     ]
    }
   ],
   "source": [
    "dropout_bigger_model = keras.Sequential([\n",
    "    keras.layers.Dense(512, activation='relu', input_shape=(NUM_WORDS,)),\n",
    "    keras.layers.Dropout(0.5),    # ADD\n",
    "    keras.layers.Dense(512, activation='relu'),\n",
    "    keras.layers.Dropout(0.5),    # ADDD\n",
    "    keras.layers.Dense(1, activation='sigmoid')\n",
    "])\n",
    "\n",
    "\n",
    "dropout_bigger_model.compile(optimizer='adam',\n",
    "                 loss='binary_crossentropy',\n",
    "                 metrics=['accuracy', 'binary_crossentropy'])\n",
    "\n",
    "dropout_bigger_history = dropout_bigger_model.fit(train_x,\n",
    "                                    train_y,\n",
    "                                    epochs=20,\n",
    "                                    batch_size=512,\n",
    "                                    validation_split=0.1,\n",
    "                                    verbose=2)"
   ]
  },
  {
   "cell_type": "code",
   "execution_count": 19,
   "metadata": {
    "colab": {
     "base_uri": "https://localhost:8080/",
     "height": 1000
    },
    "id": "9aJPcL5bWOoM",
    "outputId": "0df36e07-8347-4904-91eb-3be909cdd926"
   },
   "outputs": [
    {
     "name": "stdout",
     "output_type": "stream",
     "text": [
      "baseline\n"
     ]
    },
    {
     "data": {
      "image/png": "[encoded data removed]",
      "text/plain": [
       "<Figure size 432x288 with 1 Axes>"
      ]
     },
     "metadata": {
      "needs_background": "light"
     },
     "output_type": "display_data"
    },
    {
     "name": "stdout",
     "output_type": "stream",
     "text": [
      "dropout_baseline\n"
     ]
    },
    {
     "data": {
      "image/png": "[encoded data removed]",
      "text/plain": [
       "<Figure size 432x288 with 1 Axes>"
      ]
     },
     "metadata": {
      "needs_background": "light"
     },
     "output_type": "display_data"
    },
    {
     "name": "stdout",
     "output_type": "stream",
     "text": [
      "bigger\n"
     ]
    },
    {
     "data": {
      "image/png": "[encoded data removed]",
      "text/plain": [
       "<Figure size 432x288 with 1 Axes>"
      ]
     },
     "metadata": {
      "needs_background": "light"
     },
     "output_type": "display_data"
    },
    {
     "name": "stdout",
     "output_type": "stream",
     "text": [
      "dropout_bigger\n"
     ]
    },
    {
     "data": {
      "image/png": "[encoded data removed]",
      "text/plain": [
       "<Figure size 432x288 with 1 Axes>"
      ]
     },
     "metadata": {
      "needs_background": "light"
     },
     "output_type": "display_data"
    }
   ],
   "source": [
    "print(\"baseline\")\n",
    "plt.plot(baseline_history.history['loss'])\n",
    "plt.plot(baseline_history.history['val_loss'])\n",
    "plt.ylim((0., 1.))\n",
    "plt.show()\n",
    "\n",
    "print(\"dropout_baseline\")\n",
    "plt.plot(dropout_baseline_history.history['loss'])\n",
    "plt.plot(dropout_baseline_history.history['val_loss'])\n",
    "plt.ylim((0., 1.))\n",
    "plt.show()\n",
    "\n",
    "print(\"bigger\")\n",
    "plt.plot(bigger_history.history['loss'])\n",
    "plt.plot(bigger_history.history['val_loss'])\n",
    "plt.ylim((0., 1.))\n",
    "plt.show()\n",
    "\n",
    "print(\"dropout_bigger\")\n",
    "plt.plot(dropout_bigger_history.history['loss'])\n",
    "plt.plot(dropout_bigger_history.history['val_loss'])\n",
    "plt.ylim((0., 1.))\n",
    "plt.show()"
   ]
  },
  {
   "cell_type": "markdown",
   "metadata": {
    "id": "3Mm_9vsIYW9R"
   },
   "source": [
    "# 보충자료"
   ]
  },
  {
   "cell_type": "markdown",
   "metadata": {},
   "source": [
    "## numpy indexing\n",
    "1,2행, 2,3열을 0으로 만들기\n",
    "```\n",
    ">>>import numpy as np\n",
    ">>>arr = np.arange(16).reshape(4,4)\n",
    ">>>arr\n",
    "array([[ 0,  1,  2,  3],\n",
    "       [ 4,  5,  6,  7],\n",
    "       [ 8,  9, 10, 11],\n",
    "       [12, 13, 14, 15]])\n",
    "       \n",
    ">>>arr[:2, 1:3]=0\n",
    ">>>arr\n",
    "array([[ 0,  0,  0,  3],\n",
    "       [ 4,  0,  0,  7],\n",
    "       [ 8,  9, 10, 11],\n",
    "       [12, 13, 14, 15]])\n",
    "```"
   ]
  }
 ],
 "metadata": {
  "accelerator": "GPU",
  "colab": {
   "collapsed_sections": [
    "fTFj8ft5dlbS"
   ],
   "name": "treating_overfitting_with_imdb.ipynb",
   "provenance": []
  },
  "kernelspec": {
   "display_name": "Python 3",
   "language": "python",
   "name": "python3"
  },
  "language_info": {
   "codemirror_mode": {
    "name": "ipython",
    "version": 3
   },
   "file_extension": ".py",
   "mimetype": "text/x-python",
   "name": "python",
   "nbconvert_exporter": "python",
   "pygments_lexer": "ipython3",
   "version": "3.8.5"
  },
  "toc": {
   "base_numbering": 1,
   "nav_menu": {},
   "number_sections": true,
   "sideBar": true,
   "skip_h1_title": false,
   "title_cell": "Table of Contents",
   "title_sidebar": "Contents",
   "toc_cell": false,
   "toc_position": {
    "height": "calc(100% - 180px)",
    "left": "10px",
    "top": "150px",
    "width": "237.797px"
   },
   "toc_section_display": true,
   "toc_window_display": true
  }
 },
 "nbformat": 4,
 "nbformat_minor": 1
}
