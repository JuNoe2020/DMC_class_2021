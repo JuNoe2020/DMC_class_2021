{
  "nbformat": 4,
  "nbformat_minor": 0,
  "metadata": {
    "kernelspec": {
      "display_name": "Python 3",
      "language": "python",
      "name": "python3"
    },
    "language_info": {
      "codemirror_mode": {
        "name": "ipython",
        "version": 3
      },
      "file_extension": ".py",
      "mimetype": "text/x-python",
      "name": "python",
      "nbconvert_exporter": "python",
      "pygments_lexer": "ipython3",
      "version": "3.8.5"
    },
    "toc": {
      "base_numbering": 1,
      "nav_menu": {},
      "number_sections": true,
      "sideBar": true,
      "skip_h1_title": false,
      "title_cell": "Table of Contents",
      "title_sidebar": "Contents",
      "toc_cell": false,
      "toc_position": {
        "height": "calc(100% - 180px)",
        "left": "10px",
        "top": "150px",
        "width": "349.091px"
      },
      "toc_section_display": true,
      "toc_window_display": true
    },
    "colab": {
      "name": "성능탐색_꽃 영상 분류.ipynb",
      "provenance": [],
      "include_colab_link": true
    }
  },
  "cells": [
    {
      "cell_type": "markdown",
      "metadata": {
        "id": "view-in-github",
        "colab_type": "text"
      },
      "source": [
        "<a href=\"https://colab.research.google.com/github/JuNoe2020/DMC_class_2021/blob/main/Deep_Learning_code_review/%EC%84%B1%EB%8A%A5%ED%83%90%EC%83%89_%EA%BD%83%20%EC%98%81%EC%83%81%20%EB%B6%84%EB%A5%98.ipynb\" target=\"_parent\"><img src=\"https://colab.research.google.com/assets/colab-badge.svg\" alt=\"Open In Colab\"/></a>"
      ]
    },
    {
      "cell_type": "markdown",
      "metadata": {
        "id": "J_vkCSgEAzKF"
      },
      "source": [
        "# 라이브러리 불러오기"
      ]
    },
    {
      "cell_type": "code",
      "metadata": {
        "ExecuteTime": {
          "end_time": "2021-07-31T02:07:54.200409Z",
          "start_time": "2021-07-31T02:07:51.738097Z"
        },
        "id": "QmVkKu_mAzKF"
      },
      "source": [
        "import os\n",
        "\n",
        "import matplotlib.pyplot as plt\n",
        "import numpy as np\n",
        "\n",
        "from tensorflow.keras import optimizers\n",
        "from tensorflow.keras import models\n",
        "from tensorflow.keras import layers\n",
        "from tensorflow.keras import optimizers\n",
        "from tensorflow.keras.models import Sequential\n",
        "from tensorflow.keras.layers import Dropout, Flatten, Dense\n",
        "from tensorflow.keras.models import Model\n",
        "from tensorflow.keras.preprocessing.image import ImageDataGenerator\n",
        "from tensorflow.keras.preprocessing.image import load_img\n",
        "from tensorflow.keras.preprocessing.image import img_to_array\n",
        "\n",
        "from tensorflow.keras.applications import vgg16\n",
        "from tensorflow.keras.applications import VGG16\n",
        "\n",
        "from tensorflow.keras.optimizers import Adam\n",
        "from tensorflow.keras.regularizers import l1, l2\n",
        "from tensorflow.keras.layers import BatchNormalization\n",
        "\n",
        "\n"
      ],
      "execution_count": null,
      "outputs": []
    },
    {
      "cell_type": "code",
      "metadata": {
        "ExecuteTime": {
          "end_time": "2021-07-31T13:14:18.512866Z",
          "start_time": "2021-07-31T13:14:18.497907Z"
        },
        "id": "odjZWb9BAzKG"
      },
      "source": [
        "# copy from https://gist.github.com/stared/dfb4dfaf6d9a8501cd1cc8b8cb806d2e\n",
        "from tensorflow.keras.callbacks import Callback\n",
        "from IPython.display import clear_output\n",
        "\n",
        "class PlotLosses(Callback):\n",
        "\n",
        "  def on_train_begin(self, logs={}):\n",
        "\n",
        "    self.i = 0\n",
        "    self.x = []\n",
        "    self.losses = []\n",
        "    self.val_losses = []\n",
        "    self.acc = []\n",
        "    self.val_acc = []\n",
        "\n",
        "    self.fig = plt.figure()\n",
        "\n",
        "    self.logs = []\n",
        "\n",
        "\n",
        "  def on_epoch_end(self, epoch, logs={}):\n",
        "\n",
        "    self.logs.append(logs)\n",
        "    self.x.append(self.i)\n",
        "    self.losses.append(logs.get('loss'))\n",
        "    self.val_losses.append(logs.get('val_loss'))\n",
        "    self.acc.append(logs.get('acc'))\n",
        "    self.val_acc.append(logs.get('val_acc'))\n",
        "    self.i += 1\n",
        "\n",
        "    clear_output(wait=True)\n",
        "    plt.plot(self.x, self.losses, label=\"loss\")\n",
        "    plt.plot(self.x, self.val_losses, label=\"val_loss\")\n",
        "    plt.plot(self.x, self.acc, label=\"acc\")\n",
        "    plt.plot(self.x, self.val_acc, label=\"val_acc\")\n",
        "    plt.legend()\n",
        "    plt.show();\n",
        "    print(\"loss = \", self.losses[-1], \", val_loss = \", self.val_losses[-1])\n",
        "    print(\"acc = \", self.acc[-1], \", val_acc = \", self.val_acc[-1])\n",
        "\n"
      ],
      "execution_count": null,
      "outputs": []
    },
    {
      "cell_type": "markdown",
      "metadata": {
        "id": "WXLc3LnMAzKG"
      },
      "source": [
        "# VGG16/ 390 X 390/ SGD/ DROP=0.5/ batch=64"
      ]
    },
    {
      "cell_type": "code",
      "metadata": {
        "ExecuteTime": {
          "end_time": "2021-07-31T02:08:23.394389Z",
          "start_time": "2021-07-31T02:08:23.387399Z"
        },
        "id": "C5YNR8PGAzKH"
      },
      "source": [
        "from tensorflow.keras.callbacks import ModelCheckpoint, EarlyStopping, ReduceLROnPlateau\n",
        "\n",
        "# callbacks\n",
        "model_check_point = ModelCheckpoint('best_model.h5', monitor='val_loss', mode='min', save_best_only=True)\n",
        "plot_losses = PlotLosses()\n",
        "early_stopping = EarlyStopping(monitor='val_loss', mode='min', verbose=1, patience=20)\n",
        "reduce_lr = ReduceLROnPlateau(monitor='val_loss', factor=0.2, patience=10, min_lr=0.0001)\n",
        "\n",
        "callbacks = [model_check_point, plot_losses, early_stopping, reduce_lr]"
      ],
      "execution_count": null,
      "outputs": []
    },
    {
      "cell_type": "code",
      "metadata": {
        "ExecuteTime": {
          "end_time": "2021-07-31T02:08:27.209349Z",
          "start_time": "2021-07-31T02:08:27.192409Z"
        },
        "id": "BguCvMkgAzKH"
      },
      "source": [
        "class_weight = {0 : 1/162 , 1: 1/202}"
      ],
      "execution_count": null,
      "outputs": []
    },
    {
      "cell_type": "code",
      "metadata": {
        "ExecuteTime": {
          "end_time": "2021-07-31T02:15:36.150103Z",
          "start_time": "2021-07-31T02:15:35.830431Z"
        },
        "scrolled": true,
        "id": "ywcQPuV6AzKH",
        "outputId": "e345a8c5-0580-4245-e188-8ded8cada77e"
      },
      "source": [
        "conv_layers = VGG16(weights='imagenet', include_top=False, input_shape=(224, 224, 3))\n",
        "conv_layers.trainable = False\n",
        "\n",
        "model = models.Sequential()\n",
        "\n",
        "model.add(conv_layers)\n",
        "model.add(layers.Flatten())\n",
        "model.add(layers.Dense(390, activation='relu', kernel_regularizer=l2(0.001)))\n",
        "model.add(BatchNormalization())\n",
        "model.add(layers.Dropout(0.5))\n",
        "model.add(layers.Dense(390, activation='relu', kernel_regularizer=l2(0.001)))\n",
        "model.add(BatchNormalization())\n",
        "model.add(layers.Dropout(0.5))\n",
        "model.add(layers.Dense(2, activation='softmax'))\n",
        "\n",
        "# optimizer = Adam(learning_rate=0.01, beta_1=0.9, beta_2=0.999, epsilon=1e-07)\n",
        "model.compile(loss='sparse_categorical_crossentropy', optimizer='SGD', metrics=['acc'])\n",
        "\n",
        "\n",
        "train_data_generator = ImageDataGenerator(\n",
        "      rotation_range=10,\n",
        "      width_shift_range=0.1,\n",
        "      height_shift_range=0.1,\n",
        "      horizontal_flip=True,\n",
        "      vertical_flip=False,\n",
        "      preprocessing_function=vgg16.preprocess_input\n",
        ").flow_from_directory(\n",
        "      \"data/2flowers/train\",\n",
        "      target_size=(224,224),\n",
        "      batch_size=64,\n",
        "      class_mode='sparse'\n",
        ")\n",
        "\n",
        "test_data_generator = ImageDataGenerator(\n",
        "      preprocessing_function=vgg16.preprocess_input\n",
        ").flow_from_directory(\n",
        "      \"data/2flowers/test\",\n",
        "      target_size=(224,224),\n",
        "      batch_size=64,\n",
        "      class_mode='sparse'\n",
        ")\n",
        "\n",
        "\n",
        "model.summary()\n",
        "\n",
        "# y_ = model.predict(\n",
        "#       test_data_generator,\n",
        "#       steps=test_data_generator.samples/64\n",
        "# )\n",
        "\n",
        "# custom_labels = list(test_data_generator.class_indices.keys()) # ADDED\n",
        "# predicted = np.argmax(y_, axis=1)\n",
        "# print(\"predicted category index =\", predicted[0])\n",
        "# print(\"predicted category name =\", custom_labels[predicted[0]])"
      ],
      "execution_count": null,
      "outputs": [
        {
          "output_type": "stream",
          "text": [
            "Found 364 images belonging to 2 classes.\n",
            "Found 200 images belonging to 2 classes.\n",
            "Model: \"sequential_1\"\n",
            "_________________________________________________________________\n",
            "Layer (type)                 Output Shape              Param #   \n",
            "=================================================================\n",
            "vgg16 (Functional)           (None, 7, 7, 512)         14714688  \n",
            "_________________________________________________________________\n",
            "flatten_1 (Flatten)          (None, 25088)             0         \n",
            "_________________________________________________________________\n",
            "dense_3 (Dense)              (None, 390)               9784710   \n",
            "_________________________________________________________________\n",
            "batch_normalization_2 (Batch (None, 390)               1560      \n",
            "_________________________________________________________________\n",
            "dropout_2 (Dropout)          (None, 390)               0         \n",
            "_________________________________________________________________\n",
            "dense_4 (Dense)              (None, 390)               152490    \n",
            "_________________________________________________________________\n",
            "batch_normalization_3 (Batch (None, 390)               1560      \n",
            "_________________________________________________________________\n",
            "dropout_3 (Dropout)          (None, 390)               0         \n",
            "_________________________________________________________________\n",
            "dense_5 (Dense)              (None, 2)                 782       \n",
            "=================================================================\n",
            "Total params: 24,655,790\n",
            "Trainable params: 9,939,542\n",
            "Non-trainable params: 14,716,248\n",
            "_________________________________________________________________\n"
          ],
          "name": "stdout"
        }
      ]
    },
    {
      "cell_type": "code",
      "metadata": {
        "ExecuteTime": {
          "end_time": "2021-07-31T03:50:14.727577Z",
          "start_time": "2021-07-31T02:15:43.609684Z"
        },
        "scrolled": true,
        "id": "xAskiEU-AzKI",
        "outputId": "9033ddf6-f043-4fd7-85a9-2fc75b8d4382"
      },
      "source": [
        "\n",
        "hist = model.fit(\n",
        "      train_data_generator,\n",
        "      validation_data=test_data_generator,\n",
        "      steps_per_epoch=train_data_generator.samples/64,  \n",
        "      shuffle=True, \n",
        "#       validation_split=0.2,      \n",
        "      epochs=1000,\n",
        "      callbacks = callbacks,\n",
        "      class_weight = class_weight\n",
        ")\n",
        "\n",
        "loss, acc = model.evaluate(\n",
        "      test_data_generator,\n",
        "      steps=test_data_generator.samples/64\n",
        ")\n",
        "print(\"loss=\", loss)\n",
        "print(\"acc=\", acc)\n",
        "\n",
        "plt.plot(hist.history['loss'][10:])\n",
        "plt.plot(hist.history['val_loss'][10:])\n",
        "plt.show()\n"
      ],
      "execution_count": null,
      "outputs": [
        {
          "output_type": "display_data",
          "data": {
            "image/png": "[encoded data removed]",
            "text/plain": [
              "<Figure size 432x288 with 1 Axes>"
            ]
          },
          "metadata": {
            "tags": [],
            "needs_background": "light"
          }
        },
        {
          "output_type": "stream",
          "text": [
            "loss =  0.9122504591941833 , val_loss =  1.1608572006225586\n",
            "3/3 [==============================] - 1s 312ms/step - loss: 1.1609 - acc: 0.9150  \n",
            "loss= 1.1608572006225586\n",
            "acc= 0.9150000214576721\n"
          ],
          "name": "stdout"
        },
        {
          "output_type": "display_data",
          "data": {
            "image/png": "[encoded data removed]",
            "text/plain": [
              "<Figure size 432x288 with 1 Axes>"
            ]
          },
          "metadata": {
            "tags": [],
            "needs_background": "light"
          }
        }
      ]
    },
    {
      "cell_type": "markdown",
      "metadata": {
        "id": "K_Gots28AzKJ"
      },
      "source": [
        "# VGG16/ 390 X 390/ SGD/ DROP=0.2/ batch=64"
      ]
    },
    {
      "cell_type": "code",
      "metadata": {
        "ExecuteTime": {
          "end_time": "2021-07-31T04:26:12.112180Z",
          "start_time": "2021-07-31T04:26:12.101236Z"
        },
        "id": "s5C8rv6DAzKJ"
      },
      "source": [
        "from tensorflow.keras.callbacks import ModelCheckpoint, EarlyStopping, ReduceLROnPlateau\n",
        "\n",
        "# callbacks\n",
        "model_check_point = ModelCheckpoint('best_model.h5', monitor='val_loss', mode='min', save_best_only=True)\n",
        "plot_losses = PlotLosses()\n",
        "early_stopping = EarlyStopping(monitor='val_loss', mode='min', verbose=1, patience=20)\n",
        "reduce_lr = ReduceLROnPlateau(monitor='val_loss', factor=0.2, patience=10, min_lr=0.0001)\n",
        "\n",
        "callbacks = [model_check_point, plot_losses, early_stopping, reduce_lr]"
      ],
      "execution_count": null,
      "outputs": []
    },
    {
      "cell_type": "code",
      "metadata": {
        "ExecuteTime": {
          "end_time": "2021-07-31T04:26:23.768609Z",
          "start_time": "2021-07-31T04:26:23.442789Z"
        },
        "id": "mSA8lzM8AzKJ",
        "outputId": "e92bfe27-a0d1-4412-f636-39952a264287"
      },
      "source": [
        "conv_layers = VGG16(weights='imagenet', include_top=False, input_shape=(224, 224, 3))\n",
        "conv_layers.trainable = False\n",
        "\n",
        "model = models.Sequential()\n",
        "\n",
        "model.add(conv_layers)\n",
        "model.add(layers.Flatten())\n",
        "model.add(layers.Dense(390, activation='relu', kernel_regularizer=l2(0.001)))\n",
        "model.add(BatchNormalization())\n",
        "model.add(layers.Dropout(0.2))\n",
        "model.add(layers.Dense(390, activation='relu', kernel_regularizer=l2(0.001)))\n",
        "model.add(BatchNormalization())\n",
        "model.add(layers.Dropout(0.2))\n",
        "model.add(layers.Dense(2, activation='softmax'))\n",
        "\n",
        "# optimizer = Adam(learning_rate=0.01, beta_1=0.9, beta_2=0.999, epsilon=1e-07)\n",
        "model.compile(loss='sparse_categorical_crossentropy', optimizer='SGD', metrics=['acc'])\n",
        "\n",
        "\n",
        "train_data_generator = ImageDataGenerator(\n",
        "      rotation_range=10,\n",
        "      width_shift_range=0.1,\n",
        "      height_shift_range=0.1,\n",
        "      horizontal_flip=True,\n",
        "      vertical_flip=False,\n",
        "      preprocessing_function=vgg16.preprocess_input\n",
        ").flow_from_directory(\n",
        "      \"data/2flowers/train\",\n",
        "      target_size=(224,224),\n",
        "      batch_size=64,\n",
        "      class_mode='sparse'\n",
        ")\n",
        "\n",
        "test_data_generator = ImageDataGenerator(\n",
        "      preprocessing_function=vgg16.preprocess_input\n",
        ").flow_from_directory(\n",
        "      \"data/2flowers/test\",\n",
        "      target_size=(224,224),\n",
        "      batch_size=64,\n",
        "      class_mode='sparse'\n",
        ")\n",
        "\n",
        "model.summary()"
      ],
      "execution_count": null,
      "outputs": [
        {
          "output_type": "stream",
          "text": [
            "Found 364 images belonging to 2 classes.\n",
            "Found 200 images belonging to 2 classes.\n",
            "Model: \"sequential_4\"\n",
            "_________________________________________________________________\n",
            "Layer (type)                 Output Shape              Param #   \n",
            "=================================================================\n",
            "vgg16 (Functional)           (None, 7, 7, 512)         14714688  \n",
            "_________________________________________________________________\n",
            "flatten_4 (Flatten)          (None, 25088)             0         \n",
            "_________________________________________________________________\n",
            "dense_12 (Dense)             (None, 390)               9784710   \n",
            "_________________________________________________________________\n",
            "batch_normalization_16 (Batc (None, 390)               1560      \n",
            "_________________________________________________________________\n",
            "dropout_8 (Dropout)          (None, 390)               0         \n",
            "_________________________________________________________________\n",
            "dense_13 (Dense)             (None, 390)               152490    \n",
            "_________________________________________________________________\n",
            "batch_normalization_17 (Batc (None, 390)               1560      \n",
            "_________________________________________________________________\n",
            "dropout_9 (Dropout)          (None, 390)               0         \n",
            "_________________________________________________________________\n",
            "dense_14 (Dense)             (None, 2)                 782       \n",
            "=================================================================\n",
            "Total params: 24,655,790\n",
            "Trainable params: 9,939,542\n",
            "Non-trainable params: 14,716,248\n",
            "_________________________________________________________________\n"
          ],
          "name": "stdout"
        }
      ]
    },
    {
      "cell_type": "code",
      "metadata": {
        "ExecuteTime": {
          "end_time": "2021-07-31T04:36:14.449282Z",
          "start_time": "2021-07-31T04:26:39.789734Z"
        },
        "scrolled": true,
        "id": "j_MD5wPCAzKK",
        "outputId": "93a1f5d9-7f38-4503-d10a-b8f795cb46af"
      },
      "source": [
        "hist = model.fit(\n",
        "      train_data_generator,\n",
        "      validation_data=test_data_generator,\n",
        "      steps_per_epoch=train_data_generator.samples/64,  \n",
        "      shuffle=True, \n",
        "#       validation_split=0.2,      \n",
        "      epochs=100,\n",
        "      callbacks = callbacks,\n",
        "      class_weight = class_weight\n",
        ")\n",
        "\n",
        "loss, acc = model.evaluate(\n",
        "      test_data_generator,\n",
        "      steps=test_data_generator.samples/64\n",
        ")\n",
        "\n",
        "plt.plot(hist.history['loss'][10:])\n",
        "plt.plot(hist.history['val_loss'][10:])\n",
        "plt.show()\n",
        "\n",
        "print(\"loss=\", loss)\n",
        "print(\"acc=\", acc)"
      ],
      "execution_count": null,
      "outputs": [
        {
          "output_type": "display_data",
          "data": {
            "image/png": "[encoded data removed]",
            "text/plain": [
              "<Figure size 432x288 with 1 Axes>"
            ]
          },
          "metadata": {
            "tags": [],
            "needs_background": "light"
          }
        },
        {
          "output_type": "stream",
          "text": [
            "loss =  1.1320569515228271 , val_loss =  1.4408892393112183\n",
            "3/3 [==============================] - 1s 275ms/step - loss: 1.4409 - acc: 0.8550  \n"
          ],
          "name": "stdout"
        },
        {
          "output_type": "display_data",
          "data": {
            "image/png": "[encoded data removed]",
            "text/plain": [
              "<Figure size 432x288 with 1 Axes>"
            ]
          },
          "metadata": {
            "tags": [],
            "needs_background": "light"
          }
        },
        {
          "output_type": "stream",
          "text": [
            "loss= 1.4408891201019287\n",
            "acc= 0.8550000190734863\n"
          ],
          "name": "stdout"
        }
      ]
    },
    {
      "cell_type": "markdown",
      "metadata": {
        "id": "678bsLqFAzKK"
      },
      "source": [
        "# VGG16/ 390 X 390/ SGD/ DROP=0.2/ batch=64/ evaluate_generator"
      ]
    },
    {
      "cell_type": "code",
      "metadata": {
        "ExecuteTime": {
          "end_time": "2021-07-31T06:17:23.601927Z",
          "start_time": "2021-07-31T06:17:23.595946Z"
        },
        "id": "ilgMqtMwAzKK"
      },
      "source": [
        "from tensorflow.keras.callbacks import ModelCheckpoint, EarlyStopping, ReduceLROnPlateau\n",
        "\n",
        "# callbacks\n",
        "model_check_point = ModelCheckpoint('best_model.h5', monitor='val_loss', mode='min', save_best_only=True)\n",
        "plot_losses = PlotLosses()\n",
        "early_stopping = EarlyStopping(monitor='val_loss', mode='min', verbose=1, patience=20)\n",
        "reduce_lr = ReduceLROnPlateau(monitor='val_loss', factor=0.2, patience=10, min_lr=0.0001)\n",
        "\n",
        "callbacks = [model_check_point, plot_losses, early_stopping, reduce_lr]"
      ],
      "execution_count": null,
      "outputs": []
    },
    {
      "cell_type": "code",
      "metadata": {
        "ExecuteTime": {
          "end_time": "2021-07-31T06:17:25.599055Z",
          "start_time": "2021-07-31T06:17:25.269430Z"
        },
        "id": "ckEvJN74AzKL",
        "outputId": "5c714d17-6633-4026-e48f-661c2c8420bc"
      },
      "source": [
        "conv_layers = VGG16(weights='imagenet', include_top=False, input_shape=(224, 224, 3))\n",
        "conv_layers.trainable = False\n",
        "\n",
        "model = models.Sequential()\n",
        "\n",
        "model.add(conv_layers)\n",
        "model.add(layers.Flatten())\n",
        "model.add(layers.Dense(390, activation='relu', kernel_regularizer=l2(0.001)))\n",
        "model.add(BatchNormalization())\n",
        "model.add(layers.Dropout(0.2))\n",
        "model.add(layers.Dense(390, activation='relu', kernel_regularizer=l2(0.001)))\n",
        "model.add(BatchNormalization())\n",
        "model.add(layers.Dropout(0.2))\n",
        "model.add(layers.Dense(2, activation='softmax'))\n",
        "\n",
        "# optimizer = Adam(learning_rate=0.01, beta_1=0.9, beta_2=0.999, epsilon=1e-07)\n",
        "model.compile(loss='sparse_categorical_crossentropy', optimizer='SGD', metrics=['acc'])\n",
        "\n",
        "\n",
        "train_data_generator = ImageDataGenerator(\n",
        "      rotation_range=10,\n",
        "      width_shift_range=0.1,\n",
        "      height_shift_range=0.1,\n",
        "      horizontal_flip=True,\n",
        "      vertical_flip=False,\n",
        "      preprocessing_function=vgg16.preprocess_input\n",
        ").flow_from_directory(\n",
        "      \"data/2flowers/train\",\n",
        "      target_size=(224,224),\n",
        "      batch_size=64,\n",
        "      class_mode='sparse'\n",
        ")\n",
        "\n",
        "test_data_generator = ImageDataGenerator(\n",
        "      preprocessing_function=vgg16.preprocess_input\n",
        ").flow_from_directory(\n",
        "      \"data/2flowers/test\",\n",
        "      target_size=(224,224),\n",
        "      batch_size=64,\n",
        "      class_mode='sparse'\n",
        ")\n",
        "\n",
        "model.summary()"
      ],
      "execution_count": null,
      "outputs": [
        {
          "output_type": "stream",
          "text": [
            "Found 364 images belonging to 2 classes.\n",
            "Found 200 images belonging to 2 classes.\n",
            "Model: \"sequential_10\"\n",
            "_________________________________________________________________\n",
            "Layer (type)                 Output Shape              Param #   \n",
            "=================================================================\n",
            "vgg16 (Functional)           (None, 7, 7, 512)         14714688  \n",
            "_________________________________________________________________\n",
            "flatten_10 (Flatten)         (None, 25088)             0         \n",
            "_________________________________________________________________\n",
            "dense_30 (Dense)             (None, 390)               9784710   \n",
            "_________________________________________________________________\n",
            "batch_normalization_40 (Batc (None, 390)               1560      \n",
            "_________________________________________________________________\n",
            "dropout_20 (Dropout)         (None, 390)               0         \n",
            "_________________________________________________________________\n",
            "dense_31 (Dense)             (None, 390)               152490    \n",
            "_________________________________________________________________\n",
            "batch_normalization_41 (Batc (None, 390)               1560      \n",
            "_________________________________________________________________\n",
            "dropout_21 (Dropout)         (None, 390)               0         \n",
            "_________________________________________________________________\n",
            "dense_32 (Dense)             (None, 2)                 782       \n",
            "=================================================================\n",
            "Total params: 24,655,790\n",
            "Trainable params: 9,939,542\n",
            "Non-trainable params: 14,716,248\n",
            "_________________________________________________________________\n"
          ],
          "name": "stdout"
        }
      ]
    },
    {
      "cell_type": "code",
      "metadata": {
        "ExecuteTime": {
          "end_time": "2021-07-31T06:27:38.270055Z",
          "start_time": "2021-07-31T06:17:25.837865Z"
        },
        "id": "nZjoYRMxAzKL",
        "outputId": "ecdcd887-5672-4419-b69f-0d2a93b7c0ae"
      },
      "source": [
        "hist = model.fit_generator(\n",
        "      train_data_generator,\n",
        "      validation_data=test_data_generator,\n",
        "      steps_per_epoch=train_data_generator.samples/64,  \n",
        "      shuffle=True, \n",
        "#       validation_split=0.2,      \n",
        "      epochs=100,\n",
        "      callbacks = callbacks,\n",
        "      class_weight = class_weight\n",
        ")\n",
        "\n",
        "loss, acc = model.evaluate_generator(\n",
        "      test_data_generator,\n",
        "      steps=test_data_generator.samples/64\n",
        ")\n",
        "\n",
        "plt.plot(hist.history['loss'][10:])\n",
        "plt.plot(hist.history['val_loss'][10:])\n",
        "plt.show()\n",
        "\n",
        "print(\"loss=\", loss)\n",
        "print(\"acc=\", acc)"
      ],
      "execution_count": null,
      "outputs": [
        {
          "output_type": "display_data",
          "data": {
            "image/png": "[encoded data removed]",
            "text/plain": [
              "<Figure size 432x288 with 1 Axes>"
            ]
          },
          "metadata": {
            "tags": [],
            "needs_background": "light"
          }
        },
        {
          "output_type": "stream",
          "text": [
            "loss =  1.133359670639038 , val_loss =  1.500510573387146\n"
          ],
          "name": "stdout"
        },
        {
          "output_type": "stream",
          "text": [
            "C:\\Users\\JuNoe\\anaconda3\\lib\\site-packages\\tensorflow\\python\\keras\\engine\\training.py:1973: UserWarning: `Model.evaluate_generator` is deprecated and will be removed in a future version. Please use `Model.evaluate`, which supports generators.\n",
            "  warnings.warn('`Model.evaluate_generator` is deprecated and '\n"
          ],
          "name": "stderr"
        },
        {
          "output_type": "display_data",
          "data": {
            "image/png": "[encoded data removed]",
            "text/plain": [
              "<Figure size 432x288 with 1 Axes>"
            ]
          },
          "metadata": {
            "tags": [],
            "needs_background": "light"
          }
        },
        {
          "output_type": "stream",
          "text": [
            "loss= 1.500510573387146\n",
            "acc= 0.8399999737739563\n"
          ],
          "name": "stdout"
        }
      ]
    },
    {
      "cell_type": "code",
      "metadata": {
        "id": "x_jNM6hqAzKL"
      },
      "source": [
        ""
      ],
      "execution_count": null,
      "outputs": []
    },
    {
      "cell_type": "code",
      "metadata": {
        "id": "7vMyZdo3AzKM"
      },
      "source": [
        ""
      ],
      "execution_count": null,
      "outputs": []
    },
    {
      "cell_type": "markdown",
      "metadata": {
        "id": "pKwUkHbLAzKM"
      },
      "source": [
        "# VGG16/ 100 X 100/ SGD/ DROP=0.2/ batch=64¶"
      ]
    },
    {
      "cell_type": "code",
      "metadata": {
        "ExecuteTime": {
          "end_time": "2021-07-31T05:04:08.995452Z",
          "start_time": "2021-07-31T05:04:08.983485Z"
        },
        "id": "4zdF0-VcAzKM"
      },
      "source": [
        "from tensorflow.keras.callbacks import ModelCheckpoint, EarlyStopping, ReduceLROnPlateau\n",
        "\n",
        "# callbacks\n",
        "model_check_point = ModelCheckpoint('best_model.h5', monitor='val_loss', mode='min', save_best_only=True)\n",
        "plot_losses = PlotLosses()\n",
        "early_stopping = EarlyStopping(monitor='val_loss', mode='min', verbose=1, patience=20)\n",
        "reduce_lr = ReduceLROnPlateau(monitor='val_loss', factor=0.2, patience=10, min_lr=0.0001)\n",
        "\n",
        "callbacks = [model_check_point, plot_losses, early_stopping, reduce_lr]"
      ],
      "execution_count": null,
      "outputs": []
    },
    {
      "cell_type": "code",
      "metadata": {
        "ExecuteTime": {
          "end_time": "2021-07-31T05:04:17.427573Z",
          "start_time": "2021-07-31T05:04:17.091472Z"
        },
        "id": "t74Z030IAzKM",
        "outputId": "a3d81988-f8c3-4aba-8ff7-e88d42d81381"
      },
      "source": [
        "conv_layers = VGG16(weights='imagenet', include_top=False, input_shape=(224, 224, 3))\n",
        "conv_layers.trainable = False\n",
        "\n",
        "model = models.Sequential()\n",
        "\n",
        "model.add(conv_layers)\n",
        "model.add(layers.Flatten())\n",
        "model.add(layers.Dense(100, activation='relu', kernel_regularizer=l2(0.001)))\n",
        "model.add(BatchNormalization())\n",
        "model.add(layers.Dropout(0.2))\n",
        "model.add(layers.Dense(100, activation='relu', kernel_regularizer=l2(0.001)))\n",
        "model.add(BatchNormalization())\n",
        "model.add(layers.Dropout(0.2))\n",
        "model.add(layers.Dense(2, activation='softmax'))\n",
        "\n",
        "# optimizer = Adam(learning_rate=0.01, beta_1=0.9, beta_2=0.999, epsilon=1e-07)\n",
        "model.compile(loss='sparse_categorical_crossentropy', optimizer='SGD', metrics=['acc'])\n",
        "\n",
        "\n",
        "train_data_generator = ImageDataGenerator(\n",
        "      rotation_range=10,\n",
        "      width_shift_range=0.1,\n",
        "      height_shift_range=0.1,\n",
        "      horizontal_flip=True,\n",
        "      vertical_flip=False,\n",
        "      preprocessing_function=vgg16.preprocess_input\n",
        ").flow_from_directory(\n",
        "      \"data/2flowers/train\",\n",
        "      target_size=(224,224),\n",
        "      batch_size=64,\n",
        "      class_mode='sparse'\n",
        ")\n",
        "\n",
        "test_data_generator = ImageDataGenerator(\n",
        "      preprocessing_function=vgg16.preprocess_input\n",
        ").flow_from_directory(\n",
        "      \"data/2flowers/test\",\n",
        "      target_size=(224,224),\n",
        "      batch_size=64,\n",
        "      class_mode='sparse'\n",
        ")\n",
        "\n",
        "model.summary()"
      ],
      "execution_count": null,
      "outputs": [
        {
          "output_type": "stream",
          "text": [
            "Found 364 images belonging to 2 classes.\n",
            "Found 200 images belonging to 2 classes.\n",
            "Model: \"sequential_5\"\n",
            "_________________________________________________________________\n",
            "Layer (type)                 Output Shape              Param #   \n",
            "=================================================================\n",
            "vgg16 (Functional)           (None, 7, 7, 512)         14714688  \n",
            "_________________________________________________________________\n",
            "flatten_5 (Flatten)          (None, 25088)             0         \n",
            "_________________________________________________________________\n",
            "dense_15 (Dense)             (None, 100)               2508900   \n",
            "_________________________________________________________________\n",
            "batch_normalization_18 (Batc (None, 100)               400       \n",
            "_________________________________________________________________\n",
            "dropout_10 (Dropout)         (None, 100)               0         \n",
            "_________________________________________________________________\n",
            "dense_16 (Dense)             (None, 100)               10100     \n",
            "_________________________________________________________________\n",
            "batch_normalization_19 (Batc (None, 100)               400       \n",
            "_________________________________________________________________\n",
            "dropout_11 (Dropout)         (None, 100)               0         \n",
            "_________________________________________________________________\n",
            "dense_17 (Dense)             (None, 2)                 202       \n",
            "=================================================================\n",
            "Total params: 17,234,690\n",
            "Trainable params: 2,519,602\n",
            "Non-trainable params: 14,715,088\n",
            "_________________________________________________________________\n"
          ],
          "name": "stdout"
        }
      ]
    },
    {
      "cell_type": "code",
      "metadata": {
        "ExecuteTime": {
          "end_time": "2021-07-31T05:14:30.423202Z",
          "start_time": "2021-07-31T05:04:26.718352Z"
        },
        "id": "ortOodowAzKM",
        "outputId": "257c636f-1570-47ae-d20b-c79d6f47ad25"
      },
      "source": [
        "hist = model.fit(\n",
        "      train_data_generator,\n",
        "      validation_data=test_data_generator,\n",
        "      steps_per_epoch=train_data_generator.samples/64,  \n",
        "      shuffle=True, \n",
        "#       validation_split=0.2,      \n",
        "      epochs=100,\n",
        "      callbacks = callbacks,\n",
        "      class_weight = class_weight\n",
        ")\n",
        "\n",
        "loss, acc = model.evaluate(\n",
        "      test_data_generator,\n",
        "      steps=test_data_generator.samples/64\n",
        ")\n",
        "\n",
        "plt.plot(hist.history['loss'][10:])\n",
        "plt.plot(hist.history['val_loss'][10:])\n",
        "plt.show()\n",
        "\n",
        "print(\"loss=\", loss)\n",
        "print(\"acc=\", acc)"
      ],
      "execution_count": null,
      "outputs": [
        {
          "output_type": "display_data",
          "data": {
            "image/png": "[encoded data removed]",
            "text/plain": [
              "<Figure size 432x288 with 1 Axes>"
            ]
          },
          "metadata": {
            "tags": [],
            "needs_background": "light"
          }
        },
        {
          "output_type": "stream",
          "text": [
            "loss =  0.2942759692668915 , val_loss =  0.6248608827590942\n",
            "3/3 [==============================] - 1s 322ms/step - loss: 0.6249 - acc: 0.8450  \n"
          ],
          "name": "stdout"
        },
        {
          "output_type": "display_data",
          "data": {
            "image/png": "[encoded data removed]",
            "text/plain": [
              "<Figure size 432x288 with 1 Axes>"
            ]
          },
          "metadata": {
            "tags": [],
            "needs_background": "light"
          }
        },
        {
          "output_type": "stream",
          "text": [
            "loss= 0.6248608231544495\n",
            "acc= 0.8450000286102295\n"
          ],
          "name": "stdout"
        }
      ]
    },
    {
      "cell_type": "markdown",
      "metadata": {
        "id": "U1W7GtP3AzKN"
      },
      "source": [
        "# VGG16/ 30 X 30/ SGD/ DROP=0.2/ batch=64"
      ]
    },
    {
      "cell_type": "code",
      "metadata": {
        "ExecuteTime": {
          "end_time": "2021-07-31T05:17:33.707892Z",
          "start_time": "2021-07-31T05:17:33.689940Z"
        },
        "id": "sWZ3S6U2AzKN"
      },
      "source": [
        "from tensorflow.keras.callbacks import ModelCheckpoint, EarlyStopping, ReduceLROnPlateau\n",
        "\n",
        "# callbacks\n",
        "model_check_point = ModelCheckpoint('best_model.h5', monitor='val_loss', mode='min', save_best_only=True)\n",
        "plot_losses = PlotLosses()\n",
        "early_stopping = EarlyStopping(monitor='val_loss', mode='min', verbose=1, patience=20)\n",
        "reduce_lr = ReduceLROnPlateau(monitor='val_loss', factor=0.2, patience=10, min_lr=0.0001)\n",
        "\n",
        "callbacks = [model_check_point, plot_losses, early_stopping, reduce_lr]"
      ],
      "execution_count": null,
      "outputs": []
    },
    {
      "cell_type": "code",
      "metadata": {
        "ExecuteTime": {
          "end_time": "2021-07-31T05:17:43.228704Z",
          "start_time": "2021-07-31T05:17:42.890637Z"
        },
        "id": "Aor6Aes1AzKN",
        "outputId": "5d61f56f-ce19-4646-b701-5a26d29c8eb8"
      },
      "source": [
        "conv_layers = VGG16(weights='imagenet', include_top=False, input_shape=(224, 224, 3))\n",
        "conv_layers.trainable = False\n",
        "\n",
        "model = models.Sequential()\n",
        "\n",
        "model.add(conv_layers)\n",
        "model.add(layers.Flatten())\n",
        "model.add(layers.Dense(30, activation='relu', kernel_regularizer=l2(0.001)))\n",
        "model.add(BatchNormalization())\n",
        "model.add(layers.Dropout(0.2))\n",
        "model.add(layers.Dense(30, activation='relu', kernel_regularizer=l2(0.001)))\n",
        "model.add(BatchNormalization())\n",
        "model.add(layers.Dropout(0.2))\n",
        "model.add(layers.Dense(2, activation='softmax'))\n",
        "\n",
        "# optimizer = Adam(learning_rate=0.01, beta_1=0.9, beta_2=0.999, epsilon=1e-07)\n",
        "model.compile(loss='sparse_categorical_crossentropy', optimizer='SGD', metrics=['acc'])\n",
        "\n",
        "\n",
        "train_data_generator = ImageDataGenerator(\n",
        "      rotation_range=10,\n",
        "      width_shift_range=0.1,\n",
        "      height_shift_range=0.1,\n",
        "      horizontal_flip=True,\n",
        "      vertical_flip=False,\n",
        "      preprocessing_function=vgg16.preprocess_input\n",
        ").flow_from_directory(\n",
        "      \"data/2flowers/train\",\n",
        "      target_size=(224,224),\n",
        "      batch_size=64,\n",
        "      class_mode='sparse'\n",
        ")\n",
        "\n",
        "test_data_generator = ImageDataGenerator(\n",
        "      preprocessing_function=vgg16.preprocess_input\n",
        ").flow_from_directory(\n",
        "      \"data/2flowers/test\",\n",
        "      target_size=(224,224),\n",
        "      batch_size=64,\n",
        "      class_mode='sparse'\n",
        ")\n",
        "\n",
        "model.summary()"
      ],
      "execution_count": null,
      "outputs": [
        {
          "output_type": "stream",
          "text": [
            "Found 364 images belonging to 2 classes.\n",
            "Found 200 images belonging to 2 classes.\n",
            "Model: \"sequential_6\"\n",
            "_________________________________________________________________\n",
            "Layer (type)                 Output Shape              Param #   \n",
            "=================================================================\n",
            "vgg16 (Functional)           (None, 7, 7, 512)         14714688  \n",
            "_________________________________________________________________\n",
            "flatten_6 (Flatten)          (None, 25088)             0         \n",
            "_________________________________________________________________\n",
            "dense_18 (Dense)             (None, 30)                752670    \n",
            "_________________________________________________________________\n",
            "batch_normalization_20 (Batc (None, 30)                120       \n",
            "_________________________________________________________________\n",
            "dropout_12 (Dropout)         (None, 30)                0         \n",
            "_________________________________________________________________\n",
            "dense_19 (Dense)             (None, 30)                930       \n",
            "_________________________________________________________________\n",
            "batch_normalization_21 (Batc (None, 30)                120       \n",
            "_________________________________________________________________\n",
            "dropout_13 (Dropout)         (None, 30)                0         \n",
            "_________________________________________________________________\n",
            "dense_20 (Dense)             (None, 2)                 62        \n",
            "=================================================================\n",
            "Total params: 15,468,590\n",
            "Trainable params: 753,782\n",
            "Non-trainable params: 14,714,808\n",
            "_________________________________________________________________\n"
          ],
          "name": "stdout"
        }
      ]
    },
    {
      "cell_type": "code",
      "metadata": {
        "ExecuteTime": {
          "end_time": "2021-07-31T05:27:42.636658Z",
          "start_time": "2021-07-31T05:17:52.143353Z"
        },
        "id": "2OMTX4f9AzKN",
        "outputId": "b7ce3416-8bb7-49fe-8a4b-adecf35057e6"
      },
      "source": [
        "hist = model.fit(\n",
        "      train_data_generator,\n",
        "      validation_data=test_data_generator,\n",
        "      steps_per_epoch=train_data_generator.samples/64,  \n",
        "      shuffle=True, \n",
        "#       validation_split=0.2,      \n",
        "      epochs=100,\n",
        "      callbacks = callbacks,\n",
        "      class_weight = class_weight\n",
        ")\n",
        "\n",
        "loss, acc = model.evaluate(\n",
        "      test_data_generator,\n",
        "      steps=test_data_generator.samples/64\n",
        ")\n",
        "\n",
        "plt.plot(hist.history['loss'][10:])\n",
        "plt.plot(hist.history['val_loss'][10:])\n",
        "plt.show()\n",
        "\n",
        "print(\"loss=\", loss)\n",
        "print(\"acc=\", acc)"
      ],
      "execution_count": null,
      "outputs": [
        {
          "output_type": "display_data",
          "data": {
            "image/png": "[encoded data removed]",
            "text/plain": [
              "<Figure size 432x288 with 1 Axes>"
            ]
          },
          "metadata": {
            "tags": [],
            "needs_background": "light"
          }
        },
        {
          "output_type": "stream",
          "text": [
            "loss =  0.0912928432226181 , val_loss =  0.45355987548828125\n",
            "3/3 [==============================] - 1s 345ms/step - loss: 0.4536 - acc: 0.8600  \n"
          ],
          "name": "stdout"
        },
        {
          "output_type": "display_data",
          "data": {
            "image/png": "[encoded data removed]",
            "text/plain": [
              "<Figure size 432x288 with 1 Axes>"
            ]
          },
          "metadata": {
            "tags": [],
            "needs_background": "light"
          }
        },
        {
          "output_type": "stream",
          "text": [
            "loss= 0.45355990529060364\n",
            "acc= 0.8600000143051147\n"
          ],
          "name": "stdout"
        }
      ]
    },
    {
      "cell_type": "code",
      "metadata": {
        "id": "c4M_SfbUAzKN"
      },
      "source": [
        ""
      ],
      "execution_count": null,
      "outputs": []
    },
    {
      "cell_type": "code",
      "metadata": {
        "id": "hbgjVHYrAzKO"
      },
      "source": [
        ""
      ],
      "execution_count": null,
      "outputs": []
    },
    {
      "cell_type": "markdown",
      "metadata": {
        "ExecuteTime": {
          "end_time": "2021-07-30T16:09:10.013638Z",
          "start_time": "2021-07-30T16:09:09.997681Z"
        },
        "id": "_FJTmZhqAzKO"
      },
      "source": [
        "# Xception/ 99 X 99/ SGD/ DROP=0.2/ batch=64"
      ]
    },
    {
      "cell_type": "code",
      "metadata": {
        "ExecuteTime": {
          "end_time": "2021-07-31T05:34:03.866716Z",
          "start_time": "2021-07-31T05:34:03.857770Z"
        },
        "id": "V6SKBjkhAzKO"
      },
      "source": [
        "from tensorflow.keras.callbacks import ModelCheckpoint, EarlyStopping, ReduceLROnPlateau\n",
        "\n",
        "# callbacks\n",
        "model_check_point = ModelCheckpoint('best_model.h5', monitor='val_loss', mode='min', save_best_only=True)\n",
        "plot_losses = PlotLosses()\n",
        "early_stopping = EarlyStopping(monitor='val_loss', mode='min', verbose=1, patience=20)\n",
        "reduce_lr = ReduceLROnPlateau(monitor='val_loss', factor=0.2, patience=20, min_lr=0.001)\n",
        "\n",
        "callbacks = [model_check_point, plot_losses, early_stopping, reduce_lr]"
      ],
      "execution_count": null,
      "outputs": []
    },
    {
      "cell_type": "code",
      "metadata": {
        "ExecuteTime": {
          "end_time": "2021-07-31T05:34:06.452283Z",
          "start_time": "2021-07-31T05:34:06.447322Z"
        },
        "id": "wx_mEgoHAzKO"
      },
      "source": [
        "from tensorflow.keras.applications import Xception\n",
        "from tensorflow.keras.applications import xception"
      ],
      "execution_count": null,
      "outputs": []
    },
    {
      "cell_type": "code",
      "metadata": {
        "ExecuteTime": {
          "end_time": "2021-07-31T05:34:26.834943Z",
          "start_time": "2021-07-31T05:34:25.578620Z"
        },
        "id": "8UU31HH6AzKO",
        "outputId": "6d3147ae-6bc3-4b04-8ba6-58e49582a3ef"
      },
      "source": [
        "# from tensorflow.keras.applications import Xception\n",
        "# from tensorflow.keras.applications import VGG16\n",
        "\n",
        "conv_layers = Xception(weights='imagenet', include_top=False, input_shape=(224, 224, 3))\n",
        "conv_layers.trainable = False\n",
        "\n",
        "model = models.Sequential()\n",
        "\n",
        "model.add(conv_layers)\n",
        "model.add(layers.Flatten())\n",
        "model.add(layers.Dense(99, activation='relu', kernel_regularizer=l2(0.001)))\n",
        "model.add(BatchNormalization())\n",
        "model.add(layers.Dropout(0.2))\n",
        "model.add(layers.Dense(99, activation='relu', kernel_regularizer=l2(0.001)))\n",
        "model.add(BatchNormalization())\n",
        "model.add(layers.Dropout(0.2))\n",
        "model.add(layers.Dense(2, activation='softmax'))\n",
        "\n",
        "# optimizer = Adam(learning_rate=0.01, beta_1=0.9, beta_2=0.999, epsilon=1e-07)\n",
        "model.compile(loss='sparse_categorical_crossentropy', optimizer='SGD', metrics=['acc'])\n",
        "\n",
        "\n",
        "train_data_generator = ImageDataGenerator(\n",
        "      rotation_range=10,\n",
        "      width_shift_range=0.1,\n",
        "      height_shift_range=0.1,\n",
        "      horizontal_flip=True,\n",
        "      vertical_flip=False,\n",
        "      preprocessing_function=xception.preprocess_input\n",
        ").flow_from_directory(\n",
        "      \"data/2flowers/train\",\n",
        "      target_size=(224,224),\n",
        "      batch_size=64,\n",
        "      class_mode='sparse'\n",
        ")\n",
        "\n",
        "test_data_generator = ImageDataGenerator(\n",
        "      preprocessing_function=xception.preprocess_input\n",
        ").flow_from_directory(\n",
        "      \"data/2flowers/test\",\n",
        "      target_size=(224,224),\n",
        "      batch_size=64,\n",
        "      class_mode='sparse'\n",
        ")\n",
        "model.summary()\n"
      ],
      "execution_count": null,
      "outputs": [
        {
          "output_type": "stream",
          "text": [
            "Found 364 images belonging to 2 classes.\n",
            "Found 200 images belonging to 2 classes.\n",
            "Model: \"sequential_7\"\n",
            "_________________________________________________________________\n",
            "Layer (type)                 Output Shape              Param #   \n",
            "=================================================================\n",
            "xception (Functional)        (None, 7, 7, 2048)        20861480  \n",
            "_________________________________________________________________\n",
            "flatten_7 (Flatten)          (None, 100352)            0         \n",
            "_________________________________________________________________\n",
            "dense_21 (Dense)             (None, 99)                9934947   \n",
            "_________________________________________________________________\n",
            "batch_normalization_26 (Batc (None, 99)                396       \n",
            "_________________________________________________________________\n",
            "dropout_14 (Dropout)         (None, 99)                0         \n",
            "_________________________________________________________________\n",
            "dense_22 (Dense)             (None, 99)                9900      \n",
            "_________________________________________________________________\n",
            "batch_normalization_27 (Batc (None, 99)                396       \n",
            "_________________________________________________________________\n",
            "dropout_15 (Dropout)         (None, 99)                0         \n",
            "_________________________________________________________________\n",
            "dense_23 (Dense)             (None, 2)                 200       \n",
            "=================================================================\n",
            "Total params: 30,807,319\n",
            "Trainable params: 9,945,443\n",
            "Non-trainable params: 20,861,876\n",
            "_________________________________________________________________\n"
          ],
          "name": "stdout"
        }
      ]
    },
    {
      "cell_type": "code",
      "metadata": {
        "ExecuteTime": {
          "end_time": "2021-07-31T05:45:20.233365Z",
          "start_time": "2021-07-31T05:34:48.051128Z"
        },
        "id": "eq2Yhna0AzKO",
        "outputId": "43f486c6-08d2-4daf-e330-b6a6b25bebcd"
      },
      "source": [
        "hist = model.fit(\n",
        "      train_data_generator,\n",
        "      validation_data=test_data_generator,\n",
        "      steps_per_epoch=train_data_generator.samples/64,  \n",
        "      shuffle=True, \n",
        "#       validation_split=0.2,      \n",
        "      epochs=100,\n",
        "      callbacks = callbacks,\n",
        "      class_weight=class_weight\n",
        ")\n",
        "\n",
        "\n",
        "loss, acc = model.evaluate(\n",
        "      test_data_generator,\n",
        "      steps=test_data_generator.samples/64\n",
        ")\n",
        "print(\"loss=\", loss)\n",
        "print(\"acc=\", acc)\n",
        "\n",
        "plt.plot(hist.history['loss'][10:])\n",
        "plt.plot(hist.history['val_loss'][10:])\n",
        "plt.show()"
      ],
      "execution_count": null,
      "outputs": [
        {
          "output_type": "display_data",
          "data": {
            "image/png": "[encoded data removed]",
            "text/plain": [
              "<Figure size 432x288 with 1 Axes>"
            ]
          },
          "metadata": {
            "tags": [],
            "needs_background": "light"
          }
        },
        {
          "output_type": "stream",
          "text": [
            "loss =  0.29025834798812866 , val_loss =  0.48214903473854065\n",
            "3/3 [==============================] - 1s 365ms/step - loss: 0.4821 - acc: 0.9150  \n",
            "loss= 0.48214903473854065\n",
            "acc= 0.9150000214576721\n"
          ],
          "name": "stdout"
        },
        {
          "output_type": "display_data",
          "data": {
            "image/png": "[encoded data removed]",
            "text/plain": [
              "<Figure size 432x288 with 1 Axes>"
            ]
          },
          "metadata": {
            "tags": [],
            "needs_background": "light"
          }
        }
      ]
    },
    {
      "cell_type": "markdown",
      "metadata": {
        "id": "u0wMkRVbAzKP"
      },
      "source": [
        "# Xception/ 33 X 33/ SGD/ DROP=0.2/ batch=64"
      ]
    },
    {
      "cell_type": "code",
      "metadata": {
        "ExecuteTime": {
          "end_time": "2021-07-31T05:46:40.432412Z",
          "start_time": "2021-07-31T05:46:40.416428Z"
        },
        "id": "DXx-pJnrAzKP"
      },
      "source": [
        "from tensorflow.keras.callbacks import ModelCheckpoint, EarlyStopping, ReduceLROnPlateau\n",
        "\n",
        "# callbacks\n",
        "model_check_point = ModelCheckpoint('best_model.h5', monitor='val_loss', mode='min', save_best_only=True)\n",
        "plot_losses = PlotLosses()\n",
        "early_stopping = EarlyStopping(monitor='val_loss', mode='min', verbose=1, patience=20)\n",
        "reduce_lr = ReduceLROnPlateau(monitor='val_loss', factor=0.2, patience=20, min_lr=0.001)\n",
        "\n",
        "callbacks = [model_check_point, plot_losses, early_stopping, reduce_lr]"
      ],
      "execution_count": null,
      "outputs": []
    },
    {
      "cell_type": "code",
      "metadata": {
        "ExecuteTime": {
          "end_time": "2021-07-31T05:46:44.019155Z",
          "start_time": "2021-07-31T05:46:42.902432Z"
        },
        "id": "t2q0YbDfAzKP",
        "outputId": "576e7e4c-e942-4fb5-a449-11a7c31d072a"
      },
      "source": [
        "# from tensorflow.keras.applications import Xception\n",
        "# from tensorflow.keras.applications import VGG16\n",
        "\n",
        "conv_layers = Xception(weights='imagenet', include_top=False, input_shape=(224, 224, 3))\n",
        "conv_layers.trainable = False\n",
        "\n",
        "model = models.Sequential()\n",
        "\n",
        "model.add(conv_layers)\n",
        "model.add(layers.Flatten())\n",
        "model.add(layers.Dense(33, activation='relu', kernel_regularizer=l2(0.001)))\n",
        "model.add(BatchNormalization())\n",
        "model.add(layers.Dropout(0.2))\n",
        "model.add(layers.Dense(33, activation='relu', kernel_regularizer=l2(0.001)))\n",
        "model.add(BatchNormalization())\n",
        "model.add(layers.Dropout(0.2))\n",
        "model.add(layers.Dense(2, activation='softmax'))\n",
        "\n",
        "# optimizer = Adam(learning_rate=0.01, beta_1=0.9, beta_2=0.999, epsilon=1e-07)\n",
        "model.compile(loss='sparse_categorical_crossentropy', optimizer='SGD', metrics=['acc'])\n",
        "\n",
        "\n",
        "train_data_generator = ImageDataGenerator(\n",
        "      rotation_range=10,\n",
        "      width_shift_range=0.1,\n",
        "      height_shift_range=0.1,\n",
        "      horizontal_flip=True,\n",
        "      vertical_flip=False,\n",
        "      preprocessing_function=xception.preprocess_input\n",
        ").flow_from_directory(\n",
        "      \"data/2flowers/train\",\n",
        "      target_size=(224,224),\n",
        "      batch_size=64,\n",
        "      class_mode='sparse'\n",
        ")\n",
        "\n",
        "test_data_generator = ImageDataGenerator(\n",
        "      preprocessing_function=xception.preprocess_input\n",
        ").flow_from_directory(\n",
        "      \"data/2flowers/test\",\n",
        "      target_size=(224,224),\n",
        "      batch_size=64,\n",
        "      class_mode='sparse'\n",
        ")\n",
        "model.summary()\n"
      ],
      "execution_count": null,
      "outputs": [
        {
          "output_type": "stream",
          "text": [
            "Found 364 images belonging to 2 classes.\n",
            "Found 200 images belonging to 2 classes.\n",
            "Model: \"sequential_8\"\n",
            "_________________________________________________________________\n",
            "Layer (type)                 Output Shape              Param #   \n",
            "=================================================================\n",
            "xception (Functional)        (None, 7, 7, 2048)        20861480  \n",
            "_________________________________________________________________\n",
            "flatten_8 (Flatten)          (None, 100352)            0         \n",
            "_________________________________________________________________\n",
            "dense_24 (Dense)             (None, 33)                3311649   \n",
            "_________________________________________________________________\n",
            "batch_normalization_32 (Batc (None, 33)                132       \n",
            "_________________________________________________________________\n",
            "dropout_16 (Dropout)         (None, 33)                0         \n",
            "_________________________________________________________________\n",
            "dense_25 (Dense)             (None, 33)                1122      \n",
            "_________________________________________________________________\n",
            "batch_normalization_33 (Batc (None, 33)                132       \n",
            "_________________________________________________________________\n",
            "dropout_17 (Dropout)         (None, 33)                0         \n",
            "_________________________________________________________________\n",
            "dense_26 (Dense)             (None, 2)                 68        \n",
            "=================================================================\n",
            "Total params: 24,174,583\n",
            "Trainable params: 3,312,971\n",
            "Non-trainable params: 20,861,612\n",
            "_________________________________________________________________\n"
          ],
          "name": "stdout"
        }
      ]
    },
    {
      "cell_type": "code",
      "metadata": {
        "ExecuteTime": {
          "end_time": "2021-07-31T05:57:00.532311Z",
          "start_time": "2021-07-31T05:46:46.363655Z"
        },
        "id": "rEWA5sSVAzKP",
        "outputId": "d2d5465f-da4b-479b-85be-a6ac37f979b2"
      },
      "source": [
        "hist = model.fit(\n",
        "      train_data_generator,\n",
        "      validation_data=test_data_generator,\n",
        "      steps_per_epoch=train_data_generator.samples/64,  \n",
        "      shuffle=True, \n",
        "#       validation_split=0.2,      \n",
        "      epochs=100,\n",
        "      callbacks = callbacks,\n",
        "      class_weight=class_weight\n",
        ")\n",
        "\n",
        "\n",
        "loss, acc = model.evaluate(\n",
        "      test_data_generator,\n",
        "      steps=test_data_generator.samples/64\n",
        ")\n",
        "print(\"loss=\", loss)\n",
        "print(\"acc=\", acc)\n",
        "\n",
        "plt.plot(hist.history['loss'][10:])\n",
        "plt.plot(hist.history['val_loss'][10:])\n",
        "plt.show()"
      ],
      "execution_count": null,
      "outputs": [
        {
          "output_type": "display_data",
          "data": {
            "image/png": "[encoded data removed]",
            "text/plain": [
              "<Figure size 432x288 with 1 Axes>"
            ]
          },
          "metadata": {
            "tags": [],
            "needs_background": "light"
          }
        },
        {
          "output_type": "stream",
          "text": [
            "loss =  0.09819546341896057 , val_loss =  0.30809667706489563\n",
            "3/3 [==============================] - 1s 348ms/step - loss: 0.3081 - acc: 0.9100  \n",
            "loss= 0.30809667706489563\n",
            "acc= 0.9100000262260437\n"
          ],
          "name": "stdout"
        },
        {
          "output_type": "display_data",
          "data": {
            "image/png": "[encoded data removed]",
            "text/plain": [
              "<Figure size 432x288 with 1 Axes>"
            ]
          },
          "metadata": {
            "tags": [],
            "needs_background": "light"
          }
        }
      ]
    },
    {
      "cell_type": "markdown",
      "metadata": {
        "id": "lb9HmD0XAzKR"
      },
      "source": [
        "# # Xception/ 10 X 10/ SGD/ DROP=0.2/ batch=64"
      ]
    },
    {
      "cell_type": "code",
      "metadata": {
        "ExecuteTime": {
          "end_time": "2021-07-31T05:58:30.236572Z",
          "start_time": "2021-07-31T05:58:30.224051Z"
        },
        "id": "hdMKTIr9AzKR"
      },
      "source": [
        "from tensorflow.keras.callbacks import ModelCheckpoint, EarlyStopping, ReduceLROnPlateau\n",
        "\n",
        "# callbacks\n",
        "model_check_point = ModelCheckpoint('best_model.h5', monitor='val_loss', mode='min', save_best_only=True)\n",
        "plot_losses = PlotLosses()\n",
        "early_stopping = EarlyStopping(monitor='val_loss', mode='min', verbose=1, patience=20)\n",
        "reduce_lr = ReduceLROnPlateau(monitor='val_loss', factor=0.2, patience=20, min_lr=0.001)\n",
        "\n",
        "callbacks = [model_check_point, plot_losses, early_stopping, reduce_lr]"
      ],
      "execution_count": null,
      "outputs": []
    },
    {
      "cell_type": "code",
      "metadata": {
        "ExecuteTime": {
          "end_time": "2021-07-31T05:58:31.807416Z",
          "start_time": "2021-07-31T05:58:30.693384Z"
        },
        "id": "DIPxE6v8AzKR",
        "outputId": "ad8ed5e5-52a8-4d05-eb4b-e49df7f5cdd9"
      },
      "source": [
        "# from tensorflow.keras.applications import Xception\n",
        "# from tensorflow.keras.applications import VGG16\n",
        "\n",
        "conv_layers = Xception(weights='imagenet', include_top=False, input_shape=(224, 224, 3))\n",
        "conv_layers.trainable = False\n",
        "\n",
        "model = models.Sequential()\n",
        "\n",
        "model.add(conv_layers)\n",
        "model.add(layers.Flatten())\n",
        "model.add(layers.Dense(10, activation='relu', kernel_regularizer=l2(0.001)))\n",
        "model.add(BatchNormalization())\n",
        "model.add(layers.Dropout(0.2))\n",
        "model.add(layers.Dense(10, activation='relu', kernel_regularizer=l2(0.001)))\n",
        "model.add(BatchNormalization())\n",
        "model.add(layers.Dropout(0.2))\n",
        "model.add(layers.Dense(2, activation='softmax'))\n",
        "\n",
        "# optimizer = Adam(learning_rate=0.01, beta_1=0.9, beta_2=0.999, epsilon=1e-07)\n",
        "model.compile(loss='sparse_categorical_crossentropy', optimizer='SGD', metrics=['acc'])\n",
        "\n",
        "\n",
        "train_data_generator = ImageDataGenerator(\n",
        "      rotation_range=10,\n",
        "      width_shift_range=0.1,\n",
        "      height_shift_range=0.1,\n",
        "      horizontal_flip=True,\n",
        "      vertical_flip=False,\n",
        "      preprocessing_function=xception.preprocess_input\n",
        ").flow_from_directory(\n",
        "      \"data/2flowers/train\",\n",
        "      target_size=(224,224),\n",
        "      batch_size=64,\n",
        "      class_mode='sparse'\n",
        ")\n",
        "\n",
        "test_data_generator = ImageDataGenerator(\n",
        "      preprocessing_function=xception.preprocess_input\n",
        ").flow_from_directory(\n",
        "      \"data/2flowers/test\",\n",
        "      target_size=(224,224),\n",
        "      batch_size=64,\n",
        "      class_mode='sparse'\n",
        ")\n",
        "model.summary()\n"
      ],
      "execution_count": null,
      "outputs": [
        {
          "output_type": "stream",
          "text": [
            "Found 364 images belonging to 2 classes.\n",
            "Found 200 images belonging to 2 classes.\n",
            "Model: \"sequential_9\"\n",
            "_________________________________________________________________\n",
            "Layer (type)                 Output Shape              Param #   \n",
            "=================================================================\n",
            "xception (Functional)        (None, 7, 7, 2048)        20861480  \n",
            "_________________________________________________________________\n",
            "flatten_9 (Flatten)          (None, 100352)            0         \n",
            "_________________________________________________________________\n",
            "dense_27 (Dense)             (None, 10)                1003530   \n",
            "_________________________________________________________________\n",
            "batch_normalization_38 (Batc (None, 10)                40        \n",
            "_________________________________________________________________\n",
            "dropout_18 (Dropout)         (None, 10)                0         \n",
            "_________________________________________________________________\n",
            "dense_28 (Dense)             (None, 10)                110       \n",
            "_________________________________________________________________\n",
            "batch_normalization_39 (Batc (None, 10)                40        \n",
            "_________________________________________________________________\n",
            "dropout_19 (Dropout)         (None, 10)                0         \n",
            "_________________________________________________________________\n",
            "dense_29 (Dense)             (None, 2)                 22        \n",
            "=================================================================\n",
            "Total params: 21,865,222\n",
            "Trainable params: 1,003,702\n",
            "Non-trainable params: 20,861,520\n",
            "_________________________________________________________________\n"
          ],
          "name": "stdout"
        }
      ]
    },
    {
      "cell_type": "code",
      "metadata": {
        "ExecuteTime": {
          "end_time": "2021-07-31T06:08:48.740139Z",
          "start_time": "2021-07-31T05:58:31.959066Z"
        },
        "id": "tMJt8sp6AzKS",
        "outputId": "0790467e-71c1-4c78-8b30-a868e971f4db"
      },
      "source": [
        "hist = model.fit(\n",
        "      train_data_generator,\n",
        "      validation_data=test_data_generator,\n",
        "      steps_per_epoch=train_data_generator.samples/64,  \n",
        "      shuffle=True, \n",
        "#       validation_split=0.2,      \n",
        "      epochs=100,\n",
        "      callbacks = callbacks,\n",
        "      class_weight=class_weight\n",
        ")\n",
        "\n",
        "\n",
        "loss, acc = model.evaluate(\n",
        "      test_data_generator,\n",
        "      steps=test_data_generator.samples/64\n",
        ")\n",
        "print(\"loss=\", loss)\n",
        "print(\"acc=\", acc)\n",
        "\n",
        "plt.plot(hist.history['loss'][10:])\n",
        "plt.plot(hist.history['val_loss'][10:])\n",
        "plt.show()"
      ],
      "execution_count": null,
      "outputs": [
        {
          "output_type": "display_data",
          "data": {
            "image/png": "[encoded data removed]",
            "text/plain": [
              "<Figure size 432x288 with 1 Axes>"
            ]
          },
          "metadata": {
            "tags": [],
            "needs_background": "light"
          }
        },
        {
          "output_type": "stream",
          "text": [
            "loss =  0.03164469078183174 , val_loss =  0.2761384844779968\n",
            "3/3 [==============================] - 1s 352ms/step - loss: 0.2761 - acc: 0.8850  \n",
            "loss= 0.27613845467567444\n",
            "acc= 0.8849999904632568\n"
          ],
          "name": "stdout"
        },
        {
          "output_type": "display_data",
          "data": {
            "image/png": "[encoded data removed]",
            "text/plain": [
              "<Figure size 432x288 with 1 Axes>"
            ]
          },
          "metadata": {
            "tags": [],
            "needs_background": "light"
          }
        }
      ]
    },
    {
      "cell_type": "code",
      "metadata": {
        "id": "QDRQOikoAzKS"
      },
      "source": [
        ""
      ],
      "execution_count": null,
      "outputs": []
    },
    {
      "cell_type": "code",
      "metadata": {
        "id": "8HYvcRYuAzKS"
      },
      "source": [
        ""
      ],
      "execution_count": null,
      "outputs": []
    },
    {
      "cell_type": "code",
      "metadata": {
        "id": "UWc9WOmVAzKS"
      },
      "source": [
        ""
      ],
      "execution_count": null,
      "outputs": []
    },
    {
      "cell_type": "code",
      "metadata": {
        "ExecuteTime": {
          "end_time": "2021-07-31T04:02:15.197366Z",
          "start_time": "2021-07-31T04:02:15.191383Z"
        },
        "id": "66NVgRhHAzKS"
      },
      "source": [
        "from tensorflow.keras.callbacks import ModelCheckpoint, EarlyStopping, ReduceLROnPlateau\n",
        "\n",
        "# callbacks\n",
        "model_check_point = ModelCheckpoint('best_model.h5', monitor='val_loss', mode='min', save_best_only=True)\n",
        "plot_losses = PlotLosses()\n",
        "early_stopping = EarlyStopping(monitor='val_loss', mode='min', verbose=1, patience=20)\n",
        "reduce_lr = ReduceLROnPlateau(monitor='val_loss', factor=0.2, patience=20, min_lr=0.001)\n",
        "\n",
        "callbacks = [model_check_point, plot_losses, early_stopping, reduce_lr]"
      ],
      "execution_count": null,
      "outputs": []
    },
    {
      "cell_type": "code",
      "metadata": {
        "ExecuteTime": {
          "end_time": "2021-07-31T03:50:52.603711Z",
          "start_time": "2021-07-31T03:50:52.591768Z"
        },
        "id": "TCZ8FQSkAzKS"
      },
      "source": [
        "from tensorflow.keras.applications import Xception\n",
        "from tensorflow.keras.applications import xception"
      ],
      "execution_count": null,
      "outputs": []
    },
    {
      "cell_type": "code",
      "metadata": {
        "ExecuteTime": {
          "end_time": "2021-07-31T04:02:18.913368Z",
          "start_time": "2021-07-31T04:02:17.819304Z"
        },
        "id": "LsAEWs3BAzKS",
        "outputId": "7f66b4d5-2396-4612-de9d-efefa54c04c8"
      },
      "source": [
        "# from tensorflow.keras.applications import Xception\n",
        "# from tensorflow.keras.applications import VGG16\n",
        "\n",
        "conv_layers = Xception(weights='imagenet', include_top=False, input_shape=(224, 224, 3))\n",
        "conv_layers.trainable = False\n",
        "\n",
        "model = models.Sequential()\n",
        "\n",
        "model.add(conv_layers)\n",
        "model.add(layers.Flatten())\n",
        "model.add(layers.Dense(99, activation='relu', kernel_regularizer=l2(0.001)))\n",
        "model.add(BatchNormalization())\n",
        "model.add(layers.Dropout(0.5))\n",
        "model.add(layers.Dense(99, activation='relu', kernel_regularizer=l2(0.001)))\n",
        "model.add(BatchNormalization())\n",
        "model.add(layers.Dropout(0.5))\n",
        "model.add(layers.Dense(2, activation='softmax'))\n",
        "\n",
        "# optimizer = Adam(learning_rate=0.01, beta_1=0.9, beta_2=0.999, epsilon=1e-07)\n",
        "model.compile(loss='sparse_categorical_crossentropy', optimizer='SGD', metrics=['acc')\n",
        "\n",
        "\n",
        "train_data_generator = ImageDataGenerator(\n",
        "      rotation_range=10,\n",
        "      width_shift_range=0.1,\n",
        "      height_shift_range=0.1,\n",
        "      horizontal_flip=True,\n",
        "      vertical_flip=False,\n",
        "      preprocessing_function=xception.preprocess_input\n",
        ").flow_from_directory(\n",
        "      \"data/2flowers/train\",\n",
        "      target_size=(224,224),\n",
        "      batch_size=64,\n",
        "      class_mode='sparse'\n",
        ")\n",
        "\n",
        "test_data_generator = ImageDataGenerator(\n",
        "      preprocessing_function=xception.preprocess_input\n",
        ").flow_from_directory(\n",
        "      \"data/2flowers/test\",\n",
        "      target_size=(224,224),\n",
        "      batch_size=64,\n",
        "      class_mode='sparse'\n",
        ")\n",
        "model.summary()\n"
      ],
      "execution_count": null,
      "outputs": [
        {
          "output_type": "stream",
          "text": [
            "Found 364 images belonging to 2 classes.\n",
            "Found 200 images belonging to 2 classes.\n",
            "Model: \"sequential_3\"\n",
            "_________________________________________________________________\n",
            "Layer (type)                 Output Shape              Param #   \n",
            "=================================================================\n",
            "xception (Functional)        (None, 7, 7, 2048)        20861480  \n",
            "_________________________________________________________________\n",
            "flatten_3 (Flatten)          (None, 100352)            0         \n",
            "_________________________________________________________________\n",
            "dense_9 (Dense)              (None, 99)                9934947   \n",
            "_________________________________________________________________\n",
            "batch_normalization_14 (Batc (None, 99)                396       \n",
            "_________________________________________________________________\n",
            "dropout_6 (Dropout)          (None, 99)                0         \n",
            "_________________________________________________________________\n",
            "dense_10 (Dense)             (None, 99)                9900      \n",
            "_________________________________________________________________\n",
            "batch_normalization_15 (Batc (None, 99)                396       \n",
            "_________________________________________________________________\n",
            "dropout_7 (Dropout)          (None, 99)                0         \n",
            "_________________________________________________________________\n",
            "dense_11 (Dense)             (None, 2)                 200       \n",
            "=================================================================\n",
            "Total params: 30,807,319\n",
            "Trainable params: 9,945,443\n",
            "Non-trainable params: 20,861,876\n",
            "_________________________________________________________________\n"
          ],
          "name": "stdout"
        }
      ]
    },
    {
      "cell_type": "code",
      "metadata": {
        "ExecuteTime": {
          "end_time": "2021-07-31T03:50:54.521790Z",
          "start_time": "2021-07-31T03:50:54.504805Z"
        },
        "id": "gY_2vjiTAzKT"
      },
      "source": [
        "class_weight = {0 : 1/162 , 1: 1/202}"
      ],
      "execution_count": null,
      "outputs": []
    },
    {
      "cell_type": "code",
      "metadata": {
        "ExecuteTime": {
          "end_time": "2021-07-31T04:22:28.526095Z",
          "start_time": "2021-07-31T04:02:22.195907Z"
        },
        "scrolled": true,
        "id": "VQsU8WaYAzKT",
        "outputId": "79d054d2-65cd-4e89-e378-287384adb69b"
      },
      "source": [
        "hist = model.fit(\n",
        "      train_data_generator,\n",
        "      validation_data=test_data_generator,\n",
        "      steps_per_epoch=train_data_generator.samples/64,  \n",
        "      shuffle=True, \n",
        "#       validation_split=0.2,      \n",
        "      epochs=200,\n",
        "      callbacks = callbacks,\n",
        "      class_weight=class_weight\n",
        ")\n",
        "\n",
        "\n",
        "loss, acc = model.evaluate(\n",
        "      test_data_generator,\n",
        "      steps=test_data_generator.samples/64\n",
        ")\n",
        "print(\"loss=\", loss)\n",
        "print(\"acc=\", acc)\n",
        "\n",
        "plt.plot(hist.history['loss'][50:])\n",
        "plt.plot(hist.history['val_loss'][50:])\n",
        "plt.show()"
      ],
      "execution_count": null,
      "outputs": [
        {
          "output_type": "display_data",
          "data": {
            "image/png": "[encoded data removed]",
            "text/plain": [
              "<Figure size 432x288 with 1 Axes>"
            ]
          },
          "metadata": {
            "tags": [],
            "needs_background": "light"
          }
        },
        {
          "output_type": "stream",
          "text": [
            "loss =  0.28552350401878357 , val_loss =  0.4535272717475891\n",
            "3/3 [==============================] - 1s 345ms/step - loss: 0.4535 - acc: 0.9150  \n",
            "loss= 0.45352721214294434\n",
            "acc= 0.9150000214576721\n"
          ],
          "name": "stdout"
        },
        {
          "output_type": "display_data",
          "data": {
            "image/png": "[encoded data removed]",
            "text/plain": [
              "<Figure size 432x288 with 1 Axes>"
            ]
          },
          "metadata": {
            "tags": [],
            "needs_background": "light"
          }
        }
      ]
    },
    {
      "cell_type": "markdown",
      "metadata": {
        "id": "6zUrLDEnAzKT"
      },
      "source": [
        "# MobileNetV2, adamax"
      ]
    },
    {
      "cell_type": "code",
      "metadata": {
        "ExecuteTime": {
          "end_time": "2021-07-31T13:08:43.124590Z",
          "start_time": "2021-07-31T13:08:43.107298Z"
        },
        "id": "kcF12sqAAzKT"
      },
      "source": [
        "from tensorflow.keras.applications import MobileNetV2\n",
        "from tensorflow.keras.applications import mobilenet_v2"
      ],
      "execution_count": null,
      "outputs": []
    },
    {
      "cell_type": "code",
      "metadata": {
        "ExecuteTime": {
          "end_time": "2021-07-31T13:39:56.518069Z",
          "start_time": "2021-07-31T13:39:56.506103Z"
        },
        "id": "4QoLUCfBAzKT"
      },
      "source": [
        "from tensorflow.keras.callbacks import ModelCheckpoint, EarlyStopping, ReduceLROnPlateau\n",
        "\n",
        "# callbacks\n",
        "model_check_point = ModelCheckpoint('best_model.h5', monitor='val_loss', mode='min', save_best_only=True)\n",
        "plot_losses = PlotLosses()\n",
        "early_stopping = EarlyStopping(monitor='val_loss', mode='min', verbose=1, patience=50)\n",
        "reduce_lr = ReduceLROnPlateau(monitor='val_loss', factor=0.2, patience=20, min_lr=0.0001)\n",
        "\n",
        "callbacks = [model_check_point, plot_losses, early_stopping, reduce_lr]"
      ],
      "execution_count": null,
      "outputs": []
    },
    {
      "cell_type": "code",
      "metadata": {
        "ExecuteTime": {
          "end_time": "2021-07-31T13:23:52.288594Z",
          "start_time": "2021-07-31T13:23:51.299548Z"
        },
        "id": "NrQMhjA6AzKU",
        "outputId": "9e211bf4-b985-44f8-dc7d-930fb9740781"
      },
      "source": [
        "# from tensorflow.keras.applications import Xception\n",
        "# from tensorflow.keras.applications import VGG16\n",
        "\n",
        "conv_layers = MobileNetV2(weights='imagenet', include_top=False, input_shape=(224, 224, 3))\n",
        "conv_layers.trainable = False\n",
        "\n",
        "model = models.Sequential()\n",
        "\n",
        "model.add(conv_layers)\n",
        "model.add(layers.Flatten())\n",
        "model.add(layers.Dense(100, activation='selu', kernel_regularizer=l2(0.001)))\n",
        "model.add(BatchNormalization())\n",
        "model.add(layers.Dropout(0.5))\n",
        "model.add(layers.Dense(100, activation='selu', kernel_regularizer=l2(0.001)))\n",
        "model.add(BatchNormalization())\n",
        "model.add(layers.Dropout(0.5))\n",
        "model.add(layers.Dense(2, activation='softmax'))\n",
        "\n",
        "# optimizer = Adam(learning_rate=0.01, beta_1=0.9, beta_2=0.999, epsilon=1e-07)\n",
        "model.compile(loss='sparse_categorical_crossentropy', optimizer='adamax', metrics=['acc'])\n",
        "\n",
        "\n",
        "train_data_generator = ImageDataGenerator(\n",
        "      rotation_range=10,\n",
        "      width_shift_range=0.1,\n",
        "      height_shift_range=0.1,\n",
        "      horizontal_flip=True,\n",
        "      vertical_flip=False,\n",
        "      preprocessing_function=mobilenet_v2.preprocess_input\n",
        ").flow_from_directory(\n",
        "      \"data/2flowers/train\",\n",
        "      target_size=(224,224),\n",
        "      batch_size=64,\n",
        "      class_mode='sparse'\n",
        ")\n",
        "\n",
        "test_data_generator = ImageDataGenerator(\n",
        "      preprocessing_function=mobilenet_v2.preprocess_input\n",
        ").flow_from_directory(\n",
        "      \"data/2flowers/test\",\n",
        "      target_size=(224,224),\n",
        "      batch_size=64,\n",
        "      class_mode='sparse'\n",
        ")\n",
        "model.summary()\n"
      ],
      "execution_count": null,
      "outputs": [
        {
          "output_type": "stream",
          "text": [
            "Found 464 images belonging to 2 classes.\n",
            "Found 100 images belonging to 2 classes.\n",
            "Model: \"sequential_13\"\n",
            "_________________________________________________________________\n",
            "Layer (type)                 Output Shape              Param #   \n",
            "=================================================================\n",
            "mobilenetv2_1.00_224 (Functi (None, 7, 7, 1280)        2257984   \n",
            "_________________________________________________________________\n",
            "flatten_13 (Flatten)         (None, 62720)             0         \n",
            "_________________________________________________________________\n",
            "dense_39 (Dense)             (None, 100)               6272100   \n",
            "_________________________________________________________________\n",
            "batch_normalization_46 (Batc (None, 100)               400       \n",
            "_________________________________________________________________\n",
            "dropout_26 (Dropout)         (None, 100)               0         \n",
            "_________________________________________________________________\n",
            "dense_40 (Dense)             (None, 100)               10100     \n",
            "_________________________________________________________________\n",
            "batch_normalization_47 (Batc (None, 100)               400       \n",
            "_________________________________________________________________\n",
            "dropout_27 (Dropout)         (None, 100)               0         \n",
            "_________________________________________________________________\n",
            "dense_41 (Dense)             (None, 2)                 202       \n",
            "=================================================================\n",
            "Total params: 8,541,186\n",
            "Trainable params: 6,282,802\n",
            "Non-trainable params: 2,258,384\n",
            "_________________________________________________________________\n"
          ],
          "name": "stdout"
        }
      ]
    },
    {
      "cell_type": "code",
      "metadata": {
        "ExecuteTime": {
          "end_time": "2021-07-31T13:29:29.923647Z",
          "start_time": "2021-07-31T13:23:52.348439Z"
        },
        "id": "A6YMKIaKAzKU",
        "outputId": "10df8529-5dda-4f78-a77d-2e8113565463"
      },
      "source": [
        "hist = model.fit(\n",
        "      train_data_generator,\n",
        "      validation_data=test_data_generator,\n",
        "      steps_per_epoch=train_data_generator.samples/64,  \n",
        "      shuffle=True, \n",
        "#       validation_split=0.2,      \n",
        "      epochs=100,\n",
        "      callbacks = callbacks,\n",
        "#       class_weight=class_weight\n",
        ")\n",
        "\n",
        "\n",
        "loss, acc = model.evaluate(\n",
        "      test_data_generator,\n",
        "      steps=test_data_generator.samples/64\n",
        ")\n",
        "print(\"loss=\", loss)\n",
        "print(\"acc=\", acc)\n",
        "\n",
        "plt.plot(hist.history['loss'][10:])\n",
        "plt.plot(hist.history['val_loss'][10:])\n",
        "plt.show()"
      ],
      "execution_count": null,
      "outputs": [
        {
          "output_type": "display_data",
          "data": {
            "image/png": "[encoded data removed]",
            "text/plain": [
              "<Figure size 432x288 with 1 Axes>"
            ]
          },
          "metadata": {
            "tags": [],
            "needs_background": "light"
          }
        },
        {
          "output_type": "stream",
          "text": [
            "loss =  0.28233960270881653 , val_loss =  0.5252082943916321\n",
            "acc =  0.9956896305084229 , val_acc =  0.9300000071525574\n",
            "Epoch 00054: early stopping\n",
            "1/1 [==============================] - 0s 156ms/step - loss: 0.5252 - acc: 0.9300  \n",
            "loss= 0.5252082943916321\n",
            "acc= 0.9300000071525574\n"
          ],
          "name": "stdout"
        },
        {
          "output_type": "display_data",
          "data": {
            "image/png": "[encoded data removed]",
            "text/plain": [
              "<Figure size 432x288 with 1 Axes>"
            ]
          },
          "metadata": {
            "tags": [],
            "needs_background": "light"
          }
        }
      ]
    },
    {
      "cell_type": "markdown",
      "metadata": {
        "id": "UANjTLXUAzKU"
      },
      "source": [
        "# MobileNetV2, nadam"
      ]
    },
    {
      "cell_type": "code",
      "metadata": {
        "ExecuteTime": {
          "end_time": "2021-07-31T14:35:26.220934Z",
          "start_time": "2021-07-31T14:35:25.204843Z"
        },
        "id": "UnVII-8WAzKU",
        "outputId": "1120bfaf-e256-4a28-8eca-d3898b4e1667"
      },
      "source": [
        "# from tensorflow.keras.applications import Xception\n",
        "# from tensorflow.keras.applications import VGG16\n",
        "\n",
        "conv_layers = MobileNetV2(weights='imagenet', include_top=False, input_shape=(224, 224, 3))\n",
        "conv_layers.trainable = False\n",
        "\n",
        "model = models.Sequential()\n",
        "\n",
        "model.add(conv_layers)\n",
        "model.add(layers.Flatten())\n",
        "model.add(layers.Dense(100, activation='LeakyReLU', kernel_regularizer=l2(0.001)))\n",
        "model.add(BatchNormalization())\n",
        "model.add(layers.Dropout(0.5))\n",
        "model.add(layers.Dense(100, activation='LeakyReLU', kernel_regularizer=l2(0.001)))\n",
        "model.add(BatchNormalization())\n",
        "model.add(layers.Dropout(0.5))\n",
        "model.add(layers.Dense(2, activation='softmax'))\n",
        "\n",
        "# optimizer = Adam(learning_rate=0.01, beta_1=0.9, beta_2=0.999, epsilon=1e-07)\n",
        "model.compile(loss='sparse_categorical_crossentropy', optimizer='nadam', metrics=['acc'])\n",
        "\n",
        "\n",
        "train_data_generator = ImageDataGenerator(\n",
        "      rotation_range=10,\n",
        "      width_shift_range=0.1,\n",
        "      height_shift_range=0.1,\n",
        "      horizontal_flip=True,\n",
        "      vertical_flip=False,\n",
        "      preprocessing_function=mobilenet_v2.preprocess_input\n",
        ").flow_from_directory(\n",
        "      \"data/2flowers/train\",\n",
        "      target_size=(224,224),\n",
        "      batch_size=32,\n",
        "      class_mode='sparse'\n",
        ")\n",
        "\n",
        "test_data_generator = ImageDataGenerator(\n",
        "      preprocessing_function=mobilenet_v2.preprocess_input\n",
        ").flow_from_directory(\n",
        "      \"data/2flowers/test\",\n",
        "      target_size=(224,224),\n",
        "      batch_size=32,\n",
        "      class_mode='sparse'\n",
        ")\n",
        "model.summary()\n"
      ],
      "execution_count": null,
      "outputs": [
        {
          "output_type": "stream",
          "text": [
            "Found 464 images belonging to 2 classes.\n",
            "Found 100 images belonging to 2 classes.\n",
            "Model: \"sequential_29\"\n",
            "_________________________________________________________________\n",
            "Layer (type)                 Output Shape              Param #   \n",
            "=================================================================\n",
            "mobilenetv2_1.00_224 (Functi (None, 7, 7, 1280)        2257984   \n",
            "_________________________________________________________________\n",
            "flatten_29 (Flatten)         (None, 62720)             0         \n",
            "_________________________________________________________________\n",
            "dense_83 (Dense)             (None, 100)               6272100   \n",
            "_________________________________________________________________\n",
            "batch_normalization_74 (Batc (None, 100)               400       \n",
            "_________________________________________________________________\n",
            "dropout_54 (Dropout)         (None, 100)               0         \n",
            "_________________________________________________________________\n",
            "dense_84 (Dense)             (None, 100)               10100     \n",
            "_________________________________________________________________\n",
            "batch_normalization_75 (Batc (None, 100)               400       \n",
            "_________________________________________________________________\n",
            "dropout_55 (Dropout)         (None, 100)               0         \n",
            "_________________________________________________________________\n",
            "dense_85 (Dense)             (None, 2)                 202       \n",
            "=================================================================\n",
            "Total params: 8,541,186\n",
            "Trainable params: 6,282,802\n",
            "Non-trainable params: 2,258,384\n",
            "_________________________________________________________________\n"
          ],
          "name": "stdout"
        }
      ]
    },
    {
      "cell_type": "code",
      "metadata": {
        "ExecuteTime": {
          "end_time": "2021-07-31T14:44:21.261500Z",
          "start_time": "2021-07-31T14:35:26.222901Z"
        },
        "id": "HCy8EQ29AzKU",
        "outputId": "9db07f91-48e4-4617-8811-35d01228d5bb"
      },
      "source": [
        "hist = model.fit(\n",
        "      train_data_generator,\n",
        "      validation_data=test_data_generator,\n",
        "      steps_per_epoch=train_data_generator.samples/32,  \n",
        "      shuffle=True, \n",
        "#       validation_split=0.2,      \n",
        "      epochs=100,\n",
        "      callbacks = callbacks,\n",
        "#       class_weight=class_weight,\n",
        "#       validation_steps = train_data_generator.samples/64,\n",
        "      \n",
        ")\n",
        "\n",
        "\n",
        "loss, acc = model.evaluate(\n",
        "      test_data_generator,\n",
        "      steps=test_data_generator.samples/32\n",
        ")\n",
        "print(\"loss=\", loss)\n",
        "print(\"acc=\", acc)\n",
        "\n",
        "plt.plot(hist.history['loss'][10:])\n",
        "plt.plot(hist.history['val_loss'][10:])\n",
        "plt.show()"
      ],
      "execution_count": null,
      "outputs": [
        {
          "output_type": "display_data",
          "data": {
            "image/png": "[encoded data removed]",
            "text/plain": [
              "<Figure size 432x288 with 1 Axes>"
            ]
          },
          "metadata": {
            "tags": [],
            "needs_background": "light"
          }
        },
        {
          "output_type": "stream",
          "text": [
            "loss =  0.18095631897449493 , val_loss =  0.6334439516067505\n",
            "acc =  0.9956896305084229 , val_acc =  0.8799999952316284\n",
            "Epoch 00092: early stopping\n",
            "3/3 [==============================] - 0s 113ms/step - loss: 0.6334 - acc: 0.8800\n",
            "loss= 0.6334439516067505\n",
            "acc= 0.8799999952316284\n"
          ],
          "name": "stdout"
        },
        {
          "output_type": "display_data",
          "data": {
            "image/png": "[encoded data removed]",
            "text/plain": [
              "<Figure size 432x288 with 1 Axes>"
            ]
          },
          "metadata": {
            "tags": [],
            "needs_background": "light"
          }
        }
      ]
    },
    {
      "cell_type": "code",
      "metadata": {
        "id": "oxXquysjAzKV"
      },
      "source": [
        ""
      ],
      "execution_count": null,
      "outputs": []
    }
  ]
}